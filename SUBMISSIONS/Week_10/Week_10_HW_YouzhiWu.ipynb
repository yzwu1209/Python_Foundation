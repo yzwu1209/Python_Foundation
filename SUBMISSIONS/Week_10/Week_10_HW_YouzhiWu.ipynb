{
 "cells": [
  {
   "cell_type": "markdown",
   "metadata": {
    "deletable": false,
    "editable": false,
    "nbgrader": {
     "checksum": "e7277fe4563989179a2ec4bb4b0259e7",
     "grade": false,
     "grade_id": "cell-76038a88b4d3af8c",
     "locked": true,
     "schema_version": 1,
     "solution": false
    }
   },
   "source": [
    "## Week 10 Assignment - W200 Python Fundamentals for Data Science, UC Berkeley MIDS\n",
    "\n",
    "Write code in this Jupyter Notebook to solve the following problems. Please upload this **Notebook and the five .csv files** with your solutions to your GitHub repository in your SUBMISSIONS/week_10 folder by 11:59PM PST the night before class."
   ]
  },
  {
   "cell_type": "markdown",
   "metadata": {
    "deletable": false,
    "editable": false,
    "nbgrader": {
     "checksum": "41484a8a03085b2191cdd48cd198a8c6",
     "grade": false,
     "grade_id": "cell-ae5d30c3c3f47580",
     "locked": true,
     "schema_version": 1,
     "solution": false
    }
   },
   "source": [
    "This homework assignment is Week 10 which corresponds to the Unit #9 async. If you turn-in anything on ISVC please do so under the Week 10 Assignment category. (Apologies for the confusion)"
   ]
  },
  {
   "cell_type": "code",
   "execution_count": null,
   "metadata": {
    "collapsed": true,
    "deletable": false,
    "editable": false,
    "nbgrader": {
     "checksum": "cb18e0aff969027291271a6ee824bae3",
     "grade": true,
     "grade_id": "cell-91b70a2e4950e176",
     "locked": true,
     "points": 0,
     "schema_version": 1,
     "solution": false
    }
   },
   "outputs": [],
   "source": [
    "# Autograde cell - do not erase/delete"
   ]
  },
  {
   "cell_type": "markdown",
   "metadata": {
    "deletable": false,
    "editable": false,
    "nbgrader": {
     "checksum": "6b52c4ac0395c1e0a459473b439e2153",
     "grade": false,
     "grade_id": "cell-5977c1d8f1d55d67",
     "locked": true,
     "schema_version": 1,
     "solution": false
    }
   },
   "source": [
    "## Objectives\n",
    "\n",
    "- Demonstrate how to import different data files\n",
    "- Get a small glimpse on how messy data can be\n",
    "- Design and implement an algorithm to standardize the information and fix the messiness\n",
    "- Work with Python data structures to sort and output the correct information\n",
    "- Demonstrate how to export required information to a .csv file"
   ]
  },
  {
   "cell_type": "markdown",
   "metadata": {
    "deletable": false,
    "editable": false,
    "nbgrader": {
     "checksum": "c1d4cca7a57a3d2d9b23547a24526e83",
     "grade": false,
     "grade_id": "cell-f3df226b1112e4f1",
     "locked": true,
     "schema_version": 1,
     "solution": false
    }
   },
   "source": [
    "## Reading and Writing Data\n",
    "\n",
    "In this assignment, you will be reading and writing data. Yes, finally some data science (or at least some exploratory data analysis)! In the week_10 assignment folder, there are three data files named: \n",
    "\n",
    "* data.csv\n",
    "* data.json\n",
    "* data.pkl\n",
    "\n",
    "These are three common file formats. You can run the following **on the bash command line** to see what is in each file (this will not work from a Windows prompt but will work in git bash):\n",
    "\n",
    "```sh\n",
    "head data.csv\n",
    "head data.pkl\n",
    "head data.json\n",
    "```\n",
    "\n",
    "You'll see that there is some method to the madness but that each file format has its peculiarities. Each file contains a portion of the total dataset that altogether comprises 100 records, so you need to **read in all of the files and combine them into some standard format** with which you are comfortable. Aim for something standard where each \"row\" is represented in the same format.\n",
    "\n",
    "After you've standardized all of the data, report the following information: \n",
    "\n",
    "1. What are the unique countries in the dataset, sorted alphabetically?  Write to a new file called question_1.csv.\n",
    "2. What are the unique email domains in the dataset, sorted alphabetically?  Write to a new file called question_2.csv.\n",
    "3. What are the first names of everyone (including duplicates) that do not have a P.O. Box address, sorted alphabetically?  Write to a new file called question_3.csv.\n",
    "4. What are the full names of the first 5 people when you sort the data alphabetically by country?  Write to a new file called question_4.csv.\n",
    "5. What are the full names of the first 5 people when you sort the data numerically ascending by phone number?  Write to a new file called question_5.csv.\n",
    "\n",
    "We will be using a script to examine and grade your .csv files so please make sure: \n",
    "- The answers are all in one **column** with one list item per cell, sorted as stated in the question. I.e., looking at the .csv in a spreadsheet editor like Google Sheets, all answers would be in the 'A' column, with the first entry in A1, the second in A2, etc.\n",
    "- It is strongly recommended that you open each .csv file to ensure the answers are there and displayed correctly! \n",
    "- Don't include quotes around the list items.  I.e., strip the leading and trailing quotes, if necessary, from items when you write to the .csv files.  For example, a list entry should look like ```Spain``` rather than ```\"Spain\"```. One exception: Some country names do contain commas and it is ok to have quotes: ```\"\"``` around just those country names so that they will be in one cell in the .csv. \n",
    "\n",
    "\n",
    "In addition, show all of your work in this **Jupyter notebook**."
   ]
  },
  {
   "cell_type": "markdown",
   "metadata": {
    "deletable": false,
    "editable": false,
    "nbgrader": {
     "checksum": "cef01a48213ca8a3d2a3605229829c72",
     "grade": false,
     "grade_id": "cell-ad4b864c26503a51",
     "locked": true,
     "schema_version": 1,
     "solution": false
    }
   },
   "source": [
    "### Assumptions\n",
    "\n",
    "- You might have to make decisions about the data. For example, what to do with ties or how to sort the phone numbers numerically. \n",
    "- Write your assumptions in this Jupyter notebook at the top of your code under the heading below that says ASSUMPTIONS\n",
    "- This is a good habit to do as you analyze data so that you can remember why you made the decisions you did and other people can follow your analysis later!"
   ]
  },
  {
   "cell_type": "markdown",
   "metadata": {
    "deletable": false,
    "editable": false,
    "nbgrader": {
     "checksum": "57450666cda1cb410247d946aa6801fe",
     "grade": false,
     "grade_id": "cell-ac3d57f37fc71750",
     "locked": true,
     "schema_version": 1,
     "solution": false
    }
   },
   "source": [
    "### Restrictions\n",
    "You should use these standard library imports:\n",
    "\n",
    "```python\n",
    "import json\n",
    "import csv\n",
    "import pickle\n",
    "```\n",
    "\n",
    "Some of you may be familiar with a Python package called `pandas` which would greatly speed up this sort of file processing.  The point of this homework is to do the work manually.  You can use `pandas` to independently check your work if you are so inclined but do not use `pandas` as the sole solution method. Don't worry if you are not familiar with `pandas`.  We will do this homework as a class exercise using `pandas` in the near future."
   ]
  },
  {
   "cell_type": "markdown",
   "metadata": {
    "deletable": false,
    "editable": false,
    "nbgrader": {
     "checksum": "86514456a34f356155016417a7d3a6e8",
     "grade": false,
     "grade_id": "cell-f8df9d752522f9cd",
     "locked": true,
     "schema_version": 1,
     "solution": false
    }
   },
   "source": [
    "### Hints (optional)\n",
    "\n",
    "- You may use regular expressions if you wish to extract data from each row. You do not need to use them if you do not want to or see a need to. The Python regular expression module is called `re`.\n",
    "- You may want to use the operator library or the sorted function to help in sorting.\n",
    "- There are many data structures and formats that you might use to solve this problem.  You will have to decide if you want to keep the information for each person together as one record or all the information for each of the fields together.\n",
    "- You can put these files into sensible structures such as lists or or dictionaries. The async covers how to do this for csv and json. For pickle this might help https://wiki.python.org/moin/UsingPickle \n",
    "- .items() or .key() can be useful for dictionaries\n",
    "- Once again, it is strongly recommended that you open each .csv file to ensure the answers are there and displayed correctly! "
   ]
  },
  {
   "cell_type": "code",
   "execution_count": 1,
   "metadata": {
    "collapsed": true,
    "deletable": false,
    "nbgrader": {
     "checksum": "97005fc8cbd95ef4164db798e727a63f",
     "grade": true,
     "grade_id": "cell-360398972d1182f1",
     "locked": false,
     "points": 0,
     "schema_version": 1,
     "solution": true
    }
   },
   "outputs": [],
   "source": [
    "# Your name here\n",
    "\n",
    "### ASSUMPTIONS:\n",
    "# 1. There is no duplicate ID for the personal information records in these three files, \n",
    "#    i.e. ID = 2 in data.json, and ID = 2 in data.pkl scenario does not exist. \n",
    "# 2. Countries with different country name string are different. \n",
    "#    With this assumption, Palestine will be treated as a different country than Palestine, State of\n",
    "# 3. Country data does not have extra space in between. \n",
    "#    i.e. There is no \"Northern  Mariana Islands\" (2 space between Northern and Mariana)\n",
    "# 4. All email addresses in the datasets have valid format. \n",
    "# 5. Address that is a P.O. Box address always contains \"P.O. Box\" string. \n",
    "#    That is, for address with \"PO Box\" or \"P.O Box\" or in different case, they will not be treated as P.O. Box address\n",
    "# 6. When sorting by country alphabetically, \n",
    "#    the result will take the first 5 people regardless if there tie in the sorting \n",
    "# 7. When sorting by phone number numerically ascending,\n",
    "#    (1) the result will take the first 5 people regardless if there tie in the sorting\n",
    "#    (2) the sorting begins from the area code of the phone number. \n",
    "#        i.e. 739-2818 will show after 1-313-739-3854, because 7 is greater than 1 \n",
    "\n",
    "# YOU MAY USE ANY NUMBER OF CELLS AS YOU NEED\n",
    "# YOUR CODE HERE\n",
    "\n",
    "import json\n",
    "import csv\n",
    "import pickle\n",
    "import re\n",
    "\n",
    "# 1. import data from json \n",
    "with open(\"data.json\", \"rt\") as f:\n",
    "    data_dict = json.load(f)\n",
    "\n",
    "# 2. import data from csv and combine its data to data_dict\n",
    "with open(\"data.csv\", \"rt\") as f:\n",
    "    next(f, None)\n",
    "    csv_list = []\n",
    "    reader = csv.reader(f)\n",
    "    for row in reader:\n",
    "        csv_list.append(row)\n",
    "    \n",
    "for row in csv_list:\n",
    "    data_dict[\"Name\"].update({row[0]:row[1]}) \n",
    "    data_dict[\"Phone\"].update({row[0]:row[2]})\n",
    "    data_dict[\"Address\"].update({row[0]:row[3]})\n",
    "    data_dict[\"City\"].update({row[0]:row[4]})\n",
    "    data_dict[\"Country\"].update({row[0]:row[5]})\n",
    "    data_dict[\"Email\"].update({row[0]:row[6]})\n",
    "\n",
    "# 3. import data from pkl and combine its data to data_dict\n",
    "with open(\"data.pkl\", \"rb\") as f:\n",
    "    pkl_dict = pickle.load(f)\n",
    "\n",
    "data_dict[\"Name\"].update(pkl_dict[\"Name\"])\n",
    "data_dict[\"Phone\"].update(pkl_dict[\"Phone\"])\n",
    "data_dict[\"Address\"].update(pkl_dict[\"Address\"])\n",
    "data_dict[\"City\"].update(pkl_dict[\"City\"])\n",
    "data_dict[\"Country\"].update(pkl_dict[\"Country\"])\n",
    "data_dict[\"Email\"].update(pkl_dict[\"Email\"])\n",
    "\n",
    "# print(data_dict)"
   ]
  },
  {
   "cell_type": "code",
   "execution_count": 2,
   "metadata": {
    "collapsed": true
   },
   "outputs": [],
   "source": [
    "# 4. Q1 - Find unique countries, sort and write to csv file\n",
    "country_list = []\n",
    "for key in data_dict[\"Country\"]:\n",
    "    val = data_dict[\"Country\"][key].title()\n",
    "    if val not in country_list:\n",
    "        country_list.append(val)\n",
    "\n",
    "country_list = sorted(country_list)\n",
    "new_country_list = []\n",
    "for item in country_list:\n",
    "    new_country_list.append([item])\n",
    "\n",
    "with open(\"question_1.csv\", \"wt\") as f:\n",
    "    csvout = csv.writer(f)\n",
    "    csvout.writerows(new_country_list)\n",
    "    "
   ]
  },
  {
   "cell_type": "code",
   "execution_count": 3,
   "metadata": {
    "collapsed": true
   },
   "outputs": [],
   "source": [
    "# 5. Q2 - Find unique email domains, sort and write to csv file\n",
    "email_list = []\n",
    "pattern = re.compile('@.*')\n",
    "\n",
    "for key in data_dict[\"Email\"]:\n",
    "    source = data_dict[\"Email\"][key].lower()\n",
    "    domain = pattern.findall(source)\n",
    "    if domain not in email_list:\n",
    "        email_list.append(domain)\n",
    "\n",
    "email_list = sorted(email_list)\n",
    "\n",
    "with open(\"question_2.csv\", \"wt\") as f:\n",
    "    csvout = csv.writer(f)\n",
    "    csvout.writerows(email_list)\n",
    "    "
   ]
  },
  {
   "cell_type": "code",
   "execution_count": 4,
   "metadata": {
    "collapsed": true
   },
   "outputs": [],
   "source": [
    "# 6. Q3 - Find first names (including duplicates) that do not have a P.O. Box address, sort and write to csv\n",
    "first_list = []\n",
    "\n",
    "for key in data_dict[\"Address\"]:\n",
    "    if \"P.O. Box\" not in data_dict[\"Address\"][key]:\n",
    "        first_list.append(data_dict[\"Name\"][key].split()[0])\n",
    "\n",
    "first_list = sorted(first_list) \n",
    "\n",
    "with open(\"question_3.csv\", \"wt\") as f:\n",
    "    csvout = csv.writer(f, delimiter=\"\\n\")\n",
    "    csvout.writerow(first_list)"
   ]
  },
  {
   "cell_type": "code",
   "execution_count": 5,
   "metadata": {
    "collapsed": true
   },
   "outputs": [],
   "source": [
    "# 7. Q4 - Find full names of the first 5 people when sort by country alphabetically, and write to csv  \n",
    "sort_by_country_list = sorted(data_dict[\"Country\"].items(), key=lambda kv: kv[1])\n",
    "ppl_country_list = []\n",
    "\n",
    "for person in sort_by_country_list[:5]:\n",
    "    ppl_country_list.append(data_dict[\"Name\"][person[0]])\n",
    "\n",
    "with open(\"question_4.csv\", \"wt\") as f:\n",
    "    csvout = csv.writer(f, delimiter=\"\\n\")\n",
    "    csvout.writerow(ppl_country_list)\n"
   ]
  },
  {
   "cell_type": "code",
   "execution_count": 6,
   "metadata": {
    "collapsed": true
   },
   "outputs": [],
   "source": [
    "# 8. Q5 - Find full names of the first 5 people when sort by phone number numerically ascending, and write to csv\n",
    "sort_by_phone_list = sorted(data_dict[\"Phone\"].items(), key=lambda kv: kv[1])\n",
    "ppl_phone_list = []\n",
    "\n",
    "for person in sort_by_phone_list[:5]:\n",
    "    ppl_phone_list.append(data_dict[\"Name\"][person[0]])\n",
    "\n",
    "with open(\"question_5.csv\", \"wt\") as f:\n",
    "    csvout = csv.writer(f, delimiter=\"\\n\")\n",
    "    csvout.writerow(ppl_phone_list) \n"
   ]
  }
 ],
 "metadata": {
  "anaconda-cloud": {},
  "kernelspec": {
   "display_name": "Python 3",
   "language": "python",
   "name": "python3"
  },
  "language_info": {
   "codemirror_mode": {
    "name": "ipython",
    "version": 3
   },
   "file_extension": ".py",
   "mimetype": "text/x-python",
   "name": "python",
   "nbconvert_exporter": "python",
   "pygments_lexer": "ipython3",
   "version": "3.6.1"
  }
 },
 "nbformat": 4,
 "nbformat_minor": 1
}
