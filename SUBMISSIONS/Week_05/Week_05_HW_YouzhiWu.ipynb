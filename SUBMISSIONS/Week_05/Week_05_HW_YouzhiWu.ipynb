{
 "cells": [
  {
   "cell_type": "markdown",
   "metadata": {
    "deletable": false,
    "editable": false,
    "nbgrader": {
     "checksum": "a564a475369fb3f55d28fbe02a695f8e",
     "grade": false,
     "grade_id": "cell-4cc0ffd6a5810c6d",
     "locked": true,
     "schema_version": 1,
     "solution": false
    }
   },
   "source": [
    "## Week 5 Assignment - W200 Python for Data Science, UC Berkeley MIDS"
   ]
  },
  {
   "cell_type": "markdown",
   "metadata": {
    "deletable": false,
    "editable": false,
    "nbgrader": {
     "checksum": "1cf85e0ec46dbd509e4c38f494751466",
     "grade": false,
     "grade_id": "cell-1f3ffd327d56ecbc",
     "locked": true,
     "schema_version": 1,
     "solution": false
    }
   },
   "source": [
    "Write code in this jupyter Notebook to solve each of the following problems. Each problem should have its solution in a separate cell. Please upload this **Notebook** with your solutions to your GitHub repository in your SUBMISSIONS/week_05 folder by 11:59PM PST the night before class."
   ]
  },
  {
   "cell_type": "markdown",
   "metadata": {
    "deletable": false,
    "editable": false,
    "nbgrader": {
     "checksum": "b6451066bcf587bf0e54b0d80b5cf0b3",
     "grade": false,
     "grade_id": "cell-c398835a920065f4",
     "locked": true,
     "schema_version": 1,
     "solution": false
    }
   },
   "source": [
    "## Objectives:\n",
    "\n",
    "- Demonstrate how to define functions \n",
    "- Understand how to call functions from within other functions\n",
    "- Understand how to return results from a function\n",
    "- Use the Python namespace to configure variables\n",
    "- Use functions as objects to pass to other functions\n",
    "- Design and implement a recursive function\n",
    "- Demonstrate knowledge of the Try/Except error checking statements"
   ]
  },
  {
   "cell_type": "markdown",
   "metadata": {
    "deletable": false,
    "editable": false,
    "nbgrader": {
     "checksum": "779f61c1ea4feb20db63cfdfe43b4ec2",
     "grade": false,
     "grade_id": "cell-bc58b3da65c5de3c",
     "locked": true,
     "schema_version": 1,
     "solution": false
    }
   },
   "source": [
    "## General Guidelines:\n",
    "\n",
    "- All calculations need to be done in the functions (that includes any formatting)\n",
    "- Name your functions exactly as written in the problem statement\n",
    "- Please have your functions return the answer rather than printing it inside the function\n",
    "- Do not make a separate input() statement.  The functions will be passed the input as shown in the examples\n",
    "- The examples given are samples of how we will test/grade your code. Please ensure your functions output the same information\n",
    "- There are also test cells for you to test your functions against the examples and the autograder.\n",
    "- Answer format is graded - please match the examples\n",
    "- Other than for Part 5, user / function inputs do not need to be validated or checked. (For example, if the problem states input an integer we will check it by inputting an integer)\n",
    "- Docstrings and comments in your code are strongly suggested but won't be graded\n",
    "- This homework is mostly auto-graded.  The blank code blocks are the auto-grading scripts - please do not delete these!\n",
    "- Your code needs to be written in the #Your Code Here blocks or it wont be graded correctly."
   ]
  },
  {
   "cell_type": "markdown",
   "metadata": {
    "deletable": false,
    "editable": false,
    "nbgrader": {
     "checksum": "0cf1e854861e645d66b8e0ff70130135",
     "grade": false,
     "grade_id": "cell-855c75985f9edefd",
     "locked": true,
     "schema_version": 1,
     "solution": false
    }
   },
   "source": [
    "## 5-1. Function Exercises\n",
    "\n",
    "### 5-1-1. Nested (\"Wrapped\") Functions\n",
    "For this question, please write three functions as follows:\n",
    "\n",
    "- `sum_digits`:   a function which takes an `int` and returns the sum of its (positive value) digits. \n",
    "\n",
    "- `diff_sum_digits`:   a function that \"wraps\" `sum_digits` in that it calls `sum_digits` from within it. Use the `diff_sum_digits` function to compute the absolute value of the input number minus the sum of digits of the input number.\n",
    "\n",
    "- `wraps_diff_sum_digits`:   a function that \"wraps\" `diff_sum_digits`. If `diff_sum_digits` returns a result that has more than one digit have this new function replace the result with the sum of the digits of the result. Do this repeatedly until the result has just one digit, then display it.\n",
    "\n",
    "To illustrate this with an example:\n",
    "- The input number is 20 as in: wraps_diff_sum_digits(20)\n",
    "- wraps_diff_sum_digits calls diff_sum_digits(20) which calls sum_digits(20)\n",
    "- sum_digits adds the numbers (2+0 = 2) returns a 2, diff_sum_digits subtracts (20-2 = 18) and returns this to wraps_diff_sum_digits\n",
    "- wraps_diff_sum_digits sees that the number 18 stills has 2 digits and calls diff_sum_digits(18) which calls sum_digits(18)\n",
    "- sum_digits add the numbers (1+8 = 9) returns a 9, diff_sum_digits subtracts (18-9 = 9) and returns this to wraps_diff_sum_digits\n",
    "- wraps_diff_sum_digits sees that the number 9 only has 1 digit - stops and returns the value 9.\n",
    "\n",
    "Below you'll find an example of what we mean when we say \"wraps\"."
   ]
  },
  {
   "cell_type": "code",
   "execution_count": null,
   "metadata": {
    "collapsed": true,
    "deletable": false,
    "editable": false,
    "nbgrader": {
     "checksum": "c02d1826d05a9a1c104d364c97b90b07",
     "grade": false,
     "grade_id": "cell-dfddd13006f81c36",
     "locked": true,
     "schema_version": 1,
     "solution": false
    }
   },
   "outputs": [],
   "source": [
    "def example_base_func(x):\n",
    "    \"Returns the value of the input * -1\"\n",
    "    return -1 * x\n",
    "\n",
    "def wraps_example_base_func(x):\n",
    "    temp_val = example_base_func(x)\n",
    "    if temp_val < 0:\n",
    "        return \"trivial example\"\n",
    "    \n",
    "print(example_base_func(5))\n",
    "print(wraps_example_base_func(5))"
   ]
  },
  {
   "cell_type": "code",
   "execution_count": 10,
   "metadata": {
    "deletable": false,
    "nbgrader": {
     "checksum": "0c8b16cc83870574b0fc9c791aa2b0d5",
     "grade": false,
     "grade_id": "cell-c373bf43a4b7ada6",
     "locked": false,
     "schema_version": 1,
     "solution": true
    }
   },
   "outputs": [
    {
     "name": "stdout",
     "output_type": "stream",
     "text": [
      "Please enter an integer: 54321\n",
      "15\n",
      "54306\n",
      "9\n"
     ]
    }
   ],
   "source": [
    "# YOUR CODE HERE\n",
    "def sum_digits(x):\n",
    "    \"\"\"a function which takes an int and returns the sum of its (positive value) digits.\"\"\"\n",
    "    x = abs(x)\n",
    "    result = 0\n",
    "    while x >= 1:\n",
    "        result += x%10\n",
    "        x //= 10\n",
    "    \n",
    "    return result\n",
    "\n",
    "def diff_sum_digits(x):\n",
    "    \"\"\"a function that \"wraps\" sum_digits in that it calls sum_digits from within it. \n",
    "    Use the diff_sum_digits function to compute the absolute value of the input number minus the sum of digits of the input number.\"\"\"\n",
    "    return abs(x - sum_digits(x))\n",
    "\n",
    "def wraps_diff_sum_digits(x):\n",
    "    result = diff_sum_digits(x)\n",
    "    while result >= 10:\n",
    "        result = diff_sum_digits(result)\n",
    "        \n",
    "    return result\n",
    "\n",
    "number = int(input(\"Please enter an integer: \"))\n",
    "\n",
    "print(wraps_diff_sum_digits(number))\n",
    "        "
   ]
  },
  {
   "cell_type": "markdown",
   "metadata": {
    "deletable": false,
    "editable": false,
    "nbgrader": {
     "checksum": "87e472760bce15f7da2ef66fe64c4fd1",
     "grade": false,
     "grade_id": "cell-85c3853b6cda85dd",
     "locked": true,
     "schema_version": 1,
     "solution": false
    }
   },
   "source": [
    "You can use the sample output in below cell to sanity check your work.\n",
    "\n",
    "We also show you some of the tests we will run below."
   ]
  },
  {
   "cell_type": "code",
   "execution_count": 11,
   "metadata": {},
   "outputs": [
    {
     "name": "stdout",
     "output_type": "stream",
     "text": [
      "True\n",
      "True\n",
      "True\n",
      "True\n"
     ]
    }
   ],
   "source": [
    "# You can use the sample output in this cell to sanity check your work.\n",
    "\n",
    "print(sum_digits(54321) == 15)\n",
    "print(sum_digits(-54321) == 15)\n",
    "print(diff_sum_digits(54321) == 54306)\n",
    "print(wraps_diff_sum_digits(54321) == 9)"
   ]
  },
  {
   "cell_type": "code",
   "execution_count": null,
   "metadata": {
    "collapsed": true,
    "deletable": false,
    "editable": false,
    "nbgrader": {
     "checksum": "202d97e72e54b2301968f8bf95c504cc",
     "grade": true,
     "grade_id": "cell-88242cbaef2afe19",
     "locked": true,
     "points": 1,
     "schema_version": 1,
     "solution": false
    }
   },
   "outputs": [],
   "source": [
    "# Autograde cell - do not erase/delete\n",
    "# Below are some of the autograding tests we run to give you an idea on how they work.\n",
    "from nose.tools import assert_equal\n",
    "assert_equal(sum_digits(54321), 15)"
   ]
  },
  {
   "cell_type": "code",
   "execution_count": null,
   "metadata": {
    "collapsed": true,
    "deletable": false,
    "editable": false,
    "nbgrader": {
     "checksum": "93332eda93f10981731a05fc6a1ff396",
     "grade": true,
     "grade_id": "cell-69021db4737eb29b",
     "locked": true,
     "points": 1,
     "schema_version": 1,
     "solution": false
    }
   },
   "outputs": [],
   "source": [
    "# Autograde cell - do not erase/delete\n",
    "assert_equal(sum_digits(-54321), 15)"
   ]
  },
  {
   "cell_type": "code",
   "execution_count": null,
   "metadata": {
    "collapsed": true,
    "deletable": false,
    "editable": false,
    "nbgrader": {
     "checksum": "72f8399a1561b853703656a0aeafbdac",
     "grade": true,
     "grade_id": "cell-257a5430df922fd1",
     "locked": true,
     "points": 1,
     "schema_version": 1,
     "solution": false
    }
   },
   "outputs": [],
   "source": [
    "# Autograde cell - do not erase/delete\n",
    "assert_equal(diff_sum_digits(54321), 54306)"
   ]
  },
  {
   "cell_type": "code",
   "execution_count": null,
   "metadata": {
    "collapsed": true,
    "deletable": false,
    "editable": false,
    "nbgrader": {
     "checksum": "eb4237030fe31e3e844087e0b5f380e1",
     "grade": true,
     "grade_id": "cell-90fd0a6f7ef73ec9",
     "locked": true,
     "points": 2,
     "schema_version": 1,
     "solution": false
    }
   },
   "outputs": [],
   "source": [
    "# Autograde cell - do not erase/delete\n",
    "assert_equal(wraps_diff_sum_digits(54321), 9)"
   ]
  },
  {
   "cell_type": "code",
   "execution_count": null,
   "metadata": {
    "collapsed": true,
    "deletable": false,
    "editable": false,
    "nbgrader": {
     "checksum": "7060412ad0b208c4a7d538c932c18f48",
     "grade": true,
     "grade_id": "cell-1a7c387b6af6d62d",
     "locked": true,
     "points": 2,
     "schema_version": 1,
     "solution": false
    }
   },
   "outputs": [],
   "source": [
    "# Autograde cell - do not erase/delete\n",
    "# These are the hidden autograder cells that will be run to check your functions!"
   ]
  },
  {
   "cell_type": "code",
   "execution_count": null,
   "metadata": {
    "collapsed": true,
    "deletable": false,
    "editable": false,
    "nbgrader": {
     "checksum": "e9eef55ccebbb211afc9801201830c3f",
     "grade": true,
     "grade_id": "cell-58c35e06fc9646e9",
     "locked": true,
     "points": 2,
     "schema_version": 1,
     "solution": false
    }
   },
   "outputs": [],
   "source": [
    "# Autograde cell - do not erase/delete"
   ]
  },
  {
   "cell_type": "code",
   "execution_count": null,
   "metadata": {
    "collapsed": true,
    "deletable": false,
    "editable": false,
    "nbgrader": {
     "checksum": "0f784ec541732966a0b646b59ec75258",
     "grade": true,
     "grade_id": "cell-1f13c56183fc697f",
     "locked": true,
     "points": 1,
     "schema_version": 1,
     "solution": false
    }
   },
   "outputs": [],
   "source": [
    "# Autograde cell - do not erase/delete"
   ]
  },
  {
   "cell_type": "markdown",
   "metadata": {
    "deletable": false,
    "editable": false,
    "nbgrader": {
     "checksum": "1bbec863811d039e105141acaf78edd6",
     "grade": false,
     "grade_id": "cell-4fe5ba9f67aac0d8",
     "locked": true,
     "schema_version": 1,
     "solution": false
    }
   },
   "source": [
    "### 5-1-2. Pigs, Continued\n",
    "\n",
    "Write a function `is_consonant` that takes a character and returns `True` if it is a consonant.\n",
    "\n",
    "Use your function to create a new function `to_piglatin` that takes a word, moves all starting consonants (all consonants before the first vowel) to the end of the word, then adds *ay* to the end and returns the result. You may expect that the input to the function will be just one word. (we know this isn't **true** pig latin - please do not change this basic algorithm). For a single word input the first letter is capitalized and the rest are lower case as shown in the example below.\n",
    "\n",
    "*Extra Credit (5 points): Have the 'to_piglatin' function check whether or not the input is multiple words and return the whole sentence in pig latin. The sentence will be returned in sentence case (only the first word capitalized). For this you may assume that a sentence always ends with a period and the input is always one sentence, never more than one. Make these changes in the 'to_piglatin' function - that is, if you want to do the extra credit the 'to_piglatin' function needs to work for both a single word and a sentence. NOT AS A SEPARATE FUNCTION*\n",
    "\n",
    "Examples:\n",
    "```\n",
    "(format is: function call -> returns) - do not return this whole string just return the word after the arrow.\n",
    "\n",
    "to_piglatin('stay') ->  Aystay\n",
    "to_piglatin('Jared') -> Aredjay \n",
    "to_piglatin('and') -> Anday\n",
    "to_piglatin('CAR') -> Arcay\n",
    "```"
   ]
  },
  {
   "cell_type": "code",
   "execution_count": 17,
   "metadata": {
    "deletable": false,
    "nbgrader": {
     "checksum": "6384901e4c4c6996551ca77ba0e02f78",
     "grade": false,
     "grade_id": "cell-2eef38fa43df4ac5",
     "locked": false,
     "schema_version": 1,
     "solution": true
    }
   },
   "outputs": [
    {
     "name": "stdout",
     "output_type": "stream",
     "text": [
      "Please enter a word or a sentence: Stay away from me.\n",
      "Aystay awayay omfray emay.\n"
     ]
    }
   ],
   "source": [
    "# YOUR CODE HERE\n",
    "def is_consonant(char):\n",
    "    if char.lower() not in \"aeiou\":\n",
    "        return True\n",
    "    \n",
    "def to_piglatin(words):\n",
    "    words_string = words.lower().replace(\".\",\"\").split()\n",
    "    for k in range(0,len(words_string)): \n",
    "        l = len(words_string[k])\n",
    "        while is_consonant(words_string[k][0]):\n",
    "            words_string[k] = words_string[k][1:l] + words_string[k][0]\n",
    "        words_string[k] = words_string[k] + \"ay\"\n",
    "        if k == 0:\n",
    "            words_string[k] = words_string[k].capitalize()\n",
    "    \n",
    "    if len(words_string) > 1:\n",
    "        result = \" \".join(words_string) + \".\"\n",
    "    else:\n",
    "        result = \" \".join(words_string)\n",
    "    \n",
    "    return result\n",
    "            \n",
    "words = input(\"Please enter a word or a sentence: \")\n",
    "print(to_piglatin(words))\n"
   ]
  },
  {
   "cell_type": "code",
   "execution_count": 16,
   "metadata": {},
   "outputs": [
    {
     "name": "stdout",
     "output_type": "stream",
     "text": [
      "True\n",
      "True\n",
      "True\n",
      "True\n"
     ]
    }
   ],
   "source": [
    "# You can use the sample output in this cell to sanity check your work.\n",
    "\n",
    "print(to_piglatin(\"stay\") == \"Aystay\")\n",
    "print(to_piglatin(\"Jared\") == \"Aredjay\")\n",
    "print(to_piglatin(\"and\") == \"Anday\")\n",
    "print(to_piglatin(\"CAR\") == \"Arcay\")"
   ]
  },
  {
   "cell_type": "code",
   "execution_count": null,
   "metadata": {
    "collapsed": true,
    "deletable": false,
    "editable": false,
    "nbgrader": {
     "checksum": "044d532f89b098e7133c3757fb45f2a0",
     "grade": true,
     "grade_id": "cell-8f844f982b02b98c",
     "locked": true,
     "points": 0,
     "schema_version": 1,
     "solution": false
    }
   },
   "outputs": [],
   "source": [
    "# Autograde cell - do not erase/delete\n",
    "assert_equal(to_piglatin(\"stay\"), \"Aystay\")"
   ]
  },
  {
   "cell_type": "code",
   "execution_count": null,
   "metadata": {
    "collapsed": true,
    "deletable": false,
    "editable": false,
    "nbgrader": {
     "checksum": "a9643bfb239445163afb828691426a4d",
     "grade": true,
     "grade_id": "cell-aa09ec12198816d7",
     "locked": true,
     "points": 0,
     "schema_version": 1,
     "solution": false
    }
   },
   "outputs": [],
   "source": [
    "# Autograde cell - do not erase/delete\n",
    "assert_equal(to_piglatin(\"Jared\"), \"Aredjay\")"
   ]
  },
  {
   "cell_type": "code",
   "execution_count": null,
   "metadata": {
    "collapsed": true,
    "deletable": false,
    "editable": false,
    "nbgrader": {
     "checksum": "17a5b144289a0b767734100351432355",
     "grade": true,
     "grade_id": "cell-85e4811f3f7ac483",
     "locked": true,
     "points": 0,
     "schema_version": 1,
     "solution": false
    }
   },
   "outputs": [],
   "source": [
    "# Autograde cell - do not erase/delete\n",
    "assert_equal(to_piglatin(\"and\"), \"Anday\")"
   ]
  },
  {
   "cell_type": "code",
   "execution_count": null,
   "metadata": {
    "collapsed": true,
    "deletable": false,
    "editable": false,
    "nbgrader": {
     "checksum": "d4c278ff78097c68eb47ae8865b7fcda",
     "grade": true,
     "grade_id": "cell-f6d83d317209a5c5",
     "locked": true,
     "points": 0,
     "schema_version": 1,
     "solution": false
    }
   },
   "outputs": [],
   "source": [
    "# Autograde cell - do not erase/delete\n",
    "assert_equal(to_piglatin(\"CAR\"), \"Arcay\")"
   ]
  },
  {
   "cell_type": "code",
   "execution_count": null,
   "metadata": {
    "collapsed": true,
    "deletable": false,
    "editable": false,
    "nbgrader": {
     "checksum": "2ac5cc0688522494896cac385f9a6210",
     "grade": true,
     "grade_id": "cell-5ee412cb4b703023",
     "locked": true,
     "points": 2,
     "schema_version": 1,
     "solution": false
    }
   },
   "outputs": [],
   "source": [
    "# Hidden autograde cell - do not erase/delete"
   ]
  },
  {
   "cell_type": "code",
   "execution_count": null,
   "metadata": {
    "collapsed": true,
    "deletable": false,
    "editable": false,
    "nbgrader": {
     "checksum": "1395f87684ddaea6db8d4397186a8ab9",
     "grade": true,
     "grade_id": "cell-954080f6af7c07aa",
     "locked": true,
     "points": 2,
     "schema_version": 1,
     "solution": false
    }
   },
   "outputs": [],
   "source": [
    "# Hidden autograde cell - do not erase/delete"
   ]
  },
  {
   "cell_type": "code",
   "execution_count": null,
   "metadata": {
    "collapsed": true,
    "deletable": false,
    "editable": false,
    "nbgrader": {
     "checksum": "608739719c3cfe5b1361e07e374531bc",
     "grade": true,
     "grade_id": "cell-68acd2e1a791ca95",
     "locked": true,
     "points": 2,
     "schema_version": 1,
     "solution": false
    }
   },
   "outputs": [],
   "source": [
    "# Hidden autograde cell - do not erase/delete"
   ]
  },
  {
   "cell_type": "code",
   "execution_count": null,
   "metadata": {
    "collapsed": true,
    "deletable": false,
    "editable": false,
    "nbgrader": {
     "checksum": "55471e93d4fcbb24b7c5c246b996eecd",
     "grade": true,
     "grade_id": "cell-e39d29342e27b90c",
     "locked": true,
     "points": 2,
     "schema_version": 1,
     "solution": false
    }
   },
   "outputs": [],
   "source": [
    "# Hidden autograde cell - do not erase/delete"
   ]
  },
  {
   "cell_type": "code",
   "execution_count": null,
   "metadata": {
    "collapsed": true,
    "deletable": false,
    "editable": false,
    "nbgrader": {
     "checksum": "3bfeafa4ecc6c7c56bafe593419d79bd",
     "grade": true,
     "grade_id": "cell-5512005b0518cb19",
     "locked": true,
     "points": 2,
     "schema_version": 1,
     "solution": false
    }
   },
   "outputs": [],
   "source": [
    "# Hidden autograde cell - do not erase/delete"
   ]
  },
  {
   "cell_type": "code",
   "execution_count": null,
   "metadata": {
    "collapsed": true,
    "deletable": false,
    "editable": false,
    "nbgrader": {
     "checksum": "dab137450508d7ff97875784ee2f08f4",
     "grade": true,
     "grade_id": "cell-ba4425be60b298fb",
     "locked": true,
     "points": 5,
     "schema_version": 1,
     "solution": false
    }
   },
   "outputs": [],
   "source": [
    "# Hidden autograde cell - do not erase/delete"
   ]
  },
  {
   "cell_type": "markdown",
   "metadata": {
    "deletable": false,
    "editable": false,
    "nbgrader": {
     "checksum": "ad626fcbdfac389c5598ebccd3b0ed6d",
     "grade": false,
     "grade_id": "cell-95fcefa2ff403faf",
     "locked": true,
     "schema_version": 1,
     "solution": false
    }
   },
   "source": [
    "## 5-2. Namespace Exercise\n",
    "\n",
    "### 5-2-1. Process Order\n",
    "\n",
    "The following code defines a customer order list.   Each item in the list is a tuple containing the name of the item, the number requested, and the price per each.  \n",
    "\n",
    "Fill in just the `process_order` function below without changing any other code. This function should iterate through all items in the list, removing one item at a time and printing a nice message about it (from within the function).  Finally, confirm that the final print statement correctly displays the total price for all the items.\n",
    "\n",
    "Example:\n",
    "```\n",
    "You filled an order for 1 antacid for a total of $5.33\n",
    "You filled an order for 3 sour bites for a total of $6.99\n",
    "You filled an order for 1 gummy bears for a total of $1.99\n",
    "You filled an order for 4 oranges for a total of $12.88\n",
    "Total price: $27.19\n",
    "```"
   ]
  },
  {
   "cell_type": "code",
   "execution_count": 30,
   "metadata": {
    "deletable": false,
    "nbgrader": {
     "checksum": "0f45d76a8e6a264293f25f58d88091b4",
     "grade": false,
     "grade_id": "cell-74a84f91e3b3e716",
     "locked": false,
     "schema_version": 1,
     "solution": true
    }
   },
   "outputs": [
    {
     "name": "stdout",
     "output_type": "stream",
     "text": [
      "You filled an order for 4 oranges for a total of $12.88\n",
      "You filled an order for 1 gummy bears for a total of $1.99\n",
      "You filled an order for 3 sour bites for a total of $6.99\n",
      "You filled an order for 1 antacid for a total of $5.33\n",
      "Total price: $27.19\n"
     ]
    }
   ],
   "source": [
    "### [Youzhi Wu] \n",
    "\n",
    "total = 0\n",
    "\n",
    "def process_order(x_list):\n",
    "    # YOUR CODE HERE\n",
    "    global total\n",
    "    while len(x_list)>0:\n",
    "        item, num, unit_price = x_list[0][0], x_list[0][1], x_list[0][2]\n",
    "        item_total = num * unit_price\n",
    "        print(\"You filled an order for\", num, item, \"for a total of\", \"${:.2f}\".format(item_total))\n",
    "        total += item_total\n",
    "        x_list.pop(0)\n",
    "    \n",
    "\n",
    "######################################################################################################\n",
    "# DO NOT CHANGE ANY OF THE CODE BELOW HERE                                                           #\n",
    "######################################################################################################\n",
    "\n",
    "x = [(\"oranges\", 4, 3.22),(\"gummy bears\",1,1.99),(\"sour bites\", 3, 2.33), (\"antacid\", 1, 5.33)]\n",
    "\n",
    "while(len(x)>0):\n",
    "    process_order(x)\n",
    "\n",
    "print(\"Total price: ${:.2f}\".format(total))"
   ]
  },
  {
   "cell_type": "code",
   "execution_count": 31,
   "metadata": {},
   "outputs": [
    {
     "name": "stdout",
     "output_type": "stream",
     "text": [
      "You filled an order for 4 oranges for a total of $12.88\n",
      "You filled an order for 1 gummy bears for a total of $1.99\n",
      "You filled an order for 3 sour bites for a total of $6.99\n",
      "You filled an order for 1 antacid for a total of $5.33\n",
      "True\n"
     ]
    }
   ],
   "source": [
    "# You can use the sample output in this cell to sanity check the end result in your work.\n",
    "# However, check also your intermediary steps!\n",
    "\n",
    "total = 0\n",
    "\n",
    "x = [(\"oranges\", 4, 3.22),(\"gummy bears\",1,1.99),(\"sour bites\", 3, 2.33), (\"antacid\", 1, 5.33)]\n",
    "\n",
    "while(len(x)>0):\n",
    "    process_order(x)\n",
    "\n",
    "print(\"Total price: ${:.2f}\".format(total) == 'Total price: $27.19')\n"
   ]
  },
  {
   "cell_type": "code",
   "execution_count": null,
   "metadata": {
    "collapsed": true,
    "deletable": false,
    "editable": false,
    "nbgrader": {
     "checksum": "bbd11b0f86a337ed1351768251acda39",
     "grade": true,
     "grade_id": "cell-b7c581157c7c15f0",
     "locked": true,
     "points": 20,
     "schema_version": 1,
     "solution": false
    }
   },
   "outputs": [],
   "source": [
    "# Hidden autograde cell - do not erase/delete"
   ]
  },
  {
   "cell_type": "markdown",
   "metadata": {
    "deletable": false,
    "editable": false,
    "nbgrader": {
     "checksum": "88ae8f257528d9eeac40c3a84e77779b",
     "grade": false,
     "grade_id": "cell-93cde9372690d753",
     "locked": true,
     "schema_version": 1,
     "solution": false
    }
   },
   "source": [
    "## 5-3. Functions as Objects\n",
    "\n",
    "### 5-3-1. A Flexible \"Scoring\" Function\n",
    "\n",
    "The following code defines a list of names and also contains a header for the function `best`.  The `best` function takes two arguments: a generic scoring function, score, and a list of strings, names.  Fill in the function so that it applies a score function to each string in the names list and returns the name with the highest score. If there are ties in the list, your function should return the first item with the maximum score. The `best` function needs to be designed so that it can take any scoring function and return the name with the highest score.\n",
    "\n",
    "For this question, define a function called `len_score` that returns the length of a word.  Call the `best` function with the `len_score` function as a parameter.\n",
    "\n",
    "Example:\n",
    "```\n",
    "print(best(len_score, names), \"has the longest name.\")\n",
    "    \n",
    "McJagger has the longest name.\n",
    "```"
   ]
  },
  {
   "cell_type": "code",
   "execution_count": 33,
   "metadata": {
    "collapsed": true,
    "deletable": false,
    "nbgrader": {
     "checksum": "ddace7f61e8ed4385fe51e81d3e50905",
     "grade": false,
     "grade_id": "cell-08cb8d30cb563aba",
     "locked": false,
     "schema_version": 1,
     "solution": true
    }
   },
   "outputs": [],
   "source": [
    "### [Youzhi Wu]\n",
    "# YOUR CODE HERE\n",
    "def len_score(word):\n",
    "    return len(word)\n",
    "\n",
    "def best(score,names):\n",
    "    max_result = 0\n",
    "    for item in names:\n",
    "        score_result = score(item)\n",
    "        if max_result < score_result:\n",
    "            max_result = score_result\n",
    "            max_item = item\n",
    "        \n",
    "    return max_item\n",
    "\n",
    "        "
   ]
  },
  {
   "cell_type": "code",
   "execution_count": 34,
   "metadata": {},
   "outputs": [
    {
     "name": "stdout",
     "output_type": "stream",
     "text": [
      "True\n"
     ]
    }
   ],
   "source": [
    "# You can use the sample output in this cell to sanity check your work.\n",
    "\n",
    "names = [\"Ben\", \"April\", \"Zaber\", \"Alexis\", \"McJagger\", \"J.J.\", \"Madonna\"]\n",
    "\n",
    "print(best(len_score, names) == 'McJagger')\n"
   ]
  },
  {
   "cell_type": "code",
   "execution_count": null,
   "metadata": {
    "collapsed": true,
    "deletable": false,
    "editable": false,
    "nbgrader": {
     "checksum": "63bd567307ad4d26b02c68a58273d6df",
     "grade": true,
     "grade_id": "cell-71f0ea37a7c2e641",
     "locked": true,
     "points": 0,
     "schema_version": 1,
     "solution": false
    }
   },
   "outputs": [],
   "source": [
    "# Autograde cell - do not erase/delete\n",
    "# Below are some tests we run.\n",
    "\n",
    "names = [\"Ben\", \"April\", \"Zaber\", \"Alexis\", \"McJagger\", \"J.J.\", \"Madonna\"]\n",
    "\n",
    "assert_equal(best(len_score, names), 'McJagger')"
   ]
  },
  {
   "cell_type": "code",
   "execution_count": null,
   "metadata": {
    "collapsed": true,
    "deletable": false,
    "editable": false,
    "nbgrader": {
     "checksum": "04f08395d3c0a3421a0ff2d2e55c02c1",
     "grade": true,
     "grade_id": "cell-31e3eba0fe34124e",
     "locked": true,
     "points": 5,
     "schema_version": 1,
     "solution": false
    }
   },
   "outputs": [],
   "source": [
    "# Hidden autograde cell - do not erase/delete!"
   ]
  },
  {
   "cell_type": "markdown",
   "metadata": {
    "deletable": false,
    "editable": false,
    "nbgrader": {
     "checksum": "0695835da2adbd83c8371bd6a71f8111",
     "grade": false,
     "grade_id": "cell-6bfd049ec823610f",
     "locked": true,
     "schema_version": 1,
     "solution": false
    }
   },
   "source": [
    "### 5-3-2. Using Our Flexible Function\n",
    "\n",
    "**NOTE: Do not change your best function from the answer in 5-3-1 above! The best function should be able to take any scoring function and return the result.** (you also do not need to copy your best function from above - we will run the cell above and then this cell in succession) \n",
    "\n",
    "Define a function, `number_of_vowels`, that returns the number of vowels in a string.  Use it with your `best` function to find the name in `names` with the most vowels.\n",
    "\n",
    "See how easy it is to change the score function for different functionalities!\n",
    "\n",
    "Example: \n",
    "```\n",
    "print(best(number_of_vowels, names), \"has the most vowels.\")\n",
    "\n",
    "Alexis has the most vowels.\n",
    "```"
   ]
  },
  {
   "cell_type": "code",
   "execution_count": 35,
   "metadata": {
    "collapsed": true,
    "deletable": false,
    "nbgrader": {
     "checksum": "6c6410c009268e56d7a3adc602d1a053",
     "grade": false,
     "grade_id": "cell-be845cc598786484",
     "locked": false,
     "schema_version": 1,
     "solution": true
    }
   },
   "outputs": [],
   "source": [
    "# YOUR CODE HERE\n",
    "def number_of_vowels(word):\n",
    "    count = 0\n",
    "    for char in word:\n",
    "        if char.lower() in \"aeiou\":\n",
    "            count += 1\n",
    "    return count"
   ]
  },
  {
   "cell_type": "code",
   "execution_count": 36,
   "metadata": {},
   "outputs": [
    {
     "name": "stdout",
     "output_type": "stream",
     "text": [
      "True\n"
     ]
    }
   ],
   "source": [
    "# You can use the sample output in this cell to sanity check your work.\n",
    "names = [\"Ben\", \"April\", \"Zaber\", \"Alexis\", \"McJagger\", \"J.J.\", \"Madonna\"]\n",
    "\n",
    "print(best(number_of_vowels, names) == 'Alexis')"
   ]
  },
  {
   "cell_type": "code",
   "execution_count": null,
   "metadata": {
    "collapsed": true,
    "deletable": false,
    "editable": false,
    "nbgrader": {
     "checksum": "1a47e7f1b334c874e022b9a6bb48a67e",
     "grade": true,
     "grade_id": "cell-6a81391922840599",
     "locked": true,
     "points": 0,
     "schema_version": 1,
     "solution": false
    }
   },
   "outputs": [],
   "source": [
    "# Autograde cell - do not erase/delete\n",
    "# Below are some tests we run.\n",
    "\n",
    "names = [\"Ben\", \"April\", \"Zaber\", \"Alexis\", \"McJagger\", \"J.J.\", \"Madonna\"]\n",
    "\n",
    "assert_equal(best(number_of_vowels, names), 'Alexis')"
   ]
  },
  {
   "cell_type": "code",
   "execution_count": null,
   "metadata": {
    "collapsed": true,
    "deletable": false,
    "editable": false,
    "nbgrader": {
     "checksum": "e9c58da74e955f9bf8830c7038120782",
     "grade": true,
     "grade_id": "cell-5223c7b3911dd60c",
     "locked": true,
     "points": 5,
     "schema_version": 1,
     "solution": false
    }
   },
   "outputs": [],
   "source": [
    "# Hidden autograde cell - do not erase/delete"
   ]
  },
  {
   "cell_type": "markdown",
   "metadata": {
    "deletable": false,
    "editable": false,
    "nbgrader": {
     "checksum": "224f805abc2dd9d7dc5b7ab7448f440f",
     "grade": false,
     "grade_id": "cell-49c9810bbb46b54f",
     "locked": true,
     "schema_version": 1,
     "solution": false
    }
   },
   "source": [
    "### 5-3-3 Using Our Flexible Function with a Lambda Function \n",
    "\n",
    "**NOTE: Do not change your best function from the answer in 5-3-1 above! The best function should be able to take any scoring function and return the result.** (you also do not need to copy your best function from above - we will run the cells above and then this cell in succession) \n",
    "\n",
    "Now pass a `lambda` function into your `best` function to find the name in `names` with the highest number of A's (upper or lower case).  This needs to be a lambda function and should only be one line!\n",
    "\n",
    "Example output: \n",
    "```\n",
    "Madonna has the most a's.\n",
    "```"
   ]
  },
  {
   "cell_type": "code",
   "execution_count": null,
   "metadata": {
    "collapsed": true,
    "deletable": false,
    "editable": false,
    "nbgrader": {
     "checksum": "101ad826b418c49b4316029176c0eba2",
     "grade": true,
     "grade_id": "cell-8b3be5cd496fcbe5",
     "locked": true,
     "points": 10,
     "schema_version": 1,
     "solution": false
    }
   },
   "outputs": [],
   "source": [
    "# Hidden autograde cell - do not erase/delete"
   ]
  },
  {
   "cell_type": "code",
   "execution_count": 37,
   "metadata": {
    "deletable": false,
    "nbgrader": {
     "checksum": "37dd7bc8e55cdf8dca1d68d94df4cf55",
     "grade": false,
     "grade_id": "cell-8e077c8a6f05a83c",
     "locked": false,
     "schema_version": 1,
     "solution": true
    }
   },
   "outputs": [
    {
     "name": "stdout",
     "output_type": "stream",
     "text": [
      "Madonna has the most a's.\n"
     ]
    }
   ],
   "source": [
    "# YOUR CODE HERE\n",
    "names = [\"Ben\", \"April\", \"Zaber\", \"Alexis\", \"McJagger\", \"J.J.\", \"Madonna\"]\n",
    "\n",
    "print(best(lambda x: x.lower().count(\"a\"), names), \"has the most a's.\")\n"
   ]
  },
  {
   "cell_type": "markdown",
   "metadata": {
    "deletable": false,
    "editable": false,
    "nbgrader": {
     "checksum": "9cda11ab182b2c2b81dced7aced23f0a",
     "grade": false,
     "grade_id": "cell-3dcbc34bff53d001",
     "locked": true,
     "schema_version": 1,
     "solution": false
    }
   },
   "source": [
    "We cannot help you in sanity checking you work, as you must pass the `lambda` function directly into your `best` function. But you can easily sanity check your solution yourself. "
   ]
  },
  {
   "cell_type": "markdown",
   "metadata": {
    "deletable": false,
    "editable": false,
    "nbgrader": {
     "checksum": "3958d29c61e645170db6851b9b909c2b",
     "grade": false,
     "grade_id": "cell-5de8992f4f2eb7d1",
     "locked": true,
     "schema_version": 1,
     "solution": false
    }
   },
   "source": [
    "## 5-4. Recursion Basics\n",
    "\n",
    "### 5-4-1. Computing Fibonacci Numbers\n",
    "\n",
    "You are probably familiar (from two homework ago!) with the famous Fibonacci sequence of numbers, which begins like this:\n",
    "```\n",
    "1, 1, 2, 3, 5, 8, 13, 21...\n",
    "```\n",
    "We'll index from 0, so the 0th and 1st numbers are both 1.  The 2nd Fibonacci number is found by summing the 0th and 1st: 1 + 1 = 2.  The 3rd is found by summing the 1st and 2nd: 1 + 2 = 3.  After this point, each Fibonacci number is found by summing the previous two numbers.\n",
    "\n",
    "You are to write a recursive function to compute the nth Fibonacci number.  This means that your function will call itself and will **NOT** include explicit loops.\n",
    "\n",
    "Hint: Your function should include a line that looks a lot like the mathematical definition of the nth Fibonacci number.\n",
    "\n",
    "Another Hint: It's possible for a recursive function to call itself more than once.\n",
    "\n",
    "Example: \n",
    "```\n",
    "print(Fibonacci(1))\n",
    "\n",
    "1\n",
    "```"
   ]
  },
  {
   "cell_type": "code",
   "execution_count": 40,
   "metadata": {
    "deletable": false,
    "nbgrader": {
     "checksum": "29bd1574a86cb8751f5984647f8d80da",
     "grade": false,
     "grade_id": "cell-908240fb166237b7",
     "locked": false,
     "schema_version": 1,
     "solution": true
    }
   },
   "outputs": [
    {
     "name": "stdout",
     "output_type": "stream",
     "text": [
      "1 2 5 13\n"
     ]
    }
   ],
   "source": [
    "def Fibonacci(n):\n",
    "    # YOUR CODE HERE\n",
    "    if n == 1 or n == 2:\n",
    "        return 1\n",
    "    else:\n",
    "        return Fibonacci(n-2) + Fibonacci(n-1)\n",
    "\n",
    "#print(Fibonacci(2), Fibonacci(3), Fibonacci(5), Fibonacci(7))"
   ]
  },
  {
   "cell_type": "code",
   "execution_count": 39,
   "metadata": {},
   "outputs": [
    {
     "name": "stdout",
     "output_type": "stream",
     "text": [
      "True\n"
     ]
    }
   ],
   "source": [
    "# You can use the sample output in this cell to sanity check your work.\n",
    "\n",
    "print(Fibonacci(1) == 1)"
   ]
  },
  {
   "cell_type": "code",
   "execution_count": null,
   "metadata": {
    "collapsed": true,
    "deletable": false,
    "editable": false,
    "nbgrader": {
     "checksum": "1899a12e5a815d1c0af2310b4e48d4b9",
     "grade": true,
     "grade_id": "cell-f99e3713f50786fc",
     "locked": true,
     "points": 0,
     "schema_version": 1,
     "solution": false
    }
   },
   "outputs": [],
   "source": [
    "# Autograde cell - do not erase/delete\n",
    "# Below are some tests we run.\n",
    "\n",
    "assert_equal(Fibonacci(1), 1)"
   ]
  },
  {
   "cell_type": "code",
   "execution_count": null,
   "metadata": {
    "collapsed": true,
    "deletable": false,
    "editable": false,
    "nbgrader": {
     "checksum": "dcb237a481cafd505b93c7e84823985c",
     "grade": true,
     "grade_id": "cell-dc54b9bfecb04cf3",
     "locked": true,
     "points": 5,
     "schema_version": 1,
     "solution": false
    }
   },
   "outputs": [],
   "source": [
    "# Hidden autograde cell - do not erase/delete"
   ]
  },
  {
   "cell_type": "code",
   "execution_count": null,
   "metadata": {
    "collapsed": true,
    "deletable": false,
    "editable": false,
    "nbgrader": {
     "checksum": "09554091beeb03ac280bcb81829bed17",
     "grade": true,
     "grade_id": "cell-51d06362f92a61dd",
     "locked": true,
     "points": 5,
     "schema_version": 1,
     "solution": false
    }
   },
   "outputs": [],
   "source": [
    "# Hidden autograde cell - do not erase/delete"
   ]
  },
  {
   "cell_type": "code",
   "execution_count": null,
   "metadata": {
    "collapsed": true,
    "deletable": false,
    "editable": false,
    "nbgrader": {
     "checksum": "0206fad8963e9fbe994d6a00dcfa5d27",
     "grade": true,
     "grade_id": "cell-751b7f716567b5ce",
     "locked": true,
     "points": 5,
     "schema_version": 1,
     "solution": false
    }
   },
   "outputs": [],
   "source": [
    "# Hidden autograde cell - do not erase/delete"
   ]
  },
  {
   "cell_type": "markdown",
   "metadata": {
    "deletable": false,
    "editable": false,
    "nbgrader": {
     "checksum": "e7679e0e43eccca143b4431bfacc1f6c",
     "grade": false,
     "grade_id": "cell-cf9b054249129489",
     "locked": true,
     "schema_version": 1,
     "solution": false
    }
   },
   "source": [
    "### 5-4-2. Computing Fibonacci Numbers (part 2)\n",
    "\n",
    "Once you are done, think about whether your recursive function is algorithmically efficient.  Compare it to a non-recursive implementation (from homework 3). Which algorithm is more efficient? Why? Please fill in your answer below."
   ]
  },
  {
   "cell_type": "markdown",
   "metadata": {
    "deletable": false,
    "nbgrader": {
     "checksum": "86f713fc21b3caaec9d4c87223a7ab10",
     "grade": true,
     "grade_id": "cell-aa13d77f4cd1437c",
     "locked": false,
     "points": 5,
     "schema_version": 1,
     "solution": true
    }
   },
   "source": [
    "YOUR ANSWER HERE\n",
    "\n",
    "In fact the recursive function is less algorithmically efficient than the non-recursive loop implementation. Take Fibonacci(6) as an example to illustrate:\n",
    "1. In the recursive function, to return Fibonacci(6), the function will first compute Fibonacci(5) and then Fibonacci(4). For Fibonacci(5) = Fibonacci(3) + Fibonacci(4); Fibonacci(4) = Fibonacci(3) + Fibonacci(2), etc. You can see that in order to get Fibonacci(6), Fibonacci(4), Fibonacci(3), Fibonacci(2), and Fibonacci(1) are computed multiple times. \n",
    "2. In the non-recursive function, they would only be computed once. "
   ]
  },
  {
   "cell_type": "markdown",
   "metadata": {
    "deletable": false,
    "editable": false,
    "nbgrader": {
     "checksum": "63656ed9ef91ea16d045335a910444df",
     "grade": false,
     "grade_id": "cell-9ee7b96231fea756",
     "locked": true,
     "schema_version": 1,
     "solution": false
    }
   },
   "source": [
    "## 5-5. Exceptions Exercises\n",
    "\n",
    "### 5-5-1. Re-factoring for Exceptions\n",
    "\n",
    "Change the code below that attempts to compute a reciprocal.  It should keep prompting the user for a number until a valid number is entered.  If the user enters 0, the program should print that zero does not have a reciprocal and then terminate."
   ]
  },
  {
   "cell_type": "code",
   "execution_count": 43,
   "metadata": {
    "deletable": false,
    "nbgrader": {
     "checksum": "69fa0262435562056a272bafca131f2b",
     "grade": true,
     "grade_id": "cell-c78e5f25c8aff22e",
     "locked": false,
     "points": 10,
     "schema_version": 1,
     "solution": true
    }
   },
   "outputs": [
    {
     "name": "stdout",
     "output_type": "stream",
     "text": [
      "Enter a number: wi\n",
      "You did not enter a valid number.\n",
      "Enter a number: o\n",
      "You did not enter a valid number.\n",
      "Enter a number: -owi\n",
      "You did not enter a valid number.\n",
      "Enter a number: 8\n",
      "The reciprocal of your number is 0.125\n"
     ]
    }
   ],
   "source": [
    "while True:\n",
    "    try:\n",
    "        x = float(input(\"Enter a number: \"))\n",
    "        print(\"The reciprocal of your number is\", 1/x)\n",
    "        break\n",
    "    except ValueError:\n",
    "        print(\"You did not enter a valid number.\")\n",
    "        continue\n",
    "    except ZeroDivisionError:\n",
    "        print(\"Zero does not have a reciprocal\")\n",
    "        break\n",
    "    except:\n",
    "        print(\"something else went wrong.\")\n",
    "        continue\n"
   ]
  },
  {
   "cell_type": "markdown",
   "metadata": {
    "deletable": false,
    "editable": false,
    "nbgrader": {
     "checksum": "e7c06a0ba31f29bfec88395d9c226a6c",
     "grade": false,
     "grade_id": "cell-5b7e3f820aff257f",
     "locked": true,
     "schema_version": 1,
     "solution": false
    }
   },
   "source": [
    "We cannot help you sanity check your code, but you can easily check your solution yourself. What non-valid entries could there be and how should your code behave?"
   ]
  },
  {
   "cell_type": "code",
   "execution_count": null,
   "metadata": {
    "collapsed": true,
    "deletable": false,
    "editable": false,
    "nbgrader": {
     "checksum": "f24f3bc1c858307ab6968a3764cfa35e",
     "grade": true,
     "grade_id": "cell-92457557ef030651",
     "locked": true,
     "points": 0,
     "schema_version": 1,
     "solution": false
    }
   },
   "outputs": [],
   "source": [
    "# Hidden autograde cell - do not erase/delete"
   ]
  },
  {
   "cell_type": "markdown",
   "metadata": {
    "deletable": false,
    "editable": false,
    "nbgrader": {
     "checksum": "90379a1a51255fd73c219ffed3f17076",
     "grade": false,
     "grade_id": "cell-b738e6d3309e57ef",
     "locked": true,
     "schema_version": 1,
     "solution": false
    }
   },
   "source": [
    "### 5-5-2 Raising Custom Exceptions\n",
    "\n",
    "Write a function called `weighted_avg` that takes a list of grades and a corresponding list of weights and returns the weighted average of the grades.  Your function should raise an exception if:\n",
    "- a weight is less than 0 or greater than 100\n",
    "- the weights do not add to 100\n",
    "- the number of weights and grades are not equal\n",
    "- a grade is below 0 (grades above 100 would be considered extra credit and are acceptable)\n",
    "\n",
    "Run your function on `grades1` with `weights1` and `grades2` with `weights2` and `grades3` with `weights3` and `grades4` with `weights4`, defined below.  Catch the errors generated in each case as an exception and print a useful message for the user.  \n",
    "\n",
    "Hint: The first 3 test cases should return an exception!\n",
    "\n",
    "Example:\n",
    "\n",
    "```\n",
    "weighted_avg(grades4, weights4) \n",
    "\n",
    "85.0\n",
    "```"
   ]
  },
  {
   "cell_type": "code",
   "execution_count": 60,
   "metadata": {
    "deletable": false,
    "nbgrader": {
     "checksum": "f39398e69574a35f803e0e02cb315d1a",
     "grade": false,
     "grade_id": "cell-67380fa0fe8c0b2b",
     "locked": false,
     "schema_version": 1,
     "solution": true
    }
   },
   "outputs": [],
   "source": [
    "# Your code here\n",
    "def weighted_avg(grades, weights):\n",
    "    total_grade  = 0\n",
    "    total_weight = 0\n",
    "    try:    \n",
    "        if len(grades) != len(weights):\n",
    "            raise Exception(\"The number of weights and grades are not equal.\")\n",
    "        \n",
    "        for k in range(0,len(grades)):\n",
    "            if weights[k] < 0 or weights[k] >100:\n",
    "                raise Exception(\"A weight is less than 0 or greater than 100.\")\n",
    "                \n",
    "            if grades[k] < 0:\n",
    "                raise Exception(\"A grade is below 0.\")\n",
    "                \n",
    "            total_weight += weights[k]\n",
    "            total_grade += grades[k]*weights[k]\n",
    "        \n",
    "        if total_weight != 100:\n",
    "            raise Exception(\"Weights do not add up to 100.\")\n",
    "        \n",
    "        return round(total_grade / 100,1)\n",
    "    \n",
    "    except Exception as e:\n",
    "        return \"An error has occurred: \" + str(e)\n",
    "    \n",
    "\n",
    "grades1 = [88,99,100,70]\n",
    "weights1 = [30, 30, 30, 5]\n",
    "\n",
    "grades2 = [78, 75, 80, 99]\n",
    "weights2 = [110, 10, -20, 0]\n",
    "\n",
    "grades3 = [84, 80, 67, 97]\n",
    "weights3 = [50, 25, 25]\n",
    "\n",
    "grades4 = [100, 80, 90, 75]\n",
    "weights4 = [20, 25, 25, 30] "
   ]
  },
  {
   "cell_type": "code",
   "execution_count": 61,
   "metadata": {},
   "outputs": [
    {
     "name": "stdout",
     "output_type": "stream",
     "text": [
      "True\n"
     ]
    }
   ],
   "source": [
    "# You can use the sample output in this cell to sanity check your work.\n",
    "\n",
    "print(weighted_avg(grades4, weights4) == 85.0)"
   ]
  },
  {
   "cell_type": "code",
   "execution_count": 62,
   "metadata": {},
   "outputs": [
    {
     "name": "stdout",
     "output_type": "stream",
     "text": [
      "An error has occurred: Weights do not add up to 100.\n"
     ]
    }
   ],
   "source": [
    "# You can use the sample output in this cell to sanity check your work. \n",
    "# Does it throw an error? Is the error message useful?\n",
    "\n",
    "print(weighted_avg(grades1, weights1))"
   ]
  },
  {
   "cell_type": "code",
   "execution_count": 63,
   "metadata": {},
   "outputs": [
    {
     "name": "stdout",
     "output_type": "stream",
     "text": [
      "An error has occurred: A weight is less than 0 or greater than 100.\n"
     ]
    }
   ],
   "source": [
    "# You can use the sample output in this cell to sanity check your work. \n",
    "# Does it throw an error? Is the error message useful?\n",
    "\n",
    "print(weighted_avg(grades2, weights2))"
   ]
  },
  {
   "cell_type": "code",
   "execution_count": 64,
   "metadata": {},
   "outputs": [
    {
     "name": "stdout",
     "output_type": "stream",
     "text": [
      "An error has occurred: The number of weights and grades are not equal.\n"
     ]
    }
   ],
   "source": [
    "# You can use the sample output in this cell to sanity check your work. \n",
    "# Does it throw an error? Is the error message useful?\n",
    "\n",
    "print(weighted_avg(grades3, weights3))"
   ]
  },
  {
   "cell_type": "code",
   "execution_count": null,
   "metadata": {
    "collapsed": true,
    "deletable": false,
    "editable": false,
    "nbgrader": {
     "checksum": "b4e79dd16ec390a3734708a795ac92be",
     "grade": true,
     "grade_id": "cell-429e12fb80ce822a",
     "locked": true,
     "points": 5,
     "schema_version": 1,
     "solution": false
    }
   },
   "outputs": [],
   "source": [
    "# Autograde cell - do not erase/delete\n",
    "# Here is an example of how we autograde.\n",
    "\n",
    "grades4 = [100, 80, 90, 75]\n",
    "weights4 = [20, 25, 25, 30]\n",
    "\n",
    "\n",
    "print(weighted_avg(grades4, weights4))\n",
    "assert_equal(weighted_avg(grades4, weights4), 85.0)\n"
   ]
  },
  {
   "cell_type": "code",
   "execution_count": null,
   "metadata": {
    "collapsed": true,
    "deletable": false,
    "editable": false,
    "nbgrader": {
     "checksum": "fce559bd17ecd4fde6175923eec4b38e",
     "grade": true,
     "grade_id": "cell-95422c0a969fe204",
     "locked": true,
     "points": 2,
     "schema_version": 1,
     "solution": false
    }
   },
   "outputs": [],
   "source": [
    "# Hidden autograde cell - do not erase/delete\n",
    "# Check your code for different grade and weight input variations as well! "
   ]
  },
  {
   "cell_type": "code",
   "execution_count": null,
   "metadata": {
    "collapsed": true,
    "deletable": false,
    "editable": false,
    "nbgrader": {
     "checksum": "38843676f798b5fc13ba5dec76c7fca7",
     "grade": true,
     "grade_id": "cell-7dc17577706d51f5",
     "locked": true,
     "points": 2,
     "schema_version": 1,
     "solution": false
    }
   },
   "outputs": [],
   "source": [
    "# Hidden autograde cell - do not erase/delete"
   ]
  },
  {
   "cell_type": "code",
   "execution_count": null,
   "metadata": {
    "collapsed": true,
    "deletable": false,
    "editable": false,
    "nbgrader": {
     "checksum": "10e0ecda55bef0681c3086173438d06a",
     "grade": true,
     "grade_id": "cell-6f64ab4288079047",
     "locked": true,
     "points": 1,
     "schema_version": 1,
     "solution": false
    }
   },
   "outputs": [],
   "source": [
    "# Hidden autograde cell - do not erase/delete"
   ]
  },
  {
   "cell_type": "code",
   "execution_count": null,
   "metadata": {
    "collapsed": true,
    "deletable": false,
    "editable": false,
    "nbgrader": {
     "checksum": "a2b8239be1a02468274d55d3fc881e77",
     "grade": true,
     "grade_id": "cell-4a23255307a51061",
     "locked": true,
     "points": 1,
     "schema_version": 1,
     "solution": false
    }
   },
   "outputs": [],
   "source": [
    "# Hidden autograde cell - do not erase/delete"
   ]
  },
  {
   "cell_type": "code",
   "execution_count": null,
   "metadata": {
    "collapsed": true,
    "deletable": false,
    "editable": false,
    "nbgrader": {
     "checksum": "5e507e662728a0e7f26f64ab11a6c35b",
     "grade": true,
     "grade_id": "cell-70fe59b4d7ff1dcd",
     "locked": true,
     "points": 2,
     "schema_version": 1,
     "solution": false
    }
   },
   "outputs": [],
   "source": [
    "# Hidden autograde cell - do not erase/delete"
   ]
  },
  {
   "cell_type": "markdown",
   "metadata": {
    "deletable": false,
    "editable": false,
    "nbgrader": {
     "checksum": "6f49f6d626a8ae3490a60cd776569bb4",
     "grade": false,
     "grade_id": "cell-c81ec0d9746e1153",
     "locked": true,
     "schema_version": 1,
     "solution": false
    }
   },
   "source": [
    "## If you have feedback for this homework, please submit it using the link below:\n",
    "\n",
    "http://goo.gl/forms/74yCiQTf6k"
   ]
  }
 ],
 "metadata": {
  "anaconda-cloud": {},
  "kernelspec": {
   "display_name": "Python 3",
   "language": "python",
   "name": "python3"
  },
  "language_info": {
   "codemirror_mode": {
    "name": "ipython",
    "version": 3
   },
   "file_extension": ".py",
   "mimetype": "text/x-python",
   "name": "python",
   "nbconvert_exporter": "python",
   "pygments_lexer": "ipython3",
   "version": "3.6.1"
  }
 },
 "nbformat": 4,
 "nbformat_minor": 1
}
