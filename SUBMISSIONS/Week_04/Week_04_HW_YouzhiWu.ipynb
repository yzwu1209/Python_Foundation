{
 "cells": [
  {
   "cell_type": "markdown",
   "metadata": {},
   "source": [
    "## Week 4 Assignment - W200 Python Fundamentals for Data Science, UC Berkeley MIDS"
   ]
  },
  {
   "cell_type": "markdown",
   "metadata": {},
   "source": [
    "Write code in this jupyter Notebook to solve the following problems. Please upload this **Notebook** with your solutions to your GitHub repository in your SUBMISSIONS/week_04 folder by 11:59PM PST the night before class."
   ]
  },
  {
   "cell_type": "markdown",
   "metadata": {},
   "source": [
    "## Objectives:\n",
    "\n",
    "- More practice with for & while loops, if statements and gathering user inputs\n",
    "- Demonstrate use of Python list comprehensions.\n",
    "- Understand the pseudo-coding and algorithm complexities"
   ]
  },
  {
   "cell_type": "markdown",
   "metadata": {},
   "source": [
    "## General Guidelines:\n",
    "\n",
    "- In each code block, do NOT delete the # Q4-x-x comment at the top of a cell (it is needed for the auto-grading!)\n",
    "- Limited user input validation and error checking is encouraged on this assignment. Each question below will indicate the type of input that you can expect. (for example, if the question states the input will be an integer, you can expect the user to input an integer and do not need to check to ensure it is an integer versus a float or a string)\n",
    "- Adding comments in your code is strongly suggested but won't be graded.\n",
    "- The examples given are samples of how we will test/grade your code. Please ensure your code outputs the same information."
   ]
  },
  {
   "cell_type": "markdown",
   "metadata": {},
   "source": [
    "## 4-1. Loops\n",
    "### 4-1-1. For Loops\n",
    "\n",
    "Write a script that prompts the user for two words (two, one-word strings).  Print all the **unique** letters that are common to both words, in alphabetical order, using **for** loops in your solution.\n",
    "\n",
    "For example:\n",
    "```\n",
    "Enter one word: Home\n",
    "Enter another word: meter\n",
    "\n",
    "Letters in common: em\n",
    "```"
   ]
  },
  {
   "cell_type": "code",
   "execution_count": 9,
   "metadata": {},
   "outputs": [
    {
     "name": "stdout",
     "output_type": "stream",
     "text": [
      "Enter one word: baseketball\n",
      "Enter another word: basement\n",
      "\n",
      "Letters in common: abest\n"
     ]
    }
   ],
   "source": [
    "# Q4-1-1 Grading Tag:\n",
    "word1 = input(\"Enter one word: \").lower()\n",
    "word2 = input(\"Enter another word: \").lower()\n",
    "letterLs = []\n",
    "\n",
    "for letter in word1:\n",
    "    if letter not in letterLs and letter in word2: #to ensure that all letters are unique as well as common to both words\n",
    "        letterLs.append(letter)\n",
    "\n",
    "letterLs.sort()\n",
    "print(\"\\nLetters in common:\",\"\".join(letterLs))\n",
    "        "
   ]
  },
  {
   "cell_type": "markdown",
   "metadata": {},
   "source": [
    "### 4-1-2. A Game of Chess\n",
    "You place a pawn at the top left corner of an n-by-n chess board, labeled (0,0).  For each move, you have a choice: move the pawn down a single space, or move the pawn down one space and right one space.  That is, if the pawn is at position (i,j), you can move the pawn to (i+1,j) or (i+1, j+1).\n",
    "\n",
    "Ask the user for the size of a chessboard, n (**integer**).  Find the number of different paths **starting from (0,0)** that the pawn could take to reach each position on the chess board.  For example, there are two different paths the pawn can take to reach (2,1). Look at the diagrams below to convince yourself of this. You can see the four paths that you can take by move 2.\n",
    "\n",
    "   Start| Move 1   |Move 2\n",
    "\n",
    "  (0,0)  -> (1,0)   ->(2,1)\n",
    "  \n",
    "  (0,0)  -> (1,0)   ->(2,0)\n",
    "  \n",
    "  (0,0)  -> (1,1)   ->(2,1)\n",
    "  \n",
    "  (0,0)  -> (1,1)   ->(2,2)\n",
    "\n",
    "Print the board with the number of ways to reach each square labeled as shown below.\n",
    "\n",
    "For example:\n",
    "```\n",
    "Enter a board size: 4\n",
    "\n",
    "1 0 0 0\n",
    "1 1 0 0\n",
    "1 2 1 0\n",
    "1 3 3 1\n",
    "```\n",
    "\n",
    "#### Please create pseudocode for this problem in the first cell then implement your solution in the second cell."
   ]
  },
  {
   "cell_type": "code",
   "execution_count": null,
   "metadata": {
    "collapsed": true
   },
   "outputs": [],
   "source": [
    "# Pseudocode Here\n",
    "# By analyzing the possible numbers of paths to reach (i,j), it can be concluded that \n",
    "# (1) all diagonal positions will have 1 path;\n",
    "# (2) the first position of each row will all have 1 path;\n",
    "# (3) the numbers of paths for (i,j) position = numbers of paths for (i-1,j-1) + numbers of paths for (i-1,j)\n",
    "# (4) all positions on the upper right half of the chess board cannot be reached, and will be labeled as 0\n",
    "\n",
    "# get input board size as n\n",
    "# if n = 1, the chessboard only have one element, which is 1\n",
    "# if n > 1: \n",
    "#     construct a list of list to represent the chess board: chess = [[]]\n",
    "#     for i in range(0,n):\n",
    "#         (i,0) will be labeled as 1; (i,i) will be labeled as 1; (i,i+1) to (i,n-1) will be labeled as 0\n",
    "#         for j in range(1,i):\n",
    "#             (i,j) = (i-1,j-1) + (i-1,j)\n",
    "#         append these labels to list chess[i]\n",
    "#         print chess[i]\n",
    "#         append an empty list as a new element of chess so that the next rows of value could be added to chess\n",
    "# if n < 1: throw an validation error and ask for a new input\n"
   ]
  },
  {
   "cell_type": "code",
   "execution_count": 14,
   "metadata": {},
   "outputs": [
    {
     "name": "stdout",
     "output_type": "stream",
     "text": [
      "Enter a board size: 7\n",
      "\n",
      "1 0 0 0 0 0 0\n",
      "1 1 0 0 0 0 0\n",
      "1 2 1 0 0 0 0\n",
      "1 3 3 1 0 0 0\n",
      "1 4 6 4 1 0 0\n",
      "1 5 10 10 5 1 0\n",
      "1 6 15 20 15 6 1\n"
     ]
    }
   ],
   "source": [
    "# Q4-1-2 Grading Tag:\n",
    "\n",
    "# Implement Here\n",
    "n = int(input(\"Enter a board size: \"))\n",
    "chess = [[]]\n",
    "\n",
    "if n == 1:\n",
    "    print(\"\") # to match the example that there is a line between input and output\n",
    "    print(1)\n",
    "elif n > 1:\n",
    "    print(\"\") # to match the example that there is a line between input and output\n",
    "    for i in range(0,n):\n",
    "        chess[i].append(1)\n",
    "        for j in range(1,i):\n",
    "            chess[i].append(chess[i-1][j-1] + chess[i-1][j])\n",
    "        if i != 0:\n",
    "            chess[i].append(1)\n",
    "        for k in range(i+1,n):\n",
    "            chess[i].append(0)\n",
    "        print(*chess[i])\n",
    "        chess.append([])\n",
    "else:\n",
    "    print(\"Invalid board size. Board size should be integer that is no less than 1. Please try again.\")\n",
    "    "
   ]
  },
  {
   "cell_type": "markdown",
   "metadata": {},
   "source": [
    "## 4-2. Algorithms\n",
    "\n",
    "### 4-2-1. Fixing the Bisection Search\n",
    "\n",
    "The bisection code below finds the square root of a number. Try inputting 16 into the code to confirm it works. Next, try inputting 0.25 into the bisection search algorithm below and confirm that it doesn't work. Then correct the algorithm so that it works for all positive numbers, including decimals such as 0.25."
   ]
  },
  {
   "cell_type": "code",
   "execution_count": 38,
   "metadata": {},
   "outputs": [
    {
     "name": "stdout",
     "output_type": "stream",
     "text": [
      "enter a number:0.25\n",
      "low = 0.25 high = 1\n",
      "low = 0.25 high = 0.625\n",
      "low = 0.4375 high = 0.625\n",
      "low = 0.4375 high = 0.53125\n",
      "low = 0.484375 high = 0.53125\n",
      "low = 0.484375 high = 0.5078125\n",
      "low = 0.49609375 high = 0.5078125\n",
      "low = 0.49609375 high = 0.501953125\n",
      "low = 0.4990234375 high = 0.501953125\n",
      "low = 0.4990234375 high = 0.50048828125\n",
      "low = 0.499755859375 high = 0.50048828125\n",
      "low = 0.499755859375 high = 0.5001220703125\n",
      "low = 0.49993896484375 high = 0.5001220703125\n",
      "low = 0.49993896484375 high = 0.500030517578125\n",
      "low = 0.4999847412109375 high = 0.500030517578125\n",
      "low = 0.4999847412109375 high = 0.5000076293945312\n",
      "number of guesses = 16\n",
      "0.5000019073486328 is close to square root of 0.25\n"
     ]
    }
   ],
   "source": [
    "# Q4-2-1 Grading Tag:\n",
    "## Please fix the code in this cell (that is don't make a new cell)\n",
    "## Bisection Search to Find a Square Root\n",
    "\n",
    "x = float(input(\"enter a number:\"))\n",
    "epsilon = 0.00001\n",
    "num_guesses = 0\n",
    "if x >= 1: \n",
    "    low = 0.0\n",
    "    high = x\n",
    "    ans = (high + low)/2.0\n",
    "    while high - low >= 2 * epsilon:\n",
    "        print(\"low =\",low,\"high =\", high)\n",
    "        num_guesses += 1\n",
    "        if ans ** 2 < x:\n",
    "            low = ans\n",
    "        else:\n",
    "            high = ans\n",
    "        ans = (high + low)/2.0\n",
    "    print('number of guesses =', num_guesses)\n",
    "    print(ans, 'is close to square root of', x)\n",
    "\n",
    "elif x < 1 and x > 0:\n",
    "    low = x\n",
    "    high = 1\n",
    "    ans = (high + low)/2.0\n",
    "    while high - low >= 2 * epsilon:\n",
    "        print(\"low =\",low, \"high =\", high)\n",
    "        num_guesses +=1\n",
    "        if ans ** 2 > x:\n",
    "            high = ans\n",
    "        else:\n",
    "            low = ans\n",
    "        ans = (high + low)/2.0\n",
    "    print('number of guesses =', num_guesses)\n",
    "    print(ans, 'is close to square root of', x)\n",
    "\n",
    "else:\n",
    "    print(\"Invalid input. The number must be positive. Please try again.\")\n",
    "    \n"
   ]
  },
  {
   "cell_type": "markdown",
   "metadata": {},
   "source": [
    "### 4-2-2. Bisection Search Runtime\n",
    "\n",
    "The bisection search algorithm will find the square root of x to a precision of epsilon.  Derive a formula for how many loop iterations $n$ it takes for the algorithm to complete. \n",
    "Hints: \n",
    "- First suppose that x has the special value $epsilon * 2^n$, where n is an integer number of loops. Write your answer below.\n",
    "- Your answer should include those three variables $x, epsilon, n$ with the format $n = (answer)$"
   ]
  },
  {
   "cell_type": "markdown",
   "metadata": {},
   "source": [
    "**[Type your answer here]**\n",
    "$$n = log_2 \\dfrac{\\sqrt{x}}{epsilon}$$"
   ]
  },
  {
   "cell_type": "markdown",
   "metadata": {},
   "source": [
    "### 4-2-3. Explaining the Bisection Search\n",
    "\n",
    "Please answer the following questions as a short answer discussion not more than 1-2 paragraphs.  These methods are described in the async video lectures 4.5, 4.6 & 4.7.\n",
    "\n",
    "In your own words, why does the bisection search algorithm for finding square roots work faster on large numbers than the brute force algorithm? Write your answer below."
   ]
  },
  {
   "cell_type": "markdown",
   "metadata": {},
   "source": [
    "**[Type your answer here]** \n",
    "\n",
    "For the following reasons:\n",
    "1. Unlike brute force algorithm which goes through the number one by one, the bisection search eliminates unnecessary loops by reducing the range of each iteration;\n",
    "2. For each iteration, the bisection search will cut the range by half by comparing the answer with the high & low. "
   ]
  },
  {
   "cell_type": "markdown",
   "metadata": {},
   "source": [
    "In your own words, why does Newton's method for finding square roots outperform both the brute force and the bisection search algorithms? Write your answer below."
   ]
  },
  {
   "cell_type": "markdown",
   "metadata": {},
   "source": [
    "**[Type your answer here]**\n",
    "\n",
    "1. Newton's algorithm uses the fact that $x^2$ is a smooth function of $x$. It computes the derivatives of f(ans) to draw a tangent line to intersect with x axis. This allows it to converges to x much faster than bisection search, let alone brute force. \n",
    "2. Bisection search assigns (high + low) / 2 to the guess. It does not converge as fast as Newton's method. "
   ]
  },
  {
   "cell_type": "markdown",
   "metadata": {},
   "source": [
    "###### 4-2-4. Interpreting Instructions for an Algorithm\n",
    "\n",
    "Implement this digit-by-digit algorithm to find the square root of x to a precision of epsilon.\n",
    "  1. Begin with a step size of 1 and guess of zero.\n",
    "  2. Increase the guess by the step size as long as doing so would not cause the guess^2 to exceed x. Repeat this step (step 2) until the next repetition will cause guess^2 to exceed x.\n",
    "  3. If the step size is greater than epsilon, then divide the step size by 10 and go back to step 2.\n",
    "\n",
    "Notice that once a digit has been found, it is not changed again.  Try using your code to find the square root of 10 to an epsilon of 10 decimal places.  This algorithm should not take over 30 seconds to run (if it does you have coded something incorrectly!)\n",
    "\n",
    "Hint: It might be helpful to write out by hand an easier example like '4' to understand how the algorithm works.\n",
    "\n",
    "Example output:\n",
    "\n",
    "```\n",
    "Enter a number to find the square root: 10\n",
    "The square root of 10 is 3.1622776601.\n",
    "```\n"
   ]
  },
  {
   "cell_type": "code",
   "execution_count": 16,
   "metadata": {},
   "outputs": [
    {
     "name": "stdout",
     "output_type": "stream",
     "text": [
      "Enter a number to find the square root: 1.44\n",
      "The square root of 1.44 is 1.2000000000.\n"
     ]
    }
   ],
   "source": [
    "# Q4-2-4 Grading Tag:\n",
    "xstring = input(\"Enter a number to find the square root: \") \n",
    "x = float(xstring)\n",
    "step = 1\n",
    "guess = 0\n",
    "epsilon = 0.0000000001\n",
    "\n",
    "while (guess+step) ** 2 < x:\n",
    "    guess += step\n",
    "\n",
    "while step > epsilon:\n",
    "    step = round(step/10,10)\n",
    "    while (guess+step) ** 2 < x:\n",
    "        guess += step\n",
    "\n",
    "print(\"The square root of \" + xstring + \" is\", \"{:.10f}\".format(guess)+ \".\")"
   ]
  },
  {
   "cell_type": "markdown",
   "metadata": {},
   "source": [
    "## 4-3. List Comprehensions\n",
    "\n",
    "Each list comprehension below can be done in just one line/statement and needs to output one list. \n",
    "\n",
    "**4-3-1. Use a single comprehension** to make a list of the square numbers below 100 that give a remainder of 1 when divided by 3.\n",
    "\n",
    "Example output (these are the first two elements of the list - obviously not the full list!):\n",
    "```\n",
    "[1, 4, ... ]\n",
    "```"
   ]
  },
  {
   "cell_type": "code",
   "execution_count": 18,
   "metadata": {},
   "outputs": [
    {
     "name": "stdout",
     "output_type": "stream",
     "text": [
      "[1, 4, 16, 25, 49, 64]\n"
     ]
    }
   ],
   "source": [
    "# Q4-3-1 Grading Tag:\n",
    "alist = [x**2 for x in range(0,100) if (x**2)%3 == 1 and x**2 < 100]\n",
    "print(alist)"
   ]
  },
  {
   "cell_type": "markdown",
   "metadata": {},
   "source": [
    "**4-3-2.** A string is defined in the code snippet below. **Use a single comprehension** to make a list of the first letter of each word in the snippet.\n",
    "\n",
    "Example output (these are the first two elements of the list - obviously not the full list!):\n",
    "```\n",
    "['I', 'l', ... ]\n",
    "```"
   ]
  },
  {
   "cell_type": "code",
   "execution_count": 53,
   "metadata": {},
   "outputs": [
    {
     "name": "stdout",
     "output_type": "stream",
     "text": [
      "['I', 'l', 'm', 'l', 'a', 'q', 'm', 'a', 'a', 't', 'N', 'e', 'm', 'n', 't', 'm', 'n', 't', 's', 'n', 'm', 't', 'a', 'a', 't', 'b', 'F', 't', 't', 's', 'o', 'l', 'I', 'f']\n"
     ]
    }
   ],
   "source": [
    "# Q4-3-2 Grading Tag:\n",
    "text = \"I live my life a quarter mile at a time. \\\n",
    "Nothing else matters: not the mortgage, not the store, \\\n",
    "not my team and all their bullshit. \\\n",
    "For those ten seconds or less, I’m free.\"\n",
    "# the slashes just mean that the string continues onto the next line\n",
    "# if you print the text, it will make no difference\n",
    "\n",
    "firstL = [word[0] for word in text.split()]\n",
    "print(firstL)"
   ]
  },
  {
   "cell_type": "markdown",
   "metadata": {},
   "source": [
    "**4-3-3.** A Pythagorean triple is a set (x,y,z), with positive integers x ≤ y ≤ z such that $x^2+y^2=z^2$. **Use a single comprehension** to make a list of all Pythagorean triples such that all 3 numbers are below 25.\n",
    "\n",
    "Example output (these are the first two elements of the list - obviously not the full list!):\n",
    "```\n",
    "[(3, 4, 5), (5, 12, 13), ... ]\n",
    "```"
   ]
  },
  {
   "cell_type": "code",
   "execution_count": 55,
   "metadata": {},
   "outputs": [
    {
     "name": "stdout",
     "output_type": "stream",
     "text": [
      "[(3, 4, 5), (5, 12, 13), (6, 8, 10), (8, 15, 17), (9, 12, 15), (12, 16, 20)]\n"
     ]
    }
   ],
   "source": [
    "# Q4-3-3 Grading Tag:\n",
    "ptriple = [(x,y,z) for x in range(1,25) for y in range(x,25) for z in range(y,25) if x**2 + y**2 == z**2]\n",
    "print(ptriple)"
   ]
  },
  {
   "cell_type": "markdown",
   "metadata": {},
   "source": [
    "**4-3-4.** Given a word, provided below, **use a single comprehension** to make a list of all strings that can be formed by deleting exactly one character from the word.\n",
    "\n",
    "Required output:\n",
    "```\n",
    "['elcomed', 'Wlcomed', 'Wecomed', 'Welomed', 'Welcmed', 'Welcoed', 'Welcomd', 'Welcome']\n",
    "```"
   ]
  },
  {
   "cell_type": "code",
   "execution_count": 19,
   "metadata": {},
   "outputs": [
    {
     "name": "stdout",
     "output_type": "stream",
     "text": [
      "['elcomed', 'Wlcomed', 'Wecomed', 'Welomed', 'Welcmed', 'Welcoed', 'Welcomd', 'Welcome']\n"
     ]
    }
   ],
   "source": [
    "# Q4-3-4 Grading Tag:\n",
    "word = \"Welcomed\"\n",
    "wordLs = [word[0:i]+\"\"+word[i+1:len(word)] for i in range(0,len(word))] \n",
    "print(wordLs)"
   ]
  },
  {
   "cell_type": "markdown",
   "metadata": {},
   "source": [
    "**4-3-5.** Given a word, provided below, **use a single comprehension** to make a list of all strings that can be formed by replacing exactly one vowel in the word with a different vowel (a vowel is a,e,i,o,u).\n",
    "\n",
    "Required output:\n",
    "```\n",
    "['Baoted', 'Beoted', 'Bioted', 'Buoted', 'Boated', 'Boeted', 'Boited', 'Bouted', 'Bootad', 'Bootid', 'Bootod', 'Bootud']\n",
    "```"
   ]
  },
  {
   "cell_type": "code",
   "execution_count": 20,
   "metadata": {},
   "outputs": [
    {
     "name": "stdout",
     "output_type": "stream",
     "text": [
      "['Baoted', 'Beoted', 'Bioted', 'Buoted', 'Boated', 'Boeted', 'Boited', 'Bouted', 'Bootad', 'Bootid', 'Bootod', 'Bootud']\n"
     ]
    }
   ],
   "source": [
    "# Q4-3-5 Grading Tag:\n",
    "word = \"Booted\"\n",
    "new_word = [word[0:i]+j+word[i+1:len(word)] for i in range(0,len(word)) if word[i].lower() in \"aeiou\" for j in \"aeiou\" if j != word[i]]\n",
    "print(new_word)"
   ]
  },
  {
   "cell_type": "markdown",
   "metadata": {},
   "source": [
    "## If you have feedback for this homework, please submit it using the link below:\n",
    "\n",
    "http://goo.gl/forms/74yCiQTf6k"
   ]
  }
 ],
 "metadata": {
  "kernelspec": {
   "display_name": "Python 3",
   "language": "python",
   "name": "python3"
  },
  "language_info": {
   "codemirror_mode": {
    "name": "ipython",
    "version": 3
   },
   "file_extension": ".py",
   "mimetype": "text/x-python",
   "name": "python",
   "nbconvert_exporter": "python",
   "pygments_lexer": "ipython3",
   "version": "3.6.1"
  }
 },
 "nbformat": 4,
 "nbformat_minor": 1
}
