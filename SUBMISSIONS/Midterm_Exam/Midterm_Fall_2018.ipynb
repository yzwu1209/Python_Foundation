{
 "cells": [
  {
   "cell_type": "markdown",
   "metadata": {},
   "source": [
    "## MIDTERM - W200 Python for Data Science, UC Berkeley MIDS"
   ]
  },
  {
   "cell_type": "markdown",
   "metadata": {},
   "source": [
    "## Instructions\n",
    "The midterm exam is designed to evaluate your grasp of Python theory as well as Python coding.\n",
    "\n",
    "- This is an individual open book exam.\n",
    "- You have 24 hours to complete the exam and upload it back to ISVC, starting from the point when you first accessed it on ISVC.\n",
    "\n",
    "For the coding questions, follow best practices.  Partial credit may be given for submissions that are clearly commented and well organized."
   ]
  },
  {
   "cell_type": "markdown",
   "metadata": {},
   "source": [
    "# 1. Short Questions (15 pts)\n",
    "\n",
    "1.1. Python's dynamic typing allows one variable to refer to multiple types of objects within the same program execution.  This can speed program development.  Name one disadvantage of dynamic typing."
   ]
  },
  {
   "cell_type": "markdown",
   "metadata": {
    "collapsed": true
   },
   "source": [
    "**Your answer here** - Dynamic typing may be easier to run into runtime errors than a statically typed language in which case the type error would be catched during development. "
   ]
  },
  {
   "cell_type": "markdown",
   "metadata": {},
   "source": [
    "1.2. Compiled languages typically offer faster performance than interpreted languages. List two reasons why would you choose an interpreted language like Python for the purpose of analyzing a data set instead of a compiled language."
   ]
  },
  {
   "cell_type": "markdown",
   "metadata": {
    "collapsed": true
   },
   "source": [
    "**Your answer here** - (1) an interpreted language is more human readable than a compiled language which makes the development and communication work much easier; (2) an interpreted language is more machine independent. With appropriate interpreter installed, a program written in interpreted language can be run in many different machines; whereas a program written in compiled language is not as easy and convenient to ported to a different platform than the interpreted language. "
   ]
  },
  {
   "cell_type": "markdown",
   "metadata": {},
   "source": [
    "1.3. We have gone over FOR and WHILE loops.  Discuss one reason to use a for loop over a while loop and one reason to use a while loop over a for loop. Please elaborate beyond a single word."
   ]
  },
  {
   "cell_type": "markdown",
   "metadata": {
    "collapsed": true
   },
   "source": [
    "**Your answer here** - (1) FOR loop is usually used when the range of iterations is defined/known, meaning the minimum bound and the maximum bound are known; i.e. a range, a list / tuple / dictionary, etc. (2) WHILE loop is usually used when the final (or, exit) condition is clear and can be defined, whereas the lower/upper bound of the iteration range is not as clear. "
   ]
  },
  {
   "cell_type": "markdown",
   "metadata": {},
   "source": [
    "# 2. Programming Styles (10 pts)\n",
    "\n",
    "We have taught you a number of ways to program in Python. These have included using scripts versus functions and using Jupyter notebooks versus calling .py files from the command line. Describe a scenario in which you would use .py files from the command line over a Jupyter notebook and the opposite. Describe a scenario in which you would use a script versus a function and the opposite.  There are four cases and each answer should be about 1-2 sentences."
   ]
  },
  {
   "cell_type": "markdown",
   "metadata": {},
   "source": [
    "2.1. I would use a jupyter notebook over .py files:"
   ]
  },
  {
   "cell_type": "markdown",
   "metadata": {},
   "source": [
    "**Your answer here** - I would use jupyter notebook during development, as it allows me to run the program as I develop even though the program is not complete. "
   ]
  },
  {
   "cell_type": "markdown",
   "metadata": {},
   "source": [
    "2.2. I would use .py files over a jupyter notebook:"
   ]
  },
  {
   "cell_type": "markdown",
   "metadata": {},
   "source": [
    "**Your answer here** - I would use .py file when I complete my program and would like to share the program with others (other teammates or other programs) and execute it via Command Line. "
   ]
  },
  {
   "cell_type": "markdown",
   "metadata": {},
   "source": [
    "2.3. I would use a script over a function:"
   ]
  },
  {
   "cell_type": "markdown",
   "metadata": {},
   "source": [
    "**Your answer here** - I would save my function in a separate script intead of in the main module when I want the script to be sharable, importable or executable by other programs. Usually the script is a complete program, which gets input, executes, and then return or print out some output. "
   ]
  },
  {
   "cell_type": "markdown",
   "metadata": {},
   "source": [
    "2.4. I would use a function over a script:"
   ]
  },
  {
   "cell_type": "markdown",
   "metadata": {},
   "source": [
    "**Your answer here** - I would use a function for several reasons: (1) the function is not generic enough to be used by other programs; (2) or, the function serves as a part of the main program, it is not a complete program like a script. "
   ]
  },
  {
   "cell_type": "markdown",
   "metadata": {},
   "source": [
    "# 3. Dictionaries vs Lists (10 pts)\n",
    "\n",
    "Suppose we have the following problem.  We have a dictionary of names and ages and we would like to find the oldest person.\n",
    "\n",
    "```\n",
    "ages_dict = {'Bill':34, 'Fred':45, 'Alice':14, 'Betty':17}\n",
    "```"
   ]
  },
  {
   "cell_type": "markdown",
   "metadata": {},
   "source": [
    "### Dictionary approach\n",
    "Here is a loop that shows how to iterate through the dictionary:"
   ]
  },
  {
   "cell_type": "code",
   "execution_count": 3,
   "metadata": {},
   "outputs": [
    {
     "name": "stdout",
     "output_type": "stream",
     "text": [
      "Fred is the oldest.\n"
     ]
    }
   ],
   "source": [
    "ages_dict = {'Bill':34, 'Fred':45, 'Alice':14, 'Betty':17}\n",
    "\n",
    "max_age = 0\n",
    "max_name = ''\n",
    "for name,age in ages_dict.items():\n",
    "    if age > max_age:\n",
    "        max_age = age\n",
    "        max_name = name\n",
    "        \n",
    "print(max_name, \"is the oldest.\")    "
   ]
  },
  {
   "cell_type": "markdown",
   "metadata": {},
   "source": [
    "### List approach \n",
    "\n",
    "Your friend comes to you and thinks that this dictionary is difficult to deal with and instead offers a different plan using two lists.\n",
    "\n",
    "```\n",
    "names = ['Bill', 'Fred', 'Alice', 'Betty']\n",
    "ages = [34, 45, 14, 17]\n",
    "```"
   ]
  },
  {
   "cell_type": "markdown",
   "metadata": {},
   "source": [
    "Instead of using a loop, your friend writes this code to find the oldest person."
   ]
  },
  {
   "cell_type": "code",
   "execution_count": 4,
   "metadata": {},
   "outputs": [
    {
     "name": "stdout",
     "output_type": "stream",
     "text": [
      "Fred is the oldest.\n"
     ]
    }
   ],
   "source": [
    "names = ['Bill', 'Fred', 'Alice', 'Betty']\n",
    "ages = [34, 45, 14, 17]\n",
    "\n",
    "max_age = max(ages)\n",
    "index_max = ages.index(max_age)\n",
    "max_name = names[index_max]\n",
    "\n",
    "print(max_name, 'is the oldest.')"
   ]
  },
  {
   "cell_type": "markdown",
   "metadata": {},
   "source": [
    "### Discussion\n",
    "Discuss the advantages and disadvantages of each of the approaches.  \n",
    "\n",
    "3.1. Is one more efficient (i.e. faster in Big O notation) than the other?"
   ]
  },
  {
   "cell_type": "markdown",
   "metadata": {},
   "source": [
    "**Your answer here** - The list approach is more efficient than the dictionary approach. "
   ]
  },
  {
   "cell_type": "markdown",
   "metadata": {},
   "source": [
    "3.2. Why would you prefer the dictionary?"
   ]
  },
  {
   "cell_type": "markdown",
   "metadata": {},
   "source": [
    "**Your answer here** - Dictionary has 1-to-1 relation for each of its item. In case you delete one item from the dictionary, the code will still work. Whereas the list approach assumes that the two lists are equal and each item in one list has 1-to-1 relation with the item in the same index in the other list. In case you delete one item from just one list or you mess up the ordering of one list, the code may run into error. "
   ]
  },
  {
   "cell_type": "markdown",
   "metadata": {},
   "source": [
    "3.3. Why would you prefer the two lists?"
   ]
  },
  {
   "cell_type": "markdown",
   "metadata": {},
   "source": [
    "**Your answer here** - The two lists approach is more efficient than the dictionary approach. "
   ]
  },
  {
   "cell_type": "markdown",
   "metadata": {},
   "source": [
    "# 4. Mutability Surprises (15 pts)\n",
    "\n",
    "4.1. In the asynchronous sessions, we discussed mutability. Please describe, in your own words, why mutability is a useful feature in Python lists and dictionaries."
   ]
  },
  {
   "cell_type": "markdown",
   "metadata": {},
   "source": [
    "**Your answer here** - You can change a mutable object; whereas since you cannot change an immutable object, everytime you need to make change to an immutable object, a new object needs to be created. In this sense, for large and complext programming, mutability save memory and improves efficiency. "
   ]
  },
  {
   "cell_type": "markdown",
   "metadata": {},
   "source": [
    "Mutability can also lead to unexpected behavior - specifically when multiple variables point to the same object or when mutable objects are nested inside each other. \n",
    "\n",
    "4.2. Please write some code demonstrating a situation where mutability could lead to unexpected behavior. Specifically, show how updating just one object (list_a) can change the value when you print a second variable (list_b)."
   ]
  },
  {
   "cell_type": "code",
   "execution_count": 2,
   "metadata": {},
   "outputs": [
    {
     "name": "stdout",
     "output_type": "stream",
     "text": [
      "[1, 2, 5, 7, 'A']\n"
     ]
    }
   ],
   "source": [
    "# Your code here\n",
    "list_a = [1, 2, 5, 7]\n",
    "list_b = list_a\n",
    "list_a.append(\"A\")\n",
    "print(list_b)"
   ]
  },
  {
   "cell_type": "markdown",
   "metadata": {},
   "source": [
    "4.3. Show how \"copy\" or \"deepcopy\" could be used to prevent the unexpected problem you described, above."
   ]
  },
  {
   "cell_type": "code",
   "execution_count": 5,
   "metadata": {},
   "outputs": [
    {
     "name": "stdout",
     "output_type": "stream",
     "text": [
      "[1, 2, 5, 7]\n"
     ]
    }
   ],
   "source": [
    "# Your code here\n",
    "from copy import deepcopy\n",
    "list_a = [1, 2, 5, 7]\n",
    "list_b = deepcopy(list_a)\n",
    "list_a.append(\"A\")\n",
    "print(list_b)"
   ]
  },
  {
   "cell_type": "markdown",
   "metadata": {},
   "source": [
    "4.4. Now, show the same problem using two dictionaries. Again show how \"copy\" or \"deepcopy\" can fix the issue."
   ]
  },
  {
   "cell_type": "code",
   "execution_count": 8,
   "metadata": {},
   "outputs": [
    {
     "name": "stdout",
     "output_type": "stream",
     "text": [
      "{'Mary': 23, 'Bob': 16, 'Tom': 20, 'Linda': 35}\n",
      "{'Mary': 23, 'Bob': 16, 'Tom': 20}\n"
     ]
    }
   ],
   "source": [
    "# Your code here\n",
    "from copy import deepcopy\n",
    "dict_a = {\"Mary\": 23, \"Bob\": 16, \"Tom\": 20}\n",
    "dict_b = dict_a\n",
    "dict_c = deepcopy(dict_a)\n",
    "dict_a[\"Linda\"] = 35\n",
    "print(dict_b)\n",
    "print(dict_c)"
   ]
  },
  {
   "cell_type": "markdown",
   "metadata": {},
   "source": [
    "4.5. Can this unexpected behavior problem occur with tuples? Why, or why not?"
   ]
  },
  {
   "cell_type": "markdown",
   "metadata": {},
   "source": [
    "**Your answer here** - This issue will not occur with tuples, as tuples are immutable. "
   ]
  },
  {
   "cell_type": "markdown",
   "metadata": {},
   "source": [
    "# 5. Tweet Analysis (15 pts)\n",
    "\n",
    "A tweet is a string that is between 1 and 280 characters long (inclusive). A username is a string of letters and/or digits that is between 1 and 14 characters long (inclusive). A username is mentioned in a tweet by including @username in the tweet. A retweet is way to share another user's tweet, and can be identified by the string RT, followed by the original username who tweeted it.\n",
    "\n",
    "Your job is to fill in the function *count_retweets_by_username* so that it returns a frequency dictionary that indicates how many times each username was retweeted."
   ]
  },
  {
   "cell_type": "code",
   "execution_count": 20,
   "metadata": {
    "collapsed": true
   },
   "outputs": [],
   "source": [
    "tweets = [\"This is great! RT @fake_user: Can you believe this?\",\n",
    "         \"It's the refs! RT @dubsfan: Boo the refs and stuff wargarbal\",\n",
    "         \"That's right RT @ladodgers: The dodgers are destined to win the west!\",\n",
    "         \"RT @sportball: That sporting event was not cool\",\n",
    "         \"This is just a tweet about things @person, how could you\",\n",
    "         \"RT @ladodgers: The season is looking great!\",\n",
    "         \"RT @dubsfan: I can't believe it!\",\n",
    "         \"I can't believe it either! RT @dubsfan: I can't believe it\"]"
   ]
  },
  {
   "cell_type": "code",
   "execution_count": 28,
   "metadata": {
    "collapsed": true
   },
   "outputs": [],
   "source": [
    "def count_retweets_by_username(tweet_list):\n",
    "    \"\"\" (list of tweets) -> dict of {username: int}\n",
    "    Returns a dictionary in which each key is a username that was \n",
    "    retweeted in tweet_list and each value is the total number of times this \n",
    "    username was retweeted.\n",
    "    \"\"\"\n",
    "    \n",
    "    # write code here and update return statement with your dictionary\n",
    "    try: \n",
    "        if type(tweet_list) != list and type(tweet_list) != tuple:\n",
    "            raise Exception(\"Tweet list is provided in wrong format. Please provide tweet list in list or tuple.\")\n",
    "        elif len(tweet_list) == 0:\n",
    "            raise Exception(\"No tweet is provided. Cannot count retweets.\")\n",
    "            \n",
    "        else:\n",
    "            retweets_dict = {}\n",
    "            for tweet in tweet_list:\n",
    "                if len(tweet) < 1 or len(tweet) > 280:\n",
    "                    raise Exception(\"Tweet is too short or too long. It should be between 1 and 280 characters long (inclusive)\")\n",
    "                elif tweet.find(\"RT @\") != -1:\n",
    "                    start = tweet.find(\"RT @\")\n",
    "                    end = tweet.find(\":\", start) # Assumes that username does not include :, and RT @username always ends with :.\n",
    "                    username = tweet[start:end].replace(\"RT @\", \"\")\n",
    "                    if len(username) < 1 or len(username) > 14:\n",
    "                        raise Exception(\"Username is too short or too long. It should be between 1 and 14 characters long (inclusive)\")\n",
    "                    elif username in retweets_dict:\n",
    "                        retweets_dict[username] += 1\n",
    "                    else:\n",
    "                        retweets_dict[username] = 1\n",
    "                        \n",
    "            return retweets_dict\n",
    "        \n",
    "    except Exception as e:\n",
    "        return str(e)"
   ]
  },
  {
   "cell_type": "code",
   "execution_count": 31,
   "metadata": {},
   "outputs": [
    {
     "name": "stdout",
     "output_type": "stream",
     "text": [
      "{'fake_user': 1, 'dubsfan': 3, 'ladodgers': 2, 'sportball': 1}\n"
     ]
    }
   ],
   "source": [
    "# allow this code to work by implementing count_retweets_by_username function above\n",
    "print(count_retweets_by_username(tweets))"
   ]
  },
  {
   "cell_type": "markdown",
   "metadata": {},
   "source": [
    "# 6. Looking for Minerals (20 pts)\n",
    "\n",
    "A mining company conducts a survey of an n-by-n square grid of land.  Each row of land is numbered from 0 to n-1 where 0 is the top and n-1 is the bottom, and each column is also numbered from 0 to n-1 where 0 is the left and n-1 is the right.  The company wishes to record which squares of this grid contain mineral deposits.\n",
    "\n",
    "The company decides to use a list of tuples to store the location of each deposit.  The first item in each tuple is the row of the deposit.  The second item is the column.  The third item is a non-negative number representing the size of the deposit, in tons.  For example, the following code defines a sample representation of a set of deposits in an 8-by-8 grid."
   ]
  },
  {
   "cell_type": "code",
   "execution_count": 33,
   "metadata": {
    "collapsed": true
   },
   "outputs": [],
   "source": [
    "deposits = [(0, 4, .3), (6, 2, 3), (3, 7, 2.2), (5, 5, .5), (3, 5, .8), (7, 7, .3)]"
   ]
  },
  {
   "cell_type": "markdown",
   "metadata": {},
   "source": [
    "6.1. Given a list of deposits like the one above, write a function to create a string representation for a rectangular sub-region of the land.  Your function should take a list of deposits, then a set of parameters denoting the top, bottom, left, and right edges of the sub-grid.  It should return a multi-line string in which grid squares without deposits are represented by \"-\" and grid squares with a deposit are represented by \"X\"."
   ]
  },
  {
   "cell_type": "code",
   "execution_count": 57,
   "metadata": {},
   "outputs": [
    {
     "name": "stdout",
     "output_type": "stream",
     "text": [
      "----X---\n",
      "--------\n",
      "--------\n",
      "-----X-X\n",
      "--------\n",
      "-----X--\n",
      "--X-----\n",
      "-------X\n",
      "\n"
     ]
    }
   ],
   "source": [
    "def display(deposits, top, bottom, left, right):\n",
    "    \"\"\"display a subgrid of the land, with rows starting at top and up to \n",
    "    but not including bottom, and columns starting at left and up to but\n",
    "    not including right.\"\"\"\n",
    "    \n",
    "    try:\n",
    "        if type(top) != int or type(bottom) != int or type(left) != int or type(right) != int:\n",
    "            raise Exception(\"Row / column is provided in invalid format. They should be integer.\")\n",
    "        if bottom < top:\n",
    "            raise Exception(\"Bottom row should be greater than top row.\")\n",
    "        if right < left:\n",
    "            raise Exception(\"Right column should be greater than left column.\")\n",
    "        if type(deposits) != list:\n",
    "            raise Exception(\"Grid of deposits is provided in invalid format. It should be a list of tuples.\")\n",
    "            \n",
    "        else:\n",
    "            ans = \"\"\n",
    "            avail_deposits = [(item[0],item[1]) for item in deposits]\n",
    "            for i in range(top, bottom):\n",
    "                for j in range(left, right):\n",
    "                    if (i, j) in avail_deposits:\n",
    "                        ans += \"X\"\n",
    "                    else:\n",
    "                        ans += \"-\"\n",
    "                ans += \"\\n\"   \n",
    "    \n",
    "            return ans\n",
    "    \n",
    "    except Exception as e:\n",
    "        return \"Error occured in function: \" + str(e)\n"
   ]
  },
  {
   "cell_type": "markdown",
   "metadata": {},
   "source": [
    "For example, your function should replicate the following behavior for the example grid:\n",
    "```\n",
    "print(display(deposits, 0, 8, 0, 8))\n",
    "----X---\n",
    "--------\n",
    "--------\n",
    "-----X-X\n",
    "--------\n",
    "-----X--\n",
    "--X-----\n",
    "-------X\n",
    "\n",
    "print(display(deposits, 5, 8, 5, 8))\n",
    "X--\n",
    "---\n",
    "--X\n",
    "\n",
    "```\n"
   ]
  },
  {
   "cell_type": "markdown",
   "metadata": {},
   "source": [
    "6.2. Next, complete the following function to compute the total number of tons in a rectangular sub-region of the grid."
   ]
  },
  {
   "cell_type": "code",
   "execution_count": 54,
   "metadata": {},
   "outputs": [],
   "source": [
    "def tons_inside(deposits, top, bottom, left, right):\n",
    "    \"\"\"Returns the total number of tons of deposits for which the row is at least top,\n",
    "    but strictly less than bottom, and the column is at least left, but strictly\n",
    "    less than right.\"\"\"\n",
    "    # Do not alter the function header. \n",
    "    # Just fill in the code so it returns the correct number of tons.\n",
    "    try:\n",
    "        if type(top) != int or type(bottom) != int or type(left) != int or type(right) != int:\n",
    "            raise Exception(\"Row / column is provided in invalid format. They should be integer.\")\n",
    "        if bottom < top:\n",
    "            raise Exception(\"Bottom row should be greater than top row.\")\n",
    "        if right < left:\n",
    "            raise Exception(\"Right column should be greater than left column.\")\n",
    "        if type(deposits) != list:\n",
    "            raise Exception(\"Grid of deposits is provided in invalid format. It should be a list of tuples.\")\n",
    "            \n",
    "        else:\n",
    "            tonnage = 0\n",
    "    \n",
    "            for point in deposits:\n",
    "                if len(point) < 3:\n",
    "                    raise Exception(\"Invalid format for location of deposits: it should contain row, column, and tonnage.\")\n",
    "                elif point[2] < 0:\n",
    "                    raise Exception(\"Tonnage of deposit cannot be less than zero.\")\n",
    "                elif point[0] in range(top, bottom):\n",
    "                    if point[1] in range(left, right):\n",
    "                        tonnage += point[2]\n",
    "                        \n",
    "            return tonnage\n",
    "        \n",
    "    except Exception as e:\n",
    "        return \"Error occured in function: \" + str(e)\n"
   ]
  },
  {
   "cell_type": "markdown",
   "metadata": {
    "collapsed": true
   },
   "source": [
    "## 7. Birthday planning (15 pts)\n",
    "\n",
    "Suppose you record a list of birthdays for your classmates, recorded as month day tuples.  An example is given below."
   ]
  },
  {
   "cell_type": "code",
   "execution_count": 44,
   "metadata": {
    "collapsed": true
   },
   "outputs": [],
   "source": [
    "dates = [(3,14),(2,8),(10,25),(5,17),(3,2),(7,25),(4,30),(8,7),(2,8),(1,22)]"
   ]
  },
  {
   "cell_type": "markdown",
   "metadata": {},
   "source": [
    "You read about the famous birthday problem and you become interested in the number of pairs of classmates that share the same birthday.  Below is an algorithm you write to do this. (Note: the ```is``` operator tests that two operands point to the same object)"
   ]
  },
  {
   "cell_type": "code",
   "execution_count": 45,
   "metadata": {},
   "outputs": [
    {
     "name": "stdout",
     "output_type": "stream",
     "text": [
      "Total birthday pairs: 1\n"
     ]
    }
   ],
   "source": [
    "count = 0\n",
    "\n",
    "for person_a in dates:\n",
    "    for person_b in dates:\n",
    "        # Make sure we have different people\n",
    "        if person_a is person_b:\n",
    "            continue\n",
    "            \n",
    "        # Check both month and day\n",
    "        if person_a[0] == person_b[0] and person_a[1] == person_b[1]:\n",
    "            count += 1\n",
    "            \n",
    "# We counted each pair twice (e.g. jane-bob and bob-jane) so divide by 2:\n",
    "print(\"Total birthday pairs:\", count//2)"
   ]
  },
  {
   "cell_type": "markdown",
   "metadata": {},
   "source": [
    "7.1. What is the (tightest) Big-O running time bound for the above algorithm?  You may assume that simple operations like equality check, addition, and print take constant time."
   ]
  },
  {
   "cell_type": "markdown",
   "metadata": {
    "collapsed": true
   },
   "source": [
    "**Your answer here** - big-O = O($n^{2}$)"
   ]
  },
  {
   "cell_type": "markdown",
   "metadata": {},
   "source": [
    "7.2. You notice that your algorithm is inefficient in that it counts each pair twice.  For example, it will increment count once when person_a is Jane and person_b is Bob, and again when person_a is Bob and person_b is Jane.  Below, revise the algorithm so that it only looks at each pair once."
   ]
  },
  {
   "cell_type": "code",
   "execution_count": 55,
   "metadata": {},
   "outputs": [
    {
     "name": "stdout",
     "output_type": "stream",
     "text": [
      "Total birthday pairs: 1\n"
     ]
    }
   ],
   "source": [
    "# Your code here\n",
    "count = 0\n",
    "\n",
    "for i in range(0, len(dates)):\n",
    "    for j in range(i+1, len(dates)):\n",
    "        if dates[i][0] == dates[j][0] and dates[i][1] == dates[j][1]:\n",
    "            count += 1\n",
    "            \n",
    "print(\"Total birthday pairs:\", count)"
   ]
  },
  {
   "cell_type": "markdown",
   "metadata": {},
   "source": [
    "7.3. What is the (tightest) Big-O running time bound for your new algorithm?  What does this tell you about whether your revision was worth making?"
   ]
  },
  {
   "cell_type": "markdown",
   "metadata": {},
   "source": [
    "**Your answer here** - big-O = O($n^{2}$). In terms of improving efficiency, this vesion of algorithm does not make any difference. "
   ]
  },
  {
   "cell_type": "markdown",
   "metadata": {},
   "source": [
    "7.4. Finally, create a third revision of your algorithm which has a faster Big-O running time bound that both the previous algorithms."
   ]
  },
  {
   "cell_type": "code",
   "execution_count": 56,
   "metadata": {},
   "outputs": [
    {
     "name": "stdout",
     "output_type": "stream",
     "text": [
      "Total birthday pairs: 1\n"
     ]
    }
   ],
   "source": [
    "# Your code here\n",
    "shared_set = set()\n",
    "count = 0\n",
    "\n",
    "for person in dates:\n",
    "    if person not in shared_set:\n",
    "        shared_set.add(person)\n",
    "    else:\n",
    "        count += 1\n",
    "        \n",
    "print(\"Total birthday pairs:\", count) "
   ]
  },
  {
   "cell_type": "markdown",
   "metadata": {},
   "source": [
    "7.5. What is the (tightest) Big-O running time bound for your last algorithm?  Explain what trade-off you made to have a faster running time."
   ]
  },
  {
   "cell_type": "markdown",
   "metadata": {
    "collapsed": true
   },
   "source": [
    "**Your answer here** - big-O = O(n). The trade-off is to create a new set which takes more memory than the previous two algorithms. "
   ]
  }
 ],
 "metadata": {
  "kernelspec": {
   "display_name": "Python 3",
   "language": "python",
   "name": "python3"
  },
  "language_info": {
   "codemirror_mode": {
    "name": "ipython",
    "version": 3
   },
   "file_extension": ".py",
   "mimetype": "text/x-python",
   "name": "python",
   "nbconvert_exporter": "python",
   "pygments_lexer": "ipython3",
   "version": "3.6.1"
  },
  "widgets": {
   "state": {},
   "version": "1.1.2"
  }
 },
 "nbformat": 4,
 "nbformat_minor": 1
}
