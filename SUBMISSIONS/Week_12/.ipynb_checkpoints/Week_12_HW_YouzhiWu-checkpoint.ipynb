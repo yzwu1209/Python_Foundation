{
 "cells": [
  {
   "cell_type": "markdown",
   "metadata": {},
   "source": [
    "## Week 12 Assignment - W200 Python Fundamentals for Data Science, UC Berkeley MIDS\n",
    "\n",
    "Write code in this Jupyter Notebook to solve the following problems. This assignment addresses material covered in Unit 11. Please upload this **Notebook** with your solutions to your GitHub repository in your SUBMISSIONS/week_12 folder by 11:59PM PST the night before class. If you turn-in anything on ISVC please do so under the Week 12 Assignment category. "
   ]
  },
  {
   "cell_type": "markdown",
   "metadata": {},
   "source": [
    "## Objectives\n",
    "\n",
    "- Explore and glean insights from a real dataset using pandas\n",
    "- Practice using pandas for exploratory analysis, information gathering, and discovery\n",
    "- Practice using matplotlib for data visualization"
   ]
  },
  {
   "cell_type": "markdown",
   "metadata": {},
   "source": [
    "## Dataset\n",
    "\n",
    "You are to analyze campaign contributions to the 2016 U.S. presidential primary races made in California. Use the csv file located here: https://drive.google.com/file/d/1Lgg-PwXQ6TQLDowd6XyBxZw5g1NGWPjB/view?usp=sharing. You should download and save this file in the same folder as this notebook is stored.  This file originally came from the U.S. Federal Election Commission (https://www.fec.gov/).\n",
    "\n",
    "** DO NOT PUSH THIS FILE TO YOUR GITHUB REPO ! **\n",
    "\n",
    "Documentation for this data can be found here: https://drive.google.com/file/d/11o_SByceenv0NgNMstM-dxC1jL7I9fHL/view?usp=sharing"
   ]
  },
  {
   "cell_type": "markdown",
   "metadata": {},
   "source": [
    "## General Guidelines:\n",
    "\n",
    "- This is a **real** dataset and so it may contain errors and other pecularities to work through\n",
    "- This dataset is ~218mb, which will take some time to load (and probably won't load in Google Sheets or Excel)\n",
    "- If you make assumptions, annotate them in your responses\n",
    "- While there is one code/markdown cell positioned after each question as a placeholder, some of your code/responses may require multiple cells\n",
    "- Double-click the markdown cells that say YOUR ANSWER HERE to enter your written answers. If you need more cells for your written answers, make them markdown cells (rather than code cells)"
   ]
  },
  {
   "cell_type": "markdown",
   "metadata": {},
   "source": [
    "## Setup\n",
    "\n",
    "Run the two cells below. \n",
    "\n",
    "The first cell will load the data into a pandas dataframe named `contrib`. Note that a custom date parser is defined to speed up loading. If Python were to guess the date format, it would take even longer to load.  \n",
    "\n",
    "The second cell subsets the dataframe to focus on just the primary period through May 2016. Otherwise, we would see general election donations which would make it harder to draw conclusions about the primaries."
   ]
  },
  {
   "cell_type": "code",
   "execution_count": 1,
   "metadata": {},
   "outputs": [
    {
     "name": "stderr",
     "output_type": "stream",
     "text": [
      "/anaconda/lib/python3.6/site-packages/IPython/core/interactiveshell.py:2717: DtypeWarning: Columns (6,11,12) have mixed types. Specify dtype option on import or set low_memory=False.\n",
      "  interactivity=interactivity, compiler=compiler, result=result)\n"
     ]
    },
    {
     "name": "stdout",
     "output_type": "stream",
     "text": [
      "(1125659, 18)\n"
     ]
    }
   ],
   "source": [
    "import pandas as pd\n",
    "import matplotlib.pyplot as plt\n",
    "import datetime\n",
    "\n",
    "# These commands below set some options for pandas and to have matplotlib show the charts in the notebook\n",
    "pd.set_option('display.max_rows', 1000)\n",
    "pd.options.display.float_format = '{:,.2f}'.format\n",
    "%matplotlib inline\n",
    "\n",
    "# Define a date parser to pass to read_csv\n",
    "d = lambda x: pd.datetime.strptime(x, '%d-%b-%y')\n",
    "\n",
    "# Load the data\n",
    "contrib = pd.read_csv('./P00000001-CA.csv', index_col=False, parse_dates=['contb_receipt_dt'], date_parser=d)\n",
    "print(contrib.shape)\n",
    "\n",
    "# Note - for now, it is okay to ignore the warning about mixed types. "
   ]
  },
  {
   "cell_type": "code",
   "execution_count": 2,
   "metadata": {},
   "outputs": [
    {
     "name": "stdout",
     "output_type": "stream",
     "text": [
      "(654502, 18)\n"
     ]
    }
   ],
   "source": [
    "# Subset data to primary period \n",
    "contrib = contrib.copy()[contrib['contb_receipt_dt'] <= datetime.datetime(2016, 5, 31)]\n",
    "print(contrib.shape)"
   ]
  },
  {
   "cell_type": "markdown",
   "metadata": {},
   "source": [
    "## 1. Exploring Data\n",
    "\n",
    "**1a. First, take a preliminary look at the data.**\n",
    "- Print the *shape* of the data. What does this tell you about the number of variables and rows you have?\n",
    "- Print a list of column names. \n",
    "- Review the documentation for this data (link above). Do you have all of the columns you expect to have?\n",
    "- Sometimes variable names are not clear unless we read the documentation. In your own words, based on the documentation, what information does the `election_tp` variable contain?"
   ]
  },
  {
   "cell_type": "code",
   "execution_count": 5,
   "metadata": {
    "deletable": false,
    "nbgrader": {
     "checksum": "9f7a7938e43b14d3c7c49d6a278b0bb1",
     "grade": true,
     "grade_id": "cell-5d017805206f18b1",
     "locked": false,
     "points": 0,
     "schema_version": 1,
     "solution": true
    }
   },
   "outputs": [
    {
     "name": "stdout",
     "output_type": "stream",
     "text": [
      "(654502, 18)\n",
      "['cmte_id', 'cand_id', 'cand_nm', 'contbr_nm', 'contbr_city', 'contbr_st', 'contbr_zip', 'contbr_employer', 'contbr_occupation', 'contb_receipt_amt', 'contb_receipt_dt', 'receipt_desc', 'memo_cd', 'memo_text', 'form_tp', 'file_num', 'tran_id', 'election_tp']\n"
     ]
    }
   ],
   "source": [
    "# 1a YOUR CODE HERE\n",
    "print(contrib.shape)\n",
    "print(list(contrib.columns.values))"
   ]
  },
  {
   "cell_type": "markdown",
   "metadata": {
    "deletable": false,
    "nbgrader": {
     "checksum": "e6a198453ec4b0171a064fef0bd7c678",
     "grade": true,
     "grade_id": "cell-3bc26919169bf4aa",
     "locked": false,
     "points": 5,
     "schema_version": 1,
     "solution": true
    }
   },
   "source": [
    "`1a YOUR RESPONSE HERE`\n",
    "- The shape tells me that I have 18 columns and 654502 rows. \n",
    "- Yes, the printed list of columns contain all the columns in the documentation.\n",
    "- election_tp means what type of election the contribution is for, whether it is for general election, or primary election, or other types as listed in the documentation. Each code represents an election type. The year followed by the code represents the election year. "
   ]
  },
  {
   "cell_type": "markdown",
   "metadata": {},
   "source": [
    "**1b. Print the first 5 rows from the dataset to manually look through some of your data.**"
   ]
  },
  {
   "cell_type": "code",
   "execution_count": 6,
   "metadata": {
    "deletable": false,
    "nbgrader": {
     "checksum": "4fbf682f1c78b3614832c6f48ecd88c7",
     "grade": true,
     "grade_id": "cell-72bc97601b84f17d",
     "locked": false,
     "points": 5,
     "schema_version": 1,
     "solution": true
    }
   },
   "outputs": [
    {
     "name": "stdout",
     "output_type": "stream",
     "text": [
      "     cmte_id    cand_id                  cand_nm          contbr_nm  \\\n",
      "0  C00575795  P00003392  Clinton, Hillary Rodham         AULL, ANNE   \n",
      "1  C00575795  P00003392  Clinton, Hillary Rodham  CARROLL, MARYJEAN   \n",
      "2  C00575795  P00003392  Clinton, Hillary Rodham   GANDARA, DESIREE   \n",
      "3  C00577130  P60007168         Sanders, Bernard          LEE, ALAN   \n",
      "4  C00577130  P60007168         Sanders, Bernard   LEONELLI, ODETTE   \n",
      "\n",
      "     contbr_city contbr_st     contbr_zip            contbr_employer  \\\n",
      "0       LARKSPUR        CA 949,391,913.00                        NaN   \n",
      "1        CAMBRIA        CA 934,284,638.00                        NaN   \n",
      "2        FONTANA        CA 923,371,507.00                        NaN   \n",
      "3      CAMARILLO        CA 930,111,214.00  AT&T GOVERNMENT SOLUTIONS   \n",
      "4  REDONDO BEACH        CA 902,784,310.00   VERICOR ENTERPRISES INC.   \n",
      "\n",
      "   contbr_occupation  contb_receipt_amt contb_receipt_dt receipt_desc memo_cd  \\\n",
      "0            RETIRED              50.00       2016-04-26          NaN       X   \n",
      "1            RETIRED             200.00       2016-04-20          NaN       X   \n",
      "2            RETIRED               5.00       2016-04-02          NaN       X   \n",
      "3  SOFTWARE ENGINEER              40.00       2016-03-04          NaN     NaN   \n",
      "4         PHARMACIST              35.00       2016-03-05          NaN     NaN   \n",
      "\n",
      "                             memo_text form_tp  file_num      tran_id  \\\n",
      "0               * HILLARY VICTORY FUND    SA18   1091718     C4768722   \n",
      "1               * HILLARY VICTORY FUND    SA18   1091718     C4747242   \n",
      "2               * HILLARY VICTORY FUND    SA18   1091718     C4666603   \n",
      "3  * EARMARKED CONTRIBUTION: SEE BELOW   SA17A   1077404  VPF7BKWA097   \n",
      "4  * EARMARKED CONTRIBUTION: SEE BELOW   SA17A   1077404  VPF7BKX3MB3   \n",
      "\n",
      "  election_tp  \n",
      "0       P2016  \n",
      "1       P2016  \n",
      "2       P2016  \n",
      "3       P2016  \n",
      "4       P2016  \n"
     ]
    }
   ],
   "source": [
    "# 1b YOUR CODE HERE\n",
    "print(contrib.head())"
   ]
  },
  {
   "cell_type": "markdown",
   "metadata": {},
   "source": [
    "**1c. Pick three variables from the dataset above and run some quick sanity checks.**\n",
    "\n",
    "When working with a new dataset, it is important to explore and sanity check your variables.  For example, you may want to examine the maximum and minimum values, a frequency count, or something else. Use markdown cells to explain if your sanity checks \"pass\" your scrutiny or if you have concerns about the integrity of your data. "
   ]
  },
  {
   "cell_type": "code",
   "execution_count": 7,
   "metadata": {
    "deletable": false,
    "nbgrader": {
     "checksum": "0ec29a2cabd52709322d1cfd650babe7",
     "grade": true,
     "grade_id": "cell-23b51536d24c1645",
     "locked": false,
     "points": 0,
     "schema_version": 1,
     "solution": true
    }
   },
   "outputs": [
    {
     "data": {
      "text/plain": [
       "count   654,502.00\n",
       "mean        126.50\n",
       "std         459.17\n",
       "min     -10,000.00\n",
       "25%          15.00\n",
       "50%          27.00\n",
       "75%          75.00\n",
       "max      10,800.00\n",
       "Name: contb_receipt_amt, dtype: float64"
      ]
     },
     "execution_count": 7,
     "metadata": {},
     "output_type": "execute_result"
    }
   ],
   "source": [
    "# 1c YOUR CODE HERE for variable #1\n",
    "contrib.contb_receipt_amt.describe()"
   ]
  },
  {
   "cell_type": "code",
   "execution_count": 10,
   "metadata": {},
   "outputs": [
    {
     "name": "stdout",
     "output_type": "stream",
     "text": [
      "count     654364\n",
      "unique         3\n",
      "top        P2016\n",
      "freq      649293\n",
      "Name: election_tp, dtype: object\n",
      "['P2016' 'G2016' nan 'P2020']\n"
     ]
    }
   ],
   "source": [
    "# 1c YOUR CODE HERE for variable #2\n",
    "print(contrib.election_tp.describe())\n",
    "print(contrib.election_tp.unique())"
   ]
  },
  {
   "cell_type": "code",
   "execution_count": 12,
   "metadata": {},
   "outputs": [
    {
     "name": "stdout",
     "output_type": "stream",
     "text": [
      "count               654502\n",
      "unique                  24\n",
      "top       Sanders, Bernard\n",
      "freq                371795\n",
      "Name: cand_nm, dtype: object\n",
      "['Clinton, Hillary Rodham' 'Sanders, Bernard' \"Cruz, Rafael Edward 'Ted'\"\n",
      " 'Walker, Scott' 'Bush, Jeb' 'Rubio, Marco' 'Kasich, John R.'\n",
      " 'Christie, Christopher J.' 'Paul, Rand' 'Webb, James Henry Jr.'\n",
      " 'Trump, Donald J.' 'Johnson, Gary' 'Carson, Benjamin S.' 'Fiorina, Carly'\n",
      " 'Santorum, Richard J.' 'Jindal, Bobby' 'Huckabee, Mike' 'Lessig, Lawrence'\n",
      " \"O'Malley, Martin Joseph\" 'Graham, Lindsey O.' 'Pataki, George E.'\n",
      " 'Stein, Jill' 'Perry, James R. (Rick)' 'Gilmore, James S III']\n"
     ]
    }
   ],
   "source": [
    "# 1c YOUR CODE HERE for variable #3\n",
    "print(contrib.cand_nm.describe())\n",
    "print(contrib.cand_nm.unique())"
   ]
  },
  {
   "cell_type": "markdown",
   "metadata": {
    "deletable": false,
    "nbgrader": {
     "checksum": "cfa64002e64474584dc1442b5a39b460",
     "grade": true,
     "grade_id": "cell-8a320c2ff7c24d98",
     "locked": false,
     "points": 0,
     "schema_version": 1,
     "solution": true
    }
   },
   "source": [
    "`1c YOUR RESPONSE HERE`\n",
    "- Variable #1 **contb_receipt_amt** does not pass sanity check. The minimum value is -10,000.00 which does not seem reaonsable. May need to look into these samples and see if they sould be removed from analysis. I think it is reasonable to make assumption that a contribution is considered as valid only if it is greater than zero amount. \n",
    "- Variable #2 **election_tp** does not pass sanity check. The values contain not just 2016 primary election contributions, but also 2016 general election, 2020 primary election, and some unknown election type. Since we are only looking at the contributions for 2016 primary election, it is safe to remove samples with 2016 general election, 2020 primary election and nan election types from the analysis. \n",
    "- Variable #3 **cand_nm** seems to pass sanity check. All contribution goes to a specific candidate, and none goes to unknown candidate. "
   ]
  },
  {
   "cell_type": "markdown",
   "metadata": {},
   "source": [
    "**1d. Plotting a histogram** \n",
    "\n",
    "Make a histogram of **one** of the variables you picked above. What are some insights that you can see from this histogram? \n",
    "Remember to include on your histogram:\n",
    "- Include a title\n",
    "- Include axis labels\n",
    "- The correct number of bins to see the breakout of values"
   ]
  },
  {
   "cell_type": "code",
   "execution_count": 124,
   "metadata": {},
   "outputs": [
    {
     "data": {
      "text/plain": [
       "<matplotlib.text.Text at 0x12220b240>"
      ]
     },
     "execution_count": 124,
     "metadata": {},
     "output_type": "execute_result"
    },
    {
     "data": {
      "image/png": "[encoded data removed]",
      "text/plain": [
       "<matplotlib.figure.Figure at 0x12032a0f0>"
      ]
     },
     "metadata": {},
     "output_type": "display_data"
    }
   ],
   "source": [
    "# 1d YOUR CODE HERE\n",
    "contrib = contrib[(contrib['contb_receipt_amt'] > 0) & (contrib['election_tp'] == 'P2016')]\n",
    "# the data is cleaned up to remove samples with contribution amount less than zero, and election type not P2016.\n",
    "contrib.hist(column='contb_receipt_amt', bins=100, grid=False, color='#86bf91', figsize=(15,10))\n",
    "plt.xlabel(\"Received Contribution Amount (in US Dollar)\", size=12)\n",
    "plt.ylabel(\"Frequency\", size=12)\n",
    "plt.title('Distribution of Contribution Amount', size=15, weight='bold')"
   ]
  },
  {
   "cell_type": "markdown",
   "metadata": {},
   "source": [
    "`1d YOUR RESPONSE HERE`\n",
    "- From the histogram, I can see that majority of the contribution amount is within the range of (0, 1000). \n",
    "- From the sanity check above, I've made assumption that a contribution is considered as valid only if it is greater than zero amount. And also since we are only looking at the contributions for 2016 primary election, it is safe to remove samples with 2016 general election, 2020 primary election and nan election types from the analysis.\n"
   ]
  },
  {
   "cell_type": "markdown",
   "metadata": {},
   "source": [
    "## 2. Exploring Campaign Contributions\n",
    "\n",
    "Let's investigate the donations to the candidates.\n",
    "\n",
    "**2a. Present a table that shows the number of donations to each candidate.**\n",
    "\n",
    "- When presenting data as a table, it is often best to sort the data in a meaningful way. This makes it easier for your reader to examine what you've done and to glean insights.  From now on, all tables that you present in this assignment (and course) should be sorted.\n",
    "- Hint: Use the `groupby` method.\n",
    "- Hint: Use the `sort_values` method to sort the data so that candidates with the largest number of donations appear on top. \n",
    "\n",
    "Which candidate received the largest number of contributions (variable 'contb_receipt_amt')?"
   ]
  },
  {
   "cell_type": "code",
   "execution_count": 107,
   "metadata": {
    "deletable": false,
    "nbgrader": {
     "checksum": "442b24601da06376c43cbe6ef5c5348a",
     "grade": true,
     "grade_id": "cell-6a453219105384dd",
     "locked": false,
     "points": 0,
     "schema_version": 1,
     "solution": true
    }
   },
   "outputs": [
    {
     "data": {
      "text/html": [
       "<div>\n",
       "<style>\n",
       "    .dataframe thead tr:only-child th {\n",
       "        text-align: right;\n",
       "    }\n",
       "\n",
       "    .dataframe thead th {\n",
       "        text-align: left;\n",
       "    }\n",
       "\n",
       "    .dataframe tbody tr th {\n",
       "        vertical-align: top;\n",
       "    }\n",
       "</style>\n",
       "<table border=\"1\" class=\"dataframe\">\n",
       "  <thead>\n",
       "    <tr style=\"text-align: right;\">\n",
       "      <th></th>\n",
       "      <th>cand_nm</th>\n",
       "      <th>contb_receipt_amt</th>\n",
       "    </tr>\n",
       "  </thead>\n",
       "  <tbody>\n",
       "    <tr>\n",
       "      <th>0</th>\n",
       "      <td>Sanders, Bernard</td>\n",
       "      <td>369574</td>\n",
       "    </tr>\n",
       "    <tr>\n",
       "      <th>1</th>\n",
       "      <td>Clinton, Hillary Rodham</td>\n",
       "      <td>158990</td>\n",
       "    </tr>\n",
       "    <tr>\n",
       "      <th>2</th>\n",
       "      <td>Cruz, Rafael Edward 'Ted'</td>\n",
       "      <td>55158</td>\n",
       "    </tr>\n",
       "    <tr>\n",
       "      <th>3</th>\n",
       "      <td>Carson, Benjamin S.</td>\n",
       "      <td>26736</td>\n",
       "    </tr>\n",
       "    <tr>\n",
       "      <th>4</th>\n",
       "      <td>Rubio, Marco</td>\n",
       "      <td>12730</td>\n",
       "    </tr>\n",
       "    <tr>\n",
       "      <th>5</th>\n",
       "      <td>Fiorina, Carly</td>\n",
       "      <td>4629</td>\n",
       "    </tr>\n",
       "    <tr>\n",
       "      <th>6</th>\n",
       "      <td>Paul, Rand</td>\n",
       "      <td>4144</td>\n",
       "    </tr>\n",
       "    <tr>\n",
       "      <th>7</th>\n",
       "      <td>Bush, Jeb</td>\n",
       "      <td>2950</td>\n",
       "    </tr>\n",
       "    <tr>\n",
       "      <th>8</th>\n",
       "      <td>Kasich, John R.</td>\n",
       "      <td>2930</td>\n",
       "    </tr>\n",
       "    <tr>\n",
       "      <th>9</th>\n",
       "      <td>Trump, Donald J.</td>\n",
       "      <td>2159</td>\n",
       "    </tr>\n",
       "    <tr>\n",
       "      <th>10</th>\n",
       "      <td>Walker, Scott</td>\n",
       "      <td>618</td>\n",
       "    </tr>\n",
       "    <tr>\n",
       "      <th>11</th>\n",
       "      <td>Huckabee, Mike</td>\n",
       "      <td>520</td>\n",
       "    </tr>\n",
       "    <tr>\n",
       "      <th>12</th>\n",
       "      <td>O'Malley, Martin Joseph</td>\n",
       "      <td>390</td>\n",
       "    </tr>\n",
       "    <tr>\n",
       "      <th>13</th>\n",
       "      <td>Lessig, Lawrence</td>\n",
       "      <td>353</td>\n",
       "    </tr>\n",
       "    <tr>\n",
       "      <th>14</th>\n",
       "      <td>Christie, Christopher J.</td>\n",
       "      <td>323</td>\n",
       "    </tr>\n",
       "    <tr>\n",
       "      <th>15</th>\n",
       "      <td>Graham, Lindsey O.</td>\n",
       "      <td>286</td>\n",
       "    </tr>\n",
       "    <tr>\n",
       "      <th>16</th>\n",
       "      <td>Stein, Jill</td>\n",
       "      <td>169</td>\n",
       "    </tr>\n",
       "    <tr>\n",
       "      <th>17</th>\n",
       "      <td>Webb, James Henry Jr.</td>\n",
       "      <td>106</td>\n",
       "    </tr>\n",
       "    <tr>\n",
       "      <th>18</th>\n",
       "      <td>Perry, James R. (Rick)</td>\n",
       "      <td>103</td>\n",
       "    </tr>\n",
       "    <tr>\n",
       "      <th>19</th>\n",
       "      <td>Santorum, Richard J.</td>\n",
       "      <td>84</td>\n",
       "    </tr>\n",
       "    <tr>\n",
       "      <th>20</th>\n",
       "      <td>Johnson, Gary</td>\n",
       "      <td>68</td>\n",
       "    </tr>\n",
       "    <tr>\n",
       "      <th>21</th>\n",
       "      <td>Jindal, Bobby</td>\n",
       "      <td>31</td>\n",
       "    </tr>\n",
       "    <tr>\n",
       "      <th>22</th>\n",
       "      <td>Pataki, George E.</td>\n",
       "      <td>20</td>\n",
       "    </tr>\n",
       "    <tr>\n",
       "      <th>23</th>\n",
       "      <td>Gilmore, James S III</td>\n",
       "      <td>3</td>\n",
       "    </tr>\n",
       "  </tbody>\n",
       "</table>\n",
       "</div>"
      ],
      "text/plain": [
       "                      cand_nm  contb_receipt_amt\n",
       "0            Sanders, Bernard             369574\n",
       "1     Clinton, Hillary Rodham             158990\n",
       "2   Cruz, Rafael Edward 'Ted'              55158\n",
       "3         Carson, Benjamin S.              26736\n",
       "4                Rubio, Marco              12730\n",
       "5              Fiorina, Carly               4629\n",
       "6                  Paul, Rand               4144\n",
       "7                   Bush, Jeb               2950\n",
       "8             Kasich, John R.               2930\n",
       "9            Trump, Donald J.               2159\n",
       "10              Walker, Scott                618\n",
       "11             Huckabee, Mike                520\n",
       "12    O'Malley, Martin Joseph                390\n",
       "13           Lessig, Lawrence                353\n",
       "14   Christie, Christopher J.                323\n",
       "15         Graham, Lindsey O.                286\n",
       "16                Stein, Jill                169\n",
       "17      Webb, James Henry Jr.                106\n",
       "18     Perry, James R. (Rick)                103\n",
       "19       Santorum, Richard J.                 84\n",
       "20              Johnson, Gary                 68\n",
       "21              Jindal, Bobby                 31\n",
       "22          Pataki, George E.                 20\n",
       "23       Gilmore, James S III                  3"
      ]
     },
     "execution_count": 107,
     "metadata": {},
     "output_type": "execute_result"
    }
   ],
   "source": [
    "# 2a YOUR CODE HERE\n",
    "dfa = contrib.groupby('cand_nm').agg({'contb_receipt_amt':'count'}).sort_values('contb_receipt_amt', ascending=False).reset_index()\n",
    "dfa"
   ]
  },
  {
   "cell_type": "markdown",
   "metadata": {
    "deletable": false,
    "nbgrader": {
     "checksum": "c5a1b7f30648cced7269ccb9b1532bd6",
     "grade": true,
     "grade_id": "cell-90c49bd6471a3dc9",
     "locked": false,
     "points": 0,
     "schema_version": 1,
     "solution": true
    }
   },
   "source": [
    "`2a YOUR RESPONSE HERE`\n",
    "- Sanders, Bernard received the largest number of contributions."
   ]
  },
  {
   "cell_type": "markdown",
   "metadata": {},
   "source": [
    "**2b. Now, present a table that shows the total value of donations to each candidate.**\n",
    "\n",
    "Which candidate raised the most money in California?"
   ]
  },
  {
   "cell_type": "code",
   "execution_count": 108,
   "metadata": {},
   "outputs": [
    {
     "data": {
      "text/html": [
       "<div>\n",
       "<style>\n",
       "    .dataframe thead tr:only-child th {\n",
       "        text-align: right;\n",
       "    }\n",
       "\n",
       "    .dataframe thead th {\n",
       "        text-align: left;\n",
       "    }\n",
       "\n",
       "    .dataframe tbody tr th {\n",
       "        vertical-align: top;\n",
       "    }\n",
       "</style>\n",
       "<table border=\"1\" class=\"dataframe\">\n",
       "  <thead>\n",
       "    <tr style=\"text-align: right;\">\n",
       "      <th></th>\n",
       "      <th>cand_nm</th>\n",
       "      <th>contb_receipt_amt</th>\n",
       "    </tr>\n",
       "  </thead>\n",
       "  <tbody>\n",
       "    <tr>\n",
       "      <th>0</th>\n",
       "      <td>Clinton, Hillary Rodham</td>\n",
       "      <td>38,499,721.96</td>\n",
       "    </tr>\n",
       "    <tr>\n",
       "      <th>1</th>\n",
       "      <td>Sanders, Bernard</td>\n",
       "      <td>19,494,572.66</td>\n",
       "    </tr>\n",
       "    <tr>\n",
       "      <th>2</th>\n",
       "      <td>Cruz, Rafael Edward 'Ted'</td>\n",
       "      <td>6,599,501.11</td>\n",
       "    </tr>\n",
       "    <tr>\n",
       "      <th>3</th>\n",
       "      <td>Rubio, Marco</td>\n",
       "      <td>5,789,867.92</td>\n",
       "    </tr>\n",
       "    <tr>\n",
       "      <th>4</th>\n",
       "      <td>Bush, Jeb</td>\n",
       "      <td>3,448,920.23</td>\n",
       "    </tr>\n",
       "    <tr>\n",
       "      <th>5</th>\n",
       "      <td>Carson, Benjamin S.</td>\n",
       "      <td>3,192,542.51</td>\n",
       "    </tr>\n",
       "    <tr>\n",
       "      <th>6</th>\n",
       "      <td>Fiorina, Carly</td>\n",
       "      <td>1,561,652.42</td>\n",
       "    </tr>\n",
       "    <tr>\n",
       "      <th>7</th>\n",
       "      <td>Kasich, John R.</td>\n",
       "      <td>1,528,071.54</td>\n",
       "    </tr>\n",
       "    <tr>\n",
       "      <th>8</th>\n",
       "      <td>Paul, Rand</td>\n",
       "      <td>756,528.89</td>\n",
       "    </tr>\n",
       "    <tr>\n",
       "      <th>9</th>\n",
       "      <td>Trump, Donald J.</td>\n",
       "      <td>703,167.34</td>\n",
       "    </tr>\n",
       "    <tr>\n",
       "      <th>10</th>\n",
       "      <td>Walker, Scott</td>\n",
       "      <td>614,406.90</td>\n",
       "    </tr>\n",
       "    <tr>\n",
       "      <th>11</th>\n",
       "      <td>Christie, Christopher J.</td>\n",
       "      <td>482,866.00</td>\n",
       "    </tr>\n",
       "    <tr>\n",
       "      <th>12</th>\n",
       "      <td>Graham, Lindsey O.</td>\n",
       "      <td>422,995.00</td>\n",
       "    </tr>\n",
       "    <tr>\n",
       "      <th>13</th>\n",
       "      <td>O'Malley, Martin Joseph</td>\n",
       "      <td>302,234.26</td>\n",
       "    </tr>\n",
       "    <tr>\n",
       "      <th>14</th>\n",
       "      <td>Huckabee, Mike</td>\n",
       "      <td>248,790.60</td>\n",
       "    </tr>\n",
       "    <tr>\n",
       "      <th>15</th>\n",
       "      <td>Perry, James R. (Rick)</td>\n",
       "      <td>208,425.00</td>\n",
       "    </tr>\n",
       "    <tr>\n",
       "      <th>16</th>\n",
       "      <td>Lessig, Lawrence</td>\n",
       "      <td>148,032.52</td>\n",
       "    </tr>\n",
       "    <tr>\n",
       "      <th>17</th>\n",
       "      <td>Webb, James Henry Jr.</td>\n",
       "      <td>76,568.16</td>\n",
       "    </tr>\n",
       "    <tr>\n",
       "      <th>18</th>\n",
       "      <td>Santorum, Richard J.</td>\n",
       "      <td>36,304.88</td>\n",
       "    </tr>\n",
       "    <tr>\n",
       "      <th>19</th>\n",
       "      <td>Johnson, Gary</td>\n",
       "      <td>31,787.80</td>\n",
       "    </tr>\n",
       "    <tr>\n",
       "      <th>20</th>\n",
       "      <td>Pataki, George E.</td>\n",
       "      <td>30,450.00</td>\n",
       "    </tr>\n",
       "    <tr>\n",
       "      <th>21</th>\n",
       "      <td>Stein, Jill</td>\n",
       "      <td>23,991.00</td>\n",
       "    </tr>\n",
       "    <tr>\n",
       "      <th>22</th>\n",
       "      <td>Jindal, Bobby</td>\n",
       "      <td>23,231.26</td>\n",
       "    </tr>\n",
       "    <tr>\n",
       "      <th>23</th>\n",
       "      <td>Gilmore, James S III</td>\n",
       "      <td>8,100.00</td>\n",
       "    </tr>\n",
       "  </tbody>\n",
       "</table>\n",
       "</div>"
      ],
      "text/plain": [
       "                      cand_nm  contb_receipt_amt\n",
       "0     Clinton, Hillary Rodham      38,499,721.96\n",
       "1            Sanders, Bernard      19,494,572.66\n",
       "2   Cruz, Rafael Edward 'Ted'       6,599,501.11\n",
       "3                Rubio, Marco       5,789,867.92\n",
       "4                   Bush, Jeb       3,448,920.23\n",
       "5         Carson, Benjamin S.       3,192,542.51\n",
       "6              Fiorina, Carly       1,561,652.42\n",
       "7             Kasich, John R.       1,528,071.54\n",
       "8                  Paul, Rand         756,528.89\n",
       "9            Trump, Donald J.         703,167.34\n",
       "10              Walker, Scott         614,406.90\n",
       "11   Christie, Christopher J.         482,866.00\n",
       "12         Graham, Lindsey O.         422,995.00\n",
       "13    O'Malley, Martin Joseph         302,234.26\n",
       "14             Huckabee, Mike         248,790.60\n",
       "15     Perry, James R. (Rick)         208,425.00\n",
       "16           Lessig, Lawrence         148,032.52\n",
       "17      Webb, James Henry Jr.          76,568.16\n",
       "18       Santorum, Richard J.          36,304.88\n",
       "19              Johnson, Gary          31,787.80\n",
       "20          Pataki, George E.          30,450.00\n",
       "21                Stein, Jill          23,991.00\n",
       "22              Jindal, Bobby          23,231.26\n",
       "23       Gilmore, James S III           8,100.00"
      ]
     },
     "execution_count": 108,
     "metadata": {},
     "output_type": "execute_result"
    }
   ],
   "source": [
    "# 2b YOUR CODE HERE\n",
    "dfb = contrib.groupby('cand_nm').agg({'contb_receipt_amt':'sum'}).sort_values('contb_receipt_amt', ascending=False).reset_index()\n",
    "dfb"
   ]
  },
  {
   "cell_type": "markdown",
   "metadata": {
    "deletable": false,
    "nbgrader": {
     "checksum": "60d3e303837e9603de5b96e32af7d806",
     "grade": true,
     "grade_id": "cell-447dc63eff8ebc5f",
     "locked": false,
     "points": 0,
     "schema_version": 1,
     "solution": true
    }
   },
   "source": [
    "`2b YOUR RESPONSE HERE`\n",
    "- Clinton, Hillary Rodham received the most money in California."
   ]
  },
  {
   "cell_type": "markdown",
   "metadata": {},
   "source": [
    "**2c. Combine the tables.**\n",
    "\n",
    "- What is the \"type\" of the two tables you presented above - Series or DataFrames?\n",
    "- Convert any Series to DataFrames.\n",
    "- Rename the variable (column) names to accurately describe what is presented.\n",
    "- Merge together your tables to show the *count* and the *value* of donations to each candidate in one table.\n",
    "- Hint: Use the `merge` method."
   ]
  },
  {
   "cell_type": "code",
   "execution_count": 109,
   "metadata": {},
   "outputs": [
    {
     "data": {
      "text/html": [
       "<div>\n",
       "<style>\n",
       "    .dataframe thead tr:only-child th {\n",
       "        text-align: right;\n",
       "    }\n",
       "\n",
       "    .dataframe thead th {\n",
       "        text-align: left;\n",
       "    }\n",
       "\n",
       "    .dataframe tbody tr th {\n",
       "        vertical-align: top;\n",
       "    }\n",
       "</style>\n",
       "<table border=\"1\" class=\"dataframe\">\n",
       "  <thead>\n",
       "    <tr style=\"text-align: right;\">\n",
       "      <th></th>\n",
       "      <th>cand_nm</th>\n",
       "      <th>Count_of_Contributions</th>\n",
       "      <th>Value_of_Contribution_Amt</th>\n",
       "    </tr>\n",
       "  </thead>\n",
       "  <tbody>\n",
       "    <tr>\n",
       "      <th>0</th>\n",
       "      <td>Sanders, Bernard</td>\n",
       "      <td>369574</td>\n",
       "      <td>19,494,572.66</td>\n",
       "    </tr>\n",
       "    <tr>\n",
       "      <th>1</th>\n",
       "      <td>Clinton, Hillary Rodham</td>\n",
       "      <td>158990</td>\n",
       "      <td>38,499,721.96</td>\n",
       "    </tr>\n",
       "    <tr>\n",
       "      <th>2</th>\n",
       "      <td>Cruz, Rafael Edward 'Ted'</td>\n",
       "      <td>55158</td>\n",
       "      <td>6,599,501.11</td>\n",
       "    </tr>\n",
       "    <tr>\n",
       "      <th>3</th>\n",
       "      <td>Carson, Benjamin S.</td>\n",
       "      <td>26736</td>\n",
       "      <td>3,192,542.51</td>\n",
       "    </tr>\n",
       "    <tr>\n",
       "      <th>4</th>\n",
       "      <td>Rubio, Marco</td>\n",
       "      <td>12730</td>\n",
       "      <td>5,789,867.92</td>\n",
       "    </tr>\n",
       "    <tr>\n",
       "      <th>5</th>\n",
       "      <td>Fiorina, Carly</td>\n",
       "      <td>4629</td>\n",
       "      <td>1,561,652.42</td>\n",
       "    </tr>\n",
       "    <tr>\n",
       "      <th>6</th>\n",
       "      <td>Paul, Rand</td>\n",
       "      <td>4144</td>\n",
       "      <td>756,528.89</td>\n",
       "    </tr>\n",
       "    <tr>\n",
       "      <th>7</th>\n",
       "      <td>Bush, Jeb</td>\n",
       "      <td>2950</td>\n",
       "      <td>3,448,920.23</td>\n",
       "    </tr>\n",
       "    <tr>\n",
       "      <th>8</th>\n",
       "      <td>Kasich, John R.</td>\n",
       "      <td>2930</td>\n",
       "      <td>1,528,071.54</td>\n",
       "    </tr>\n",
       "    <tr>\n",
       "      <th>9</th>\n",
       "      <td>Trump, Donald J.</td>\n",
       "      <td>2159</td>\n",
       "      <td>703,167.34</td>\n",
       "    </tr>\n",
       "    <tr>\n",
       "      <th>10</th>\n",
       "      <td>Walker, Scott</td>\n",
       "      <td>618</td>\n",
       "      <td>614,406.90</td>\n",
       "    </tr>\n",
       "    <tr>\n",
       "      <th>11</th>\n",
       "      <td>Huckabee, Mike</td>\n",
       "      <td>520</td>\n",
       "      <td>248,790.60</td>\n",
       "    </tr>\n",
       "    <tr>\n",
       "      <th>12</th>\n",
       "      <td>O'Malley, Martin Joseph</td>\n",
       "      <td>390</td>\n",
       "      <td>302,234.26</td>\n",
       "    </tr>\n",
       "    <tr>\n",
       "      <th>13</th>\n",
       "      <td>Lessig, Lawrence</td>\n",
       "      <td>353</td>\n",
       "      <td>148,032.52</td>\n",
       "    </tr>\n",
       "    <tr>\n",
       "      <th>14</th>\n",
       "      <td>Christie, Christopher J.</td>\n",
       "      <td>323</td>\n",
       "      <td>482,866.00</td>\n",
       "    </tr>\n",
       "    <tr>\n",
       "      <th>15</th>\n",
       "      <td>Graham, Lindsey O.</td>\n",
       "      <td>286</td>\n",
       "      <td>422,995.00</td>\n",
       "    </tr>\n",
       "    <tr>\n",
       "      <th>16</th>\n",
       "      <td>Stein, Jill</td>\n",
       "      <td>169</td>\n",
       "      <td>23,991.00</td>\n",
       "    </tr>\n",
       "    <tr>\n",
       "      <th>17</th>\n",
       "      <td>Webb, James Henry Jr.</td>\n",
       "      <td>106</td>\n",
       "      <td>76,568.16</td>\n",
       "    </tr>\n",
       "    <tr>\n",
       "      <th>18</th>\n",
       "      <td>Perry, James R. (Rick)</td>\n",
       "      <td>103</td>\n",
       "      <td>208,425.00</td>\n",
       "    </tr>\n",
       "    <tr>\n",
       "      <th>19</th>\n",
       "      <td>Santorum, Richard J.</td>\n",
       "      <td>84</td>\n",
       "      <td>36,304.88</td>\n",
       "    </tr>\n",
       "    <tr>\n",
       "      <th>20</th>\n",
       "      <td>Johnson, Gary</td>\n",
       "      <td>68</td>\n",
       "      <td>31,787.80</td>\n",
       "    </tr>\n",
       "    <tr>\n",
       "      <th>21</th>\n",
       "      <td>Jindal, Bobby</td>\n",
       "      <td>31</td>\n",
       "      <td>23,231.26</td>\n",
       "    </tr>\n",
       "    <tr>\n",
       "      <th>22</th>\n",
       "      <td>Pataki, George E.</td>\n",
       "      <td>20</td>\n",
       "      <td>30,450.00</td>\n",
       "    </tr>\n",
       "    <tr>\n",
       "      <th>23</th>\n",
       "      <td>Gilmore, James S III</td>\n",
       "      <td>3</td>\n",
       "      <td>8,100.00</td>\n",
       "    </tr>\n",
       "  </tbody>\n",
       "</table>\n",
       "</div>"
      ],
      "text/plain": [
       "                      cand_nm  Count_of_Contributions  \\\n",
       "0            Sanders, Bernard                  369574   \n",
       "1     Clinton, Hillary Rodham                  158990   \n",
       "2   Cruz, Rafael Edward 'Ted'                   55158   \n",
       "3         Carson, Benjamin S.                   26736   \n",
       "4                Rubio, Marco                   12730   \n",
       "5              Fiorina, Carly                    4629   \n",
       "6                  Paul, Rand                    4144   \n",
       "7                   Bush, Jeb                    2950   \n",
       "8             Kasich, John R.                    2930   \n",
       "9            Trump, Donald J.                    2159   \n",
       "10              Walker, Scott                     618   \n",
       "11             Huckabee, Mike                     520   \n",
       "12    O'Malley, Martin Joseph                     390   \n",
       "13           Lessig, Lawrence                     353   \n",
       "14   Christie, Christopher J.                     323   \n",
       "15         Graham, Lindsey O.                     286   \n",
       "16                Stein, Jill                     169   \n",
       "17      Webb, James Henry Jr.                     106   \n",
       "18     Perry, James R. (Rick)                     103   \n",
       "19       Santorum, Richard J.                      84   \n",
       "20              Johnson, Gary                      68   \n",
       "21              Jindal, Bobby                      31   \n",
       "22          Pataki, George E.                      20   \n",
       "23       Gilmore, James S III                       3   \n",
       "\n",
       "    Value_of_Contribution_Amt  \n",
       "0               19,494,572.66  \n",
       "1               38,499,721.96  \n",
       "2                6,599,501.11  \n",
       "3                3,192,542.51  \n",
       "4                5,789,867.92  \n",
       "5                1,561,652.42  \n",
       "6                  756,528.89  \n",
       "7                3,448,920.23  \n",
       "8                1,528,071.54  \n",
       "9                  703,167.34  \n",
       "10                 614,406.90  \n",
       "11                 248,790.60  \n",
       "12                 302,234.26  \n",
       "13                 148,032.52  \n",
       "14                 482,866.00  \n",
       "15                 422,995.00  \n",
       "16                  23,991.00  \n",
       "17                  76,568.16  \n",
       "18                 208,425.00  \n",
       "19                  36,304.88  \n",
       "20                  31,787.80  \n",
       "21                  23,231.26  \n",
       "22                  30,450.00  \n",
       "23                   8,100.00  "
      ]
     },
     "execution_count": 109,
     "metadata": {},
     "output_type": "execute_result"
    }
   ],
   "source": [
    "# 2c YOUR CODE HERE\n",
    "dfa = dfa.rename(columns = {'contb_receipt_amt':'Count_of_Contributions'})\n",
    "dfb = dfb.rename(columns = {'contb_receipt_amt':'Value_of_Contribution_Amt'})\n",
    "dfc = pd.merge(dfa, dfb, on='cand_nm', how='outer')\n",
    "dfc # the table is sorted by Count_of_Contributions"
   ]
  },
  {
   "cell_type": "markdown",
   "metadata": {},
   "source": [
    "**2d. Calculate and add a new variable to the table from 2c that shows the average \\$ per donation.**"
   ]
  },
  {
   "cell_type": "code",
   "execution_count": 110,
   "metadata": {},
   "outputs": [
    {
     "data": {
      "text/html": [
       "<div>\n",
       "<style>\n",
       "    .dataframe thead tr:only-child th {\n",
       "        text-align: right;\n",
       "    }\n",
       "\n",
       "    .dataframe thead th {\n",
       "        text-align: left;\n",
       "    }\n",
       "\n",
       "    .dataframe tbody tr th {\n",
       "        vertical-align: top;\n",
       "    }\n",
       "</style>\n",
       "<table border=\"1\" class=\"dataframe\">\n",
       "  <thead>\n",
       "    <tr style=\"text-align: right;\">\n",
       "      <th></th>\n",
       "      <th>cand_nm</th>\n",
       "      <th>Count_of_Contributions</th>\n",
       "      <th>Value_of_Contribution_Amt</th>\n",
       "      <th>Avg_Per_Donation</th>\n",
       "    </tr>\n",
       "  </thead>\n",
       "  <tbody>\n",
       "    <tr>\n",
       "      <th>23</th>\n",
       "      <td>Gilmore, James S III</td>\n",
       "      <td>3</td>\n",
       "      <td>8,100.00</td>\n",
       "      <td>2,700.00</td>\n",
       "    </tr>\n",
       "    <tr>\n",
       "      <th>18</th>\n",
       "      <td>Perry, James R. (Rick)</td>\n",
       "      <td>103</td>\n",
       "      <td>208,425.00</td>\n",
       "      <td>2,023.54</td>\n",
       "    </tr>\n",
       "    <tr>\n",
       "      <th>22</th>\n",
       "      <td>Pataki, George E.</td>\n",
       "      <td>20</td>\n",
       "      <td>30,450.00</td>\n",
       "      <td>1,522.50</td>\n",
       "    </tr>\n",
       "    <tr>\n",
       "      <th>14</th>\n",
       "      <td>Christie, Christopher J.</td>\n",
       "      <td>323</td>\n",
       "      <td>482,866.00</td>\n",
       "      <td>1,494.94</td>\n",
       "    </tr>\n",
       "    <tr>\n",
       "      <th>15</th>\n",
       "      <td>Graham, Lindsey O.</td>\n",
       "      <td>286</td>\n",
       "      <td>422,995.00</td>\n",
       "      <td>1,479.00</td>\n",
       "    </tr>\n",
       "    <tr>\n",
       "      <th>7</th>\n",
       "      <td>Bush, Jeb</td>\n",
       "      <td>2950</td>\n",
       "      <td>3,448,920.23</td>\n",
       "      <td>1,169.13</td>\n",
       "    </tr>\n",
       "    <tr>\n",
       "      <th>10</th>\n",
       "      <td>Walker, Scott</td>\n",
       "      <td>618</td>\n",
       "      <td>614,406.90</td>\n",
       "      <td>994.19</td>\n",
       "    </tr>\n",
       "    <tr>\n",
       "      <th>12</th>\n",
       "      <td>O'Malley, Martin Joseph</td>\n",
       "      <td>390</td>\n",
       "      <td>302,234.26</td>\n",
       "      <td>774.96</td>\n",
       "    </tr>\n",
       "    <tr>\n",
       "      <th>21</th>\n",
       "      <td>Jindal, Bobby</td>\n",
       "      <td>31</td>\n",
       "      <td>23,231.26</td>\n",
       "      <td>749.40</td>\n",
       "    </tr>\n",
       "    <tr>\n",
       "      <th>17</th>\n",
       "      <td>Webb, James Henry Jr.</td>\n",
       "      <td>106</td>\n",
       "      <td>76,568.16</td>\n",
       "      <td>722.34</td>\n",
       "    </tr>\n",
       "    <tr>\n",
       "      <th>8</th>\n",
       "      <td>Kasich, John R.</td>\n",
       "      <td>2930</td>\n",
       "      <td>1,528,071.54</td>\n",
       "      <td>521.53</td>\n",
       "    </tr>\n",
       "    <tr>\n",
       "      <th>11</th>\n",
       "      <td>Huckabee, Mike</td>\n",
       "      <td>520</td>\n",
       "      <td>248,790.60</td>\n",
       "      <td>478.44</td>\n",
       "    </tr>\n",
       "    <tr>\n",
       "      <th>20</th>\n",
       "      <td>Johnson, Gary</td>\n",
       "      <td>68</td>\n",
       "      <td>31,787.80</td>\n",
       "      <td>467.47</td>\n",
       "    </tr>\n",
       "    <tr>\n",
       "      <th>4</th>\n",
       "      <td>Rubio, Marco</td>\n",
       "      <td>12730</td>\n",
       "      <td>5,789,867.92</td>\n",
       "      <td>454.82</td>\n",
       "    </tr>\n",
       "    <tr>\n",
       "      <th>19</th>\n",
       "      <td>Santorum, Richard J.</td>\n",
       "      <td>84</td>\n",
       "      <td>36,304.88</td>\n",
       "      <td>432.20</td>\n",
       "    </tr>\n",
       "    <tr>\n",
       "      <th>13</th>\n",
       "      <td>Lessig, Lawrence</td>\n",
       "      <td>353</td>\n",
       "      <td>148,032.52</td>\n",
       "      <td>419.36</td>\n",
       "    </tr>\n",
       "    <tr>\n",
       "      <th>5</th>\n",
       "      <td>Fiorina, Carly</td>\n",
       "      <td>4629</td>\n",
       "      <td>1,561,652.42</td>\n",
       "      <td>337.36</td>\n",
       "    </tr>\n",
       "    <tr>\n",
       "      <th>9</th>\n",
       "      <td>Trump, Donald J.</td>\n",
       "      <td>2159</td>\n",
       "      <td>703,167.34</td>\n",
       "      <td>325.69</td>\n",
       "    </tr>\n",
       "    <tr>\n",
       "      <th>1</th>\n",
       "      <td>Clinton, Hillary Rodham</td>\n",
       "      <td>158990</td>\n",
       "      <td>38,499,721.96</td>\n",
       "      <td>242.15</td>\n",
       "    </tr>\n",
       "    <tr>\n",
       "      <th>6</th>\n",
       "      <td>Paul, Rand</td>\n",
       "      <td>4144</td>\n",
       "      <td>756,528.89</td>\n",
       "      <td>182.56</td>\n",
       "    </tr>\n",
       "    <tr>\n",
       "      <th>16</th>\n",
       "      <td>Stein, Jill</td>\n",
       "      <td>169</td>\n",
       "      <td>23,991.00</td>\n",
       "      <td>141.96</td>\n",
       "    </tr>\n",
       "    <tr>\n",
       "      <th>2</th>\n",
       "      <td>Cruz, Rafael Edward 'Ted'</td>\n",
       "      <td>55158</td>\n",
       "      <td>6,599,501.11</td>\n",
       "      <td>119.65</td>\n",
       "    </tr>\n",
       "    <tr>\n",
       "      <th>3</th>\n",
       "      <td>Carson, Benjamin S.</td>\n",
       "      <td>26736</td>\n",
       "      <td>3,192,542.51</td>\n",
       "      <td>119.41</td>\n",
       "    </tr>\n",
       "    <tr>\n",
       "      <th>0</th>\n",
       "      <td>Sanders, Bernard</td>\n",
       "      <td>369574</td>\n",
       "      <td>19,494,572.66</td>\n",
       "      <td>52.75</td>\n",
       "    </tr>\n",
       "  </tbody>\n",
       "</table>\n",
       "</div>"
      ],
      "text/plain": [
       "                      cand_nm  Count_of_Contributions  \\\n",
       "23       Gilmore, James S III                       3   \n",
       "18     Perry, James R. (Rick)                     103   \n",
       "22          Pataki, George E.                      20   \n",
       "14   Christie, Christopher J.                     323   \n",
       "15         Graham, Lindsey O.                     286   \n",
       "7                   Bush, Jeb                    2950   \n",
       "10              Walker, Scott                     618   \n",
       "12    O'Malley, Martin Joseph                     390   \n",
       "21              Jindal, Bobby                      31   \n",
       "17      Webb, James Henry Jr.                     106   \n",
       "8             Kasich, John R.                    2930   \n",
       "11             Huckabee, Mike                     520   \n",
       "20              Johnson, Gary                      68   \n",
       "4                Rubio, Marco                   12730   \n",
       "19       Santorum, Richard J.                      84   \n",
       "13           Lessig, Lawrence                     353   \n",
       "5              Fiorina, Carly                    4629   \n",
       "9            Trump, Donald J.                    2159   \n",
       "1     Clinton, Hillary Rodham                  158990   \n",
       "6                  Paul, Rand                    4144   \n",
       "16                Stein, Jill                     169   \n",
       "2   Cruz, Rafael Edward 'Ted'                   55158   \n",
       "3         Carson, Benjamin S.                   26736   \n",
       "0            Sanders, Bernard                  369574   \n",
       "\n",
       "    Value_of_Contribution_Amt  Avg_Per_Donation  \n",
       "23                   8,100.00          2,700.00  \n",
       "18                 208,425.00          2,023.54  \n",
       "22                  30,450.00          1,522.50  \n",
       "14                 482,866.00          1,494.94  \n",
       "15                 422,995.00          1,479.00  \n",
       "7                3,448,920.23          1,169.13  \n",
       "10                 614,406.90            994.19  \n",
       "12                 302,234.26            774.96  \n",
       "21                  23,231.26            749.40  \n",
       "17                  76,568.16            722.34  \n",
       "8                1,528,071.54            521.53  \n",
       "11                 248,790.60            478.44  \n",
       "20                  31,787.80            467.47  \n",
       "4                5,789,867.92            454.82  \n",
       "19                  36,304.88            432.20  \n",
       "13                 148,032.52            419.36  \n",
       "5                1,561,652.42            337.36  \n",
       "9                  703,167.34            325.69  \n",
       "1               38,499,721.96            242.15  \n",
       "6                  756,528.89            182.56  \n",
       "16                  23,991.00            141.96  \n",
       "2                6,599,501.11            119.65  \n",
       "3                3,192,542.51            119.41  \n",
       "0               19,494,572.66             52.75  "
      ]
     },
     "execution_count": 110,
     "metadata": {},
     "output_type": "execute_result"
    }
   ],
   "source": [
    "# 2d YOUR CODE HERE\n",
    "dfc['Avg_Per_Donation'] = dfc['Value_of_Contribution_Amt'] / dfc['Count_of_Contributions']\n",
    "dfd = dfc.sort_values(by=['Avg_Per_Donation', 'Value_of_Contribution_Amt'], ascending=False)\n",
    "dfd # the table is sorted by Avg_Per_Donation, and then by Value_of_Contribution_Amt"
   ]
  },
  {
   "cell_type": "markdown",
   "metadata": {},
   "source": [
    "**2e. Plotting a Bar Chart**\n",
    "\n",
    "Make a bar chart that shows two different bars per candidate with one bar as the total value of the donations and the other as average $ per donation. \n",
    "- Show the Candidates Name on the x-axis\n",
    "- Show the amount on the y-axis\n",
    "- Include a title\n",
    "- Include axis labels\n",
    "- Hint: You can make the y-axis a log-scale if you'd prefer"
   ]
  },
  {
   "cell_type": "code",
   "execution_count": 129,
   "metadata": {},
   "outputs": [
    {
     "data": {
      "image/png": "[encoded data removed]",
      "text/plain": [
       "<matplotlib.figure.Figure at 0x120578dd8>"
      ]
     },
     "metadata": {},
     "output_type": "display_data"
    }
   ],
   "source": [
    "# 2e YOUR CODE HERE\n",
    "fig = dfd[['cand_nm','Value_of_Contribution_Amt','Avg_Per_Donation']].plot(kind='bar', x='cand_nm', logy=True, legend=True, figsize=(15,10), fontsize=10)\n",
    "fig.set_xlabel('Candidate',fontsize=12)\n",
    "fig.set_ylabel('Contribution Amt ($)',fontsize=12)\n",
    "plt.title('Contribution Breakdown by Candidate', size=15, weight='bold')\n",
    "plt.legend(loc='upper left')\n",
    "plt.show()"
   ]
  },
  {
   "cell_type": "markdown",
   "metadata": {},
   "source": [
    "**2f. Comment on the results of your data analysis in a short paragraph.**\n",
    "\n",
    "- There are several interesting conclusions you can draw from the table you have created.\n",
    "- What have you learned about campaign contributions in California?"
   ]
  },
  {
   "cell_type": "markdown",
   "metadata": {},
   "source": [
    "`2f YOUR RESPONSE HERE`\n",
    "- The candidate, James S III Gilmore, has the least total value in contribution amount, but has the highest average contribution amount.\n",
    "- Bernard Sanders has the most numbers of donations, but his average donation amount is the lowest. \n",
    "- The top three candidates with the highest in donation value and most numbers of donations have relatively low average donation amount (ranking amount the bottom 10). "
   ]
  },
  {
   "cell_type": "markdown",
   "metadata": {},
   "source": [
    "## 3. Exploring Donor Occupations\n",
    "\n",
    "Above in part 2, we saw that some simple data analysis can give us insights into the campaigns of our candidates. Now let's quickly look to see what *kind* of person is donating to each campaign using the `contbr_occupation` variable."
   ]
  },
  {
   "cell_type": "markdown",
   "metadata": {},
   "source": [
    "**3a. Show the top 5 occupations of individuals that contributed to Hillary Clinton.** \n",
    "\n",
    "- Subset your data to create a dataframe with only donations for Hillary Clinton.\n",
    "- Then use the `value_counts` and `head` methods to present the top 5 occupations (`contbr_occupation`) for her donors.\n",
    "- Note: we are just interested in the count of donations, not the value of those donations."
   ]
  },
  {
   "cell_type": "code",
   "execution_count": 135,
   "metadata": {
    "deletable": false,
    "nbgrader": {
     "checksum": "20a71229316bf24a2ce62c52f72d8142",
     "grade": true,
     "grade_id": "cell-963603c5ed346a99",
     "locked": false,
     "points": 0,
     "schema_version": 1,
     "solution": true
    }
   },
   "outputs": [
    {
     "data": {
      "text/plain": [
       "RETIRED                  33086\n",
       "ATTORNEY                  7138\n",
       "INFORMATION REQUESTED     4737\n",
       "TEACHER                   3571\n",
       "HOMEMAKER                 3358\n",
       "Name: contbr_occupation, dtype: int64"
      ]
     },
     "execution_count": 135,
     "metadata": {},
     "output_type": "execute_result"
    }
   ],
   "source": [
    "# 3a YOUR CODE HERE\n",
    "df_3a = contrib[contrib['cand_nm']=='Clinton, Hillary Rodham']\n",
    "df_3a['contbr_occupation'].value_counts().head()"
   ]
  },
  {
   "cell_type": "markdown",
   "metadata": {
    "deletable": false,
    "nbgrader": {
     "checksum": "426b589a9d6457f38381eb1c77678d4f",
     "grade": true,
     "grade_id": "cell-b6fc3f7c906c95a2",
     "locked": false,
     "points": 0,
     "schema_version": 1,
     "solution": true
    }
   },
   "source": [
    "**3b. Write a function called `get_donors`.**\n",
    "\n",
    "Imagine that you want to do the previous operation on several candidates.  To keep your work neat, you want to take the work you did on the Clinton-subset and wrap it in a function that you can apply to other subsets of the data.\n",
    "\n",
    "- The function should take a DataFrame as a parameter, and return a Series containing the counts for the top 5 occupations contained in that DataFrame."
   ]
  },
  {
   "cell_type": "code",
   "execution_count": 137,
   "metadata": {
    "collapsed": true,
    "deletable": false,
    "nbgrader": {
     "checksum": "81ebf2a2f96961b4464f6c35d2143427",
     "grade": true,
     "grade_id": "cell-bea2cf7a6fff8565",
     "locked": false,
     "points": 0,
     "schema_version": 1,
     "solution": true
    }
   },
   "outputs": [],
   "source": [
    "def get_donors(df):\n",
    "    \"\"\"This function takes a dataframe that contains a variable named contbr_occupation.\n",
    "    It outputs a Series containing the counts for the 5 most common values of that\n",
    "    variable.\"\"\"\n",
    "    \n",
    "    # 3b YOUR CODE HERE\n",
    "    return df['contbr_occupation'].value_counts().head()"
   ]
  },
  {
   "cell_type": "markdown",
   "metadata": {},
   "source": [
    "**3c. Now run the `get_donors` function on subsets of the dataframe corresponding to three candidates.**\n",
    "\n",
    "- Hillary Clinton\n",
    "- Bernie Sanders\n",
    "- Donald Trump"
   ]
  },
  {
   "cell_type": "code",
   "execution_count": 140,
   "metadata": {
    "deletable": false,
    "nbgrader": {
     "checksum": "bffd2778d22127102347386bfb6f5b20",
     "grade": true,
     "grade_id": "cell-4ad1da24176f0450",
     "locked": false,
     "points": 0,
     "schema_version": 1,
     "solution": true
    }
   },
   "outputs": [
    {
     "name": "stdout",
     "output_type": "stream",
     "text": [
      "Top 5 Donor list for Hillary Clinton\n",
      "==================================================\n",
      "RETIRED                  33086\n",
      "ATTORNEY                  7138\n",
      "INFORMATION REQUESTED     4737\n",
      "TEACHER                   3571\n",
      "HOMEMAKER                 3358\n",
      "Name: contbr_occupation, dtype: int64\n",
      "\n",
      "Top 5 Donor list for Bernie Sanders\n",
      "==================================================\n",
      "NOT EMPLOYED         96344\n",
      "RETIRED              15048\n",
      "TEACHER              10167\n",
      "SOFTWARE ENGINEER     7861\n",
      "ENGINEER              7093\n",
      "Name: contbr_occupation, dtype: int64\n",
      "\n",
      "Top 5 Donor list for Donald Trump\n",
      "==================================================\n",
      "RETIRED                  826\n",
      "INFORMATION REQUESTED     69\n",
      "CEO                       52\n",
      "OWNER                     50\n",
      "PRESIDENT                 34\n",
      "Name: contbr_occupation, dtype: int64\n"
     ]
    }
   ],
   "source": [
    "# 3c YOUR CODE HERE\n",
    "df_hc = contrib[contrib['cand_nm']=='Clinton, Hillary Rodham']\n",
    "df_bs = contrib[contrib['cand_nm']=='Sanders, Bernard']\n",
    "df_dt = contrib[contrib['cand_nm']=='Trump, Donald J.']\n",
    "\n",
    "print(\"Top 5 Donor list for Hillary Clinton\")\n",
    "print(\"=\"*50)\n",
    "print(get_donors(df_hc))\n",
    "print(\"\\nTop 5 Donor list for Bernie Sanders\")\n",
    "print(\"=\"*50)\n",
    "print(get_donors(df_bs))\n",
    "print(\"\\nTop 5 Donor list for Donald Trump\")\n",
    "print(\"=\"*50)\n",
    "print(get_donors(df_dt))"
   ]
  },
  {
   "cell_type": "markdown",
   "metadata": {},
   "source": [
    "**3d. Finally, use `groupby` to separate the entire dataset by candidate.**\n",
    "\n",
    "- Call .apply(get_donors) on your groupby object, which will apply the function you wrote to each subset of your data.\n",
    "- Look at your output and marvel at what pandas can do in just one line!"
   ]
  },
  {
   "cell_type": "code",
   "execution_count": 141,
   "metadata": {},
   "outputs": [
    {
     "data": {
      "text/plain": [
       "cand_nm                                                          \n",
       "Bush, Jeb                  RETIRED                                     976\n",
       "                           HOMEMAKER                                   174\n",
       "                           ATTORNEY                                     84\n",
       "                           PRESIDENT                                    79\n",
       "                           INFORMATION REQUESTED PER BEST EFFORTS       75\n",
       "Carson, Benjamin S.        RETIRED                                   13537\n",
       "                           INFORMATION REQUESTED PER BEST EFFORTS     1598\n",
       "                           HOMEMAKER                                  1001\n",
       "                           PHYSICIAN                                   311\n",
       "                           R.N.                                        230\n",
       "Christie, Christopher J.   RETIRED                                      38\n",
       "                           NONE                                         22\n",
       "                           CONSULTANT                                   18\n",
       "                           CEO                                          16\n",
       "                           HOMEMAKER                                    15\n",
       "Clinton, Hillary Rodham    RETIRED                                   33086\n",
       "                           ATTORNEY                                   7138\n",
       "                           INFORMATION REQUESTED                      4737\n",
       "                           TEACHER                                    3571\n",
       "                           HOMEMAKER                                  3358\n",
       "Cruz, Rafael Edward 'Ted'  RETIRED                                   22101\n",
       "                           INFORMATION REQUESTED PER BEST EFFORTS     1600\n",
       "                           HOMEMAKER                                  1209\n",
       "                           ENGINEER                                   1073\n",
       "                           TEACHER                                     807\n",
       "Fiorina, Carly             RETIRED                                    1963\n",
       "                           HOMEMAKER                                   160\n",
       "                           ATTORNEY                                    140\n",
       "                           INFORMATION REQUESTED PER BEST EFFORTS       92\n",
       "                           INVESTOR                                     63\n",
       "Gilmore, James S III       INVESTMENT MANAGEMENT                         1\n",
       "                           FINANCIAL ADVISOR                             1\n",
       "                           COB                                           1\n",
       "Graham, Lindsey O.         RETIRED                                      69\n",
       "                           INFORMATION REQUESTED PER BEST EFFORTS       16\n",
       "                           P/T ADJUNCT                                  13\n",
       "                           HOMEMAKER                                    11\n",
       "                           EXECUTIVE                                    10\n",
       "Huckabee, Mike             RETIRED                                     204\n",
       "                           REQUESTED PER BEST EFFORTS                   36\n",
       "                           HOMEMAKER                                    21\n",
       "                           OWNER                                        12\n",
       "                           FUNERAL DIRECTOR                             12\n",
       "Jindal, Bobby              RETIRED                                       5\n",
       "                           ENGINEER                                      4\n",
       "                           PROFESSOR                                     3\n",
       "                           PRESIDENT                                     2\n",
       "                           REALTOR                                       2\n",
       "Johnson, Gary              RETIRED                                      16\n",
       "                           TWICE REQUESTED, NOT RECEIVED                11\n",
       "                           SOFTWARE ENGINEER                             5\n",
       "                           ELECTRONIC TECHNICIAN                         3\n",
       "                           MARKETING                                     2\n",
       "Kasich, John R.            RETIRED                                     719\n",
       "                           ATTORNEY                                    124\n",
       "                           CEO                                          76\n",
       "                           HOMEMAKER                                    65\n",
       "                           PRESIDENT                                    63\n",
       "Lessig, Lawrence           SOFTWARE ENGINEER                            56\n",
       "                           DEVELOPER                                    42\n",
       "                           RETIRED                                      26\n",
       "                           ATTORNEY                                     18\n",
       "                           ENGINEER                                     17\n",
       "O'Malley, Martin Joseph    RETIRED                                      52\n",
       "                           ATTORNEY                                     26\n",
       "                           LECTURER                                     23\n",
       "                           CONSULTANT                                   20\n",
       "                           CEO                                          14\n",
       "Pataki, George E.          ATTORNEY                                      3\n",
       "                           PRESIDENT                                     2\n",
       "                           INFORMATION REQUESTED                         2\n",
       "                           HOMEMAKER                                     2\n",
       "                           BUSINESS MANAGER                              1\n",
       "Paul, Rand                 RETIRED                                     864\n",
       "                           ENGINEER                                    325\n",
       "                           INFORMATION REQUESTED                       176\n",
       "                           CONSULTANT                                   95\n",
       "                           HOMEMAKER                                    79\n",
       "Perry, James R. (Rick)     HOMEMAKER                                    10\n",
       "                           PRESIDENT                                    10\n",
       "                           ATTORNEY                                      7\n",
       "                           EXECUTIVE                                     6\n",
       "                           OWNER                                         5\n",
       "Rubio, Marco               RETIRED                                    5407\n",
       "                           HOMEMAKER                                   533\n",
       "                           INFORMATION REQUESTED PER BEST EFFORTS      474\n",
       "                           ATTORNEY                                    333\n",
       "                           PHYSICIAN                                   172\n",
       "Sanders, Bernard           NOT EMPLOYED                              96344\n",
       "                           RETIRED                                   15048\n",
       "                           TEACHER                                   10167\n",
       "                           SOFTWARE ENGINEER                          7861\n",
       "                           ENGINEER                                   7093\n",
       "Santorum, Richard J.       RETIRED                                      44\n",
       "                           ENGINEER                                      5\n",
       "                           MACHINIST                                     4\n",
       "                           GENERAL CONTRACTOR                            3\n",
       "                           PSYCHOLOGIST                                  3\n",
       "Stein, Jill                RETIRED                                      28\n",
       "                           RESEARCHER                                   20\n",
       "                           WRITER                                       18\n",
       "                           FORMAL FINANCIAL SERVICES EMPLOYEE            8\n",
       "                           SOFTWARE ENGINEER                             6\n",
       "Trump, Donald J.           RETIRED                                     826\n",
       "                           INFORMATION REQUESTED                        69\n",
       "                           CEO                                          52\n",
       "                           OWNER                                        50\n",
       "                           PRESIDENT                                    34\n",
       "Walker, Scott              RETIRED                                     218\n",
       "                           INFORMATION REQUESTED                        61\n",
       "                           PRESIDENT                                    26\n",
       "                           HOMEMAKER                                    26\n",
       "                           ATTORNEY                                     22\n",
       "Webb, James Henry Jr.      RETIRED                                      14\n",
       "                           ATTORNEY                                      8\n",
       "                           DEPUTY DISTRICT ATTORNEY                      7\n",
       "                           NOT EMPLOYED                                  5\n",
       "                           MATH EDUCATOR                                 5\n",
       "Name: contbr_occupation, dtype: int64"
      ]
     },
     "execution_count": 141,
     "metadata": {},
     "output_type": "execute_result"
    }
   ],
   "source": [
    "# 3d YOUR CODE HERE\n",
    "contrib.groupby('cand_nm').apply(get_donors)"
   ]
  },
  {
   "cell_type": "markdown",
   "metadata": {
    "collapsed": true,
    "deletable": false,
    "nbgrader": {
     "checksum": "14c2855e3d59f0da6b1afd5cf0da2da8",
     "grade": true,
     "grade_id": "cell-fd840cdd19d2bd2a",
     "locked": false,
     "points": 0,
     "schema_version": 1,
     "solution": true
    }
   },
   "source": [
    "**3e. Comment on your findings in a short paragraph.**"
   ]
  },
  {
   "cell_type": "markdown",
   "metadata": {
    "deletable": false,
    "nbgrader": {
     "checksum": "43ce3d15cee7ab73f53fd8f054c9826c",
     "grade": true,
     "grade_id": "cell-dce8d3107c1463ca",
     "locked": false,
     "points": 0,
     "schema_version": 1,
     "solution": true
    }
   },
   "source": [
    "`3e YOUR RESPONSE HERE`\n",
    "- Majority of the candidates have donors with \"RETIRED\" occuption in their top 5 donor list. \n",
    "- Gilmore, James S III only has 3 donors. \n",
    "- There are still a fair amount of donors' occuptions are unknown (i.e. INFORMATION REQUESTED PER BEST EFFORTS, etc.)"
   ]
  },
  {
   "cell_type": "markdown",
   "metadata": {},
   "source": [
    "**3f. Think about your findings in section 3 vs. your findings in section 2 of this assignment.**\n",
    "\n",
    "Do you have any new insights into the results you got in section 2, now that you see the top occupations for each candidate"
   ]
  },
  {
   "cell_type": "markdown",
   "metadata": {
    "deletable": false,
    "nbgrader": {
     "checksum": "a5f4e6df0f32e24c492a9589ec87fef6",
     "grade": true,
     "grade_id": "cell-9e3f68b21dac8e10",
     "locked": false,
     "points": 0,
     "schema_version": 1,
     "solution": true
    }
   },
   "source": [
    "`3f YOUR RESPONSE HERE`\n",
    "\n",
    "With the analysis of section 2, I know the statistics of donors' donations and their average donation amount per candidate. With the analysis of section 3, I know the composition of the donors per candidate. This would help me to shape a rough idea of each candidate's popularity among different occupations.  "
   ]
  },
  {
   "cell_type": "markdown",
   "metadata": {},
   "source": [
    "\n",
    "## 4. Plotting Data\n",
    "\n",
    "There is an important element that we have not yet explored in this dataset - time."
   ]
  },
  {
   "cell_type": "markdown",
   "metadata": {},
   "source": [
    "**4a. Present a single line chart with the following elements.**\n",
    "\n",
    "- Show the date on the x-axis\n",
    "- Show the contribution amount on the y-axis\n",
    "- Include a title\n",
    "- Include axis labels"
   ]
  },
  {
   "cell_type": "code",
   "execution_count": 147,
   "metadata": {
    "deletable": false,
    "nbgrader": {
     "checksum": "4f1a9e7ee0ded9d2b5af5777cb85e505",
     "grade": true,
     "grade_id": "cell-c14fbed9d72d54e3",
     "locked": false,
     "points": 0,
     "schema_version": 1,
     "solution": true
    }
   },
   "outputs": [
    {
     "data": {
      "image/png": "[encoded data removed]",
      "text/plain": [
       "<matplotlib.figure.Figure at 0x123c94048>"
      ]
     },
     "metadata": {},
     "output_type": "display_data"
    }
   ],
   "source": [
    "# 4a YOUR CODE HERE\n",
    "fig = contrib.plot.line(x='contb_receipt_dt', y='contb_receipt_amt', figsize=(10,8))\n",
    "fig.set_xlabel('Date',fontsize=12)\n",
    "fig.set_ylabel('Contribution Amt ($)',fontsize=12)\n",
    "plt.title('Contribution Breakdown by Date', size=15, weight='bold')\n",
    "plt.show()"
   ]
  },
  {
   "cell_type": "markdown",
   "metadata": {},
   "source": [
    "**4b. Make a better time-series line chart**\n",
    "\n",
    "This chart is messy and it is hard to gain insights from it.  Improve the chart from 4a so that your new chart shows a specific insight. In the spot provided, write the insight(s) that can be gained from this new time-series line chart."
   ]
  },
  {
   "cell_type": "code",
   "execution_count": 172,
   "metadata": {
    "deletable": false,
    "nbgrader": {
     "checksum": "6dc1481a003cdd752c5edfa9ac400879",
     "grade": true,
     "grade_id": "cell-f7a01ce9c5b10ac7",
     "locked": false,
     "points": 0,
     "schema_version": 1,
     "solution": true
    }
   },
   "outputs": [
    {
     "data": {
      "image/png": "[encoded data removed]",
      "text/plain": [
       "<matplotlib.figure.Figure at 0x12335f588>"
      ]
     },
     "metadata": {},
     "output_type": "display_data"
    }
   ],
   "source": [
    "# 4b YOUR CODE HERE\n",
    "# df_4b = contrib.groupby([contrib.contb_receipt_dt.dt.year, contrib.contb_receipt_dt.dt.month]).agg({'contb_receipt_amt':'sum'})\n",
    "df_4b = contrib.groupby(contrib.contb_receipt_dt.dt.to_period(\"M\")).agg({'contb_receipt_amt':'sum'})\n",
    "# df_4b\n",
    "fig = df_4b.plot.line(y='contb_receipt_amt', figsize=(10,8))\n",
    "fig.set_xlabel('Month-Year',fontsize=12)\n",
    "fig.set_ylabel('Contribution Amt ($)',fontsize=12)\n",
    "plt.title('Contribution Breakdown by Month and Year', size=15, weight='bold')\n",
    "plt.show()"
   ]
  },
  {
   "cell_type": "markdown",
   "metadata": {
    "deletable": false,
    "nbgrader": {
     "checksum": "010f5de5f6af4c7f830d1cf7a81bbc0f",
     "grade": true,
     "grade_id": "cell-5617179133b06d0c",
     "locked": false,
     "points": 0,
     "schema_version": 1,
     "solution": true
    }
   },
   "source": [
    "`4b YOUR RESPONSE HERE`\n",
    "- The figure shows monthly contribution amount from July 2014 to May 2016. To do this, a new dataframe is created from contrib grouping by the month and year of contb_receipt_dt, and summing up the contb_receipt_amt within that month and year. \n",
    "- The figure shows that the donation amount stays flat and low from July 2014 to near March 2015. Starting from April 2015, donation amount increases greatly, and reaches peak around March 2016.  "
   ]
  },
  {
   "cell_type": "markdown",
   "metadata": {},
   "source": [
    "## If you have feedback for this homework, please submit it using the link below:\n",
    "\n",
    "http://goo.gl/forms/74yCiQTf6k"
   ]
  }
 ],
 "metadata": {
  "kernelspec": {
   "display_name": "Python 3",
   "language": "python",
   "name": "python3"
  },
  "language_info": {
   "codemirror_mode": {
    "name": "ipython",
    "version": 3
   },
   "file_extension": ".py",
   "mimetype": "text/x-python",
   "name": "python",
   "nbconvert_exporter": "python",
   "pygments_lexer": "ipython3",
   "version": "3.6.1"
  }
 },
 "nbformat": 4,
 "nbformat_minor": 2
}
