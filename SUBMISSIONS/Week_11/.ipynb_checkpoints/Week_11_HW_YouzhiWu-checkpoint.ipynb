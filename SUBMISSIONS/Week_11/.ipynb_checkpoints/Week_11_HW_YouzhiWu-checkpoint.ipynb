{
 "cells": [
  {
   "cell_type": "markdown",
   "metadata": {
    "deletable": false,
    "editable": false,
    "nbgrader": {
     "checksum": "7d7e8c4d53c2dde176ac3537dba5446d",
     "grade": false,
     "grade_id": "cell-4cc0ffd6a5810c6d",
     "locked": true,
     "schema_version": 1,
     "solution": false
    }
   },
   "source": [
    "## Week 11 Assignment - W200 Python Fundamentals for Data Science, UC Berkeley MIDS\n",
    "\n",
    "Write code in this Jupyter Notebook to solve the following problems. Please upload this **Notebook** with your solutions to your GitHub repository in your SUBMISSIONS/week_11 folder by 11:59PM PST the night before class."
   ]
  },
  {
   "cell_type": "markdown",
   "metadata": {
    "deletable": false,
    "editable": false,
    "nbgrader": {
     "checksum": "db0957d3d5bc4f6717eca78f9b678ed2",
     "grade": false,
     "grade_id": "cell-1f3ffd327d56ecbc",
     "locked": true,
     "schema_version": 1,
     "solution": false
    }
   },
   "source": [
    "This homework assignment is Week 11 which corresponds to the Unit #10 async. If you turn-in anything on ISVC please do so under the Week 11 Assignment category. (Apologies for the confusion)"
   ]
  },
  {
   "cell_type": "markdown",
   "metadata": {
    "deletable": false,
    "editable": false,
    "nbgrader": {
     "checksum": "7f0052ad03473b614447de2125e13819",
     "grade": false,
     "grade_id": "cell-c398835a920065f4",
     "locked": true,
     "schema_version": 1,
     "solution": false
    }
   },
   "source": [
    "## Objectives\n",
    "* Demonstrate use of map and filter commands\n",
    "* Practice list comprehensions and lambda functions\n",
    "* Understand different ways to manipulate and perform calculations on Numpy arrays including:\n",
    "* Changing datatypes, getting the max values in each column and row, calculating the mean of a matrix\n",
    "* Matrix value comparisons and slicing of values"
   ]
  },
  {
   "cell_type": "markdown",
   "metadata": {
    "deletable": false,
    "editable": false,
    "nbgrader": {
     "checksum": "8567ea813027ec2494a660c445e4a9f9",
     "grade": false,
     "grade_id": "cell-bc58b3da65c5de3c",
     "locked": true,
     "schema_version": 1,
     "solution": false
    }
   },
   "source": [
    "## General Guidelines:\n",
    "\n",
    "- All calculations need to be done in the functions (that includes any formatting of the output)\n",
    "- Name your functions exactly as written in the problem statement\n",
    "- Please have your functions return the answer rather than printing it inside the function\n",
    "- Do not make a separate input() statement.  The functions will be passed the input as shown in the examples\n",
    "- The examples given are samples of how we will test/grade your code. Please ensure your functions output the same information\n",
    "- Answer format is graded - please match the examples\n",
    "- Docstrings and comments in your code are strongly suggested but won't be graded\n",
    "- This homework is mostly auto-graded.  The blank code blocks are the auto-grading scripts - please do not delete these!\n",
    "- Your code needs to be written in the #Your Code Here blocks or it wont be graded correctly.\n"
   ]
  },
  {
   "cell_type": "code",
   "execution_count": 1,
   "metadata": {
    "collapsed": true
   },
   "outputs": [],
   "source": [
    "import pandas as pd\n",
    "# Note: if you get 'no such module found' error, please run pip install pandas from your terminal"
   ]
  },
  {
   "cell_type": "markdown",
   "metadata": {
    "deletable": false,
    "editable": false,
    "nbgrader": {
     "checksum": "e0a19a81f37ee9e884b18e587ceec84d",
     "grade": false,
     "grade_id": "cell-855c75985f9edefd",
     "locked": true,
     "schema_version": 1,
     "solution": false
    }
   },
   "source": [
    "## 1. List, Mapping, Filtering, and Reducing Comprehensions\n",
    "\n",
    "A. Write a function that squares any number (integer or floating type values), reverses the content if it is a string, and returns None if it is another kind of value."
   ]
  },
  {
   "cell_type": "code",
   "execution_count": 8,
   "metadata": {
    "deletable": false,
    "nbgrader": {
     "checksum": "c800c522783ac6b4ae7ad8037ba866b3",
     "grade": false,
     "grade_id": "cell-dfddd13006f81c36",
     "locked": false,
     "schema_version": 1,
     "solution": true
    }
   },
   "outputs": [
    {
     "name": "stdout",
     "output_type": "stream",
     "text": [
      "None\n"
     ]
    }
   ],
   "source": [
    "def compute(value):\n",
    "    '''squares any number (integer or floating type values), \n",
    "    reverses the content if it is a string, and \n",
    "    returns None if it is another kind of value'''\n",
    "    # YOUR CODE HERE\n",
    "    if type(value) == int or type(value) == float:\n",
    "        return value ** 2\n",
    "    elif type(value) == str:\n",
    "        return \"\".join(list(reversed(value)))\n",
    "    else:\n",
    "        return None\n"
   ]
  },
  {
   "cell_type": "code",
   "execution_count": null,
   "metadata": {
    "collapsed": true,
    "deletable": false,
    "editable": false,
    "nbgrader": {
     "checksum": "664c977cdf9f2f98d4d5c27dc926d0ff",
     "grade": true,
     "grade_id": "cell-88242cbaef2afe19",
     "locked": true,
     "points": 3,
     "schema_version": 1,
     "solution": false
    }
   },
   "outputs": [],
   "source": [
    "### Autograded cells. Do not remove."
   ]
  },
  {
   "cell_type": "code",
   "execution_count": null,
   "metadata": {
    "collapsed": true,
    "deletable": false,
    "editable": false,
    "nbgrader": {
     "checksum": "670f9f9fd3e9bb85697750831f221f3a",
     "grade": true,
     "grade_id": "cell-257a5430df922fd1",
     "locked": true,
     "points": 3,
     "schema_version": 1,
     "solution": false
    }
   },
   "outputs": [],
   "source": [
    "### Autograded cells. Do not remove."
   ]
  },
  {
   "cell_type": "code",
   "execution_count": null,
   "metadata": {
    "collapsed": true,
    "deletable": false,
    "editable": false,
    "nbgrader": {
     "checksum": "5d66dd9271941d96816ab8a3fc452163",
     "grade": true,
     "grade_id": "cell-90fd0a6f7ef73ec9",
     "locked": true,
     "points": 2,
     "schema_version": 1,
     "solution": false
    }
   },
   "outputs": [],
   "source": [
    "### Autograded cells. Do not remove."
   ]
  },
  {
   "cell_type": "markdown",
   "metadata": {
    "deletable": false,
    "editable": false,
    "nbgrader": {
     "checksum": "753d101b42762c066848b97e799f926f",
     "grade": false,
     "grade_id": "cell-0f13fa84ab6c1b52",
     "locked": true,
     "schema_version": 1,
     "solution": false
    }
   },
   "source": [
    "B. Now apply this function to a list of values using a list comprehension. Your function should be able to do this in ONE single line. \n",
    "\n",
    "Example function call: list_compute(['cup', '321', 12, ['x']])\n",
    "\n",
    "Expected output: \n",
    "\n",
    "['puc', '123', 144, None]\n"
   ]
  },
  {
   "cell_type": "code",
   "execution_count": 9,
   "metadata": {
    "deletable": false,
    "nbgrader": {
     "checksum": "87c48996b88cc3773221b5e358a2b147",
     "grade": false,
     "grade_id": "cell-da6d422423b3c077",
     "locked": false,
     "schema_version": 1,
     "solution": true
    }
   },
   "outputs": [
    {
     "name": "stdout",
     "output_type": "stream",
     "text": [
      "['puc', '123', 144, None]\n"
     ]
    }
   ],
   "source": [
    "def list_compute(my_list):\n",
    "    # the solution should be written in one line\n",
    "    # YOUR CODE HERE\n",
    "    return [compute(item) for item in my_list]\n"
   ]
  },
  {
   "cell_type": "code",
   "execution_count": null,
   "metadata": {
    "collapsed": true,
    "deletable": false,
    "editable": false,
    "nbgrader": {
     "checksum": "a9280db9bac2ae45654805fc39ce11a4",
     "grade": true,
     "grade_id": "cell-2664bfa811f05f4f",
     "locked": true,
     "points": 5,
     "schema_version": 1,
     "solution": false
    }
   },
   "outputs": [],
   "source": [
    "### Autograded cells. Do not remove."
   ]
  },
  {
   "cell_type": "markdown",
   "metadata": {
    "deletable": false,
    "editable": false,
    "nbgrader": {
     "checksum": "1ecd5a473d13741180eaf549a4c16acb",
     "grade": false,
     "grade_id": "cell-9e20909606598336",
     "locked": true,
     "schema_version": 1,
     "solution": false
    }
   },
   "source": [
    "C. Write a function to remove any integer values that are less than 5 in your result and return this result. You should be able to this in ONE single line.\n",
    "\n",
    "Example function call: list_compute(['cup', '321', 2, ['x'], 4])\n",
    "\n",
    "Expected output: \n",
    "\n",
    "['puc', '123', None, 16]\n",
    "\n",
    "* Step 1: Use map to apply compute function to your list\n",
    "* Step 2: Use filter to apply the above constraint to your output in step 1. You might want to refactor your filter logic in a separate function (it won't be counted against the single line constraint imposed above)\n"
   ]
  },
  {
   "cell_type": "code",
   "execution_count": 10,
   "metadata": {
    "deletable": false,
    "nbgrader": {
     "checksum": "7beaac0ef2181d81c368cb88dcc06e60",
     "grade": false,
     "grade_id": "cell-66df364de55a24a3",
     "locked": false,
     "schema_version": 1,
     "solution": true
    }
   },
   "outputs": [
    {
     "data": {
      "text/plain": [
       "['puc', '123', None, 16]"
      ]
     },
     "execution_count": 10,
     "metadata": {},
     "output_type": "execute_result"
    }
   ],
   "source": [
    "def filtered_compute(my_list):\n",
    "    # the solution should be written in one line\n",
    "    # do not forget to return the computed value\n",
    "    # YOUR CODE HERE\n",
    "    return list(filter(is_less_than_five, list(map(compute, my_list))))\n",
    "\n",
    "def is_less_than_five(value):\n",
    "    if type(value) == int and value < 5: \n",
    "        # only apply to integer as the question states that to remove any integer values less than 5\n",
    "        return False\n",
    "    else:\n",
    "        return True\n"
   ]
  },
  {
   "cell_type": "code",
   "execution_count": null,
   "metadata": {
    "collapsed": true,
    "deletable": false,
    "editable": false,
    "nbgrader": {
     "checksum": "266fcd80ded5fea4f911faa1c2a9aac8",
     "grade": true,
     "grade_id": "cell-4223e633a4ff1d77",
     "locked": true,
     "points": 4,
     "schema_version": 1,
     "solution": false
    }
   },
   "outputs": [],
   "source": [
    "### Autograded cells. Do not remove."
   ]
  },
  {
   "cell_type": "markdown",
   "metadata": {
    "deletable": false,
    "editable": false,
    "nbgrader": {
     "checksum": "b2bd74ffc53a0d31dfe85337a6f6b599",
     "grade": false,
     "grade_id": "cell-4f7277d7cf12a572",
     "locked": true,
     "schema_version": 1,
     "solution": false
    }
   },
   "source": [
    "D. Now that you are an expert in maps and filters, write the above logic in ONE line using lambdas, maps and filters i.e., you should not make any function calls in your code.  There should be one lambda for the map and one lambda for the filter."
   ]
  },
  {
   "cell_type": "code",
   "execution_count": 11,
   "metadata": {
    "deletable": false,
    "nbgrader": {
     "checksum": "46826651ec45bfaab12c3d83eb715c9e",
     "grade": false,
     "grade_id": "cell-9c917cb0bb771ad9",
     "locked": false,
     "schema_version": 1,
     "solution": true
    }
   },
   "outputs": [
    {
     "data": {
      "text/plain": [
       "['puc', '123', None, 16]"
      ]
     },
     "execution_count": 11,
     "metadata": {},
     "output_type": "execute_result"
    }
   ],
   "source": [
    "def filtered_compute_pro(my_list):\n",
    "    # the solution should be written in one line with no additional functional calls\n",
    "    # do not forget to return the computed value\n",
    "    # YOUR CODE HERE\n",
    "    return list(filter(lambda x: False if type(x) == int and x < 5 else True, \n",
    "                       list(map(lambda x: x**2 if type(x) == int or type(x) == float else \"\".join(list(reversed(x))) if type(x) == str else None, \n",
    "                                my_list))))\n"
   ]
  },
  {
   "cell_type": "code",
   "execution_count": null,
   "metadata": {
    "collapsed": true,
    "deletable": false,
    "editable": false,
    "nbgrader": {
     "checksum": "054591ba16433dfcb5bb5edd7e729956",
     "grade": true,
     "grade_id": "cell-6cf9e33c874af18a",
     "locked": true,
     "points": 2,
     "schema_version": 1,
     "solution": false
    }
   },
   "outputs": [],
   "source": [
    "### Autograded cells. Do not remove."
   ]
  },
  {
   "cell_type": "markdown",
   "metadata": {
    "deletable": false,
    "editable": false,
    "nbgrader": {
     "checksum": "4f793df078bb9bb8fa22c6c334aa3184",
     "grade": false,
     "grade_id": "cell-4fe5ba9f67aac0d8",
     "locked": true,
     "schema_version": 1,
     "solution": false
    }
   },
   "source": [
    "## 2. Generating Random Data and Filtering That Data\n",
    "In this next section, we will work with NumPy. Please run the two cells below to set your random seed. (This makes the 'randomness' of the array the same for everyone)"
   ]
  },
  {
   "cell_type": "code",
   "execution_count": 12,
   "metadata": {
    "collapsed": true,
    "deletable": false,
    "editable": false,
    "nbgrader": {
     "checksum": "0b4fb0a957c9ffc89bb92c4e4ef6790f",
     "grade": false,
     "grade_id": "cell-2eef38fa43df4ac5",
     "locked": true,
     "schema_version": 1,
     "solution": false
    }
   },
   "outputs": [],
   "source": [
    "import numpy as np\n",
    "np.random.seed(25)\n",
    "ar = np.random.randn(1000)"
   ]
  },
  {
   "cell_type": "code",
   "execution_count": 13,
   "metadata": {
    "deletable": false,
    "editable": false,
    "nbgrader": {
     "checksum": "d0fa76ea11fabcf0176c9703a31b1318",
     "grade": false,
     "grade_id": "cell-d091070fb4fa4d8e",
     "locked": true,
     "schema_version": 1,
     "solution": false
    }
   },
   "outputs": [
    {
     "data": {
      "text/plain": [
       "array([  22,  102,  -83,  -59,  -95,  -22,  -61,  -73,   51,   86,  -92,\n",
       "        -23,  -41,  123,    7, -124,  120, -104,  105,  -41,  -27,   -3,\n",
       "         26,   68,   99,   59,   53,  -29,  -51,  -58,   22,   73,  -96,\n",
       "         38,   39,   40,   21,  -63,   24,   63,   11,   68,   24,  -70,\n",
       "         36,  -50,  -22,  -56,   10,  -55,  109,  -90,  -62,  -94,  117,\n",
       "        -37,  -54,   28,  -20,  118,   72,  -22,   94,   31, -116,   31,\n",
       "         47,   57,   50,  -62,  -34,   50,   76,  112,   16,  -96,   49,\n",
       "        -55,   -8,  -60,   -6,  -85,   42,  -27,  119,   -9,   83,  -78,\n",
       "        104,  -64,   67,   -9,  121,   49, -114,  -53,  -91,  -21,   19,\n",
       "        -32,   84,   76,   44,   43,  102,  -58,    4,   56, -114,    0,\n",
       "        -29,   23,   67,  122,  -60,  -16,  -65,  -19,   17,    3, -126,\n",
       "        -53,   52,   38,  -76,   -5,  -24,   20,  -30,   15,    3,  -32,\n",
       "        -77,  -33,   54, -115,  -74,  101,   96,  -18,  -54, -109,   43,\n",
       "        -73,   16,  -67,  -16,  -54,  -35,  -88,    9,  112,  -45,   87,\n",
       "       -114,  -85,   93,  -17,   41,  -28,  -90,   48,   -4,   64,    1,\n",
       "        -97,   59, -126, -100,  -48,   39,   62,   53,   37,  -52,   30,\n",
       "        -66,  -19,   92,  -84,  -77, -120,  -87, -128,   63,   50,  -39,\n",
       "        -64,  -50,  101, -118,   40, -126,   90,   73, -126,  120,  -36,\n",
       "         87,   84, -121,  111, -103,  -44,    5,  -56,    0,   17,   97,\n",
       "        -70,   11,   64,    1,  -43,   -6,   -6,  -39,   40,  -74,  -65,\n",
       "        -16, -115,   25,  -98,   98,  -53,  -26, -115,  -14,  106,   54,\n",
       "       -118,  -28,  -99,   96,   80,  -56,  -92,  -41,    0,   47,   71,\n",
       "        -96,   45,  -11, -118, -108, -108,   59,    8,  -88,   30,   59,\n",
       "        -17,   73,   14,  -15,   24,  -26,  -37,   34, -102,   57, -126,\n",
       "          8,  -82,   68, -103, -111,    9,   15,  -79,  -59,  -55,   65,\n",
       "        -20,  120,  -83,  -40,   69,  -57,   61,   19,  117,   11,   94,\n",
       "         15, -125, -117,    4, -110,  -37,  -50,  102,   27,  -64,  -17,\n",
       "        -17,   28,    2, -124,  -25,  -89,  -88,    2,   41,   31,   93,\n",
       "         77,   40, -116,   66,   -6, -113,   64,    1,   58,   57,    7,\n",
       "        -44,    3, -109,   74,  111,  -23,  -87,   23,  -80,   21,   83,\n",
       "        -60,    6,  126,   27,  -60, -118,  -29, -119, -120,   17,   73,\n",
       "         -1, -114,   -7,  111,    8,   28,   35,  -54,  111, -110,  -12,\n",
       "         -1,   46,  -54,    2,   70,   14,  -37,   46,   88,  -61,  121,\n",
       "         74,   88,  -30,   89,  -50,    4,  124,  -59,  -65,   89,   23,\n",
       "         82,  -70,   98,   -9,  -67,  -31,   -6,   43,   11,  -12,    0,\n",
       "        -18,   47,   58,   72,   98,  -20,   94,    6,  -10,  106,   43,\n",
       "         66,  -77,   58,   94,  100,  -97, -103, -104,   12,   78,   55,\n",
       "        -40,   78,  -65, -117,   47,  -98,   78,    8,   45,   20, -110,\n",
       "         16,   21,   64,   71,  -51,  -52,  -97, -100,   22, -109,  -45,\n",
       "         53,   -6,  -27, -127,    6,  -51,  -51,   45,   -2,   24,   86,\n",
       "       -103,   57,  -18,  -93, -127, -117,   55, -108,  119,  -23,   35,\n",
       "        125,   68,  -39,   54,  -74,  -46, -121,   -7,   37,  -33,  -20,\n",
       "        -86, -117,   74,   22,   72,   61,   60,  -46,  105,   27,  -12,\n",
       "        -28,  -31,   61,   40, -125,    4,    6,  -77,  -30,  116,  -35,\n",
       "         89,   63,   80, -103,  -28, -112,   43,  -97,  -70,  -41,  123,\n",
       "        -25,  -92,  -59,   41,  -45,  -77,  -24,  -21,  117,   68,    0,\n",
       "         69,   17,   62,   50,   42,   -5,   71,    5,   56,  -36,   48,\n",
       "         62,  -35,  110,   63,    3,  105,  -41,   38,   71,   48,   73,\n",
       "         91,   67,   25,  -50,   33,  -11,  -25,  111,   40,  106,  -57,\n",
       "         71,  -39,  125,   64,    9,   62,   29,  -14,  -54,  -91,  114,\n",
       "         31,  118,  121,  -41,   91,    1,   44,    5,  -46,  -52,   98,\n",
       "        124,  -19, -122,   29,  116,   81,  -30,   49,   94,   -9,  -24,\n",
       "        -44,  -52,   28,  -45,   89,  -35,  -78,   18,   -1,  -11,  -73,\n",
       "        -91,  -65,    0,   34,   67,  -14,  -40,  -83,   48,  124,  -47,\n",
       "        -22,   10,   23,  -30,  117,   81,   40,  -97,  126,   14, -106,\n",
       "         45, -112, -108,   37,    0,  -21,   93,  -93,   86,   61, -103,\n",
       "         63,  106,  -83, -117,  100,   35,   69,  -29,   42,  -14,  -33,\n",
       "        -97,   66,   97,   12,  113,  101, -112,  -19, -116,   64, -113,\n",
       "        -92, -127,  -14, -110,  -82,   29,  112,    2,  -97,   39,   44,\n",
       "         74,  118,  -21,   30,    5,  109,  -11,    1,   82,   -6,  -41,\n",
       "         97, -123,  103,    4,   70,    1,  -70,  -39,  -28,  -25,   -8,\n",
       "        -64,   57,  -79, -118,  123,  -45,   31,  -86,   83,   50,   -7,\n",
       "         41,   33,    4,  -16,   91,  -29,  126,  -19,   87,  119,  -20,\n",
       "        -49,  112,   -8,  -11,   24,  -31,  -51,    1,   -3, -117,  -41,\n",
       "        -41, -123, -112,  119,  -56,   42,  -22,   80,   33,  -51,  -16,\n",
       "        109,   60,   47,  -87,   13,  -76,   19,  -96,  -25,  126,   84,\n",
       "        -78,  -70,  -35,   85,   76,   49,    6,  110,   95,  -68,   30,\n",
       "         73,  -86, -111,   37,  115,  -52,   90,   68,   52, -111,  -83,\n",
       "        -36, -117,  -81,  -89,   77,  115,  -64,   12,   51,  -53,  -57,\n",
       "         62,  -10,   48,  -29,  -44,   54, -105,  -93,   23, -117,   46,\n",
       "        -96,   64,   48,  102,   30, -122, -125,  107,  -24,  -54,  106,\n",
       "         77,  -61,    1, -118, -120,  -54,   68, -120,  -38,   79, -112,\n",
       "         36,   54,   41,  -20,  -96,   98,    0,  -32,  -57, -115,   43,\n",
       "       -110,   98,  -59,   37,   78,  -39,   65,   68,   -9,   -5,  -73,\n",
       "        -90,  -70,   58,  -61,   45,  -90,  -15,   88,   57,  -60,   53,\n",
       "         51,  -95,  -88,   43,   86,  -95,  -62,   19,   44,   52,  -21,\n",
       "          9,   93,   81,    7,   63,   32,  -42, -107,   75,   19,  -36,\n",
       "         -1,  -81,   81,   44,  -97,   -6,   22,  126,  -57,   42,  104,\n",
       "        -61,    7,   -9,   26,   94,   33, -122,  -16, -110,  -16,   -9,\n",
       "        -83,  -20,   39,   76,  123,  -20,  -20,  -46,   25,    2,  118,\n",
       "       -103, -114,   65,   -4,   -7, -124,  -68,  104,  -55,  121,   64,\n",
       "       -102,  -34,   58,   79, -124, -114,  -51,   18, -109,  -60,  -64,\n",
       "         22,  -66, -116,   81,   44,  -57,   35,   40,    9,   27,   48,\n",
       "         -8,  -71,   92,  100,  108,   36,   75,  119,  -97,  -58,   31,\n",
       "        116,   14,  103,  116, -120,   73,  118,  -51,  -80, -117,   93,\n",
       "       -112,  -47,   98, -115,  -90, -100,   22,  -33,  121,   25,  -40,\n",
       "         26,   -1,  -91,   36,  -58,   67,  125, -118, -114, -127, -127,\n",
       "        -30,  -42,  -67,   87, -126,  -26, -109,  -66,  -64,  -55,  -19,\n",
       "         11,  -26,  -52,    9,    9,  -97,   18,  114,   -6,  110,  106,\n",
       "         -3,   80,  -65,   93,   21,  -53,   95,   24,   63,  -51,  -71,\n",
       "        -34,  -56,  -38,   -2,  -47,   86,   17,   59,  121,  127], dtype=int8)"
      ]
     },
     "execution_count": 13,
     "metadata": {},
     "output_type": "execute_result"
    }
   ],
   "source": [
    "\n",
    "# Do NOT change this code!\n",
    "ar = ar * 100\n",
    "ar = ar.astype('int8')\n",
    "ar"
   ]
  },
  {
   "cell_type": "code",
   "execution_count": null,
   "metadata": {
    "collapsed": true,
    "deletable": false,
    "editable": false,
    "nbgrader": {
     "checksum": "7a0289614b4ce068b19383f8ee06526c",
     "grade": true,
     "grade_id": "cell-122df6676e7ea0b4",
     "locked": true,
     "points": 0,
     "schema_version": 1,
     "solution": false
    }
   },
   "outputs": [],
   "source": [
    "## Autograded cells. Do not remove"
   ]
  },
  {
   "cell_type": "markdown",
   "metadata": {
    "deletable": false,
    "editable": false,
    "nbgrader": {
     "checksum": "1b735a8f5aac4d502ad0f9d64454cb62",
     "grade": false,
     "grade_id": "cell-20f89916d2da1dd6",
     "locked": true,
     "schema_version": 1,
     "solution": false
    }
   },
   "source": [
    "A. Write code that takes an array (of size 1000) and reshapes the array into a set of five columns with 200 rows. Replace the original ar array with this new matrix and return it "
   ]
  },
  {
   "cell_type": "code",
   "execution_count": 15,
   "metadata": {
    "deletable": false,
    "nbgrader": {
     "checksum": "929edc639ca242b0cd374d38bea7a0cd",
     "grade": false,
     "grade_id": "cell-0d019784425900d3",
     "locked": false,
     "schema_version": 1,
     "solution": true
    }
   },
   "outputs": [
    {
     "data": {
      "text/plain": [
       "array([[  22,  102,  -83,  -59,  -95],\n",
       "       [ -22,  -61,  -73,   51,   86],\n",
       "       [ -92,  -23,  -41,  123,    7],\n",
       "       [-124,  120, -104,  105,  -41],\n",
       "       [ -27,   -3,   26,   68,   99],\n",
       "       [  59,   53,  -29,  -51,  -58],\n",
       "       [  22,   73,  -96,   38,   39],\n",
       "       [  40,   21,  -63,   24,   63],\n",
       "       [  11,   68,   24,  -70,   36],\n",
       "       [ -50,  -22,  -56,   10,  -55],\n",
       "       [ 109,  -90,  -62,  -94,  117],\n",
       "       [ -37,  -54,   28,  -20,  118],\n",
       "       [  72,  -22,   94,   31, -116],\n",
       "       [  31,   47,   57,   50,  -62],\n",
       "       [ -34,   50,   76,  112,   16],\n",
       "       [ -96,   49,  -55,   -8,  -60],\n",
       "       [  -6,  -85,   42,  -27,  119],\n",
       "       [  -9,   83,  -78,  104,  -64],\n",
       "       [  67,   -9,  121,   49, -114],\n",
       "       [ -53,  -91,  -21,   19,  -32],\n",
       "       [  84,   76,   44,   43,  102],\n",
       "       [ -58,    4,   56, -114,    0],\n",
       "       [ -29,   23,   67,  122,  -60],\n",
       "       [ -16,  -65,  -19,   17,    3],\n",
       "       [-126,  -53,   52,   38,  -76],\n",
       "       [  -5,  -24,   20,  -30,   15],\n",
       "       [   3,  -32,  -77,  -33,   54],\n",
       "       [-115,  -74,  101,   96,  -18],\n",
       "       [ -54, -109,   43,  -73,   16],\n",
       "       [ -67,  -16,  -54,  -35,  -88],\n",
       "       [   9,  112,  -45,   87, -114],\n",
       "       [ -85,   93,  -17,   41,  -28],\n",
       "       [ -90,   48,   -4,   64,    1],\n",
       "       [ -97,   59, -126, -100,  -48],\n",
       "       [  39,   62,   53,   37,  -52],\n",
       "       [  30,  -66,  -19,   92,  -84],\n",
       "       [ -77, -120,  -87, -128,   63],\n",
       "       [  50,  -39,  -64,  -50,  101],\n",
       "       [-118,   40, -126,   90,   73],\n",
       "       [-126,  120,  -36,   87,   84],\n",
       "       [-121,  111, -103,  -44,    5],\n",
       "       [ -56,    0,   17,   97,  -70],\n",
       "       [  11,   64,    1,  -43,   -6],\n",
       "       [  -6,  -39,   40,  -74,  -65],\n",
       "       [ -16, -115,   25,  -98,   98],\n",
       "       [ -53,  -26, -115,  -14,  106],\n",
       "       [  54, -118,  -28,  -99,   96],\n",
       "       [  80,  -56,  -92,  -41,    0],\n",
       "       [  47,   71,  -96,   45,  -11],\n",
       "       [-118, -108, -108,   59,    8],\n",
       "       [ -88,   30,   59,  -17,   73],\n",
       "       [  14,  -15,   24,  -26,  -37],\n",
       "       [  34, -102,   57, -126,    8],\n",
       "       [ -82,   68, -103, -111,    9],\n",
       "       [  15,  -79,  -59,  -55,   65],\n",
       "       [ -20,  120,  -83,  -40,   69],\n",
       "       [ -57,   61,   19,  117,   11],\n",
       "       [  94,   15, -125, -117,    4],\n",
       "       [-110,  -37,  -50,  102,   27],\n",
       "       [ -64,  -17,  -17,   28,    2],\n",
       "       [-124,  -25,  -89,  -88,    2],\n",
       "       [  41,   31,   93,   77,   40],\n",
       "       [-116,   66,   -6, -113,   64],\n",
       "       [   1,   58,   57,    7,  -44],\n",
       "       [   3, -109,   74,  111,  -23],\n",
       "       [ -87,   23,  -80,   21,   83],\n",
       "       [ -60,    6,  126,   27,  -60],\n",
       "       [-118,  -29, -119, -120,   17],\n",
       "       [  73,   -1, -114,   -7,  111],\n",
       "       [   8,   28,   35,  -54,  111],\n",
       "       [-110,  -12,   -1,   46,  -54],\n",
       "       [   2,   70,   14,  -37,   46],\n",
       "       [  88,  -61,  121,   74,   88],\n",
       "       [ -30,   89,  -50,    4,  124],\n",
       "       [ -59,  -65,   89,   23,   82],\n",
       "       [ -70,   98,   -9,  -67,  -31],\n",
       "       [  -6,   43,   11,  -12,    0],\n",
       "       [ -18,   47,   58,   72,   98],\n",
       "       [ -20,   94,    6,  -10,  106],\n",
       "       [  43,   66,  -77,   58,   94],\n",
       "       [ 100,  -97, -103, -104,   12],\n",
       "       [  78,   55,  -40,   78,  -65],\n",
       "       [-117,   47,  -98,   78,    8],\n",
       "       [  45,   20, -110,   16,   21],\n",
       "       [  64,   71,  -51,  -52,  -97],\n",
       "       [-100,   22, -109,  -45,   53],\n",
       "       [  -6,  -27, -127,    6,  -51],\n",
       "       [ -51,   45,   -2,   24,   86],\n",
       "       [-103,   57,  -18,  -93, -127],\n",
       "       [-117,   55, -108,  119,  -23],\n",
       "       [  35,  125,   68,  -39,   54],\n",
       "       [ -74,  -46, -121,   -7,   37],\n",
       "       [ -33,  -20,  -86, -117,   74],\n",
       "       [  22,   72,   61,   60,  -46],\n",
       "       [ 105,   27,  -12,  -28,  -31],\n",
       "       [  61,   40, -125,    4,    6],\n",
       "       [ -77,  -30,  116,  -35,   89],\n",
       "       [  63,   80, -103,  -28, -112],\n",
       "       [  43,  -97,  -70,  -41,  123],\n",
       "       [ -25,  -92,  -59,   41,  -45],\n",
       "       [ -77,  -24,  -21,  117,   68],\n",
       "       [   0,   69,   17,   62,   50],\n",
       "       [  42,   -5,   71,    5,   56],\n",
       "       [ -36,   48,   62,  -35,  110],\n",
       "       [  63,    3,  105,  -41,   38],\n",
       "       [  71,   48,   73,   91,   67],\n",
       "       [  25,  -50,   33,  -11,  -25],\n",
       "       [ 111,   40,  106,  -57,   71],\n",
       "       [ -39,  125,   64,    9,   62],\n",
       "       [  29,  -14,  -54,  -91,  114],\n",
       "       [  31,  118,  121,  -41,   91],\n",
       "       [   1,   44,    5,  -46,  -52],\n",
       "       [  98,  124,  -19, -122,   29],\n",
       "       [ 116,   81,  -30,   49,   94],\n",
       "       [  -9,  -24,  -44,  -52,   28],\n",
       "       [ -45,   89,  -35,  -78,   18],\n",
       "       [  -1,  -11,  -73,  -91,  -65],\n",
       "       [   0,   34,   67,  -14,  -40],\n",
       "       [ -83,   48,  124,  -47,  -22],\n",
       "       [  10,   23,  -30,  117,   81],\n",
       "       [  40,  -97,  126,   14, -106],\n",
       "       [  45, -112, -108,   37,    0],\n",
       "       [ -21,   93,  -93,   86,   61],\n",
       "       [-103,   63,  106,  -83, -117],\n",
       "       [ 100,   35,   69,  -29,   42],\n",
       "       [ -14,  -33,  -97,   66,   97],\n",
       "       [  12,  113,  101, -112,  -19],\n",
       "       [-116,   64, -113,  -92, -127],\n",
       "       [ -14, -110,  -82,   29,  112],\n",
       "       [   2,  -97,   39,   44,   74],\n",
       "       [ 118,  -21,   30,    5,  109],\n",
       "       [ -11,    1,   82,   -6,  -41],\n",
       "       [  97, -123,  103,    4,   70],\n",
       "       [   1,  -70,  -39,  -28,  -25],\n",
       "       [  -8,  -64,   57,  -79, -118],\n",
       "       [ 123,  -45,   31,  -86,   83],\n",
       "       [  50,   -7,   41,   33,    4],\n",
       "       [ -16,   91,  -29,  126,  -19],\n",
       "       [  87,  119,  -20,  -49,  112],\n",
       "       [  -8,  -11,   24,  -31,  -51],\n",
       "       [   1,   -3, -117,  -41,  -41],\n",
       "       [-123, -112,  119,  -56,   42],\n",
       "       [ -22,   80,   33,  -51,  -16],\n",
       "       [ 109,   60,   47,  -87,   13],\n",
       "       [ -76,   19,  -96,  -25,  126],\n",
       "       [  84,  -78,  -70,  -35,   85],\n",
       "       [  76,   49,    6,  110,   95],\n",
       "       [ -68,   30,   73,  -86, -111],\n",
       "       [  37,  115,  -52,   90,   68],\n",
       "       [  52, -111,  -83,  -36, -117],\n",
       "       [ -81,  -89,   77,  115,  -64],\n",
       "       [  12,   51,  -53,  -57,   62],\n",
       "       [ -10,   48,  -29,  -44,   54],\n",
       "       [-105,  -93,   23, -117,   46],\n",
       "       [ -96,   64,   48,  102,   30],\n",
       "       [-122, -125,  107,  -24,  -54],\n",
       "       [ 106,   77,  -61,    1, -118],\n",
       "       [-120,  -54,   68, -120,  -38],\n",
       "       [  79, -112,   36,   54,   41],\n",
       "       [ -20,  -96,   98,    0,  -32],\n",
       "       [ -57, -115,   43, -110,   98],\n",
       "       [ -59,   37,   78,  -39,   65],\n",
       "       [  68,   -9,   -5,  -73,  -90],\n",
       "       [ -70,   58,  -61,   45,  -90],\n",
       "       [ -15,   88,   57,  -60,   53],\n",
       "       [  51,  -95,  -88,   43,   86],\n",
       "       [ -95,  -62,   19,   44,   52],\n",
       "       [ -21,    9,   93,   81,    7],\n",
       "       [  63,   32,  -42, -107,   75],\n",
       "       [  19,  -36,   -1,  -81,   81],\n",
       "       [  44,  -97,   -6,   22,  126],\n",
       "       [ -57,   42,  104,  -61,    7],\n",
       "       [  -9,   26,   94,   33, -122],\n",
       "       [ -16, -110,  -16,   -9,  -83],\n",
       "       [ -20,   39,   76,  123,  -20],\n",
       "       [ -20,  -46,   25,    2,  118],\n",
       "       [-103, -114,   65,   -4,   -7],\n",
       "       [-124,  -68,  104,  -55,  121],\n",
       "       [  64, -102,  -34,   58,   79],\n",
       "       [-124, -114,  -51,   18, -109],\n",
       "       [ -60,  -64,   22,  -66, -116],\n",
       "       [  81,   44,  -57,   35,   40],\n",
       "       [   9,   27,   48,   -8,  -71],\n",
       "       [  92,  100,  108,   36,   75],\n",
       "       [ 119,  -97,  -58,   31,  116],\n",
       "       [  14,  103,  116, -120,   73],\n",
       "       [ 118,  -51,  -80, -117,   93],\n",
       "       [-112,  -47,   98, -115,  -90],\n",
       "       [-100,   22,  -33,  121,   25],\n",
       "       [ -40,   26,   -1,  -91,   36],\n",
       "       [ -58,   67,  125, -118, -114],\n",
       "       [-127, -127,  -30,  -42,  -67],\n",
       "       [  87, -126,  -26, -109,  -66],\n",
       "       [ -64,  -55,  -19,   11,  -26],\n",
       "       [ -52,    9,    9,  -97,   18],\n",
       "       [ 114,   -6,  110,  106,   -3],\n",
       "       [  80,  -65,   93,   21,  -53],\n",
       "       [  95,   24,   63,  -51,  -71],\n",
       "       [ -34,  -56,  -38,   -2,  -47],\n",
       "       [  86,   17,   59,  121,  127]], dtype=int8)"
      ]
     },
     "execution_count": 15,
     "metadata": {},
     "output_type": "execute_result"
    }
   ],
   "source": [
    "def reshape(my_array):\n",
    "    # YOUR CODE HERE\n",
    "    return my_array.reshape(200,5) \n",
    "\n",
    "\n",
    "# Example:\n",
    "ar = reshape(ar)\n"
   ]
  },
  {
   "cell_type": "code",
   "execution_count": null,
   "metadata": {
    "collapsed": true,
    "deletable": false,
    "editable": false,
    "nbgrader": {
     "checksum": "9457067d003455cb56ca27387cf25b98",
     "grade": true,
     "grade_id": "cell-5ee412cb4b703023",
     "locked": true,
     "points": 4,
     "schema_version": 1,
     "solution": false
    }
   },
   "outputs": [],
   "source": [
    "### Autograded cells. Do not remove."
   ]
  },
  {
   "cell_type": "markdown",
   "metadata": {
    "deletable": false,
    "editable": false,
    "nbgrader": {
     "checksum": "afd118166ff388e71aa393f8ac971aa6",
     "grade": false,
     "grade_id": "cell-a32291f630413c09",
     "locked": true,
     "schema_version": 1,
     "solution": false
    }
   },
   "source": [
    "B. Now that `ar` is a matrix, let's get the maximum and minimum values from the matrix, row wise. Be sure to remember how many total values you should be outputting (one for every row). Your function should return a tuple of rowmax value list and rowmin value list (in that order). \n",
    "\n",
    "For example: if my_matrix is:\n",
    "\n",
    "```\n",
    "4 1 5\n",
    "5 7 6\n",
    "4 5 6\n",
    "```\n",
    "\n",
    "The returned value should be:\n",
    "\n",
    "([5,7,6], [1,5,4])\n"
   ]
  },
  {
   "cell_type": "code",
   "execution_count": 16,
   "metadata": {
    "deletable": false,
    "nbgrader": {
     "checksum": "072fbc324bcb995e952473721b460796",
     "grade": false,
     "grade_id": "cell-b471db922002b45e",
     "locked": false,
     "schema_version": 1,
     "solution": true
    }
   },
   "outputs": [
    {
     "data": {
      "text/plain": [
       "([102,\n",
       "  86,\n",
       "  123,\n",
       "  120,\n",
       "  99,\n",
       "  59,\n",
       "  73,\n",
       "  63,\n",
       "  68,\n",
       "  10,\n",
       "  117,\n",
       "  118,\n",
       "  94,\n",
       "  57,\n",
       "  112,\n",
       "  49,\n",
       "  119,\n",
       "  104,\n",
       "  121,\n",
       "  19,\n",
       "  102,\n",
       "  56,\n",
       "  122,\n",
       "  17,\n",
       "  52,\n",
       "  20,\n",
       "  54,\n",
       "  101,\n",
       "  43,\n",
       "  -16,\n",
       "  112,\n",
       "  93,\n",
       "  64,\n",
       "  59,\n",
       "  62,\n",
       "  92,\n",
       "  63,\n",
       "  101,\n",
       "  90,\n",
       "  120,\n",
       "  111,\n",
       "  97,\n",
       "  64,\n",
       "  40,\n",
       "  98,\n",
       "  106,\n",
       "  96,\n",
       "  80,\n",
       "  71,\n",
       "  59,\n",
       "  73,\n",
       "  24,\n",
       "  57,\n",
       "  68,\n",
       "  65,\n",
       "  120,\n",
       "  117,\n",
       "  94,\n",
       "  102,\n",
       "  28,\n",
       "  2,\n",
       "  93,\n",
       "  66,\n",
       "  58,\n",
       "  111,\n",
       "  83,\n",
       "  126,\n",
       "  17,\n",
       "  111,\n",
       "  111,\n",
       "  46,\n",
       "  70,\n",
       "  121,\n",
       "  124,\n",
       "  89,\n",
       "  98,\n",
       "  43,\n",
       "  98,\n",
       "  106,\n",
       "  94,\n",
       "  100,\n",
       "  78,\n",
       "  78,\n",
       "  45,\n",
       "  71,\n",
       "  53,\n",
       "  6,\n",
       "  86,\n",
       "  57,\n",
       "  119,\n",
       "  125,\n",
       "  37,\n",
       "  74,\n",
       "  72,\n",
       "  105,\n",
       "  61,\n",
       "  116,\n",
       "  80,\n",
       "  123,\n",
       "  41,\n",
       "  117,\n",
       "  69,\n",
       "  71,\n",
       "  110,\n",
       "  105,\n",
       "  91,\n",
       "  33,\n",
       "  111,\n",
       "  125,\n",
       "  114,\n",
       "  121,\n",
       "  44,\n",
       "  124,\n",
       "  116,\n",
       "  28,\n",
       "  89,\n",
       "  -1,\n",
       "  67,\n",
       "  124,\n",
       "  117,\n",
       "  126,\n",
       "  45,\n",
       "  93,\n",
       "  106,\n",
       "  100,\n",
       "  97,\n",
       "  113,\n",
       "  64,\n",
       "  112,\n",
       "  74,\n",
       "  118,\n",
       "  82,\n",
       "  103,\n",
       "  1,\n",
       "  57,\n",
       "  123,\n",
       "  50,\n",
       "  126,\n",
       "  119,\n",
       "  24,\n",
       "  1,\n",
       "  119,\n",
       "  80,\n",
       "  109,\n",
       "  126,\n",
       "  85,\n",
       "  110,\n",
       "  73,\n",
       "  115,\n",
       "  52,\n",
       "  115,\n",
       "  62,\n",
       "  54,\n",
       "  46,\n",
       "  102,\n",
       "  107,\n",
       "  106,\n",
       "  68,\n",
       "  79,\n",
       "  98,\n",
       "  98,\n",
       "  78,\n",
       "  68,\n",
       "  58,\n",
       "  88,\n",
       "  86,\n",
       "  52,\n",
       "  93,\n",
       "  75,\n",
       "  81,\n",
       "  126,\n",
       "  104,\n",
       "  94,\n",
       "  -9,\n",
       "  123,\n",
       "  118,\n",
       "  65,\n",
       "  121,\n",
       "  79,\n",
       "  18,\n",
       "  22,\n",
       "  81,\n",
       "  48,\n",
       "  108,\n",
       "  119,\n",
       "  116,\n",
       "  118,\n",
       "  98,\n",
       "  121,\n",
       "  36,\n",
       "  125,\n",
       "  -30,\n",
       "  87,\n",
       "  11,\n",
       "  18,\n",
       "  114,\n",
       "  93,\n",
       "  95,\n",
       "  -2,\n",
       "  127],\n",
       " [-95,\n",
       "  -73,\n",
       "  -92,\n",
       "  -124,\n",
       "  -27,\n",
       "  -58,\n",
       "  -96,\n",
       "  -63,\n",
       "  -70,\n",
       "  -56,\n",
       "  -94,\n",
       "  -54,\n",
       "  -116,\n",
       "  -62,\n",
       "  -34,\n",
       "  -96,\n",
       "  -85,\n",
       "  -78,\n",
       "  -114,\n",
       "  -91,\n",
       "  43,\n",
       "  -114,\n",
       "  -60,\n",
       "  -65,\n",
       "  -126,\n",
       "  -30,\n",
       "  -77,\n",
       "  -115,\n",
       "  -109,\n",
       "  -88,\n",
       "  -114,\n",
       "  -85,\n",
       "  -90,\n",
       "  -126,\n",
       "  -52,\n",
       "  -84,\n",
       "  -128,\n",
       "  -64,\n",
       "  -126,\n",
       "  -126,\n",
       "  -121,\n",
       "  -70,\n",
       "  -43,\n",
       "  -74,\n",
       "  -115,\n",
       "  -115,\n",
       "  -118,\n",
       "  -92,\n",
       "  -96,\n",
       "  -118,\n",
       "  -88,\n",
       "  -37,\n",
       "  -126,\n",
       "  -111,\n",
       "  -79,\n",
       "  -83,\n",
       "  -57,\n",
       "  -125,\n",
       "  -110,\n",
       "  -64,\n",
       "  -124,\n",
       "  31,\n",
       "  -116,\n",
       "  -44,\n",
       "  -109,\n",
       "  -87,\n",
       "  -60,\n",
       "  -120,\n",
       "  -114,\n",
       "  -54,\n",
       "  -110,\n",
       "  -37,\n",
       "  -61,\n",
       "  -50,\n",
       "  -65,\n",
       "  -70,\n",
       "  -12,\n",
       "  -18,\n",
       "  -20,\n",
       "  -77,\n",
       "  -104,\n",
       "  -65,\n",
       "  -117,\n",
       "  -110,\n",
       "  -97,\n",
       "  -109,\n",
       "  -127,\n",
       "  -51,\n",
       "  -127,\n",
       "  -117,\n",
       "  -39,\n",
       "  -121,\n",
       "  -117,\n",
       "  -46,\n",
       "  -31,\n",
       "  -125,\n",
       "  -77,\n",
       "  -112,\n",
       "  -97,\n",
       "  -92,\n",
       "  -77,\n",
       "  0,\n",
       "  -5,\n",
       "  -36,\n",
       "  -41,\n",
       "  48,\n",
       "  -50,\n",
       "  -57,\n",
       "  -39,\n",
       "  -91,\n",
       "  -41,\n",
       "  -52,\n",
       "  -122,\n",
       "  -30,\n",
       "  -52,\n",
       "  -78,\n",
       "  -91,\n",
       "  -40,\n",
       "  -83,\n",
       "  -30,\n",
       "  -106,\n",
       "  -112,\n",
       "  -93,\n",
       "  -117,\n",
       "  -29,\n",
       "  -97,\n",
       "  -112,\n",
       "  -127,\n",
       "  -110,\n",
       "  -97,\n",
       "  -21,\n",
       "  -41,\n",
       "  -123,\n",
       "  -70,\n",
       "  -118,\n",
       "  -86,\n",
       "  -7,\n",
       "  -29,\n",
       "  -49,\n",
       "  -51,\n",
       "  -117,\n",
       "  -123,\n",
       "  -51,\n",
       "  -87,\n",
       "  -96,\n",
       "  -78,\n",
       "  6,\n",
       "  -111,\n",
       "  -52,\n",
       "  -117,\n",
       "  -89,\n",
       "  -57,\n",
       "  -44,\n",
       "  -117,\n",
       "  -96,\n",
       "  -125,\n",
       "  -118,\n",
       "  -120,\n",
       "  -112,\n",
       "  -96,\n",
       "  -115,\n",
       "  -59,\n",
       "  -90,\n",
       "  -90,\n",
       "  -60,\n",
       "  -95,\n",
       "  -95,\n",
       "  -21,\n",
       "  -107,\n",
       "  -81,\n",
       "  -97,\n",
       "  -61,\n",
       "  -122,\n",
       "  -110,\n",
       "  -20,\n",
       "  -46,\n",
       "  -114,\n",
       "  -124,\n",
       "  -102,\n",
       "  -124,\n",
       "  -116,\n",
       "  -57,\n",
       "  -71,\n",
       "  36,\n",
       "  -97,\n",
       "  -120,\n",
       "  -117,\n",
       "  -115,\n",
       "  -100,\n",
       "  -91,\n",
       "  -118,\n",
       "  -127,\n",
       "  -126,\n",
       "  -64,\n",
       "  -97,\n",
       "  -6,\n",
       "  -65,\n",
       "  -71,\n",
       "  -56,\n",
       "  17])"
      ]
     },
     "execution_count": 16,
     "metadata": {},
     "output_type": "execute_result"
    }
   ],
   "source": [
    "# my_matrix\n",
    "#    type: DataFrame\n",
    "# return type: tuple of lists (as shown above)\n",
    "def row_min_max(my_matrix):\n",
    "    # YOUR CODE HERE\n",
    "    max_list = list(my_matrix.max(axis=1))\n",
    "    min_list = list(my_matrix.min(axis=1))\n",
    "    return (max_list, min_list)\n"
   ]
  },
  {
   "cell_type": "code",
   "execution_count": null,
   "metadata": {
    "collapsed": true,
    "deletable": false,
    "editable": false,
    "nbgrader": {
     "checksum": "802bd119cb967d81916b26de14f2d3e2",
     "grade": true,
     "grade_id": "cell-954080f6af7c07aa",
     "locked": true,
     "points": 4,
     "schema_version": 1,
     "solution": false
    }
   },
   "outputs": [],
   "source": [
    "### Autograded cells. Do not remove."
   ]
  },
  {
   "cell_type": "markdown",
   "metadata": {
    "deletable": false,
    "editable": false,
    "nbgrader": {
     "checksum": "10d286934a314f5b2ff47e58ab98d64e",
     "grade": false,
     "grade_id": "cell-7c427d8be0250ebb",
     "locked": true,
     "schema_version": 1,
     "solution": false
    }
   },
   "source": [
    "C. Write code that returns the total number of values in the `ar` matrix that are less than the mean (of all values in the matrix)? This should be a single number.\n"
   ]
  },
  {
   "cell_type": "code",
   "execution_count": 23,
   "metadata": {
    "deletable": false,
    "nbgrader": {
     "checksum": "54fc915285cb686e1d669870ba7e0d76",
     "grade": false,
     "grade_id": "cell-94c5aa4964f3d1f2",
     "locked": false,
     "schema_version": 1,
     "solution": true
    }
   },
   "outputs": [
    {
     "name": "stdout",
     "output_type": "stream",
     "text": [
      "[[ 8  4  8  9  8]\n",
      " [ 4  5  6  6  2]\n",
      " [ 5  7 10  7  6]\n",
      " [ 8  7  2  3  1]\n",
      " [ 6  6 10  9  4]]\n",
      "6.04\n",
      "14\n"
     ]
    }
   ],
   "source": [
    "# my_matrix\n",
    "#    type: DataFrame\n",
    "# return type: int\n",
    "def less_than_mean(my_matrix):\n",
    "    # YOUR CODE HERE\n",
    "    matrix_mean = my_matrix.mean()\n",
    "    count = 0\n",
    "    for x in np.nditer(my_matrix):\n",
    "        if x < matrix_mean:\n",
    "            count += 1\n",
    "    return count\n"
   ]
  },
  {
   "cell_type": "code",
   "execution_count": null,
   "metadata": {
    "collapsed": true,
    "deletable": false,
    "editable": false,
    "nbgrader": {
     "checksum": "2d4722e6e3114863b3eca60c49d6666d",
     "grade": true,
     "grade_id": "cell-68acd2e1a791ca95",
     "locked": true,
     "points": 4,
     "schema_version": 1,
     "solution": false
    }
   },
   "outputs": [],
   "source": [
    "### Autograded cells. Do not remove."
   ]
  },
  {
   "cell_type": "markdown",
   "metadata": {
    "deletable": false,
    "editable": false,
    "nbgrader": {
     "checksum": "443e6c5514c6f456bd73a0ab5288de58",
     "grade": false,
     "grade_id": "cell-6391ee7588430f0b",
     "locked": true,
     "schema_version": 1,
     "solution": false
    }
   },
   "source": [
    "D. Lastly, return the sum of all the values that are either greater than 100 or are less than 5 and greater than or equal to -20."
   ]
  },
  {
   "cell_type": "code",
   "execution_count": 25,
   "metadata": {
    "deletable": false,
    "nbgrader": {
     "checksum": "659681a16da78f5132644a1818f48b2c",
     "grade": false,
     "grade_id": "cell-e4d8cc0f8b6aaaa7",
     "locked": false,
     "schema_version": 1,
     "solution": true
    }
   },
   "outputs": [
    {
     "name": "stdout",
     "output_type": "stream",
     "text": [
      "[[106 -16  91 116 125]\n",
      " [ 34  12 124  36   9]\n",
      " [ 51  23 109  69  33]\n",
      " [-30 -19  54  94 128]\n",
      " [-19 113  38  24   2]]\n",
      "769\n"
     ]
    }
   ],
   "source": [
    "# my_matrix\n",
    "#    type: DataFrame\n",
    "# return type: float\n",
    "def select_sum(my_matrix):\n",
    "    # YOUR CODE HERE\n",
    "    calc_sum = 0\n",
    "    for x in np.nditer(my_matrix):\n",
    "        if x > 100 or (x < 5 and x >= (-20)):\n",
    "            calc_sum += x\n",
    "    return calc_sum\n"
   ]
  },
  {
   "cell_type": "code",
   "execution_count": null,
   "metadata": {
    "collapsed": true,
    "deletable": false,
    "editable": false,
    "nbgrader": {
     "checksum": "0a2666f0c17c3d052db455661a47042d",
     "grade": true,
     "grade_id": "cell-e39d29342e27b90c",
     "locked": true,
     "points": 4,
     "schema_version": 1,
     "solution": false
    }
   },
   "outputs": [],
   "source": [
    "### Autograded cells. Do not remove."
   ]
  },
  {
   "cell_type": "markdown",
   "metadata": {
    "deletable": false,
    "editable": false,
    "nbgrader": {
     "checksum": "36097178ce256f41f188c5adb6bcb357",
     "grade": false,
     "grade_id": "cell-3eafc252df099313",
     "locked": true,
     "schema_version": 1,
     "solution": false
    }
   },
   "source": [
    "## 3. Data loading and wrangling"
   ]
  },
  {
   "cell_type": "markdown",
   "metadata": {
    "deletable": false,
    "editable": false,
    "nbgrader": {
     "checksum": "7cb5762aba9b8260ff8edad87b75b17d",
     "grade": false,
     "grade_id": "cell-b1ae895eef6e2aed",
     "locked": true,
     "schema_version": 1,
     "solution": false
    }
   },
   "source": [
    "A. We will work with the airline safety dataset for this homework. \n",
    "As the first step, let's load the dataset from airline-safety.csv and output the following:\n",
    "1. The entire data frame\n",
    "2. Total number of samples\n",
    "3. Total number of columns"
   ]
  },
  {
   "cell_type": "code",
   "execution_count": 27,
   "metadata": {
    "deletable": false,
    "nbgrader": {
     "checksum": "2237d876d12d13704328f6b6ce293764",
     "grade": false,
     "grade_id": "cell-ef6a22dec940a01a",
     "locked": false,
     "schema_version": 1,
     "solution": true
    }
   },
   "outputs": [
    {
     "name": "stdout",
     "output_type": "stream",
     "text": [
      "8\n"
     ]
    }
   ],
   "source": [
    "def load_data():\n",
    "    # YOUR CODE HERE\n",
    "    df = pd.read_csv(\"airline-safety.csv\")\n",
    "    size = df.shape[0] # count the total # of sample rows of the dataframe, header row is excluded\n",
    "    num_cols = df.shape[1] # count the total # of columns\n",
    "    return df, size, num_cols\n",
    "\n",
    "\n",
    "# Do not change this line\n",
    "df, size, num_cols = load_data()\n"
   ]
  },
  {
   "cell_type": "code",
   "execution_count": null,
   "metadata": {
    "collapsed": true,
    "deletable": false,
    "editable": false,
    "nbgrader": {
     "checksum": "d45dcf92fb1556c45c44b0d74f32105f",
     "grade": true,
     "grade_id": "cell-5512005b0518cb19",
     "locked": true,
     "points": 7,
     "schema_version": 1,
     "solution": false
    }
   },
   "outputs": [],
   "source": [
    "### Autograded cells. Do not remove."
   ]
  },
  {
   "cell_type": "markdown",
   "metadata": {
    "deletable": false,
    "editable": false,
    "nbgrader": {
     "checksum": "e3e7a5fb49a86b46cc0868fff99158af",
     "grade": false,
     "grade_id": "cell-274266303e7099d3",
     "locked": true,
     "schema_version": 1,
     "solution": false
    }
   },
   "source": [
    "B. Selecting data.\n",
    "Write code that returns the ith to jth airline name as a list (both inclusive) from the dataframe. \n",
    "\n",
    "For example: if i=2 and j=5, your code should return 4 airline names, i.e., airline name from the 3rd, 4th, 5th and 6th row (assuming that the first row starts from 0). \n",
    "Use loc functionality to achieve this. \n",
    "\n",
    "##### Note on loc and iloc\n",
    "\n",
    "Selection Using Label:\n",
    "\n",
    "To select a column of a DataFrame by column label, the safest and fastest way is to use the .loc method. General usage looks like frame.loc[rowname,colname]. (Reminder that the colon : means \"everything\"). For example, if we want the color column of a data frame, we would use : ex.loc[:, 'color']\n",
    "\n",
    "You can also slice across columns. For example, frame.loc[:, 'Name':] would give select the columns Name and the columns after.\n"
   ]
  },
  {
   "cell_type": "code",
   "execution_count": 28,
   "metadata": {
    "deletable": false,
    "nbgrader": {
     "checksum": "e0c127421d1e95487b30036ad6cbbcf0",
     "grade": false,
     "grade_id": "cell-c7c0518e6cbd3979",
     "locked": false,
     "schema_version": 1,
     "solution": true
    }
   },
   "outputs": [
    {
     "name": "stdout",
     "output_type": "stream",
     "text": [
      "2    Aerolineas Argentinas\n",
      "3              Aeromexico*\n",
      "4               Air Canada\n",
      "5               Air France\n",
      "Name: airline, dtype: object\n"
     ]
    }
   ],
   "source": [
    "# i and j are int values\n",
    "# return type should be a list\n",
    "def select_airlines(i, j):\n",
    "    # YOUR CODE HERE\n",
    "    df = pd.read_csv(\"airline-safety.csv\")\n",
    "    # assuming first row is the first sample row, not the header row. It starts from 0.\n",
    "    return df.loc[i:j, 'airline']\n",
    "\n",
    "\n",
    "# Do not change this line\n",
    "sliced_df = select_airlines(2, 5)\n"
   ]
  },
  {
   "cell_type": "code",
   "execution_count": null,
   "metadata": {
    "collapsed": true,
    "deletable": false,
    "editable": false,
    "nbgrader": {
     "checksum": "e0df0c8249576b3f459986947e67771d",
     "grade": true,
     "grade_id": "cell-b16eb5d2ca860801",
     "locked": true,
     "points": 4,
     "schema_version": 1,
     "solution": false
    }
   },
   "outputs": [],
   "source": [
    "### Autograded cells. Do not remove."
   ]
  },
  {
   "cell_type": "markdown",
   "metadata": {
    "deletable": false,
    "editable": false,
    "nbgrader": {
     "checksum": "33de09097328078fa79ca8018cd008f4",
     "grade": false,
     "grade_id": "cell-c734a84d4bbfbfb2",
     "locked": true,
     "schema_version": 1,
     "solution": false
    }
   },
   "source": [
    "C. Filtering data.\n",
    "\n",
    "\n",
    "Filtering with boolean arrays\n",
    "\n",
    "Filtering is the process of removing unwanted material. In your quest for cleaner data, you will undoubtedly filter your data at some point: whether it be for clearing up cases with missing values, culling out fishy outliers, or analyzing subgroups of your data set. Note that compound expressions have to be grouped with parentheses. Example usage looks like df[df[column name] < 5]].\n",
    "\n",
    "Write code to filter airlines with more than 100 and less than 300 fatalities between years 85 and 99. Your code should return a list of airline names only"
   ]
  },
  {
   "cell_type": "code",
   "execution_count": 29,
   "metadata": {
    "deletable": false,
    "nbgrader": {
     "checksum": "e51f51113c0d55123c0e86c3dee0c6bb",
     "grade": false,
     "grade_id": "cell-4b18133b2693dc16",
     "locked": false,
     "schema_version": 1,
     "solution": true
    }
   },
   "outputs": [
    {
     "name": "stdout",
     "output_type": "stream",
     "text": [
      "['Aer Lingus', 'Aerolineas Argentinas', 'Aeromexico*', 'Air Canada', 'Air France', 'Air India*', 'Air New Zealand*', 'Alaska Airlines*', 'Alitalia', 'All Nippon Airways', 'Austrian Airlines', 'Avianca', 'British Airways*', 'Cathay Pacific*', 'China Airlines', 'Condor', 'COPA', 'Delta / Northwest*', 'El Al', 'Finnair', 'Gulf Air', 'Hawaiian Airlines', 'Japan Airlines', 'Kenya Airways', 'KLM*', 'Korean Air', 'LAN Airlines', 'Lufthansa*', 'Malaysia Airlines', 'Philippine Airlines', 'Qantas*', 'Royal Air Maroc', 'SAS*', 'Saudi Arabian', 'Singapore Airlines', 'Southwest Airlines', 'Sri Lankan / AirLanka', 'TACA', 'TAM', 'TAP - Air Portugal', 'Thai Airways', 'Turkish Airlines', 'United / Continental*', 'Virgin Atlantic', 'Xiamen Airlines']\n"
     ]
    }
   ],
   "source": [
    "def fatalities_filter():\n",
    "    # YOUR CODE HERE\n",
    "    df = pd.read_csv(\"airline-safety.csv\")\n",
    "    # my understanding of the question is that it asks to filter airlines with fatalities between 100 and 300\n",
    "    # so the remaining/returned dataframe should be airlines with fatalities < 100 or > 300\n",
    "    df1 = df.loc[(df.fatalities_85_99 < 100) | (df.fatalities_85_99 > 300), 'airline'] \n",
    "    return df1.tolist()\n"
   ]
  },
  {
   "cell_type": "code",
   "execution_count": null,
   "metadata": {
    "collapsed": true,
    "deletable": false,
    "editable": false,
    "nbgrader": {
     "checksum": "0a7f3d5473aaa287c6acb887aedbf92c",
     "grade": true,
     "grade_id": "cell-1791d836b0f19870",
     "locked": true,
     "points": 4,
     "schema_version": 1,
     "solution": false
    }
   },
   "outputs": [],
   "source": [
    "### Autograded cells. Do not remove."
   ]
  },
  {
   "cell_type": "markdown",
   "metadata": {
    "deletable": false,
    "editable": false,
    "nbgrader": {
     "checksum": "bad0de3b400629d5db5cfae61133ef5e",
     "grade": false,
     "grade_id": "cell-e6c080c80504b5d1",
     "locked": true,
     "schema_version": 1,
     "solution": false
    }
   },
   "source": [
    "## If you have feedback for this homework, please submit it using the link below:\n",
    "\n",
    "http://goo.gl/forms/74yCiQTf6k"
   ]
  }
 ],
 "metadata": {
  "anaconda-cloud": {},
  "kernelspec": {
   "display_name": "Python 3",
   "language": "python",
   "name": "python3"
  },
  "language_info": {
   "codemirror_mode": {
    "name": "ipython",
    "version": 3
   },
   "file_extension": ".py",
   "mimetype": "text/x-python",
   "name": "python",
   "nbconvert_exporter": "python",
   "pygments_lexer": "ipython3",
   "version": "3.6.1"
  }
 },
 "nbformat": 4,
 "nbformat_minor": 1
}
