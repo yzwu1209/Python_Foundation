{
 "cells": [
  {
   "cell_type": "markdown",
   "metadata": {
    "deletable": false,
    "editable": false,
    "nbgrader": {
     "checksum": "88a6fffe95ce3fbaba4ddfece623f685",
     "grade": false,
     "grade_id": "cell-527229cf042812ef",
     "locked": true,
     "schema_version": 1,
     "solution": false
    }
   },
   "source": [
    "## Week 7 Assignment - W200 Python for Data Science, UC Berkeley MIDS\n",
    "\n",
    "Write code in this Jupyter Notebook to solve each of the following problems. Each problem should have its solution in a separate cell. Please upload this **Notebook** with your solutions to your GitHub repository in your SUBMISSIONS/week_07 folder by 11:59PM PST the night before class."
   ]
  },
  {
   "cell_type": "markdown",
   "metadata": {
    "deletable": false,
    "editable": false,
    "nbgrader": {
     "checksum": "cadccc143ff9bf2d28a6f48ce9a1aba0",
     "grade": false,
     "grade_id": "cell-1b44a7b98ed62731",
     "locked": true,
     "schema_version": 1,
     "solution": false
    }
   },
   "source": [
    "## Objectives:\n",
    "\n",
    "- Demonstrate how to define classes\n",
    "- Design and implement class objects and class interactions\n",
    "- Understand how to call methods from both inside and outside of classes\n",
    "- Understand how to set internal attribute within a class"
   ]
  },
  {
   "cell_type": "markdown",
   "metadata": {
    "deletable": false,
    "editable": false,
    "nbgrader": {
     "checksum": "09cfe2322d6b9a92c46d6410a78430d2",
     "grade": false,
     "grade_id": "cell-cfac900eae3841cc",
     "locked": true,
     "schema_version": 1,
     "solution": false
    }
   },
   "source": [
    "## General Guidelines:\n",
    "\n",
    "- All calculations need to be done in the classes (that includes any formatting of the output)\n",
    "- Name your classes exactly as written in the problem statement\n",
    "- Do NOT make separate input() statements.  The classes will be passed the input as shown in the examples\n",
    "- The examples given are samples of how we will test/grade your code. Please ensure your classes output the same information\n",
    "- Answer format is graded - please match the examples\n",
    "- Inputs to classes and methods do need to be validated or checked where the problem or examples specifically state to check for inputs. Otherwise, you can assume that the correct input will be sent as shown in the examples.\n",
    "- Comments in your code are strongly suggested but won't be graded\n",
    "- This homework is mostly auto-graded. The blank code blocks are the auto-grading scripts - please do not delete these!\n",
    "- Your code needs to be written in the #Your Code Here blocks or it wont be graded correctly.\n",
    "- The examples are using the '>>>' as the command entered into a Jupyter coding cell with the example output shown below it."
   ]
  },
  {
   "cell_type": "markdown",
   "metadata": {
    "deletable": false,
    "editable": false,
    "nbgrader": {
     "checksum": "deedf1ff2a60447c36d8b0a142412153",
     "grade": false,
     "grade_id": "cell-783896db972e3f83",
     "locked": true,
     "schema_version": 1,
     "solution": false
    }
   },
   "source": [
    "## Project Proposal\n",
    "\n",
    "**Reminder!** Please complete your project proposal, as discussed in class and outlined in the project_1 folder.  Submit your 1-2 page proposal as a PDF in your SUBMISSIONS repo under the project_1 folder.\n",
    "\n",
    "This is worth 10 points of your **project** grade (not the grade for this homework)."
   ]
  },
  {
   "cell_type": "markdown",
   "metadata": {
    "deletable": false,
    "editable": false,
    "nbgrader": {
     "checksum": "674cc9723e9378f13a8e07f7ea54badc",
     "grade": false,
     "grade_id": "cell-696344d235251439",
     "locked": true,
     "schema_version": 1,
     "solution": false
    }
   },
   "source": [
    "## 7-1 A Quick Reading\n",
    "\n",
    "Please read the following article and write a couple sentences (~100 words) of reaction. What is the most interesting part?\n",
    "\n",
    "<a href=\"http://programmingisterrible.com/post/139222674273/write-code-that-is-easy-to-delete-not-easy-to\">Write code that is easy to delete, not easy to extend</a> \n",
    "\n",
    "This article is to explain an \"architectural\" perspective towards thinking about writing in large code bases. This might not really apply to the work that you are doing now but should provide some food for thought on upcoming projects. Think about the author's perspective and why he seems to have come to it. Please don't worry about knowing all the terminology or programs/systems that he refers to. We want you to extract what he's trying to say about writing code rather than the intricacies of the low-level systems that is referring to.\n"
   ]
  },
  {
   "cell_type": "markdown",
   "metadata": {
    "deletable": false,
    "nbgrader": {
     "checksum": "a7015f0e83e7f04451f4e0b75aee2716",
     "grade": true,
     "grade_id": "cell-ec8be46bbe5effd3",
     "locked": false,
     "points": 20,
     "schema_version": 1,
     "solution": true
    }
   },
   "source": [
    "YOUR ANSWER HERE\n",
    "\n",
    "Very interesting article! At first by looking at the title, I do not understand what the author meant by “Write code that is easy to delete, not easy to extend.” But as I read through the article, his points on reusability have truly resonated with what I have learned throughout the course of my career.\n",
    " \n",
    "I have worked in a software company for more than 5 years. The executive managers always have a belief that the more codes we could reuse the more effort we could save. But in reality, it is not the truth. For too many times, our developers and engineers have worked extra miles due to the historical burden. Not every functions / controls are not good candidates for reusability. And they really gets in the way and become a big hurdle for new projects.\n"
   ]
  },
  {
   "cell_type": "markdown",
   "metadata": {
    "deletable": false,
    "editable": false,
    "nbgrader": {
     "checksum": "66277fe282d52f050d874ad449cf95ed",
     "grade": false,
     "grade_id": "cell-7804e7ebc0429dcc",
     "locked": true,
     "schema_version": 1,
     "solution": false
    }
   },
   "source": [
    "--------------------------------------------------------------------------------------------------------------------------------\n",
    "#                               Please do 2 out of the 3 parts below.  \n",
    "#                        That is, please do two parts of Parts 7-3, 7-4 or 7-5.\n",
    "If you want to do all three parts please write a comment on which two parts to grade.  If a comment isn't found Parts 7-3 & 7-4 will be graded."
   ]
  },
  {
   "cell_type": "markdown",
   "metadata": {
    "deletable": false,
    "editable": false,
    "nbgrader": {
     "checksum": "50599f87c6fe9735a005f50089f727be",
     "grade": false,
     "grade_id": "cell-03f9229475d9a257",
     "locked": true,
     "schema_version": 1,
     "solution": false
    }
   },
   "source": [
    "## 7-3 - Deck of Cards\n",
    "\n",
    "Please design two classes in this notebook as follows:\n",
    "\n",
    "1\\. Please create a class called **PlayingCard**. This class should have: <br>\n",
    "- An attribute, \"rank\" that takes a value of \"2\", \"3\", \"4\", \"5\", \"6\", \"7\", \"8\", \"9\", \"10\", \"J\", \"Q\", \"K\", or \"A\" <br>\n",
    "- An attribute, \"suit\" that takes a value of \"♠\" \"♥\" \"♦\" or \"♣\". (If you don't know how to make these characters you can cut and paste from this block)<br>  \n",
    "- An __init__ function that:\n",
    "    -  Accepts as parameters a specific rank (as integer or string) and suit (as a string).\n",
    "    -  Gives an appropriate response when a rank or suit is not valid.\n",
    "\n",
    "2\\. Please create a class called **Deck**.  This class should have: <br>\n",
    "- An attribute, \"cards\", that holds a list of PlayingCard objects. <br>\n",
    "- An __init__ function that: \n",
    "\n",
    "    - By default stores a full deck of 52 playing card (with proper numbers and suits) in the \"cards\" list. Each cards will be  of the class PlayingCard above<br>\n",
    "    - Allows the user to specify a specific suit (of the 4 - \"♠\" \"♥\" \"♦\" or \"♣\").  In this case, the program should only populate the deck with the 13 cards of that suit.\n",
    "    - After the cards object is initialized, call the \"shuffle_deck()\" function (below).<br>\n",
    "    \n",
    "- A \"shuffle_deck()\" function that randomly changes the order of cards in the deck.<br>\n",
    "    - You can import the random library to 'shuffle' the deck: https://docs.python.org/3.7/library/random.html\n",
    "\n",
    "- A \"deal_card(card_count)\" function that removes the first card_count cards from the deck and returns them as a list.<br>\n",
    "    - Make sure this function gives an appropriate response when the deck is out of cards.\n",
    "    \n",
    "3\\. You might have to write ```__str__ or __repr__``` methods to display the cards correctly in either or both classes.\n",
    "\n",
    "\n",
    "Example:\n",
    "```\n",
    ">>> card1 = PlayingCard(\"A\", \"♠\")\n",
    ">>> print(card1)\n",
    "A of ♠\n",
    "\n",
    ">>> card2 = PlayingCard(15, \"♠\")\n",
    "Invalid rank!\n",
    "\n",
    ">>> card2 = PlayingCard(10, \"bunnies\")\n",
    "Invalid suit!\n",
    "\n",
    ">>> deck1 = Deck()\n",
    ">>> print(deck1.cards)\n",
    "[K of ♠, A of ♥, 6 of ♣, 7 of ♠, J of ♦, 6 of ♠, Q of ♦, 5 of ♣, 10 of ♦, 2 of ♥, 8 of ♣, 8 of ♦, 4 of ♦, 7 of ♦, 3 of ♣, K of ♣, 9 of ♠, 4 of ♥, 10 of ♥, 10 of ♣, A of ♠, 9 of ♥, 7 of ♥, 9 of ♣, 7 of ♣, 5 of ♠, 3 of ♦, 10 of ♠, Q of ♥, J of ♣, 5 of ♥, K of ♥, K of ♦, 2 of ♠, 8 of ♠, Q of ♣, 3 of ♠, 6 of ♥, 6 of ♦, A of ♣, A of ♦, 3 of ♥, J of ♠, 4 of ♣, 5 of ♦, 2 of ♦, 4 of ♠, 2 of ♣, Q of ♠, J of ♥, 8 of ♥, 9 of ♦] \n",
    "\n",
    ">>> deck2 = Deck('♠')\n",
    ">>> deck2.shuffle_deck()\n",
    ">>> print(deck2.cards)\n",
    "[A of ♠, 10 of ♠, 3 of ♠, 7 of ♠, 5 of ♠, 4 of ♠, 8 of ♠, J of ♠, 9 of ♠, Q of ♠, 6 of ♠, 2 of ♠, K of ♠]\n",
    "\n",
    ">>> deck2.deal_card(7)\n",
    "[A of ♠, 10 of ♠, 3 of ♠, 7 of ♠, 5 of ♠, 4 of ♠, 8 of ♠]\n",
    "\n",
    ">>> deck2.deal_card(7)\n",
    "Cannot deal 7 cards. The deck only has 6 cards left!\n",
    "```"
   ]
  },
  {
   "cell_type": "code",
   "execution_count": 1,
   "metadata": {
    "collapsed": true,
    "deletable": false,
    "nbgrader": {
     "checksum": "065c7730f5f4def3d7b686213c4515c3",
     "grade": false,
     "grade_id": "cell-1a340c9ca6b682a1",
     "locked": false,
     "schema_version": 1,
     "solution": true
    }
   },
   "outputs": [],
   "source": [
    "# YOUR CODE HERE\n",
    "import random\n",
    "\n",
    "class PlayingCard():\n",
    "    \"\"\"This class has two attributes: \n",
    "       1. \"rank\" that takes a value of \"2\", \"3\", \"4\", \"5\", \"6\", \"7\", \"8\", \"9\", \"10\", \"J\", \"Q\", \"K\", or \"A\" \n",
    "       2. \"suit\" that takes a value of \"♠\" \"♥\" \"♦\" or \"♣\". \n",
    "    \"\"\"\n",
    "    \n",
    "    def __init__(self, cardrank, cardsuit):\n",
    "        try:\n",
    "            if str(cardrank).upper() not in [\"2\", \"3\", \"4\", \"5\", \"6\", \"7\", \"8\", \"9\", \"10\", \"J\", \"Q\", \"K\", \"A\"]:\n",
    "                raise Exception(\"Invalid rank!\")\n",
    "            elif cardsuit not in [\"♠\", \"♥\", \"♦\", \"♣\"]:\n",
    "                raise Exception(\"Invalid suit!\")\n",
    "            else:\n",
    "                self.rank = str(cardrank).upper()\n",
    "                self.suit = cardsuit\n",
    "                \n",
    "        except Exception as e:\n",
    "            print(str(e))\n",
    "            \n",
    "    def __str__(self):\n",
    "        return self.rank + \" of \" + self.suit\n",
    "    \n",
    "    def __repr__(self):\n",
    "        return self.rank + \" of \" + self.suit\n",
    "    \n",
    "            \n",
    "class Deck():\n",
    "    \"\"\"This class has the following attributes: \n",
    "       1. \"cards\", that holds a list of PlayingCard objects. \n",
    "       2. An init function that: \n",
    "          (1) By default stores a full deck of 52 playing card (with proper numbers and suits) in the \"cards\" list. \n",
    "          Each cards will be of the class PlayingCard above.\n",
    "          (2) Allows the user to specify a specific suit (of the 4 - \"♠\" \"♥\" \"♦\" or \"♣\"). \n",
    "          In this case, the program should only populate the deck with the 13 cards of that suit.\n",
    "       3. A \"shuffle_deck()\" function that randomly changes the order of cards in the deck.\n",
    "       4. A \"deal_card(card_count)\" function that removes the first card_count cards from the deck and returns them as a list.\n",
    "    \"\"\"\n",
    "    \n",
    "    def __init__(self, cardsuit=\"\"):\n",
    "        if cardsuit != \"\":\n",
    "            self.cards = [PlayingCard(x, cardsuit) for x in \n",
    "                           [\"2\", \"3\", \"4\", \"5\", \"6\", \"7\", \"8\", \"9\", \"10\", \"J\", \"Q\", \"K\", \"A\"]]\n",
    "        else:\n",
    "            self.cards = [PlayingCard(x, y) for x in [\"2\", \"3\", \"4\", \"5\", \"6\", \"7\", \"8\", \"9\", \"10\", \"J\", \"Q\", \"K\", \"A\"]\n",
    "                          for y in [\"♠\", \"♥\", \"♦\", \"♣\"]]\n",
    "        \n",
    "        self.shuffle_deck()\n",
    "    \n",
    "    def shuffle_deck(self):\n",
    "        random.shuffle(self.cards)\n",
    "    \n",
    "    def deal_card(self, card_count):\n",
    "        try:\n",
    "            self.__dealt_card = [] # make it a hidden attribute so that player cannot easily manipulate it.\n",
    "            if card_count <= len(self.cards):\n",
    "                for i in range(0, card_count): \n",
    "                    self.__dealt_card.append(self.cards.pop(0))\n",
    "                print(self.__dealt_card)\n",
    "            \n",
    "            else:\n",
    "                raise Exception(\"Cannot deal\")\n",
    "            \n",
    "        except Exception as e:\n",
    "            print(str(e), card_count, \"cards. The deck only has\", len(self.cards), \"cards left!\")\n",
    "    \n",
    "    def war(self):\n",
    "        try:\n",
    "            if len(self.cards) < 2:\n",
    "                raise Exception(\"The deck does not have enough cards for war. Need to have at least 2 cards.\")\n",
    "            \n",
    "            else:\n",
    "                self.player_card = self.cards.pop(0)\n",
    "                self.player_rank = self.player_card.rank\n",
    "                self.dealer_card = self.cards.pop(0)\n",
    "                self.dealer_rank = self.dealer_card.rank\n",
    "                rank_order = {\"2\":2, \"3\":3, \"4\":4, \"5\":5, \"6\":6, \"7\":7, \"8\":8, \"9\":9, \n",
    "                              \"10\":10, \"J\":11, \"Q\":12, \"K\":13, \"A\":14}\n",
    "        \n",
    "                if rank_order[self.player_rank] > rank_order[self.dealer_rank]:\n",
    "                    print(\"Player's card:\", self.player_card)\n",
    "                    print(\"Dearler's card:\", self.dealer_card)\n",
    "                    print(\"Player's rank is higher than dealer's. Player wins.\")\n",
    "            \n",
    "                elif rank_order[self.player_rank] < rank_order[self.dealer_rank]:\n",
    "                    print(\"Player's card:\", self.player_card)\n",
    "                    print(\"Dearler's card:\", self.dealer_card)\n",
    "                    print(\"Player's rank is lower than dealer's. Dealer wins.\")\n",
    "        \n",
    "                else:\n",
    "                    print(\"Player's card:\", self.player_card)\n",
    "                    print(\"Dearler's card:\", self.dealer_card)\n",
    "                    print(\"Player's rank is equal to dealer's. This is a tie.\")\n",
    "        \n",
    "        except Exception as e:\n",
    "            print(str(e))\n",
    "            "
   ]
  },
  {
   "cell_type": "code",
   "execution_count": 2,
   "metadata": {
    "deletable": false,
    "editable": false,
    "nbgrader": {
     "checksum": "e7dff2aedac154876162469e84e3958c",
     "grade": true,
     "grade_id": "cell-6bd309bb7346977e",
     "locked": true,
     "points": 0,
     "schema_version": 1,
     "solution": false
    }
   },
   "outputs": [
    {
     "name": "stdout",
     "output_type": "stream",
     "text": [
      "A of ♠\n",
      "True\n"
     ]
    }
   ],
   "source": [
    "# Autograde cell - do not erase/delete\n",
    "# Here we implement some tests for you to compare your code with the output we expect.\n",
    "import subprocess\n",
    "from nose.tools import assert_equal \n",
    "from nose.tools import assert_true\n",
    "\n",
    "# String representation of PlayingCard class matches expected output?\n",
    "print(PlayingCard('A', '♠'))\n",
    "print(str(PlayingCard('A', '♠')) == 'A of ♠')\n"
   ]
  },
  {
   "cell_type": "code",
   "execution_count": 3,
   "metadata": {
    "deletable": false,
    "editable": false,
    "nbgrader": {
     "checksum": "0fa120b748e19eb2392d0c7230bee3df",
     "grade": true,
     "grade_id": "cell-f3dd93876f39de63",
     "locked": true,
     "points": 0,
     "schema_version": 1,
     "solution": false
    }
   },
   "outputs": [
    {
     "name": "stdout",
     "output_type": "stream",
     "text": [
      "J of ♠ in solution list? True\n",
      "2 of ♠ in solution list? True\n",
      "9 of ♠ in solution list? True\n",
      "5 of ♠ in solution list? True\n",
      "7 of ♠ in solution list? True\n",
      "4 of ♠ in solution list? True\n",
      "6 of ♠ in solution list? True\n",
      "10 of ♠ in solution list? True\n",
      "8 of ♠ in solution list? True\n",
      "Q of ♠ in solution list? True\n",
      "3 of ♠ in solution list? True\n",
      "K of ♠ in solution list? True\n",
      "A of ♠ in solution list? True\n",
      "------------------------------\n",
      "Are any cards left in the deck? []\n"
     ]
    }
   ],
   "source": [
    "# Autograde cell - do not erase/delete\n",
    "# Here we implement some tests for you to compare your code with the output we expect.\n",
    "\n",
    "# Does your deck class initialize as expected?\n",
    "\n",
    "D = Deck(\"♠\")\n",
    "\n",
    "solution = ['A of ♠', '8 of ♠', '4 of ♠', 'K of ♠', 'J of ♠', \n",
    "            '5 of ♠', '6 of ♠', '9 of ♠', 'Q of ♠', '3 of ♠', \n",
    "            '7 of ♠', '10 of ♠', '2 of ♠']\n",
    "\n",
    "for i in D.cards:\n",
    "    test = str(i) in solution\n",
    "    print(str(i) + ' in solution list?', test)\n",
    "    \n",
    "    if test:\n",
    "        solution.remove(str(i))\n",
    "\n",
    "print(10 * '---')\n",
    "print('Are any cards left in the deck?', solution)"
   ]
  },
  {
   "cell_type": "code",
   "execution_count": null,
   "metadata": {
    "collapsed": true,
    "deletable": false,
    "editable": false,
    "nbgrader": {
     "checksum": "bcf28fe16274b6743dd5cecd2f85ed15",
     "grade": true,
     "grade_id": "cell-b253eb962f2579b8",
     "locked": true,
     "points": 0,
     "schema_version": 1,
     "solution": false
    }
   },
   "outputs": [],
   "source": [
    "# Autograde cell - do not erase/delete\n",
    "# Here and in the following cells we implemented some hidden tests.\n",
    "# This means: Check your code for other inputs as well! Does it match with what you would expect?\n",
    "# Test the other methods you implemented. Do they work as expected?\n"
   ]
  },
  {
   "cell_type": "code",
   "execution_count": null,
   "metadata": {
    "collapsed": true,
    "deletable": false,
    "editable": false,
    "nbgrader": {
     "checksum": "7bc3d24d98fb6529f2c33ad0ae032d63",
     "grade": true,
     "grade_id": "cell-1a695b8f0fba34a2",
     "locked": true,
     "points": 0,
     "schema_version": 1,
     "solution": false
    }
   },
   "outputs": [],
   "source": [
    "# Autograde cell - do not erase/delete"
   ]
  },
  {
   "cell_type": "code",
   "execution_count": null,
   "metadata": {
    "collapsed": true,
    "deletable": false,
    "editable": false,
    "nbgrader": {
     "checksum": "a541b2d7137d0771687a5d65c34a88e5",
     "grade": true,
     "grade_id": "cell-9ec4298ad117e265",
     "locked": true,
     "points": 0,
     "schema_version": 1,
     "solution": false
    }
   },
   "outputs": [],
   "source": [
    "# Autograde cell - do not erase/delete"
   ]
  },
  {
   "cell_type": "code",
   "execution_count": null,
   "metadata": {
    "collapsed": true,
    "deletable": false,
    "editable": false,
    "nbgrader": {
     "checksum": "65c86bda1fdf50b17ef77f00503ac1cf",
     "grade": true,
     "grade_id": "cell-4a3888541bb49c23",
     "locked": true,
     "points": 0,
     "schema_version": 1,
     "solution": false
    }
   },
   "outputs": [],
   "source": [
    "# Autograde cell - do not erase/delete"
   ]
  },
  {
   "cell_type": "code",
   "execution_count": null,
   "metadata": {
    "collapsed": true,
    "deletable": false,
    "editable": false,
    "nbgrader": {
     "checksum": "21b434958836514b99a4752fe674d868",
     "grade": true,
     "grade_id": "cell-7904a48b935e84c2",
     "locked": true,
     "points": 0,
     "schema_version": 1,
     "solution": false
    }
   },
   "outputs": [],
   "source": [
    "# Autograde cell - do not erase/delete"
   ]
  },
  {
   "cell_type": "code",
   "execution_count": null,
   "metadata": {
    "collapsed": true,
    "deletable": false,
    "editable": false,
    "nbgrader": {
     "checksum": "6e051c587644406b19d30c6fe6986fe3",
     "grade": true,
     "grade_id": "cell-eddb8a271f9474ac",
     "locked": true,
     "points": 0,
     "schema_version": 1,
     "solution": false
    }
   },
   "outputs": [],
   "source": [
    "# Autograde cell - do not erase/delete"
   ]
  },
  {
   "cell_type": "code",
   "execution_count": null,
   "metadata": {
    "collapsed": true,
    "deletable": false,
    "editable": false,
    "nbgrader": {
     "checksum": "f35d5e98febd9b6a502e7c8d6971ac1f",
     "grade": true,
     "grade_id": "cell-323b480c599a17ca",
     "locked": true,
     "points": 0,
     "schema_version": 1,
     "solution": false
    }
   },
   "outputs": [],
   "source": [
    "# Autograde cell - do not erase/delete"
   ]
  },
  {
   "cell_type": "code",
   "execution_count": null,
   "metadata": {
    "collapsed": true,
    "deletable": false,
    "editable": false,
    "nbgrader": {
     "checksum": "5dc20bddf3a67d29c35264bc3ee99cfe",
     "grade": true,
     "grade_id": "cell-5bd83bb060e3098d",
     "locked": true,
     "points": 0,
     "schema_version": 1,
     "solution": false
    }
   },
   "outputs": [],
   "source": [
    "# Autograde cell - do not erase/delete"
   ]
  },
  {
   "cell_type": "markdown",
   "metadata": {
    "deletable": false,
    "editable": false,
    "nbgrader": {
     "checksum": "8fa9ffef29ffb8eb7d6f2dd4b15fe0fe",
     "grade": false,
     "grade_id": "cell-2d3fb17759ce7be6",
     "locked": true,
     "schema_version": 1,
     "solution": false
    }
   },
   "source": [
    "Extra Credit (2 points): Write a method called **war** in the coding cell above under the Deck class that deals a card to the player and a card to the dealer from your deck.  Whomever has the highest ranked card wins; print them a nice message! (2 is the lowest rank and A is the highest).  If it is a tie, print a different message. In the cell below, show three examples of running your **war** method."
   ]
  },
  {
   "cell_type": "code",
   "execution_count": 5,
   "metadata": {
    "deletable": false,
    "nbgrader": {
     "checksum": "5570ebf8a3b08dcf6b0de218e7966b37",
     "grade": true,
     "grade_id": "cell-f792b0aacbf4aeb1",
     "locked": false,
     "points": 2,
     "schema_version": 1,
     "solution": true
    }
   },
   "outputs": [
    {
     "name": "stdout",
     "output_type": "stream",
     "text": [
      "Player's card: 8 of ♦\n",
      "Dearler's card: A of ♥\n",
      "Player's rank is lower than dealer's. Dealer wins.\n",
      "Player's card: 5 of ♠\n",
      "Dearler's card: A of ♠\n",
      "Player's rank is lower than dealer's. Dealer wins.\n",
      "[3 of ♣, J of ♣, 6 of ♣, Q of ♣, 9 of ♣, 4 of ♣, 8 of ♣, 10 of ♣, A of ♣, 5 of ♣, K of ♣, 2 of ♣]\n",
      "The deck does not have enough cards for war. Need to have at least 2 cards.\n"
     ]
    }
   ],
   "source": [
    "# YOUR CODE HERE\n",
    "adeck = Deck()\n",
    "adeck.war()\n",
    "\n",
    "bdeck = Deck(\"♠\")\n",
    "bdeck.war()\n",
    "\n",
    "cdeck = Deck(\"♣\")\n",
    "cdeck.deal_card(12)\n",
    "cdeck.war()\n"
   ]
  },
  {
   "cell_type": "markdown",
   "metadata": {
    "deletable": false,
    "editable": false,
    "nbgrader": {
     "checksum": "5a843f9ead09af7be78b2fd44054175c",
     "grade": false,
     "grade_id": "cell-9fb0d10895402417",
     "locked": true,
     "schema_version": 1,
     "solution": false
    }
   },
   "source": [
    "## Part 4 - Galton's Box\n",
    "\n",
    "The following figure depicts Galton's box, a game in which marbles are dropped through N rows of pins.  In row 0, there is one position a marble can be in (labeled 0), in row 1, there are two positions (labeled 0 and 1), and so forth.  Each time the marble bounces from one row to the next, there is a 50% probability it bounces left and a 50% probability it bounces right. \n",
    "\n",
    "<img src=\"Galton_Box.png\">\n",
    "<img src=\"Galton2.jpg\">\n",
    "\n",
    "Notice that if a marble is in position x of row y, and it bounces left, it ends up in position x of row y+1.  If it bounces right, it ends up in position x+1.\n",
    "\n",
    "1\\. Create a class, **Marble**, to represent a single Marble that will drop through Galton's Box. \n",
    "- Include attributes to represent the position of the marble.  \n",
    "- The ```__init__``` method should accept a one-character label for use when printing the Marble.\n",
    "\n",
    "2\\. Create a class, **GaltonBox**, to represent the overall setup.  You should include the following methods:\n",
    "\n",
    "- ```__init__``` - Your initializer should accept the size of the box (number of rows including the start row), N.\n",
    "- ```insert_marble``` - This method should accept a Marble instance and sets its position to position 0, row 0.\n",
    "- ```time_step``` - This method should cause all Marbles in Galton's box to bounce to the next row, dropping left or right with equal probability.  When a marble reaches row N-1 at the bottom of the box, it should not move any more.  Note that you should simply allow marbles to occupy the same position (instead of working out a system to prevent a Marble from entering a position if another Marble is already there).\n",
    "    - You can import the random library to decide which way the marble bounces: https://docs.python.org/3.7/library/random.htm\n",
    "- ```__str__ and __repr__``` - Include methods to display the Marbles currently in the box.  To keep things simple, if there are multiple Marbles in a given position, you only have to display one of the labels.\n",
    "\n",
    "Your classes should mimic the following behavior (except that the horizontal positions are random):\n",
    "\n",
    "```\n",
    ">>> m1 = Marble(\"x\")\n",
    ">>> m2 = Marble(\"o\")\n",
    ">>> box = GaltonBox(3)\n",
    ">>> box.insert_marble(m1)\n",
    ">>> box\n",
    "x\n",
    "--\n",
    "---\n",
    ">>> box.time_step()\n",
    ">>> box\n",
    "-\n",
    "-x\n",
    "---\n",
    ">>> box.insert_marble(m2)\n",
    ">>> box\n",
    "o\n",
    "-x\n",
    "---\n",
    ">>> box.time_step()\n",
    ">>> box\n",
    "-\n",
    "o-\n",
    "-x-\n",
    ">>> box.time_step()\n",
    ">>> box\n",
    "-\n",
    "--\n",
    "ox-\n",
    "```\n",
    "\n"
   ]
  },
  {
   "cell_type": "code",
   "execution_count": null,
   "metadata": {
    "collapsed": true,
    "deletable": false,
    "nbgrader": {
     "checksum": "8781b079a4a85535107b3011845cfa2d",
     "grade": false,
     "grade_id": "cell-8dc0d52c853e6e25",
     "locked": false,
     "schema_version": 1,
     "solution": true
    }
   },
   "outputs": [],
   "source": [
    "# YOUR CODE HERE\n"
   ]
  },
  {
   "cell_type": "code",
   "execution_count": null,
   "metadata": {
    "collapsed": true,
    "deletable": false,
    "editable": false,
    "nbgrader": {
     "checksum": "7f89db84d1d07b75aede8eec14ff04b5",
     "grade": true,
     "grade_id": "cell-d3c80439c09ab209",
     "locked": true,
     "points": 0,
     "schema_version": 1,
     "solution": false
    }
   },
   "outputs": [],
   "source": [
    "# Autograde cell - do not erase/delete\n",
    "# Here we implement some tests for you to compare your code with the output we expect.\n",
    "\n",
    "# Does the string representation match?\n",
    "\n",
    "box = GaltonBox(3)\n",
    "box.insert_marble(Marble(\"o\"))\n",
    "print(box)\n",
    "print(str(box) == 'o\\n--\\n---\\n')"
   ]
  },
  {
   "cell_type": "code",
   "execution_count": null,
   "metadata": {
    "collapsed": true,
    "deletable": false,
    "editable": false,
    "nbgrader": {
     "checksum": "9ccea9c10e9fd7cbd8f39e84abcd2d3f",
     "grade": true,
     "grade_id": "cell-7db503472fca5fc5",
     "locked": true,
     "points": 0,
     "schema_version": 1,
     "solution": false
    }
   },
   "outputs": [],
   "source": [
    "# Autograde cell - do not erase/delete\n",
    "# Here we implement some tests for you to compare your code with the output we expect.\n",
    "\n",
    "# Does the time-step method work as expected?\n",
    "import random\n",
    "random.seed(1234)\n",
    "\n",
    "box.time_step()\n",
    "print(box)\n",
    "print(str(box) == '-\\n-o\\n---\\n')"
   ]
  },
  {
   "cell_type": "code",
   "execution_count": null,
   "metadata": {
    "collapsed": true,
    "deletable": false,
    "editable": false,
    "nbgrader": {
     "checksum": "269764d88b0c73a4a03e7ae13de5b916",
     "grade": true,
     "grade_id": "cell-4ef5047c5cc385e7",
     "locked": true,
     "points": 0,
     "schema_version": 1,
     "solution": false
    }
   },
   "outputs": [],
   "source": [
    "# Autograde cell - do not erase/delete\n",
    "# Here and in the following cells we implemented some hidden tests.\n",
    "# This means: Check your code for other inputs as well! Does it match with what you would expect?\n",
    "# Test the other methods you implemented. Do they work as expected?\n"
   ]
  },
  {
   "cell_type": "code",
   "execution_count": null,
   "metadata": {
    "collapsed": true,
    "deletable": false,
    "editable": false,
    "nbgrader": {
     "checksum": "bff50a6b0d689e68e6860350d781cd30",
     "grade": true,
     "grade_id": "cell-cf2e80a27d490ec5",
     "locked": true,
     "points": 0,
     "schema_version": 1,
     "solution": false
    }
   },
   "outputs": [],
   "source": [
    "# Autograde cell - do not erase/delete"
   ]
  },
  {
   "cell_type": "code",
   "execution_count": null,
   "metadata": {
    "collapsed": true,
    "deletable": false,
    "editable": false,
    "nbgrader": {
     "checksum": "9efa1da4de2596b0c587b2bc51085587",
     "grade": true,
     "grade_id": "cell-4cf5d21d4f7ffb1b",
     "locked": true,
     "points": 0,
     "schema_version": 1,
     "solution": false
    }
   },
   "outputs": [],
   "source": [
    "# Autograde cell - do not erase/delete"
   ]
  },
  {
   "cell_type": "code",
   "execution_count": null,
   "metadata": {
    "collapsed": true,
    "deletable": false,
    "editable": false,
    "nbgrader": {
     "checksum": "4f6afa7bc8b6b035c076c67d1c4b07a7",
     "grade": true,
     "grade_id": "cell-cecaa549ab10f02b",
     "locked": true,
     "points": 0,
     "schema_version": 1,
     "solution": false
    }
   },
   "outputs": [],
   "source": [
    "# Autograde cell - do not erase/delete"
   ]
  },
  {
   "cell_type": "markdown",
   "metadata": {
    "deletable": false,
    "editable": false,
    "nbgrader": {
     "checksum": "910cd59c7fb7cd1da7d0b34e42668155",
     "grade": false,
     "grade_id": "cell-0d6fbf3d0326cbc4",
     "locked": true,
     "schema_version": 1,
     "solution": false
    }
   },
   "source": [
    "**Bonus Investigation:** (Extra Credit: 2 points) Once your code is working, write code to create a box with 20 rows, insert a 100 Marbles, and repeatedly call time_step() until all Marbles are at the bottom.  Now adapt the following code to display a histogram of the final Marble positions.  What does the shape of the distribution look like?"
   ]
  },
  {
   "cell_type": "code",
   "execution_count": null,
   "metadata": {
    "collapsed": true,
    "deletable": false,
    "editable": false,
    "nbgrader": {
     "checksum": "e226d32cb8dee9743e16faf4ac2b1829",
     "grade": false,
     "grade_id": "cell-ff1d95ccd995a9d3",
     "locked": true,
     "schema_version": 1,
     "solution": false
    }
   },
   "outputs": [],
   "source": [
    "# Sample code below - you will have to adjust it to work for your code.\n",
    "\n",
    "%matplotlib inline\n",
    "import matplotlib.pyplot as plt\n",
    "import numpy as np\n",
    "\n",
    "x_positions = (2,3,4,6,7,4,3,2,3,1)\n",
    "cutoffs = np.arange(min(x_positions) - .5, max(x_positions)+.5)\n",
    "plt.hist(x_positions, bins = cutoffs)"
   ]
  },
  {
   "cell_type": "code",
   "execution_count": null,
   "metadata": {
    "collapsed": true,
    "deletable": false,
    "nbgrader": {
     "checksum": "495bc16160e16b5947cd5524c5bbbc92",
     "grade": true,
     "grade_id": "cell-d4119824e9396a02",
     "locked": false,
     "points": 1,
     "schema_version": 1,
     "solution": true
    }
   },
   "outputs": [],
   "source": [
    "# YOUR CODE HERE\n"
   ]
  },
  {
   "cell_type": "markdown",
   "metadata": {
    "deletable": false,
    "nbgrader": {
     "checksum": "234191f8d25e07f5c92cb3d66867b992",
     "grade": true,
     "grade_id": "cell-e86742ae1d24a577",
     "locked": false,
     "points": 1,
     "schema_version": 1,
     "solution": true
    }
   },
   "source": [
    "YOUR ANSWER HERE"
   ]
  },
  {
   "cell_type": "markdown",
   "metadata": {
    "deletable": false,
    "editable": false,
    "nbgrader": {
     "checksum": "9bc309ed42c848838f2bff99082e13d7",
     "grade": false,
     "grade_id": "cell-d8aa3306267a8c97",
     "locked": true,
     "schema_version": 1,
     "solution": false
    }
   },
   "source": [
    "## Part 5 - Sorting Marbles\n",
    "\n",
    "In a particular board game, there is exactly one row and it comprises N spaces, numbered 0 through N - 1 from left to right. There are also N marbles, numbered 0 through N - 1, initially placed in some arbitrary order. After that, there are two moves available that only can be done one at a time:\n",
    "\n",
    "- Switch: Switch the marbles in positions 0 and 1.\n",
    "- Rotate: Move the marble in position 0 to position N - 1, and move all other marbles one space to the left (one index lower).\n",
    "\n",
    "The objective is to arrange the marbles in order, with each marble i in position i.\n",
    "\n",
    "1\\. Write a class, **MarblesBoard**, to represent the game above. The class should be initialized with a particular sequence of Marbles.  \n",
    "- Write an ```__init__``` function that takes a starting sequence of marbles (the number of each marble listed in the positions from 0 to N - 1). (Notice in the sequence all the marbles are different numbers and are sequential numbered but not in order!)\n",
    "- Next, write switch() and rotate() methods to simulate the player's moves as described above. \n",
    "- Write a method, is_solved(), that returns True if the marbles are in the correct order, False otherwise.\n",
    "- Additionally, write ```__str__ and __repr__``` methods to display the current state of the board. \n",
    "\n",
    "Your class should behave like the following example:\n",
    "```\n",
    ">>> board = MarblesBoard((3,6,7,4,1,0,8,2,5)) \n",
    ">>> board \n",
    "3 6 7 4 1 0 8 2 5 \n",
    ">>> board.switch() \n",
    ">>> board \n",
    "6 3 7 4 1 0 8 2 5 \n",
    ">>> board.rotate() \n",
    ">>> board \n",
    "3 7 4 1 0 8 2 5 6 \n",
    ">>> board.switch() \n",
    ">>> board \n",
    "7 3 4 1 0 8 2 5 6\n",
    "```\n",
    "\n",
    "2\\. Write a second class, **Solver**, that actually plays the MarblesGame. \n",
    "- Your class will take a MarblesBoard in its initializer. \n",
    "- Write a solve() method that repeatedly calls the switch() and rotate() methods of the given MarblesBoard until the game is solved. You should print the state of the board after each move.  Additionally, print out the total number of moves at the end. Remember, you can only do one switch or one rotate per step!\n",
    "\n",
    "You are to come up with your own algorithm for solving the marbles game.  Before you write your solve() method, you may want to practice solving some small versions of the marbles game yourself.  \n",
    "\n",
    "Here is an example:\n",
    "\n",
    "```\n",
    ">>> board2 = MarblesBoard((1,3,0,2))\n",
    ">>> solver = Solver(board2)\n",
    ">>> solver.solve()\n",
    "1 3 0 2 \n",
    "3 0 2 1 \n",
    "0 2 1 3 \n",
    "2 1 3 0 \n",
    "1 2 3 0 \n",
    "2 3 0 1 \n",
    "3 0 1 2 \n",
    "0 1 2 3 \n",
    "total steps: 7\n",
    "```\n",
    "\n",
    "Your Solver does not need to follow the fastest possible running time but you should strive to make it reasonably efficient.   \n",
    "\n",
    "You may be interested to know that your program is a variation of a well-known sorting algorithm called bubble sort.  Bubble sort would normally be used on a list of items, not on a rotating track, but adapting your algorithm to this setting would be straight-forward."
   ]
  },
  {
   "cell_type": "code",
   "execution_count": 29,
   "metadata": {
    "deletable": false,
    "nbgrader": {
     "checksum": "cfffb8bf30abfb18983b116b83a8ecfa",
     "grade": false,
     "grade_id": "cell-4591333e9bb4a2db",
     "locked": false,
     "schema_version": 1,
     "solution": true
    }
   },
   "outputs": [],
   "source": [
    "##### YOUR CODE HERE\n",
    "import sys\n",
    "\n",
    "class MarblesBoard():\n",
    "    \n",
    "    def __init__(self, marble_list):\n",
    "        try:\n",
    "            if type(marble_list) != list and type(marble_list) != tuple:\n",
    "                raise Exception(\"Please provide a sequence of marbles in tuple or list format.\")\n",
    "                \n",
    "            elif len(marble_list) == 0:\n",
    "                raise Exception(\"Please provide a sequence of marbles.\")\n",
    "                \n",
    "            else:\n",
    "                for item in marble_list:\n",
    "                    if type(item) != int:\n",
    "                        raise Exception(\"The sequence of each marble should be integer.\")\n",
    "                    elif marble_list.count(item) > 1:\n",
    "                        raise Exception(\"The sequence of each marble should be unique.\")\n",
    "                        \n",
    "                if min(marble_list) != 0 or max(marble_list) != len(marble_list) - 1:\n",
    "                    raise Exception(\"The sequence should be numbers in the range of 0 and N - 1 where N is the total numbers you input.\")\n",
    "                \n",
    "                else:\n",
    "                    if type(marble_list) != list:\n",
    "                        self.marbles = list(marble_list)\n",
    "                    else:\n",
    "                        self.marbles = marble_list\n",
    "        \n",
    "        except Exception as e:\n",
    "            print(\"An error has occured: \" + str(e))\n",
    "            sys.exit()\n",
    "        \n",
    "    def switch(self):\n",
    "        x = self.marbles[0]\n",
    "        self.marbles[0] = self.marbles[1]\n",
    "        self.marbles[1] = x\n",
    "    \n",
    "    def rotate(self):\n",
    "        x = self.marbles[0]\n",
    "        for i in range(1,len(self.marbles)):\n",
    "            self.marbles[i-1] = self.marbles[i]\n",
    "        self.marbles[-1] = x\n",
    "    \n",
    "    def is_solved(self):\n",
    "        if self.marbles == sorted(self.marbles):\n",
    "            return True\n",
    "        else:\n",
    "            return False\n",
    "    \n",
    "    def __str__(self):\n",
    "        return \" \".join(map(str, self.marbles))\n",
    "    \n",
    "    def __repr__(self):\n",
    "        return \" \".join(map(str, self.marbles))\n",
    "        \n",
    "\n",
    "class Solver():\n",
    "    \n",
    "    def __init__(self, MarbleBoard):\n",
    "        self.MarbleBoard = MarbleBoard\n",
    "    \n",
    "    def solve(self):\n",
    "        self.__step = 0 # make it a hidden attribute so that player cannot easily manipulate it.\n",
    "        print(self.MarbleBoard)\n",
    "        while not self.MarbleBoard.is_solved():\n",
    "            if self.MarbleBoard.marbles[0] > self.MarbleBoard.marbles[1]:\n",
    "                if self.MarbleBoard.marbles[0] != len(self.MarbleBoard.marbles) - 1 or self.MarbleBoard.marbles[1] != 0:\n",
    "                    self.MarbleBoard.switch()\n",
    "                    print(self.MarbleBoard)\n",
    "                    self.__step += 1\n",
    "            self.MarbleBoard.rotate()\n",
    "            print(self.MarbleBoard)\n",
    "            self.__step += 1\n",
    "        \n",
    "        print(\"total steps:\", self.__step)\n"
   ]
  },
  {
   "cell_type": "code",
   "execution_count": 30,
   "metadata": {
    "deletable": false,
    "editable": false,
    "nbgrader": {
     "checksum": "f0c43111e2c1b45ee64c8b7086405333",
     "grade": true,
     "grade_id": "cell-e2a73c3d3b12b2f3",
     "locked": true,
     "points": 0,
     "schema_version": 1,
     "solution": false
    }
   },
   "outputs": [
    {
     "name": "stdout",
     "output_type": "stream",
     "text": [
      "1 2 4 3 0\n",
      "True\n"
     ]
    }
   ],
   "source": [
    "# Autograde cell - do not erase/delete\n",
    "# Here we implement some tests for you to compare your code with the output we expect.\n",
    "\n",
    "# Does the marble board's string representation match?\n",
    "board = MarblesBoard((1,2,4,3,0)) \n",
    "print(board)\n",
    "print(str(board) == '1 2 4 3 0')\n"
   ]
  },
  {
   "cell_type": "code",
   "execution_count": 31,
   "metadata": {
    "deletable": false,
    "editable": false,
    "nbgrader": {
     "checksum": "4a47f8c695121c5d636c197d34d022b6",
     "grade": true,
     "grade_id": "cell-5ccbb066942dd7d2",
     "locked": true,
     "points": 0,
     "schema_version": 1,
     "solution": false
    }
   },
   "outputs": [
    {
     "name": "stdout",
     "output_type": "stream",
     "text": [
      "2 1 4 3 0\n",
      "1 4 3 0 2\n",
      "True\n"
     ]
    }
   ],
   "source": [
    "# Autograde cell - do not erase/delete\n",
    "# Here we implement some tests for you to compare your code with the output we expect.\n",
    "\n",
    "# Does the switch and rotate methods work?\n",
    "board.switch()\n",
    "print(board)\n",
    "board.rotate()\n",
    "print(board)\n",
    "print(str(board) == '1 4 3 0 2')\n"
   ]
  },
  {
   "cell_type": "code",
   "execution_count": null,
   "metadata": {
    "collapsed": true,
    "deletable": false,
    "editable": false,
    "nbgrader": {
     "checksum": "8e2c2df6a2583466b5222671650cc584",
     "grade": true,
     "grade_id": "cell-4fb9194c51a4218d",
     "locked": true,
     "points": 0,
     "schema_version": 1,
     "solution": false
    }
   },
   "outputs": [],
   "source": [
    "# Autograde cell - do not erase/delete\n",
    "# Here and in the following cells we implemented some hidden tests.\n",
    "# This means: Check your code for other inputs as well! Does it match with what you would expect?\n"
   ]
  },
  {
   "cell_type": "code",
   "execution_count": null,
   "metadata": {
    "collapsed": true,
    "deletable": false,
    "editable": false,
    "nbgrader": {
     "checksum": "e150c39c4a4311c5046e7682ba148afe",
     "grade": true,
     "grade_id": "cell-cbba3ccd48d3e180",
     "locked": true,
     "points": 0,
     "schema_version": 1,
     "solution": false
    }
   },
   "outputs": [],
   "source": [
    "# Autograde cell - do not erase/delete"
   ]
  },
  {
   "cell_type": "code",
   "execution_count": null,
   "metadata": {
    "collapsed": true,
    "deletable": false,
    "editable": false,
    "nbgrader": {
     "checksum": "ab12436916bc522d201f7cdc7bab7a5f",
     "grade": true,
     "grade_id": "cell-7453b5dbb1ec30fd",
     "locked": true,
     "points": 0,
     "schema_version": 1,
     "solution": false
    }
   },
   "outputs": [],
   "source": [
    "# Autograde cell - do not erase/delete"
   ]
  },
  {
   "cell_type": "code",
   "execution_count": null,
   "metadata": {
    "collapsed": true,
    "deletable": false,
    "editable": false,
    "nbgrader": {
     "checksum": "4001c908fb115231d041a67e3c5d801c",
     "grade": true,
     "grade_id": "cell-66c5e7635b517fa8",
     "locked": true,
     "points": 0,
     "schema_version": 1,
     "solution": false
    }
   },
   "outputs": [],
   "source": [
    "# Autograde cell - do not erase/delete"
   ]
  },
  {
   "cell_type": "code",
   "execution_count": null,
   "metadata": {
    "collapsed": true,
    "deletable": false,
    "editable": false,
    "nbgrader": {
     "checksum": "cd32e671cb40af6048014cda44153278",
     "grade": true,
     "grade_id": "cell-5bdc859879cfd92e",
     "locked": true,
     "points": 0,
     "schema_version": 1,
     "solution": false
    }
   },
   "outputs": [],
   "source": [
    "# Autograde cell - do not erase/delete"
   ]
  },
  {
   "cell_type": "markdown",
   "metadata": {
    "deletable": false,
    "editable": false,
    "nbgrader": {
     "checksum": "71b17ded21693694789f1f52a63b3dfe",
     "grade": false,
     "grade_id": "cell-e55bf2766c88246f",
     "locked": true,
     "schema_version": 1,
     "solution": false
    }
   },
   "source": [
    "Extra Credit (2 points): Describe in big-O notation the complexity of your algorithm."
   ]
  },
  {
   "cell_type": "markdown",
   "metadata": {
    "deletable": false,
    "nbgrader": {
     "checksum": "018b6bfd2c58eaae672aa2f5e954a4a3",
     "grade": true,
     "grade_id": "cell-fc4969c14c4704e8",
     "locked": false,
     "points": 2,
     "schema_version": 1,
     "solution": true
    }
   },
   "source": [
    "YOUR ANSWER HERE\n",
    "\n",
    "big-O = O($n^{2}$)"
   ]
  }
 ],
 "metadata": {
  "kernelspec": {
   "display_name": "Python 3",
   "language": "python",
   "name": "python3"
  },
  "language_info": {
   "codemirror_mode": {
    "name": "ipython",
    "version": 3
   },
   "file_extension": ".py",
   "mimetype": "text/x-python",
   "name": "python",
   "nbconvert_exporter": "python",
   "pygments_lexer": "ipython3",
   "version": "3.6.1"
  }
 },
 "nbformat": 4,
 "nbformat_minor": 1
}
