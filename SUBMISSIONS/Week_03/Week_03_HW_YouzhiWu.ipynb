{
 "cells": [
  {
   "cell_type": "markdown",
   "metadata": {},
   "source": [
    "## Week 3 Assignment - W200 Python Fundamentals for Data Science, UC Berkeley MIDS"
   ]
  },
  {
   "cell_type": "markdown",
   "metadata": {},
   "source": [
    "Write code in this jupyter Notebook to solve the following problems. Please upload this **Notebook** with your solutions to your GitHub repository in your SUBMISSIONS/week_03 folder by 11:59PM PST the night before class."
   ]
  },
  {
   "cell_type": "markdown",
   "metadata": {},
   "source": [
    "## Objectives:\n",
    "\n",
    "- More practice with while loops, if statements and gathering user inputs\n",
    "- Demonstrate use of Python data structures such as lists, tuples, and dictionaries\n",
    "- Understand how to add items to these data structures and print the contents of each to the user"
   ]
  },
  {
   "cell_type": "markdown",
   "metadata": {},
   "source": [
    "## General Guidelines:\n",
    "\n",
    "- In each code block, do NOT delete the ### comment at the top of a cell (it's needed for the auto-grading!)\n",
    "- Limited user input validation and error checking is encouraged on this assignment. Each question below will indicate the type of input that you can expect. (for example, if the question states the input will be an integer, you can expect the user to input an integer and do not need to check to ensure it is an integer versus a float or a string)\n",
    "- Adding comments in your code is strongly suggested but won't be graded.\n",
    "- The examples given are samples of how we will test/grade your code. Please ensure your code outputs the same information.\n",
    "- If you are stuck on a problem or do not understand a question - please come to office hours or ask questions to the class Google group (please don't post your code though). If it is a coding problem send a private email to all of the instructors."
   ]
  },
  {
   "cell_type": "markdown",
   "metadata": {
    "collapsed": true
   },
   "source": [
    "### 3-1. Pig Latin Translator\n",
    "\n",
    "Write code that translates a name into (simplified) Pig Latin. (Please do not make this a 'real' Pig Latin translator.)  Have your script ask the user for his or her name, which can comprise first, middle, and/or last parts. For each name part, move the first letter to the end of the part and append the letters \"ay\". Make sure that only the first letter of each word in your output is capitalized. You can use the ```split()``` method on the string to create a list of the name parts. Be sure that your script can handle one, two or three name parts separated by spaces. This will likely involve a loop.\n",
    "\n",
    "Your script should re-create the following example exactly:\n",
    "\n",
    "```\n",
    "Enter your name: Paul Laskowski\n",
    "\n",
    "Aulpay Askowskilay\n",
    "```"
   ]
  },
  {
   "cell_type": "code",
   "execution_count": 19,
   "metadata": {},
   "outputs": [
    {
     "name": "stdout",
     "output_type": "stream",
     "text": [
      "Please enter your full name: Rui Levy HE\n",
      "Uiray Evylay Ehay "
     ]
    }
   ],
   "source": [
    "### Q3-1 Grading Tag: Please put your entire solution in this cell. Don't edit this line.\n",
    "name = input(\"Please enter your full name: \")\n",
    "npart = name.split()\n",
    "l = len(npart)\n",
    "k = 0\n",
    "\n",
    "while k < l:\n",
    "    x = npart[k]\n",
    "    y = len(x)\n",
    "    z = x[1].upper()+x[2:y].lower()+x[0].lower()+\"ay\"\n",
    "    npart[k] = z\n",
    "    print(npart[k], end = \" \")\n",
    "    k+=1\n",
    "\n"
   ]
  },
  {
   "cell_type": "markdown",
   "metadata": {
    "collapsed": true
   },
   "source": [
    "### 3-2. Matrix Inverter\n",
    "\n",
    "One place where the usage of tuples is convenient is in the representation of matrices.  The values in a 2x2 matrix are labeled as follows:\n",
    "$$\n",
    "\\begin{bmatrix}\n",
    "    a       & b  \\\\\n",
    "    c       & d\n",
    "\\end{bmatrix}\n",
    "$$\n",
    "\n",
    "Write code that asks the user for a text string including the four **numbers**, a, b, c, and d, separated by spaces.  You can use the `split()` method on the string to create a list of the four values in order.\n",
    "\n",
    "Create a tuple that represents each row, then create a tuple that contains those two tuples.  It should have the form `((a, b), (c, d))`.  **Print this representation.**\n",
    "\n",
    "The inverse of the matrix above is given by the formula:\n",
    "\n",
    "$$\n",
    "\\frac{1}{ad-bc} \\begin{bmatrix}\n",
    "    d       & -b  \\\\\n",
    "    -c       & a\n",
    "\\end{bmatrix}\n",
    "$$\n",
    "\n",
    "Recall that multiplying a matrix by a number effectively multiplies each element of the matrix by that number.\n",
    "\n",
    "Compute the inverse of the given matrix, again represented as nested tuples, and **print this representation**. Use the example below to make sure you understand the equation correctly:\n",
    "\n",
    "\n",
    "```\n",
    "Please enter four numbers separated by spaces: 1 2 3 4\n",
    "\n",
    "matrix: ((1.0, 2.0), (3.0, 4.0))\n",
    "inverse: ((-2.0, 1.0), (1.5, -0.5))\n",
    "```"
   ]
  },
  {
   "cell_type": "code",
   "execution_count": 60,
   "metadata": {},
   "outputs": [
    {
     "name": "stdout",
     "output_type": "stream",
     "text": [
      "Please enter four numbers separated by spaces: 1 2 3 4\n",
      "((1.0, 2.0), (3.0, 4.0))\n",
      "((-2.0, 1.0), (1.5, -0.5))\n"
     ]
    }
   ],
   "source": [
    "### Q3-2 Grading Tag: Please put your entire solution in this cell. Don't edit this line.\n",
    "mlist = input(\"Please enter four numbers separated by spaces: \").split()\n",
    "a = float(mlist[0])\n",
    "b = float(mlist[1])\n",
    "c = float(mlist[2])\n",
    "d = float(mlist[3])\n",
    "mlist = [a, b, c, d]\n",
    "matrix = tuple([tuple(mlist[0:2]),tuple(mlist[2:4])])\n",
    "print(matrix)\n",
    "\n",
    "factor = a*d-b*c\n",
    "if factor ==0:\n",
    "    print(\"The inverse of this matrix does not exist.\")\n",
    "else: \n",
    "    e = d/factor\n",
    "    f = (-b)/factor\n",
    "    g = (-c)/factor\n",
    "    h = a/factor\n",
    "    ilist = [e, f, g, h]\n",
    "    inverse = tuple([tuple(ilist[0:2]),tuple(ilist[2:4])])\n",
    "    print(inverse)\n"
   ]
  },
  {
   "cell_type": "markdown",
   "metadata": {},
   "source": [
    "### 3-3. Create a to-do list program using a dictionary of lists\n",
    "\n",
    "Write code that stores a to-do list for each day of the week (Sunday through Saturday). Your program needs to have the following elements:\n",
    "\n",
    "- An empty dictionary to store information\n",
    "- A key in the dictionary for each day of the week\n",
    "- Each key has a value of a list that stores the to-do list items\n",
    "\n",
    "- User can type \"add\" and the program will ask what day, then ask what item to add to that day. Ensure the user can add multiple items per day. (That is, ensure that this adds a new item, not replaces an existing item.)\n",
    "- User can type \"get\" and the program will ask for the day and print the values\n",
    "- The program will loop, using a while loop, until the user specifies \"quit\"\n",
    "\n",
    "- Some user error checking is required, specifically: upper/lowercase for the days of the week, incorrect day of the week, or an incorrect command\n",
    "- ** Hint: This task requires you to use tools you learned about in Unit 2 (\"if\" and \"loops\") along with dictionaries and lists.**\n",
    "\n",
    "Example:\n",
    "```\n",
    "Prompt: What would you like to do?\n",
    "> add\n",
    "\n",
    "Prompt: What day?\n",
    "> Friday\n",
    "\n",
    "Prompt: What would you like to add to Friday's to-do list?\n",
    "> practice clarinet\n",
    "\n",
    "Prompt: What would you like to do?\n",
    "> get\n",
    "\n",
    "Prompt: What day?\n",
    "> funday\n",
    "Invalid entry - please enter a correct day of the week (like Monday or monday).\n",
    "\n",
    "Prompt: What day?\n",
    "> friday\n",
    "\n",
    "Response: You have to practice clarinet.\n",
    "\n",
    "Prompt: What would you like to do?\n",
    "> quit\n",
    "\n",
    "Response: Ending program. Thank you for using the to-do list!\n",
    "```"
   ]
  },
  {
   "cell_type": "code",
   "execution_count": 45,
   "metadata": {},
   "outputs": [
    {
     "name": "stdout",
     "output_type": "stream",
     "text": [
      "Prompt: What would you like to do?\n",
      ">add\n",
      "Prompt: What day?\n",
      ">fRiday\n",
      "Prompt: What would you like to add to Friday's to-do list?\n",
      ">feed cats, clean home\n",
      "Prompt: What would you like to do?\n",
      ">get\n",
      "Prompt: What day?\n",
      ">funday\n",
      "Invalid entry - please enter a correct day of the week (like Monday or monday).\n",
      "Prompt: What day?\n",
      ">friday\n",
      "Response: You have to feed cats, clean home.\n",
      "Prompt: What would you like to do?\n",
      ">get\n",
      "Prompt: What day?\n",
      ">monday\n",
      "You have nothing to do on this day.\n",
      "Prompt: What would you like to do?\n",
      ">add\n",
      "Prompt: What day?\n",
      ">monday\n",
      "Prompt: What would you like to add to Monday's to-do list?\n",
      ">play game\n",
      "Prompt: What would you like to do?\n",
      ">add\n",
      "Prompt: What day?\n",
      ">monday\n",
      "Prompt: What would you like to add to Monday's to-do list?\n",
      ">eat food\n",
      "Prompt: What would you like to do?\n",
      ">get\n",
      "Prompt: What day?\n",
      ">monday\n",
      "Response: You have to play game, eat food.\n",
      "Prompt: What would you like to do?\n",
      ">add\n",
      "Prompt: What day?\n",
      ">monday\n",
      "Prompt: What would you like to add to Monday's to-do list?\n",
      ">have a picnic\n",
      "Prompt: What would you like to do?\n",
      ">munday\n",
      "Invalid entry - please enter get or add commands.\n",
      "Prompt: What would you like to do?\n",
      ">get\n",
      "Prompt: What day?\n",
      ">munday\n",
      "Invalid entry - please enter a correct day of the week (like Monday or monday).\n",
      "Prompt: What day?\n",
      ">sunday\n",
      "You have nothing to do on this day.\n",
      "Prompt: What would you like to do?\n",
      ">get\n",
      "Prompt: What day?\n",
      ">monday\n",
      "Response: You have to play game, eat food, have a picnic.\n",
      "Prompt: What would you like to do?\n",
      ">quit\n",
      "Response: Ending program. Thank you for using the to-do list!\n"
     ]
    }
   ],
   "source": [
    "### Q3-3 Grading Tag: Please put your entire solution in this cell. Don't edit this line.\n",
    "sunday_list = list()\n",
    "monday_list = list()\n",
    "tuesday_list = list()\n",
    "wednesday_list = list()\n",
    "thursday_list = list()\n",
    "friday_list = list()\n",
    "saturday_list = list()\n",
    "to_do = {\"sunday\":sunday_list,\"monday\":monday_list,\"tuesday\":tuesday_list,\"wednesday\":wednesday_list,\"thursday\":thursday_list,\"friday\":friday_list,\"saturday\":saturday_list}\n",
    "action = input(\"Prompt: What would you like to do?\\n>\").lower()\n",
    "\n",
    "while action != \"quit\":\n",
    "    while action == \"add\": #use while loop so that in the case of invalid entry, the program still remembers the original input for action.\n",
    "        day = input(\"Prompt: What day?\\n>\").lower()\n",
    "        if day == \"sunday\":\n",
    "            sunday_list.extend(input(\"Prompt: What would you like to add to Sunday's to-do list?\\n>\").split(\", \"))\n",
    "            action = input(\"Prompt: What would you like to do?\\n>\").lower()\n",
    "        elif day == \"monday\":\n",
    "            monday_list.extend(input(\"Prompt: What would you like to add to Monday's to-do list?\\n>\").split(\", \"))\n",
    "            action = input(\"Prompt: What would you like to do?\\n>\").lower()\n",
    "        elif day == \"tuesday\":\n",
    "            tuesday_list.extend(input(\"Prompt: What would you like to add to Tuesday's to-do list?\\n>\").split(\", \"))\n",
    "            action = input(\"Prompt: What would you like to do?\\n>\").lower()\n",
    "        elif day == \"wednesday\":\n",
    "            wednesday_list.extend(input(\"Prompt: What would you like to add to Wednesday's to-do list?\\n>\").split(\", \"))\n",
    "            action = input(\"Prompt: What would you like to do?\\n>\").lower()\n",
    "        elif day == \"thursday\":\n",
    "            thursday_list.extend(input(\"Prompt: What would you like to add to Thursday's to-do list?\\n>\").split(\", \"))\n",
    "            action = input(\"Prompt: What would you like to do?\\n>\").lower()\n",
    "        elif day == \"friday\":\n",
    "            friday_list.extend(input(\"Prompt: What would you like to add to Friday's to-do list?\\n>\").split(\", \"))\n",
    "            action = input(\"Prompt: What would you like to do?\\n>\").lower()\n",
    "        elif day == \"saturday\":\n",
    "            saturday_list.extend(input(\"Prompt: What would you like to add to Saturday's to-do list?\\n>\").split(\", \"))\n",
    "            action = input(\"Prompt: What would you like to do?\\n>\").lower()\n",
    "        else:\n",
    "            print(\"Invalid entry - please enter a correct day of the week (like Monday or monday).\")\n",
    "            day = input(\"Prompt: What day?\\n\").lower()\n",
    "        \n",
    "    while action == \"get\":\n",
    "        day = input(\"Prompt: What day?\\n>\").lower()\n",
    "        if day == \"sunday\" or day == \"monday\" or day == \"tuesday\" or day == \"wednesday\" or day == \"thursday\" or day == \"friday\" or day == \"saturday\":\n",
    "            if len(to_do[day]) == 0: #add a validation to check if there is anything on the to-do list, to handle \"none\" scenario.\n",
    "                print(\"You have nothing to do on this day.\")\n",
    "            else:\n",
    "                print(\"Response: You have to\", \", \".join(to_do[day])+\".\")\n",
    "            action = input(\"Prompt: What would you like to do?\\n>\").lower()\n",
    "        else:\n",
    "            print(\"Invalid entry - please enter a correct day of the week (like Monday or monday).\")\n",
    "        \n",
    "    if action != \"add\" and action != \"get\" and action != \"quit\":\n",
    "        print(\"Invalid entry - please enter get or add commands.\")\n",
    "        action = input(\"Prompt: What would you like to do?\\n>\").lower()\n",
    "    \n",
    "\n",
    "print(\"Response: Ending program. Thank you for using the to-do list!\")\n",
    "    "
   ]
  },
  {
   "cell_type": "markdown",
   "metadata": {},
   "source": [
    "### 3-4. Fibonacci\n",
    "\n",
    "The Fibonacci numbers begin with 1, 1.  After the first two numbers, each number is the sum of the previous two. 1 + 1 = 2, so 2 is the third number. Then 1 + 2 = 3, so 3 is the next one, and so on. Write a script that prompts the user for an integer number, then prints all the Fibonacci numbers that are less than or equal to the input, in order.\n",
    "\n",
    "Example:\n",
    "```\n",
    "Enter a number: 15\n",
    "\n",
    "1 1 2 3 5 8 13\n",
    "```"
   ]
  },
  {
   "cell_type": "code",
   "execution_count": 57,
   "metadata": {},
   "outputs": [
    {
     "name": "stdout",
     "output_type": "stream",
     "text": [
      "Enter an integer number: 9\n",
      "1 1 2 3 5 8\n"
     ]
    }
   ],
   "source": [
    "### Q3-4 Grading Tag: Please put your entire solution in this cell. Don't edit this line.\n",
    "num = int((input(\"Enter an integer number: \")))\n",
    "Fib = [1,1]\n",
    "k = 2\n",
    "\n",
    "if num < 1:\n",
    "    print(\"Cannot find any Fibonacci number that is less than or equal to the input.\")\n",
    "else:\n",
    "    while Fib[k-2] + Fib[k-1] < num:\n",
    "        Fib.append(Fib[k-2]+Fib[k-1])\n",
    "        k+=1\n",
    "    print(*Fib)\n",
    "        \n",
    "    \n"
   ]
  },
  {
   "cell_type": "markdown",
   "metadata": {},
   "source": [
    "### 3-5. Pascal's Triangle\n",
    "\n",
    "Pascal's triangle is a triangle of numbers that is computed as follows. The first row contains a 1.  Each row after that begins and ends with a 1, and every other number is the sum of the two numbers above it. The first six rows of Pascal's triangle are shown below.\n",
    "```\n",
    "      1\n",
    "     1 1\n",
    "    1 2 1\n",
    "  1  3 3  1\n",
    " 1 4  6  4 1\n",
    "1 5 10 10 5 1\n",
    "```\n",
    "Write a script to compute and print the *n*th row of Pascal's triangle. Do not spend time trying to print the entire triangle in the format above (it is for illustrative purposes only).  The input will be the row number as an integer starting with row 1 as the first row.\n",
    "\n",
    "** Hint: Think about the type of objects you need to solve the problem. What are you iterating over? It may help to calculate a couple of rows by hand and think about the process you take. **\n",
    "\n",
    "Example:\n",
    "```\n",
    "Enter a row number: 5\n",
    "\n",
    "1 4 6 4 1\n",
    "```\n"
   ]
  },
  {
   "cell_type": "code",
   "execution_count": 77,
   "metadata": {},
   "outputs": [
    {
     "name": "stdout",
     "output_type": "stream",
     "text": [
      "Enter a row number: -2\n",
      "Invalid input. Please try again.\n"
     ]
    }
   ],
   "source": [
    "### Q3-5 Grading Tag: Please put your entire solution in this cell. Don't edit this line.\n",
    "row = int(input(\"Enter a row number: \"))\n",
    "\n",
    "if row == 1:\n",
    "    print(1) \n",
    "elif row == 2:\n",
    "    print(\"1 1\")\n",
    "elif row > 2:\n",
    "    P = [[1],[1,1]]\n",
    "    i = 2\n",
    "    while i >=2 and i < row:\n",
    "        P.append([])\n",
    "        j = 1\n",
    "        P[i].append(1)\n",
    "        while j < i:\n",
    "            P[i].append(P[i-1][j-1]+P[i-1][j])\n",
    "            j+=1\n",
    "        P[i].append(1)\n",
    "        i+=1\n",
    "    print(*P[row-1])\n",
    "else:\n",
    "    print(\"Invalid input. Please try again.\")\n"
   ]
  },
  {
   "cell_type": "markdown",
   "metadata": {},
   "source": [
    "## If you have feedback for this homework, please submit it using the link below:\n",
    "\n",
    "http://goo.gl/forms/74yCiQTf6k"
   ]
  },
  {
   "cell_type": "code",
   "execution_count": null,
   "metadata": {
    "collapsed": true
   },
   "outputs": [],
   "source": []
  }
 ],
 "metadata": {
  "anaconda-cloud": {},
  "kernelspec": {
   "display_name": "Python 3",
   "language": "python",
   "name": "python3"
  },
  "language_info": {
   "codemirror_mode": {
    "name": "ipython",
    "version": 3
   },
   "file_extension": ".py",
   "mimetype": "text/x-python",
   "name": "python",
   "nbconvert_exporter": "python",
   "pygments_lexer": "ipython3",
   "version": "3.6.1"
  }
 },
 "nbformat": 4,
 "nbformat_minor": 1
}
