{
 "cells": [
  {
   "cell_type": "markdown",
   "metadata": {},
   "source": [
    "# Week 2 Activities\n",
    "\n",
    "###  1. Text handling"
   ]
  },
  {
   "cell_type": "markdown",
   "metadata": {},
   "source": [
    "1) Type a one-line script that prints exactly:\n",
    "\n",
    "**The \"trouble with <br>\n",
    "Tribbles\" that they <br>\n",
    "\\\\\\EAT/// too many MREs.**\n"
   ]
  },
  {
   "cell_type": "code",
   "execution_count": null,
   "metadata": {
    "collapsed": true
   },
   "outputs": [],
   "source": [
    "# Insert your code here"
   ]
  },
  {
   "cell_type": "markdown",
   "metadata": {},
   "source": [
    "2) Store the phrase in part 1 into a variable then use it to print ‘selbbirT ’ 300 times\n",
    "\n",
    "**selbbirT selbbirT selbbirT selbbirT …**"
   ]
  },
  {
   "cell_type": "code",
   "execution_count": null,
   "metadata": {
    "collapsed": true
   },
   "outputs": [],
   "source": [
    "# Insert your code here"
   ]
  },
  {
   "cell_type": "markdown",
   "metadata": {},
   "source": [
    "### 2. Flow Control\n",
    "Fix this code so it works in a sensible way"
   ]
  },
  {
   "cell_type": "code",
   "execution_count": 1,
   "metadata": {},
   "outputs": [
    {
     "ename": "SyntaxError",
     "evalue": "EOL while scanning string literal (<ipython-input-1-d9aa78fe126c>, line 1)",
     "output_type": "error",
     "traceback": [
      "\u001b[0;36m  File \u001b[0;32m\"<ipython-input-1-d9aa78fe126c>\"\u001b[0;36m, line \u001b[0;32m1\u001b[0m\n\u001b[0;31m    ans = input( 'do you have 8 legs?’)\u001b[0m\n\u001b[0m                                       \n^\u001b[0m\n\u001b[0;31mSyntaxError\u001b[0m\u001b[0;31m:\u001b[0m EOL while scanning string literal\n"
     ]
    }
   ],
   "source": [
    "ans = input( 'do you have 8 legs?’)\n",
    "if ans == \"yes\"\n",
    "print (“you are a spider\")\n",
    "else\n",
    "ans = input( 'do you have 4 legs?’)\n",
    "if\n",
    "print ('you are a quad')\n",
    "else\n",
    "if ans == \"yes\"\n",
    "else:\n",
    "print ('you are a bicycle')"
   ]
  },
  {
   "cell_type": "markdown",
   "metadata": {},
   "source": [
    "### 3.  A Simple Tool...\n",
    "\n",
    "### Part A\n",
    "\n",
    "You work for a Python consulting company. One of your clients is really bad at math, and comes to you with an important task: to create a \"calculator\" program.\n",
    "\n",
    "We're going to build your first tool using Python code! Create a calculator tool that prompts a user for two numbers and an operator. Then, print out the result of that equation to the screen.\n",
    "\n",
    "Your calculator should work for addition, subtraction, multiplication and division. If the user enters anything else as the operator, tell the user they picked an invalid operator.\n",
    "\n",
    "\n",
    "#### Helpful functions\n",
    "- input()\n",
    "- float()\n",
    "- if, elif, else\n",
    "- print()\n",
    "\n",
    "#### Sample output\n",
    "Enter first number: 3 <br>\n",
    "Enter second number: 5.5 <br>\n",
    "Enter an operator: \\* <br>\n",
    "3.0 \\* 5.5 = 16.5 <br>"
   ]
  },
  {
   "cell_type": "code",
   "execution_count": 1,
   "metadata": {
    "collapsed": true
   },
   "outputs": [],
   "source": [
    "# Insert your code here"
   ]
  },
  {
   "cell_type": "markdown",
   "metadata": {},
   "source": [
    "### Part B\n",
    "\n",
    "Your client does not have access to Jupyter Notebook. **Save your code as a .py** file and run it from the command line a few times. Make sure all of your operators still work."
   ]
  },
  {
   "cell_type": "markdown",
   "metadata": {},
   "source": [
    "### Part C\n",
    "\n",
    "Your client is bored of simple equations, and would like to be able to use some of Python's advanced operators. Update your program to allow exponents, modular division, and integer division.\n",
    "\n",
    "#### Helpful Functions\n",
    "- \\**\n",
    "- %\n",
    "- //\n",
    "\n",
    "#### Sample Output\n",
    "Enter first number: 7 <br>\n",
    "Enter second number: 4 <br>\n",
    "Enter an operator: % <br>\n",
    "7.0 % 4.0 = 3.0"
   ]
  },
  {
   "cell_type": "code",
   "execution_count": null,
   "metadata": {
    "collapsed": true
   },
   "outputs": [],
   "source": [
    "# Insert your code here"
   ]
  },
  {
   "cell_type": "markdown",
   "metadata": {
    "collapsed": true
   },
   "source": [
    "## Congratulations! You finished."
   ]
  },
  {
   "cell_type": "code",
   "execution_count": null,
   "metadata": {
    "collapsed": true
   },
   "outputs": [],
   "source": []
  }
 ],
 "metadata": {
  "anaconda-cloud": {},
  "kernelspec": {
   "display_name": "Python 3",
   "language": "python",
   "name": "python3"
  },
  "language_info": {
   "codemirror_mode": {
    "name": "ipython",
    "version": 3
   },
   "file_extension": ".py",
   "mimetype": "text/x-python",
   "name": "python",
   "nbconvert_exporter": "python",
   "pygments_lexer": "ipython3",
   "version": "3.6.1"
  }
 },
 "nbformat": 4,
 "nbformat_minor": 1
}
