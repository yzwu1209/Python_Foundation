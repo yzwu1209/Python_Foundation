{
 "cells": [
  {
   "cell_type": "markdown",
   "metadata": {},
   "source": [
    "## Week 2 Assignment - W200 Python Fundamentals for Data Science, UC Berkeley MIDS"
   ]
  },
  {
   "cell_type": "markdown",
   "metadata": {},
   "source": [
    "## Python Coding\n",
    "\n",
    "Write a script to solve each of the following problems.  Please save each problem as it's own separate .py file, named according to each problem. Please upload these five .py scripts to your GitHub repository in your SUBMISSIONS/week_02 folder.\n",
    "\n",
    "Assignment due date: 11:59PM PST the night before the Week 3 Live Session."
   ]
  },
  {
   "cell_type": "markdown",
   "metadata": {},
   "source": [
    "## Objectives:\n",
    "\n",
    "- Demonstrate how to obtain user input into a Python script\n",
    "- Comprehend how to save a Python script to a .py file\n",
    "- Understand how to run a Python script from the command line\n",
    "- Demonstrate outputting useful information to the user in the correct format\n",
    "- Use Python numerical and string variables to calculate values and output these to the user\n",
    "- Demonstrate use of the while loop and if statements"
   ]
  },
  {
   "cell_type": "markdown",
   "metadata": {},
   "source": [
    "## General Guidelines:\n",
    "\n",
    "- Even though your final submission must be individual .py files, it may be helpful to first solve the problems in this jupyter notebook, then translate the files into .py form.\n",
    "- Please format your input and output strings to be user friendly.  For tips on how to do this, see the python string formatting cookbook at: https://mkaz.tech/code/python-string-format-cookbook/.  For example, in the first problem below, format the tip to two decimal places like 15.25 instead of 15.25000001.\n",
    "- Limited user input validation and error checking is encouraged on this assignment. Each question below will indicate the type of input that you can expect. (for example, if the question states the input will be an integer you can expect the user to input an integer and do not need to check to ensure it is an integer versus a float or a string)\n",
    "- Adding comments in your code is strongly suggested but won't be graded.\n",
    "- The examples given are samples of how we will test/grade your code. Please ensure your scripts output the same information.\n",
    "- If you are stuck on a problem or do not understand a question - please come to office hours or ask questions to the class Google group (please don't post your code though). If it is a coding problem send a private email to all of the instructors. "
   ]
  },
  {
   "cell_type": "markdown",
   "metadata": {},
   "source": [
    "### 2-1. Tip Calculator\n",
    "\n",
    "Below, you can see the script we wrote to compute the tip for a meal.  Fix it so that it works correctly. Expect the input to be a **number.** \n",
    "\n",
    "Save your result as the file: tip.py."
   ]
  },
  {
   "cell_type": "code",
   "execution_count": 4,
   "metadata": {},
   "outputs": [
    {
     "name": "stdout",
     "output_type": "stream",
     "text": [
      "Enter the price of a meal: 10\n",
      "A 16% tip would be: $1.60\n",
      "The total including tip would be: $11.60\n"
     ]
    }
   ],
   "source": [
    "# One of many possible solutions - add float in front of the input\n",
    "# could also add a line that does price = float(price)  or put float(price) in the formulas for tip & total\n",
    "\n",
    "price = float(input(\"Enter the price of a meal: \"))\n",
    "\n",
    "tip = price * 0.16\n",
    "total = price + tip\n",
    "\n",
    "# Adding in the float formatting to 2 decimal places and a $ sign\n",
    "print(\"A 16% tip would be: ${:.2f}\".format(tip))\n",
    "print(\"The total including tip would be: ${:.2f}\".format(total))"
   ]
  },
  {
   "cell_type": "markdown",
   "metadata": {},
   "source": [
    "### 2-2. Gas Pump Informer\n",
    "\n",
    "Write a script that prompts the user for a **number** of gallons of gasoline. Reprint that value, along with its conversion to other measurements:\n",
    "\n",
    "- Equivalent number of liters (format to 4 decimals)\n",
    "- Number of barrels of oil required to produce it (format to 3 decimals)\n",
    "- Price in U.S. dollars (format to 2 decimals)\n",
    "\n",
    "Figures to use:\n",
    "\n",
    "- 1 gallon is equivalent to 3.7854 liters.\n",
    "- 1 barrel of oil produces 19.5 gallons of gas.\n",
    "- The average price of gas is approximately $3.65 per gallon.\n",
    "\n",
    "Save your script as: gas.py"
   ]
  },
  {
   "cell_type": "code",
   "execution_count": 14,
   "metadata": {},
   "outputs": [
    {
     "name": "stdout",
     "output_type": "stream",
     "text": [
      "Enter a number of gallons of gasoline >> 2\n",
      "\n",
      "2.0 gallons of gasoline is equivalent to about 7.5708 liters.\n",
      "About 0.103 barrels of oil are required to produce 2.0 gallons of gasoline.\n",
      "2.0 gallons of gasoline will cost approximately $7.30. \n"
     ]
    }
   ],
   "source": [
    "# Steps for this problem:\n",
    "# 1- input the number of gallons as a float\n",
    "# 2- Compute the conversion formulas\n",
    "# 3- print out the results\n",
    "\n",
    "num_gal = float(input(\"Enter a number of gallons of gasoline >> \"))\n",
    "\n",
    "# Pythonic way of doing is formulas is a space on either side of = and either side of the operator\n",
    "liters = num_gal * 3.7854\n",
    "barrels = num_gal / 19.5\n",
    "price = num_gal * 3.65\n",
    "\n",
    "\n",
    "# Fancier way of printing out the gallons and then other measurements\n",
    "print(\"\\n{} gallons of gasoline is equivalent to about {:.4f} liters.\".format(num_gal, liters))\n",
    "print(\"About {:.3f} barrels of oil are required to produce {} gallons of gasoline.\".format(barrels, num_gal))\n",
    "print(\"{} gallons of gasoline will cost approximately ${:.2f}. \".format(num_gal, price))"
   ]
  },
  {
   "cell_type": "markdown",
   "metadata": {},
   "source": [
    "### 2-3. Number Averager\n",
    "\n",
    "Write a script that prompts the user for **two numbers**, a and b.  Then, prompt the user to enter a type of average out of the three options below. Make it so the user would just type in a **number** 1, 2 or 3 for the average (i.e. 1 for arithmetic mean, 2 for geometric mean, or 3 for root-mean-square). Output the correct average, based on what the user selected.\n",
    "\n",
    "1. The arithmetic mean:  $(a + b) / 2 $\n",
    "2. The geometric mean:  $\\sqrt{ab}$\n",
    "3. The root-mean-square: $\\sqrt{\\frac{a^2 + b^2}{2}}$\n",
    "\n",
    "Save your script as: averages.py"
   ]
  },
  {
   "cell_type": "code",
   "execution_count": 4,
   "metadata": {},
   "outputs": [
    {
     "name": "stdout",
     "output_type": "stream",
     "text": [
      "Type your first number: 1\n",
      "Type your second number: 2\n",
      "Choose your type of average by typing 1 for arithmetic mean, 2 for geometric mean, 3 for root-mean-square: 3\n",
      "\n",
      "The root-mean-square of your two numbers is: 1.5811388300841898\n"
     ]
    }
   ],
   "source": [
    "a = float(input(\"Type your first number: \"))\n",
    "b = float(input(\"Type your second number: \"))\n",
    "\n",
    "avgtype = input(\"Choose your type of average by typing 1 for arithmetic mean, 2 for \\\n",
    "geometric mean, 3 for root-mean-square: \")\n",
    "\n",
    "\n",
    "# Compute the average based on the avgtype input\n",
    "if avgtype == \"1\":\n",
    "    avg = (a + b)/2\n",
    "    print(\"\\nThe arithemetic mean of your two numbers is:\", avg)\n",
    "\n",
    "elif avgtype == \"2\":\n",
    "    avg = (a * b) ** 0.5\n",
    "    print(\"\\nThe geometric mean of your two numbers is:\", avg)\n",
    "\n",
    "elif avgtype == \"3\":\n",
    "    avg = ((a*a + b*b) / 2) ** 0.5\n",
    "    print(\"\\nThe root-mean-square of your two numbers is:\", avg)\n",
    "\n",
    "else: \n",
    "    print(\"You did not select a valid type - Please enter 1, 2, or 3\")"
   ]
  },
  {
   "cell_type": "markdown",
   "metadata": {},
   "source": [
    "### 2-4. Income Tax\n",
    "\n",
    "The mythical island nation of Laskoatu has a rather simple tax code.  The first \\$1000 of income is taxed at 5%.  The next \\$1000 is taxed at 10%.  Any income beyond the first \\$2000 is taxed at 15%.  Complete the following script so that it asks the user for his or her income (an **integer** as seen below) and outputs the amount of tax owed. \n",
    "\n",
    "Example:\n",
    "```\n",
    "Please enter your income: 1500\n",
    "\n",
    "The tax owed is: $100 \n",
    "```\n",
    "\n",
    "Save your script as: tax.py"
   ]
  },
  {
   "cell_type": "code",
   "execution_count": 11,
   "metadata": {},
   "outputs": [
    {
     "name": "stdout",
     "output_type": "stream",
     "text": [
      "Please enter your income: 5000\n",
      "You owe $600.00 in taxes.\n"
     ]
    }
   ],
   "source": [
    "income = int(input(\"Please enter your income: \"))\n",
    "\n",
    "# By doing the checks in reverse order you dont need the upper bound\n",
    "# For example, lets say our income was 2000 - the first part of the if is false so it moves to the 1st elif\n",
    "#   on the next line which is true so it executes that command\n",
    "#   (and wont check the income above 0 in the last elif even though it would also be true)\n",
    "# The bottom else is a catchall for invalid values (like a negative income)\n",
    "# The tax calcs are a bit simplified to suit the problem \n",
    "# (e.g. we know the first 1000 of above 2000 is at 0.05 - could just do the calc and put in 50 there also)\n",
    "# (maybe not how we want to do the code - could make those variables so that they are different if we change the cutoffs)\n",
    "\n",
    "if income > 2000:\n",
    "    tax = 1000 * 0.05 + 1000 * 0.1 + (income - 2000) * 0.15\n",
    "elif income > 1000:\n",
    "    tax = 1000 * 0.05 + (income - 1000) * 0.1\n",
    "elif income >= 0:\n",
    "    tax = income * 0.05 \n",
    "else:\n",
    "    print(\"Invalid income entered - please try again.\")\n",
    "\n",
    "print(\"\\nYou owe ${:.2f} in taxes.\".format(tax))"
   ]
  },
  {
   "cell_type": "markdown",
   "metadata": {},
   "source": [
    "### 2-5. Palindrome\n",
    "\n",
    "Write a script that prompts the user for their name (this input will be a **1 word string**). Using a while loop that counts downwards (instead of using the 'reverse' function or the string slicing [::-1] method), print the letters of the name reversed (hint: use print(var, end='') in each iteration of the loop). You should use s.lower() and s.upper(), as appropriate, to change the string to lowercase and print it out with only the first letter of the reversed word in uppercase. If the name is the same forward and backwards, print \"Palindrome!\" on the next line. Make sure your code prints the sample examples exactly as shown below.\n",
    "\n",
    "Examples:\n",
    "```\n",
    "Enter your name: Paul\n",
    "Luap\n",
    "\n",
    "Enter your name: ANA\n",
    "Ana\n",
    "Palindrome!\n",
    "```\n",
    "\n",
    "Save your script as: palindrome.py"
   ]
  },
  {
   "cell_type": "code",
   "execution_count": 2,
   "metadata": {},
   "outputs": [
    {
     "name": "stdout",
     "output_type": "stream",
     "text": [
      "Please enter your name: ANNA\n",
      "Anna\n",
      "Palindrome!\n"
     ]
    }
   ],
   "source": [
    "name = input(\"Please enter your name: \")\n",
    "\n",
    "# Initialize the count\n",
    "letterCt = len(name) \n",
    "\n",
    "# Initialize an empty string sequence\n",
    "word = ''               \n",
    "\n",
    "### for every position append the new letter to the empty string\n",
    "\n",
    "while letterCt > 0:                        \n",
    "    \n",
    "    # If the letter is the first letter - capitalize it otherwise lowercase it\n",
    "    if letterCt == len(name):\n",
    "        ltr = name[letterCt-1].upper()\n",
    "        print(ltr, end=\"\")\n",
    "    else:\n",
    "        ltr = name[letterCt-1].lower()\n",
    "        print(ltr, end=\"\")\n",
    "    \n",
    "    word = word + ltr\n",
    "    letterCt -= 1\n",
    "\n",
    "# check to see if the original word and our computed word are the same\n",
    "if name.lower() == word.lower():\n",
    "    print (\"\\nPalindrome!\")"
   ]
  },
  {
   "cell_type": "markdown",
   "metadata": {
    "collapsed": true
   },
   "source": [
    "## If you have feedback for this homework, please submit it using the link below:\n",
    "\n",
    "http://goo.gl/forms/74yCiQTf6k"
   ]
  }
 ],
 "metadata": {
  "anaconda-cloud": {},
  "kernelspec": {
   "display_name": "Python 3",
   "language": "python",
   "name": "python3"
  },
  "language_info": {
   "codemirror_mode": {
    "name": "ipython",
    "version": 3
   },
   "file_extension": ".py",
   "mimetype": "text/x-python",
   "name": "python",
   "nbconvert_exporter": "python",
   "pygments_lexer": "ipython3",
   "version": "3.6.6"
  }
 },
 "nbformat": 4,
 "nbformat_minor": 1
}
