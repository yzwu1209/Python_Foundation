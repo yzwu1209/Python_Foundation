{
 "cells": [
  {
   "cell_type": "markdown",
   "metadata": {
    "deletable": false,
    "editable": false,
    "nbgrader": {
     "checksum": "e7277fe4563989179a2ec4bb4b0259e7",
     "grade": false,
     "grade_id": "cell-76038a88b4d3af8c",
     "locked": true,
     "schema_version": 1,
     "solution": false
    }
   },
   "source": [
    "## Week 10 Assignment - W200 Python Fundamentals for Data Science, UC Berkeley MIDS\n",
    "\n",
    "Write code in this Jupyter Notebook to solve the following problems. Please upload this **Notebook and the five .csv files** with your solutions to your GitHub repository in your SUBMISSIONS/week_10 folder by 11:59PM PST the night before class."
   ]
  },
  {
   "cell_type": "markdown",
   "metadata": {
    "deletable": false,
    "editable": false,
    "nbgrader": {
     "checksum": "41484a8a03085b2191cdd48cd198a8c6",
     "grade": false,
     "grade_id": "cell-ae5d30c3c3f47580",
     "locked": true,
     "schema_version": 1,
     "solution": false
    }
   },
   "source": [
    "This homework assignment is Week 10 which corresponds to the Unit #9 async. If you turn-in anything on ISVC please do so under the Week 10 Assignment category. (Apologies for the confusion)"
   ]
  },
  {
   "cell_type": "code",
   "execution_count": null,
   "metadata": {
    "deletable": false,
    "editable": false,
    "nbgrader": {
     "checksum": "cb18e0aff969027291271a6ee824bae3",
     "grade": true,
     "grade_id": "cell-91b70a2e4950e176",
     "locked": true,
     "points": 0,
     "schema_version": 1,
     "solution": false
    }
   },
   "outputs": [],
   "source": [
    "# Autograde cell - do not erase/delete"
   ]
  },
  {
   "cell_type": "markdown",
   "metadata": {
    "deletable": false,
    "editable": false,
    "nbgrader": {
     "checksum": "6b52c4ac0395c1e0a459473b439e2153",
     "grade": false,
     "grade_id": "cell-5977c1d8f1d55d67",
     "locked": true,
     "schema_version": 1,
     "solution": false
    }
   },
   "source": [
    "## Objectives\n",
    "\n",
    "- Demonstrate how to import different data files\n",
    "- Get a small glimpse on how messy data can be\n",
    "- Design and implement an algorithm to standardize the information and fix the messiness\n",
    "- Work with Python data structures to sort and output the correct information\n",
    "- Demonstrate how to export required information to a .csv file"
   ]
  },
  {
   "cell_type": "markdown",
   "metadata": {
    "deletable": false,
    "editable": false,
    "nbgrader": {
     "checksum": "c1d4cca7a57a3d2d9b23547a24526e83",
     "grade": false,
     "grade_id": "cell-f3df226b1112e4f1",
     "locked": true,
     "schema_version": 1,
     "solution": false
    }
   },
   "source": [
    "## Reading and Writing Data\n",
    "\n",
    "In this assignment, you will be reading and writing data. Yes, finally some data science (or at least some exploratory data analysis)! In the week_10 assignment folder, there are three data files named: \n",
    "\n",
    "* data.csv\n",
    "* data.json\n",
    "* data.pkl\n",
    "\n",
    "These are three common file formats. You can run the following **on the bash command line** to see what is in each file (this will not work from a Windows prompt but will work in git bash):\n",
    "\n",
    "```sh\n",
    "head data.csv\n",
    "head data.pkl\n",
    "head data.json\n",
    "```\n",
    "\n",
    "You'll see that there is some method to the madness but that each file format has its peculiarities. Each file contains a portion of the total dataset that altogether comprises 100 records, so you need to **read in all of the files and combine them into some standard format** with which you are comfortable. Aim for something standard where each \"row\" is represented in the same format.\n",
    "\n",
    "After you've standardized all of the data, report the following information: \n",
    "\n",
    "1. What are the unique countries in the dataset, sorted alphabetically?  Write to a new file called question_1.csv.\n",
    "2. What are the unique email domains in the dataset, sorted alphabetically?  Write to a new file called question_2.csv.\n",
    "3. What are the first names of everyone (including duplicates) that do not have a P.O. Box address, sorted alphabetically?  Write to a new file called question_3.csv.\n",
    "4. What are the full names of the first 5 people when you sort the data alphabetically by country?  Write to a new file called question_4.csv.\n",
    "5. What are the full names of the first 5 people when you sort the data numerically ascending by phone number?  Write to a new file called question_5.csv.\n",
    "\n",
    "We will be using a script to examine and grade your .csv files so please make sure: \n",
    "- The answers are all in one **column** with one list item per cell, sorted as stated in the question. I.e., looking at the .csv in a spreadsheet editor like Google Sheets, all answers would be in the 'A' column, with the first entry in A1, the second in A2, etc.\n",
    "- It is strongly recommended that you open each .csv file to ensure the answers are there and displayed correctly! \n",
    "- Don't include quotes around the list items.  I.e., strip the leading and trailing quotes, if necessary, from items when you write to the .csv files.  For example, a list entry should look like ```Spain``` rather than ```\"Spain\"```. One exception: Some country names do contain commas and it is ok to have quotes: ```\"\"``` around just those country names so that they will be in one cell in the .csv. \n",
    "\n",
    "\n",
    "In addition, show all of your work in this **Jupyter notebook**."
   ]
  },
  {
   "cell_type": "markdown",
   "metadata": {
    "deletable": false,
    "editable": false,
    "nbgrader": {
     "checksum": "cef01a48213ca8a3d2a3605229829c72",
     "grade": false,
     "grade_id": "cell-ad4b864c26503a51",
     "locked": true,
     "schema_version": 1,
     "solution": false
    }
   },
   "source": [
    "### Assumptions\n",
    "\n",
    "- You might have to make decisions about the data. For example, what to do with ties or how to sort the phone numbers numerically. \n",
    "- Write your assumptions in this Jupyter notebook at the top of your code under the heading below that says ASSUMPTIONS\n",
    "- This is a good habit to do as you analyze data so that you can remember why you made the decisions you did and other people can follow your analysis later!"
   ]
  },
  {
   "cell_type": "markdown",
   "metadata": {
    "deletable": false,
    "editable": false,
    "nbgrader": {
     "checksum": "57450666cda1cb410247d946aa6801fe",
     "grade": false,
     "grade_id": "cell-ac3d57f37fc71750",
     "locked": true,
     "schema_version": 1,
     "solution": false
    }
   },
   "source": [
    "### Restrictions\n",
    "You should use these standard library imports:\n",
    "\n",
    "```python\n",
    "import json\n",
    "import csv\n",
    "import pickle\n",
    "```\n",
    "\n",
    "Some of you may be familiar with a Python package called `pandas` which would greatly speed up this sort of file processing.  The point of this homework is to do the work manually.  You can use `pandas` to independently check your work if you are so inclined but do not use `pandas` as the sole solution method. Don't worry if you are not familiar with `pandas`.  We will do this homework as a class exercise using `pandas` in the near future."
   ]
  },
  {
   "cell_type": "markdown",
   "metadata": {
    "deletable": false,
    "editable": false,
    "nbgrader": {
     "checksum": "86514456a34f356155016417a7d3a6e8",
     "grade": false,
     "grade_id": "cell-f8df9d752522f9cd",
     "locked": true,
     "schema_version": 1,
     "solution": false
    }
   },
   "source": [
    "### Hints (optional)\n",
    "\n",
    "- You may use regular expressions if you wish to extract data from each row. You do not need to use them if you do not want to or see a need to. The Python regular expression module is called `re`.\n",
    "- You may want to use the operator library or the sorted function to help in sorting.\n",
    "- There are many data structures and formats that you might use to solve this problem.  You will have to decide if you want to keep the information for each person together as one record or all the information for each of the fields together.\n",
    "- You can put these files into sensible structures such as lists or or dictionaries. The async covers how to do this for csv and json. For pickle this might help https://wiki.python.org/moin/UsingPickle \n",
    "- .items() or .key() can be useful for dictionaries\n",
    "- Once again, it is strongly recommended that you open each .csv file to ensure the answers are there and displayed correctly! "
   ]
  },
  {
   "cell_type": "code",
   "execution_count": null,
   "metadata": {
    "deletable": false,
    "nbgrader": {
     "checksum": "97005fc8cbd95ef4164db798e727a63f",
     "grade": true,
     "grade_id": "cell-360398972d1182f1",
     "locked": false,
     "points": 0,
     "schema_version": 1,
     "solution": true
    }
   },
   "outputs": [],
   "source": [
    "# Your name here\n",
    "\n",
    "### ASSUMPTIONS:\n",
    "# Please write the assumptions here that you made during your data analysis\n",
    "# Please keep these comments at the very top of your code block so we can easily see it while grading!\n",
    "\n",
    "# YOU MAY USE ANY NUMBER OF CELLS AS YOU NEED\n",
    "# YOUR CODE HERE"
   ]
  }
 ],
 "metadata": {
  "anaconda-cloud": {},
  "kernelspec": {
   "display_name": "Python 3",
   "language": "python",
   "name": "python3"
  },
  "language_info": {
   "codemirror_mode": {
    "name": "ipython",
    "version": 3
   },
   "file_extension": ".py",
   "mimetype": "text/x-python",
   "name": "python",
   "nbconvert_exporter": "python",
   "pygments_lexer": "ipython3",
   "version": "3.6.6"
  }
 },
 "nbformat": 4,
 "nbformat_minor": 1
}
