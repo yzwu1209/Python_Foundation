{
 "cells": [
  {
   "cell_type": "markdown",
   "metadata": {},
   "source": [
    "# Homework 7 - Fall 2016\n",
    "Assignment due date: Midnight the night before the Week 7 Live Session."
   ]
  },
  {
   "cell_type": "markdown",
   "metadata": {},
   "source": [
    "## Part 1 - Project Proposal\n",
    "Please complete your project proposal, as discussed in class and outlined in the project_1 folder.  You may submit your 1-2 page proposal in a Google Doc or PDF.  Please store your proposal (or a link to it) in the project_1 folder.\n"
   ]
  },
  {
   "cell_type": "markdown",
   "metadata": {},
   "source": [
    "## Part 2 - A Quick Reading\n",
    "\n",
    "Please read the following article and write a couple sentences of reaction. What is the most interesting part?\n",
    "\n",
    "<a href=\"http://programmingisterrible.com/post/139222674273/write-code-that-is-easy-to-delete-not-easy-to\">Write code that is easy to delete, not easy to extend</a> This article is written for you to take an \"architectural\" perspective towards thinking about writing in large code bases. This shouldn't really apply to the work that you are doing now but should provide some food for thought at the very least. Think about his perspective and why he seems to have come to it. Please don't worry about knowing all the terminology or programs/systems that he refers to. I want you to extract what he's trying to say about writing code not the intricacies of the low level systems that is referring to.\n"
   ]
  },
  {
   "cell_type": "markdown",
   "metadata": {},
   "source": [
    "**[Write Response Here]**\n"
   ]
  },
  {
   "cell_type": "markdown",
   "metadata": {},
   "source": [
    "## Part 3 - Building Two Classes\n",
    "\n",
    "Please design two classes in this notebook as follows:\n",
    "\n",
    "1\\. Please create a class called playing_card. This class should have: <br>\n",
    "- An attribute, \"rank\" that takes a value of 2-9, J, Q, K, or A. <br>\n",
    "- An attribute, \"suit\" that takes a value of \"♠\" \"♥\" \"♦\" or \"♣\". <br>\n",
    "- An __init__ function "
   ]
  },
  {
   "cell_type": "markdown",
   "metadata": {},
   "source": [
    "2\\. Please create a class called deck.  This class should have: <br>\n",
    "- An attribute, \"cards\", that holds a list of playing_card objects. <br>\n",
    "- An __init__ function that: <br>\n",
    "    - By default stores a full deck of 52 playing cards (with proper numbers and suits) in the \"cards\" list. <br>\n",
    "    - Allows the user to specify a specific suit.  In this case, the program should only populate the deck with the 13 cards of that suit.\n",
    "    - After the cards object is initialized, call the \"shuffle_deck()\" function (below).<br>\n",
    "    \n",
    "- A \"shuffle_deck()\" function that randomly changes the order of cards in the deck.<br>\n",
    "- A \"deal_card(card_count)\" function that removes the first X cards from the deck and returns them as a list.<br>\n",
    "    - Make sure this function gives an appropriate response when the deck is out of cards."
   ]
  },
  {
   "cell_type": "markdown",
   "metadata": {},
   "source": [
    "## Pseudocode\n",
    "\n",
    "Nouns \n",
    "    deck\n",
    "    card \n",
    "    player \n",
    "    hand\n",
    "\n",
    "verb\n",
    "    shuffle cards\n",
    "\n",
    "    deal cards\n",
    "    add to hand\n",
    "    \n",
    "    redeck card \n",
    "    remove from hand\n",
    "   \n",
    "    \n",
    "    play hand\n",
    "    get value of card\n",
    "    get value of hand\n",
    "    compare played hands\n",
    "    \n",
    "    bet\n",
    "    remove money from stash\n",
    "    win turn\n",
    "    put money in stash\n",
    "    lose turn\n",
    "    remove money from stash\n",
    "    \n",
    "    end game\n",
    "    start game\n",
    "    take turn\n",
    "  \n",
    "    \n",
    "    \n",
    "Objects\n",
    "    game\n",
    "        end game\n",
    "        start game\n",
    "        take turn\n",
    "        deal cards\n",
    "        compare hands\n",
    "    \n",
    "    stash\n",
    "        add to stash \n",
    "        remove from stash\n",
    "        check stash\n",
    "    \n",
    "    hand \n",
    "        add to hand\n",
    "        subtract from hand\n",
    "        value hand\n",
    "    \n",
    "    deck\n",
    "        add card \n",
    "        deal cards\n",
    "        shuffle\n",
    "        \n",
    "    player \n",
    "        bet \n",
    "        \n",
    "    \n",
    "    "
   ]
  },
  {
   "cell_type": "markdown",
   "metadata": {},
   "source": [
    "3\\. Please write a few lines of code in your notebook to demonstrate that the functions work as expected."
   ]
  },
  {
   "cell_type": "code",
   "execution_count": 35,
   "metadata": {
    "collapsed": true
   },
   "outputs": [],
   "source": [
    "import random\n",
    "\n",
    "class playing_card:\n",
    "    \"\"\"this is a class for a single card\"\"\" \n",
    "    def __init__(self, rank=\"Joker\", suit=\"Joker\"):\n",
    "        self.suit=rank\n",
    "        self.rank=suit\n",
    "    \n",
    "class deck:\n",
    "    \"\"\"this is the deck of cards\"\"\" \n",
    "    def __init__(self, suits=['heart','Diamond','spade','club']):\n",
    "        Nums=['2','3','4','5','6','7','8','9','10','J','Q','K','A']\n",
    "        #suits=['heart','Diamond','spade','club']\n",
    "        # create 13 card object per suit and load them into the deck\n",
    "        self.deck=[]\n",
    "        for Nm in Nums:\n",
    "            for s in suits:\n",
    "                self.deck.append(playing_card(rank=Nm, suit=s))\n",
    "        \n",
    "           \n",
    "           \n",
    "        self.deck = [playing_card(rank=Nm, suit=s) for Nm in Nums  for s in suits]\n",
    "               \n",
    "        print (self.deck)      \n",
    "        #self.deck=[(Nm ,st) for st in suits for Nm in Nums] # create the 52 card deck\n",
    "\n",
    "    def shuffle_deck(self):\n",
    "        random.shuffle(self.deck) # works in place\n",
    "        print(self.deck)\n",
    "        \n",
    "        \n",
    "    def deal_card(self, card_count):\n",
    "        if len(self.deck) < card_count :\n",
    "           raise ValueError ('too few card error: choose a lower number')\n",
    "        \n",
    "        dealt = [(self.deck[i].rank, self.deck[i].suit) for i in range(card_count)]\n",
    "        #dealt=self.deck[0:card_count-1] # deal the cards then end if zero\n",
    "        self.deck=self.deck[card_count-1:]\n",
    "            \n",
    "        if len(self.deck) == 0:\n",
    "           raise Exception('Zero card error: no more dealing!')\n",
    "        return dealt\n",
    "    \n",
    "    def add(self, rank, suit):\n",
    "        self.deck.append(playing_card(rank=Nm, suit=s))"
   ]
  },
  {
   "cell_type": "code",
   "execution_count": 36,
   "metadata": {
    "collapsed": true
   },
   "outputs": [],
   "source": [
    "# more methods in progress? \n",
    "\n",
    "class hand_stat:\n",
    "    \"\"\"this class keeps the list of items in a hand it could have\n",
    "       a method that scores the hand, it could \"\"\"\n",
    "    scoredict={}\n",
    "    \n",
    "    def __init__(self, hand):\n",
    "        self.hand=hand\n",
    "    def get_value():\n",
    "        pass\n",
    "    def remove():\n",
    "        pass\n",
    "    def get():\n",
    "        pass  \n",
    "\n",
    "    \n",
    "class GamePlay():\n",
    "    pass\n",
    "    \n",
    "    "
   ]
  },
  {
   "cell_type": "code",
   "execution_count": 37,
   "metadata": {
    "collapsed": true
   },
   "outputs": [],
   "source": [
    "\n",
    "Jk=playing_card()\n",
    "Kd=playing_card(rank='K', suit=\"Diamond\")\n"
   ]
  },
  {
   "cell_type": "code",
   "execution_count": 38,
   "metadata": {},
   "outputs": [
    {
     "data": {
      "text/plain": [
       "{'GamePlay': <class __main__.GamePlay at 0x104029ce8>,\n",
       " 'In': ['',\n",
       "  u'\\nJk=playing_card()\\nKd=playing_card(rank=\\'K\\', suit=\"Diamond\")',\n",
       "  u'import random\\n\\nclass playing_card:\\n    \"\"\"this is a class for a single card\"\"\" \\n    def __init__(self, rank=\"Joker\", suit=\"Joker\"):\\n        self.suit=rank\\n        self.rank=suit\\n    \\nclass deck:\\n    \"\"\"this is the deck of cards\"\"\" \\n    def __init__(self, suits=[\\'heart\\',\\'Diamond\\',\\'spade\\',\\'club\\']):\\n        Nums=[\\'2\\',\\'3\\',\\'4\\',\\'5\\',\\'6\\',\\'7\\',\\'8\\',\\'9\\',\\'10\\',\\'J\\',\\'Q\\',\\'K\\',\\'A\\']\\n        #suits=[\\'heart\\',\\'Diamond\\',\\'spade\\',\\'club\\']\\n        # create 13 card object per suit and load them into the deck\\n        self.deck=[]\\n        for Nm in Nums:\\n            for s in suits\\n                self.deck=append.playing_card(rank=Nm, suit=s)\\n\\n        print (self.deck)      \\n        #self.deck=[(Nm ,st) for st in suits for Nm in Nums] # create the 52 card deck\\n\\n    def shuffle_deck(self):\\n        random.shuffle(self.deck) # works in place\\n        print(self.deck)\\n        \\n        \\n    def deal_card(self, card_count):\\n        if len(self.deck) < card_count :\\n           raise ValueError (\\'too few card error: choose a lower number\\')\\n\\n        dealt=self.deck[0:card_count-1] # deal the cards then end if zero\\n        self.deck=self.deck[card_count-1:]\\n        \\n        if len(self.deck) == 0:\\n           raise Exception(\\'Zero card error: no more dealing!\\')\\n        return dealt\\n    \\n    def add():\\n        pass\\n        \\nclass hand_stat:\\n    \"\"\"this class keeps the list of items in a hand it could have\\n       a method that scores the hand, it could \"\"\"\\n    scoredict={}\\n    \\n    def __init__(self, hand):\\n        self.hand=hand\\n    def get_value():\\n        pass\\n    def remove():\\n        pass\\n    def get():\\n        pass  \\n\\n    \\nclass GamePlay():\\n    pass\\n    \\n    ',\n",
       "  u'\\nJk=playing_card()\\nKd=playing_card(rank=\\'K\\', suit=\"Diamond\")',\n",
       "  u'import random\\n\\nclass playing_card:\\n    \"\"\"this is a class for a single card\"\"\" \\n    def __init__(self, rank=\"Joker\", suit=\"Joker\"):\\n        self.suit=rank\\n        self.rank=suit\\n    \\nclass deck:\\n    \"\"\"this is the deck of cards\"\"\" \\n    def __init__(self, suits=[\\'heart\\',\\'Diamond\\',\\'spade\\',\\'club\\']):\\n        Nums=[\\'2\\',\\'3\\',\\'4\\',\\'5\\',\\'6\\',\\'7\\',\\'8\\',\\'9\\',\\'10\\',\\'J\\',\\'Q\\',\\'K\\',\\'A\\']\\n        #suits=[\\'heart\\',\\'Diamond\\',\\'spade\\',\\'club\\']\\n        # create 13 card object per suit and load them into the deck\\n        self.deck=[]\\n        for Nm in Nums:\\n            for s in suits\\n                self.deck=append.playing_card(rank=Nm, suit=s)\\n\\n        print (self.deck)      \\n        #self.deck=[(Nm ,st) for st in suits for Nm in Nums] # create the 52 card deck\\n\\n    def shuffle_deck(self):\\n        random.shuffle(self.deck) # works in place\\n        print(self.deck)\\n        \\n        \\n    def deal_card(self, card_count):\\n        if len(self.deck) < card_count :\\n           raise ValueError (\\'too few card error: choose a lower number\\')\\n\\n        dealt=self.deck[0:card_count-1] # deal the cards then end if zero\\n        self.deck=self.deck[card_count-1:]\\n        \\n        if len(self.deck) == 0:\\n           raise Exception(\\'Zero card error: no more dealing!\\')\\n        return dealt\\n    \\n    def add():\\n        pass\\n        \\nclass hand_stat:\\n    \"\"\"this class keeps the list of items in a hand it could have\\n       a method that scores the hand, it could \"\"\"\\n    scoredict={}\\n    \\n    def __init__(self, hand):\\n        self.hand=hand\\n    def get_value():\\n        pass\\n    def remove():\\n        pass\\n    def get():\\n        pass  \\n\\n    \\nclass GamePlay():\\n    pass\\n    \\n    ',\n",
       "  u'import random\\n\\nclass playing_card:\\n    \"\"\"this is a class for a single card\"\"\" \\n    def __init__(self, rank=\"Joker\", suit=\"Joker\"):\\n        self.suit=rank\\n        self.rank=suit\\n    \\nclass deck:\\n    \"\"\"this is the deck of cards\"\"\" \\n    def __init__(self, suits=[\\'heart\\',\\'Diamond\\',\\'spade\\',\\'club\\']):\\n        Nums=[\\'2\\',\\'3\\',\\'4\\',\\'5\\',\\'6\\',\\'7\\',\\'8\\',\\'9\\',\\'10\\',\\'J\\',\\'Q\\',\\'K\\',\\'A\\']\\n        #suits=[\\'heart\\',\\'Diamond\\',\\'spade\\',\\'club\\']\\n        # create 13 card object per suit and load them into the deck\\n        self.deck=[]\\n        for Nm in Nums:\\n            for s in suits:\\n                self.deck=append.playing_card(rank=Nm, suit=s)\\n\\n        print (self.deck)      \\n        #self.deck=[(Nm ,st) for st in suits for Nm in Nums] # create the 52 card deck\\n\\n    def shuffle_deck(self):\\n        random.shuffle(self.deck) # works in place\\n        print(self.deck)\\n        \\n        \\n    def deal_card(self, card_count):\\n        if len(self.deck) < card_count :\\n           raise ValueError (\\'too few card error: choose a lower number\\')\\n\\n        dealt=self.deck[0:card_count-1] # deal the cards then end if zero\\n        self.deck=self.deck[card_count-1:]\\n        \\n        if len(self.deck) == 0:\\n           raise Exception(\\'Zero card error: no more dealing!\\')\\n        return dealt\\n    \\n    def add():\\n        pass\\n        \\nclass hand_stat:\\n    \"\"\"this class keeps the list of items in a hand it could have\\n       a method that scores the hand, it could \"\"\"\\n    scoredict={}\\n    \\n    def __init__(self, hand):\\n        self.hand=hand\\n    def get_value():\\n        pass\\n    def remove():\\n        pass\\n    def get():\\n        pass  \\n\\n    \\nclass GamePlay():\\n    pass\\n    \\n    ',\n",
       "  u'\\nJk=playing_card()\\nKd=playing_card(rank=\\'K\\', suit=\"Diamond\")',\n",
       "  u'locals()',\n",
       "  u'print(locals())',\n",
       "  u'import pprint\\npprint(locals())',\n",
       "  u'pprint(locals())',\n",
       "  u'Jk',\n",
       "  u'Kd',\n",
       "  u'd1=deck()',\n",
       "  u'Kd.rank',\n",
       "  u'import random\\n\\nclass playing_card:\\n    \"\"\"this is a class for a single card\"\"\" \\n    def __init__(self, rank=\"Joker\", suit=\"Joker\"):\\n        self.suit=rank\\n        self.rank=suit\\n    \\nclass deck:\\n    \"\"\"this is the deck of cards\"\"\" \\n    def __init__(self, suits=[\\'heart\\',\\'Diamond\\',\\'spade\\',\\'club\\']):\\n        Nums=[\\'2\\',\\'3\\',\\'4\\',\\'5\\',\\'6\\',\\'7\\',\\'8\\',\\'9\\',\\'10\\',\\'J\\',\\'Q\\',\\'K\\',\\'A\\']\\n        #suits=[\\'heart\\',\\'Diamond\\',\\'spade\\',\\'club\\']\\n        # create 13 card object per suit and load them into the deck\\n        self.deck=[]\\n        for Nm in Nums:\\n            for s in suits:\\n                self.deck.append(playing_card(rank=Nm, suit=s))\\n\\n        print (self.deck)      \\n        #self.deck=[(Nm ,st) for st in suits for Nm in Nums] # create the 52 card deck\\n\\n    def shuffle_deck(self):\\n        random.shuffle(self.deck) # works in place\\n        print(self.deck)\\n        \\n        \\n    def deal_card(self, card_count):\\n        if len(self.deck) < card_count :\\n           raise ValueError (\\'too few card error: choose a lower number\\')\\n\\n        dealt=self.deck[0:card_count-1] # deal the cards then end if zero\\n        self.deck=self.deck[card_count-1:]\\n        \\n        if len(self.deck) == 0:\\n           raise Exception(\\'Zero card error: no more dealing!\\')\\n        return dealt\\n    \\n    def add():\\n        pass\\n        \\nclass hand_stat:\\n    \"\"\"this class keeps the list of items in a hand it could have\\n       a method that scores the hand, it could \"\"\"\\n    scoredict={}\\n    \\n    def __init__(self, hand):\\n        self.hand=hand\\n    def get_value():\\n        pass\\n    def remove():\\n        pass\\n    def get():\\n        pass  \\n\\n    \\nclass GamePlay():\\n    pass\\n    \\n    ',\n",
       "  u'\\nJk=playing_card()\\nKd=playing_card(rank=\\'K\\', suit=\"Diamond\")',\n",
       "  u'locals()',\n",
       "  u'Jk',\n",
       "  u'Kd.rank',\n",
       "  u'd1=deck()',\n",
       "  u'd1.deal_card(5)',\n",
       "  u'import random\\n\\nclass playing_card:\\n    \"\"\"this is a class for a single card\"\"\" \\n    def __init__(self, rank=\"Joker\", suit=\"Joker\"):\\n        self.suit=rank\\n        self.rank=suit\\n    \\nclass deck:\\n    \"\"\"this is the deck of cards\"\"\" \\n    def __init__(self, suits=[\\'heart\\',\\'Diamond\\',\\'spade\\',\\'club\\']):\\n        Nums=[\\'2\\',\\'3\\',\\'4\\',\\'5\\',\\'6\\',\\'7\\',\\'8\\',\\'9\\',\\'10\\',\\'J\\',\\'Q\\',\\'K\\',\\'A\\']\\n        #suits=[\\'heart\\',\\'Diamond\\',\\'spade\\',\\'club\\']\\n        # create 13 card object per suit and load them into the deck\\n        self.deck=[]\\n        for Nm in Nums:\\n            for s in suits:\\n                self.deck.append(playing_card(rank=Nm, suit=s))\\n\\n        print (self.deck)      \\n        #self.deck=[(Nm ,st) for st in suits for Nm in Nums] # create the 52 card deck\\n\\n    def shuffle_deck(self):\\n        random.shuffle(self.deck) # works in place\\n        print(self.deck)\\n        \\n        \\n    def deal_card(self, card_count):\\n        if len(self.deck) < card_count :\\n           raise ValueError (\\'too few card error: choose a lower number\\')\\n\\n        dealt=self.deck[0:card_count-1] # deal the cards then end if zero\\n        self.deck=self.deck[card_count-1:]\\n        \\n        if len(self.deck) == 0:\\n           raise Exception(\\'Zero card error: no more dealing!\\')\\n        return dealt\\n    \\n    def add(self.deck, rank, suit):\\n        self.deck.append(playing_card(rank=Nm, suit=s))',\n",
       "  u'import random\\n\\nclass playing_card:\\n    \"\"\"this is a class for a single card\"\"\" \\n    def __init__(self, rank=\"Joker\", suit=\"Joker\"):\\n        self.suit=rank\\n        self.rank=suit\\n    \\nclass deck:\\n    \"\"\"this is the deck of cards\"\"\" \\n    def __init__(self, suits=[\\'heart\\',\\'Diamond\\',\\'spade\\',\\'club\\']):\\n        Nums=[\\'2\\',\\'3\\',\\'4\\',\\'5\\',\\'6\\',\\'7\\',\\'8\\',\\'9\\',\\'10\\',\\'J\\',\\'Q\\',\\'K\\',\\'A\\']\\n        #suits=[\\'heart\\',\\'Diamond\\',\\'spade\\',\\'club\\']\\n        # create 13 card object per suit and load them into the deck\\n        self.deck=[]\\n        for Nm in Nums:\\n            for s in suits:\\n                self.deck.append(playing_card(rank=Nm, suit=s))\\n\\n        print (self.deck)      \\n        #self.deck=[(Nm ,st) for st in suits for Nm in Nums] # create the 52 card deck\\n\\n    def shuffle_deck(self):\\n        random.shuffle(self.deck) # works in place\\n        print(self.deck)\\n        \\n        \\n    def deal_card(self, card_count):\\n        if len(self.deck) < card_count :\\n           raise ValueError (\\'too few card error: choose a lower number\\')\\n\\n        dealt=self.deck[0:card_count-1] # deal the cards then end if zero\\n        self.deck=self.deck[card_count-1:]\\n        \\n        if len(self.deck) == 0:\\n           raise Exception(\\'Zero card error: no more dealing!\\')\\n        return dealt\\n    \\n    def add(self, rank, suit):\\n        self.deck.append(playing_card(rank=Nm, suit=s))',\n",
       "  u'# more methods in progress? \\n\\nclass hand_stat:\\n    \"\"\"this class keeps the list of items in a hand it could have\\n       a method that scores the hand, it could \"\"\"\\n    scoredict={}\\n    \\n    def __init__(self, hand):\\n        self.hand=hand\\n    def get_value():\\n        pass\\n    def remove():\\n        pass\\n    def get():\\n        pass  \\n\\n    \\nclass GamePlay():\\n    pass\\n    \\n    ',\n",
       "  u'import random\\n\\nclass playing_card:\\n    \"\"\"this is a class for a single card\"\"\" \\n    def __init__(self, rank=\"Joker\", suit=\"Joker\"):\\n        self.suit=rank\\n        self.rank=suit\\n    \\nclass deck:\\n    \"\"\"this is the deck of cards\"\"\" \\n    def __init__(self, suits=[\\'heart\\',\\'Diamond\\',\\'spade\\',\\'club\\']):\\n        Nums=[\\'2\\',\\'3\\',\\'4\\',\\'5\\',\\'6\\',\\'7\\',\\'8\\',\\'9\\',\\'10\\',\\'J\\',\\'Q\\',\\'K\\',\\'A\\']\\n        #suits=[\\'heart\\',\\'Diamond\\',\\'spade\\',\\'club\\']\\n        # create 13 card object per suit and load them into the deck\\n        self.deck=[]\\n        for Nm in Nums:\\n            for s in suits:\\n                self.deck.append(playing_card(rank=Nm, suit=s))\\n\\n        print (self.deck)      \\n        #self.deck=[(Nm ,st) for st in suits for Nm in Nums] # create the 52 card deck\\n\\n    def shuffle_deck(self):\\n        random.shuffle(self.deck) # works in place\\n        print(self.deck)\\n        \\n        \\n    def deal_card(self, card_count):\\n        if len(self.deck) < card_count :\\n           raise ValueError (\\'too few card error: choose a lower number\\')\\n\\n        dealt=self.deck[0:card_count-1] # deal the cards then end if zero\\n        self.deck=self.deck[card_count-1:].rank\\n        \\n        if len(self.deck) == 0:\\n           raise Exception(\\'Zero card error: no more dealing!\\')\\n        return dealt\\n    \\n    def add(self, rank, suit):\\n        self.deck.append(playing_card(rank=Nm, suit=s))',\n",
       "  u'# more methods in progress? \\n\\nclass hand_stat:\\n    \"\"\"this class keeps the list of items in a hand it could have\\n       a method that scores the hand, it could \"\"\"\\n    scoredict={}\\n    \\n    def __init__(self, hand):\\n        self.hand=hand\\n    def get_value():\\n        pass\\n    def remove():\\n        pass\\n    def get():\\n        pass  \\n\\n    \\nclass GamePlay():\\n    pass\\n    \\n    ',\n",
       "  u'\\nJk=playing_card()\\nKd=playing_card(rank=\\'K\\', suit=\"Diamond\")',\n",
       "  u'locals()',\n",
       "  u'Jk',\n",
       "  u'Kd.rank',\n",
       "  u'd1=deck()',\n",
       "  u'd1.deal_card(5)',\n",
       "  u'd1.deal_card(30)',\n",
       "  u'd1.deal_card(5)',\n",
       "  u'import random\\n\\nclass playing_card:\\n    \"\"\"this is a class for a single card\"\"\" \\n    def __init__(self, rank=\"Joker\", suit=\"Joker\"):\\n        self.suit=rank\\n        self.rank=suit\\n    \\nclass deck:\\n    \"\"\"this is the deck of cards\"\"\" \\n    def __init__(self, suits=[\\'heart\\',\\'Diamond\\',\\'spade\\',\\'club\\']):\\n        Nums=[\\'2\\',\\'3\\',\\'4\\',\\'5\\',\\'6\\',\\'7\\',\\'8\\',\\'9\\',\\'10\\',\\'J\\',\\'Q\\',\\'K\\',\\'A\\']\\n        #suits=[\\'heart\\',\\'Diamond\\',\\'spade\\',\\'club\\']\\n        # create 13 card object per suit and load them into the deck\\n        self.deck=[]\\n        for Nm in Nums:\\n            for s in suits:\\n                self.deck.append(playing_card(rank=Nm, suit=s))\\n\\n        print (self.deck)      \\n        #self.deck=[(Nm ,st) for st in suits for Nm in Nums] # create the 52 card deck\\n\\n    def shuffle_deck(self):\\n        random.shuffle(self.deck) # works in place\\n        print(self.deck)\\n        \\n        \\n    def deal_card(self, card_count):\\n        if len(self.deck) < card_count :\\n           raise ValueError (\\'too few card error: choose a lower number\\')\\n        \\n        dealt = [(self.deck[i].rank, self.deck[i].suit) for i in range(card_count)]\\n        #dealt=self.deck[0:card_count-1] # deal the cards then end if zero\\n        self.deck=self.deck[card_count-1:]\\n            \\n        if len(self.deck) == 0:\\n           raise Exception(\\'Zero card error: no more dealing!\\')\\n        return dealt\\n    \\n    def add(self, rank, suit):\\n        self.deck.append(playing_card(rank=Nm, suit=s))',\n",
       "  u'# more methods in progress? \\n\\nclass hand_stat:\\n    \"\"\"this class keeps the list of items in a hand it could have\\n       a method that scores the hand, it could \"\"\"\\n    scoredict={}\\n    \\n    def __init__(self, hand):\\n        self.hand=hand\\n    def get_value():\\n        pass\\n    def remove():\\n        pass\\n    def get():\\n        pass  \\n\\n    \\nclass GamePlay():\\n    pass\\n    \\n    ',\n",
       "  u'\\nJk=playing_card()\\nKd=playing_card(rank=\\'K\\', suit=\"Diamond\")',\n",
       "  u'locals()'],\n",
       " 'Jk': <__main__.playing_card instance at 0x10403ecb0>,\n",
       " 'Kd': <__main__.playing_card instance at 0x10403b320>,\n",
       " 'Out': {7: {...},\n",
       "  11: <__main__.playing_card instance at 0x103fc39e0>,\n",
       "  12: <__main__.playing_card instance at 0x103b92098>,\n",
       "  14: 'Diamond',\n",
       "  17: {...},\n",
       "  18: <__main__.playing_card instance at 0x104022b90>,\n",
       "  19: 'Diamond',\n",
       "  21: [<__main__.playing_card instance at 0x103c0d6c8>,\n",
       "   <__main__.playing_card instance at 0x103c0d758>,\n",
       "   <__main__.playing_card instance at 0x103c0d7e8>,\n",
       "   <__main__.playing_card instance at 0x103c0d878>],\n",
       "  28: {...},\n",
       "  29: <__main__.playing_card instance at 0x104022fc8>,\n",
       "  30: 'Diamond'},\n",
       " '_': 'Diamond',\n",
       " '_11': <__main__.playing_card instance at 0x103fc39e0>,\n",
       " '_12': <__main__.playing_card instance at 0x103b92098>,\n",
       " '_14': 'Diamond',\n",
       " '_17': {...},\n",
       " '_18': <__main__.playing_card instance at 0x104022b90>,\n",
       " '_19': 'Diamond',\n",
       " '_21': [<__main__.playing_card instance at 0x103c0d6c8>,\n",
       "  <__main__.playing_card instance at 0x103c0d758>,\n",
       "  <__main__.playing_card instance at 0x103c0d7e8>,\n",
       "  <__main__.playing_card instance at 0x103c0d878>],\n",
       " '_28': {...},\n",
       " '_29': <__main__.playing_card instance at 0x104022fc8>,\n",
       " '_30': 'Diamond',\n",
       " '_7': {...},\n",
       " '__': <__main__.playing_card instance at 0x104022fc8>,\n",
       " '___': {...},\n",
       " '__builtin__': <module '__builtin__' (built-in)>,\n",
       " '__builtins__': <module '__builtin__' (built-in)>,\n",
       " '__doc__': 'Automatically created module for IPython interactive environment',\n",
       " '__name__': '__main__',\n",
       " '__package__': None,\n",
       " '_dh': [u'/Users/GunnarK/Dropbox/coderepos/BerkeleyMIDS/W18_python/Main/assignments-instructors/fall_7'],\n",
       " '_i': u'\\nJk=playing_card()\\nKd=playing_card(rank=\\'K\\', suit=\"Diamond\")',\n",
       " '_i1': u'\\nJk=playing_card()\\nKd=playing_card(rank=\\'K\\', suit=\"Diamond\")',\n",
       " '_i10': u'pprint(locals())',\n",
       " '_i11': u'Jk',\n",
       " '_i12': u'Kd',\n",
       " '_i13': u'd1=deck()',\n",
       " '_i14': u'Kd.rank',\n",
       " '_i15': u'import random\\n\\nclass playing_card:\\n    \"\"\"this is a class for a single card\"\"\" \\n    def __init__(self, rank=\"Joker\", suit=\"Joker\"):\\n        self.suit=rank\\n        self.rank=suit\\n    \\nclass deck:\\n    \"\"\"this is the deck of cards\"\"\" \\n    def __init__(self, suits=[\\'heart\\',\\'Diamond\\',\\'spade\\',\\'club\\']):\\n        Nums=[\\'2\\',\\'3\\',\\'4\\',\\'5\\',\\'6\\',\\'7\\',\\'8\\',\\'9\\',\\'10\\',\\'J\\',\\'Q\\',\\'K\\',\\'A\\']\\n        #suits=[\\'heart\\',\\'Diamond\\',\\'spade\\',\\'club\\']\\n        # create 13 card object per suit and load them into the deck\\n        self.deck=[]\\n        for Nm in Nums:\\n            for s in suits:\\n                self.deck.append(playing_card(rank=Nm, suit=s))\\n\\n        print (self.deck)      \\n        #self.deck=[(Nm ,st) for st in suits for Nm in Nums] # create the 52 card deck\\n\\n    def shuffle_deck(self):\\n        random.shuffle(self.deck) # works in place\\n        print(self.deck)\\n        \\n        \\n    def deal_card(self, card_count):\\n        if len(self.deck) < card_count :\\n           raise ValueError (\\'too few card error: choose a lower number\\')\\n\\n        dealt=self.deck[0:card_count-1] # deal the cards then end if zero\\n        self.deck=self.deck[card_count-1:]\\n        \\n        if len(self.deck) == 0:\\n           raise Exception(\\'Zero card error: no more dealing!\\')\\n        return dealt\\n    \\n    def add():\\n        pass\\n        \\nclass hand_stat:\\n    \"\"\"this class keeps the list of items in a hand it could have\\n       a method that scores the hand, it could \"\"\"\\n    scoredict={}\\n    \\n    def __init__(self, hand):\\n        self.hand=hand\\n    def get_value():\\n        pass\\n    def remove():\\n        pass\\n    def get():\\n        pass  \\n\\n    \\nclass GamePlay():\\n    pass\\n    \\n    ',\n",
       " '_i16': u'\\nJk=playing_card()\\nKd=playing_card(rank=\\'K\\', suit=\"Diamond\")',\n",
       " '_i17': u'locals()',\n",
       " '_i18': u'Jk',\n",
       " '_i19': u'Kd.rank',\n",
       " '_i2': u'import random\\n\\nclass playing_card:\\n    \"\"\"this is a class for a single card\"\"\" \\n    def __init__(self, rank=\"Joker\", suit=\"Joker\"):\\n        self.suit=rank\\n        self.rank=suit\\n    \\nclass deck:\\n    \"\"\"this is the deck of cards\"\"\" \\n    def __init__(self, suits=[\\'heart\\',\\'Diamond\\',\\'spade\\',\\'club\\']):\\n        Nums=[\\'2\\',\\'3\\',\\'4\\',\\'5\\',\\'6\\',\\'7\\',\\'8\\',\\'9\\',\\'10\\',\\'J\\',\\'Q\\',\\'K\\',\\'A\\']\\n        #suits=[\\'heart\\',\\'Diamond\\',\\'spade\\',\\'club\\']\\n        # create 13 card object per suit and load them into the deck\\n        self.deck=[]\\n        for Nm in Nums:\\n            for s in suits\\n                self.deck=append.playing_card(rank=Nm, suit=s)\\n\\n        print (self.deck)      \\n        #self.deck=[(Nm ,st) for st in suits for Nm in Nums] # create the 52 card deck\\n\\n    def shuffle_deck(self):\\n        random.shuffle(self.deck) # works in place\\n        print(self.deck)\\n        \\n        \\n    def deal_card(self, card_count):\\n        if len(self.deck) < card_count :\\n           raise ValueError (\\'too few card error: choose a lower number\\')\\n\\n        dealt=self.deck[0:card_count-1] # deal the cards then end if zero\\n        self.deck=self.deck[card_count-1:]\\n        \\n        if len(self.deck) == 0:\\n           raise Exception(\\'Zero card error: no more dealing!\\')\\n        return dealt\\n    \\n    def add():\\n        pass\\n        \\nclass hand_stat:\\n    \"\"\"this class keeps the list of items in a hand it could have\\n       a method that scores the hand, it could \"\"\"\\n    scoredict={}\\n    \\n    def __init__(self, hand):\\n        self.hand=hand\\n    def get_value():\\n        pass\\n    def remove():\\n        pass\\n    def get():\\n        pass  \\n\\n    \\nclass GamePlay():\\n    pass\\n    \\n    ',\n",
       " '_i20': u'd1=deck()',\n",
       " '_i21': u'd1.deal_card(5)',\n",
       " '_i22': u'import random\\n\\nclass playing_card:\\n    \"\"\"this is a class for a single card\"\"\" \\n    def __init__(self, rank=\"Joker\", suit=\"Joker\"):\\n        self.suit=rank\\n        self.rank=suit\\n    \\nclass deck:\\n    \"\"\"this is the deck of cards\"\"\" \\n    def __init__(self, suits=[\\'heart\\',\\'Diamond\\',\\'spade\\',\\'club\\']):\\n        Nums=[\\'2\\',\\'3\\',\\'4\\',\\'5\\',\\'6\\',\\'7\\',\\'8\\',\\'9\\',\\'10\\',\\'J\\',\\'Q\\',\\'K\\',\\'A\\']\\n        #suits=[\\'heart\\',\\'Diamond\\',\\'spade\\',\\'club\\']\\n        # create 13 card object per suit and load them into the deck\\n        self.deck=[]\\n        for Nm in Nums:\\n            for s in suits:\\n                self.deck.append(playing_card(rank=Nm, suit=s))\\n\\n        print (self.deck)      \\n        #self.deck=[(Nm ,st) for st in suits for Nm in Nums] # create the 52 card deck\\n\\n    def shuffle_deck(self):\\n        random.shuffle(self.deck) # works in place\\n        print(self.deck)\\n        \\n        \\n    def deal_card(self, card_count):\\n        if len(self.deck) < card_count :\\n           raise ValueError (\\'too few card error: choose a lower number\\')\\n\\n        dealt=self.deck[0:card_count-1] # deal the cards then end if zero\\n        self.deck=self.deck[card_count-1:]\\n        \\n        if len(self.deck) == 0:\\n           raise Exception(\\'Zero card error: no more dealing!\\')\\n        return dealt\\n    \\n    def add(self.deck, rank, suit):\\n        self.deck.append(playing_card(rank=Nm, suit=s))',\n",
       " '_i23': u'import random\\n\\nclass playing_card:\\n    \"\"\"this is a class for a single card\"\"\" \\n    def __init__(self, rank=\"Joker\", suit=\"Joker\"):\\n        self.suit=rank\\n        self.rank=suit\\n    \\nclass deck:\\n    \"\"\"this is the deck of cards\"\"\" \\n    def __init__(self, suits=[\\'heart\\',\\'Diamond\\',\\'spade\\',\\'club\\']):\\n        Nums=[\\'2\\',\\'3\\',\\'4\\',\\'5\\',\\'6\\',\\'7\\',\\'8\\',\\'9\\',\\'10\\',\\'J\\',\\'Q\\',\\'K\\',\\'A\\']\\n        #suits=[\\'heart\\',\\'Diamond\\',\\'spade\\',\\'club\\']\\n        # create 13 card object per suit and load them into the deck\\n        self.deck=[]\\n        for Nm in Nums:\\n            for s in suits:\\n                self.deck.append(playing_card(rank=Nm, suit=s))\\n\\n        print (self.deck)      \\n        #self.deck=[(Nm ,st) for st in suits for Nm in Nums] # create the 52 card deck\\n\\n    def shuffle_deck(self):\\n        random.shuffle(self.deck) # works in place\\n        print(self.deck)\\n        \\n        \\n    def deal_card(self, card_count):\\n        if len(self.deck) < card_count :\\n           raise ValueError (\\'too few card error: choose a lower number\\')\\n\\n        dealt=self.deck[0:card_count-1] # deal the cards then end if zero\\n        self.deck=self.deck[card_count-1:]\\n        \\n        if len(self.deck) == 0:\\n           raise Exception(\\'Zero card error: no more dealing!\\')\\n        return dealt\\n    \\n    def add(self, rank, suit):\\n        self.deck.append(playing_card(rank=Nm, suit=s))',\n",
       " '_i24': u'# more methods in progress? \\n\\nclass hand_stat:\\n    \"\"\"this class keeps the list of items in a hand it could have\\n       a method that scores the hand, it could \"\"\"\\n    scoredict={}\\n    \\n    def __init__(self, hand):\\n        self.hand=hand\\n    def get_value():\\n        pass\\n    def remove():\\n        pass\\n    def get():\\n        pass  \\n\\n    \\nclass GamePlay():\\n    pass\\n    \\n    ',\n",
       " '_i25': u'import random\\n\\nclass playing_card:\\n    \"\"\"this is a class for a single card\"\"\" \\n    def __init__(self, rank=\"Joker\", suit=\"Joker\"):\\n        self.suit=rank\\n        self.rank=suit\\n    \\nclass deck:\\n    \"\"\"this is the deck of cards\"\"\" \\n    def __init__(self, suits=[\\'heart\\',\\'Diamond\\',\\'spade\\',\\'club\\']):\\n        Nums=[\\'2\\',\\'3\\',\\'4\\',\\'5\\',\\'6\\',\\'7\\',\\'8\\',\\'9\\',\\'10\\',\\'J\\',\\'Q\\',\\'K\\',\\'A\\']\\n        #suits=[\\'heart\\',\\'Diamond\\',\\'spade\\',\\'club\\']\\n        # create 13 card object per suit and load them into the deck\\n        self.deck=[]\\n        for Nm in Nums:\\n            for s in suits:\\n                self.deck.append(playing_card(rank=Nm, suit=s))\\n\\n        print (self.deck)      \\n        #self.deck=[(Nm ,st) for st in suits for Nm in Nums] # create the 52 card deck\\n\\n    def shuffle_deck(self):\\n        random.shuffle(self.deck) # works in place\\n        print(self.deck)\\n        \\n        \\n    def deal_card(self, card_count):\\n        if len(self.deck) < card_count :\\n           raise ValueError (\\'too few card error: choose a lower number\\')\\n\\n        dealt=self.deck[0:card_count-1] # deal the cards then end if zero\\n        self.deck=self.deck[card_count-1:].rank\\n        \\n        if len(self.deck) == 0:\\n           raise Exception(\\'Zero card error: no more dealing!\\')\\n        return dealt\\n    \\n    def add(self, rank, suit):\\n        self.deck.append(playing_card(rank=Nm, suit=s))',\n",
       " '_i26': u'# more methods in progress? \\n\\nclass hand_stat:\\n    \"\"\"this class keeps the list of items in a hand it could have\\n       a method that scores the hand, it could \"\"\"\\n    scoredict={}\\n    \\n    def __init__(self, hand):\\n        self.hand=hand\\n    def get_value():\\n        pass\\n    def remove():\\n        pass\\n    def get():\\n        pass  \\n\\n    \\nclass GamePlay():\\n    pass\\n    \\n    ',\n",
       " '_i27': u'\\nJk=playing_card()\\nKd=playing_card(rank=\\'K\\', suit=\"Diamond\")',\n",
       " '_i28': u'locals()',\n",
       " '_i29': u'Jk',\n",
       " '_i3': u'\\nJk=playing_card()\\nKd=playing_card(rank=\\'K\\', suit=\"Diamond\")',\n",
       " '_i30': u'Kd.rank',\n",
       " '_i31': u'd1=deck()',\n",
       " '_i32': u'd1.deal_card(5)',\n",
       " '_i33': u'd1.deal_card(30)',\n",
       " '_i34': u'd1.deal_card(5)',\n",
       " '_i35': u'import random\\n\\nclass playing_card:\\n    \"\"\"this is a class for a single card\"\"\" \\n    def __init__(self, rank=\"Joker\", suit=\"Joker\"):\\n        self.suit=rank\\n        self.rank=suit\\n    \\nclass deck:\\n    \"\"\"this is the deck of cards\"\"\" \\n    def __init__(self, suits=[\\'heart\\',\\'Diamond\\',\\'spade\\',\\'club\\']):\\n        Nums=[\\'2\\',\\'3\\',\\'4\\',\\'5\\',\\'6\\',\\'7\\',\\'8\\',\\'9\\',\\'10\\',\\'J\\',\\'Q\\',\\'K\\',\\'A\\']\\n        #suits=[\\'heart\\',\\'Diamond\\',\\'spade\\',\\'club\\']\\n        # create 13 card object per suit and load them into the deck\\n        self.deck=[]\\n        for Nm in Nums:\\n            for s in suits:\\n                self.deck.append(playing_card(rank=Nm, suit=s))\\n\\n        print (self.deck)      \\n        #self.deck=[(Nm ,st) for st in suits for Nm in Nums] # create the 52 card deck\\n\\n    def shuffle_deck(self):\\n        random.shuffle(self.deck) # works in place\\n        print(self.deck)\\n        \\n        \\n    def deal_card(self, card_count):\\n        if len(self.deck) < card_count :\\n           raise ValueError (\\'too few card error: choose a lower number\\')\\n        \\n        dealt = [(self.deck[i].rank, self.deck[i].suit) for i in range(card_count)]\\n        #dealt=self.deck[0:card_count-1] # deal the cards then end if zero\\n        self.deck=self.deck[card_count-1:]\\n            \\n        if len(self.deck) == 0:\\n           raise Exception(\\'Zero card error: no more dealing!\\')\\n        return dealt\\n    \\n    def add(self, rank, suit):\\n        self.deck.append(playing_card(rank=Nm, suit=s))',\n",
       " '_i36': u'# more methods in progress? \\n\\nclass hand_stat:\\n    \"\"\"this class keeps the list of items in a hand it could have\\n       a method that scores the hand, it could \"\"\"\\n    scoredict={}\\n    \\n    def __init__(self, hand):\\n        self.hand=hand\\n    def get_value():\\n        pass\\n    def remove():\\n        pass\\n    def get():\\n        pass  \\n\\n    \\nclass GamePlay():\\n    pass\\n    \\n    ',\n",
       " '_i37': u'\\nJk=playing_card()\\nKd=playing_card(rank=\\'K\\', suit=\"Diamond\")',\n",
       " '_i38': u'locals()',\n",
       " '_i4': u'import random\\n\\nclass playing_card:\\n    \"\"\"this is a class for a single card\"\"\" \\n    def __init__(self, rank=\"Joker\", suit=\"Joker\"):\\n        self.suit=rank\\n        self.rank=suit\\n    \\nclass deck:\\n    \"\"\"this is the deck of cards\"\"\" \\n    def __init__(self, suits=[\\'heart\\',\\'Diamond\\',\\'spade\\',\\'club\\']):\\n        Nums=[\\'2\\',\\'3\\',\\'4\\',\\'5\\',\\'6\\',\\'7\\',\\'8\\',\\'9\\',\\'10\\',\\'J\\',\\'Q\\',\\'K\\',\\'A\\']\\n        #suits=[\\'heart\\',\\'Diamond\\',\\'spade\\',\\'club\\']\\n        # create 13 card object per suit and load them into the deck\\n        self.deck=[]\\n        for Nm in Nums:\\n            for s in suits\\n                self.deck=append.playing_card(rank=Nm, suit=s)\\n\\n        print (self.deck)      \\n        #self.deck=[(Nm ,st) for st in suits for Nm in Nums] # create the 52 card deck\\n\\n    def shuffle_deck(self):\\n        random.shuffle(self.deck) # works in place\\n        print(self.deck)\\n        \\n        \\n    def deal_card(self, card_count):\\n        if len(self.deck) < card_count :\\n           raise ValueError (\\'too few card error: choose a lower number\\')\\n\\n        dealt=self.deck[0:card_count-1] # deal the cards then end if zero\\n        self.deck=self.deck[card_count-1:]\\n        \\n        if len(self.deck) == 0:\\n           raise Exception(\\'Zero card error: no more dealing!\\')\\n        return dealt\\n    \\n    def add():\\n        pass\\n        \\nclass hand_stat:\\n    \"\"\"this class keeps the list of items in a hand it could have\\n       a method that scores the hand, it could \"\"\"\\n    scoredict={}\\n    \\n    def __init__(self, hand):\\n        self.hand=hand\\n    def get_value():\\n        pass\\n    def remove():\\n        pass\\n    def get():\\n        pass  \\n\\n    \\nclass GamePlay():\\n    pass\\n    \\n    ',\n",
       " '_i5': u'import random\\n\\nclass playing_card:\\n    \"\"\"this is a class for a single card\"\"\" \\n    def __init__(self, rank=\"Joker\", suit=\"Joker\"):\\n        self.suit=rank\\n        self.rank=suit\\n    \\nclass deck:\\n    \"\"\"this is the deck of cards\"\"\" \\n    def __init__(self, suits=[\\'heart\\',\\'Diamond\\',\\'spade\\',\\'club\\']):\\n        Nums=[\\'2\\',\\'3\\',\\'4\\',\\'5\\',\\'6\\',\\'7\\',\\'8\\',\\'9\\',\\'10\\',\\'J\\',\\'Q\\',\\'K\\',\\'A\\']\\n        #suits=[\\'heart\\',\\'Diamond\\',\\'spade\\',\\'club\\']\\n        # create 13 card object per suit and load them into the deck\\n        self.deck=[]\\n        for Nm in Nums:\\n            for s in suits:\\n                self.deck=append.playing_card(rank=Nm, suit=s)\\n\\n        print (self.deck)      \\n        #self.deck=[(Nm ,st) for st in suits for Nm in Nums] # create the 52 card deck\\n\\n    def shuffle_deck(self):\\n        random.shuffle(self.deck) # works in place\\n        print(self.deck)\\n        \\n        \\n    def deal_card(self, card_count):\\n        if len(self.deck) < card_count :\\n           raise ValueError (\\'too few card error: choose a lower number\\')\\n\\n        dealt=self.deck[0:card_count-1] # deal the cards then end if zero\\n        self.deck=self.deck[card_count-1:]\\n        \\n        if len(self.deck) == 0:\\n           raise Exception(\\'Zero card error: no more dealing!\\')\\n        return dealt\\n    \\n    def add():\\n        pass\\n        \\nclass hand_stat:\\n    \"\"\"this class keeps the list of items in a hand it could have\\n       a method that scores the hand, it could \"\"\"\\n    scoredict={}\\n    \\n    def __init__(self, hand):\\n        self.hand=hand\\n    def get_value():\\n        pass\\n    def remove():\\n        pass\\n    def get():\\n        pass  \\n\\n    \\nclass GamePlay():\\n    pass\\n    \\n    ',\n",
       " '_i6': u'\\nJk=playing_card()\\nKd=playing_card(rank=\\'K\\', suit=\"Diamond\")',\n",
       " '_i7': u'locals()',\n",
       " '_i8': u'print(locals())',\n",
       " '_i9': u'import pprint\\npprint(locals())',\n",
       " '_ih': ['',\n",
       "  u'\\nJk=playing_card()\\nKd=playing_card(rank=\\'K\\', suit=\"Diamond\")',\n",
       "  u'import random\\n\\nclass playing_card:\\n    \"\"\"this is a class for a single card\"\"\" \\n    def __init__(self, rank=\"Joker\", suit=\"Joker\"):\\n        self.suit=rank\\n        self.rank=suit\\n    \\nclass deck:\\n    \"\"\"this is the deck of cards\"\"\" \\n    def __init__(self, suits=[\\'heart\\',\\'Diamond\\',\\'spade\\',\\'club\\']):\\n        Nums=[\\'2\\',\\'3\\',\\'4\\',\\'5\\',\\'6\\',\\'7\\',\\'8\\',\\'9\\',\\'10\\',\\'J\\',\\'Q\\',\\'K\\',\\'A\\']\\n        #suits=[\\'heart\\',\\'Diamond\\',\\'spade\\',\\'club\\']\\n        # create 13 card object per suit and load them into the deck\\n        self.deck=[]\\n        for Nm in Nums:\\n            for s in suits\\n                self.deck=append.playing_card(rank=Nm, suit=s)\\n\\n        print (self.deck)      \\n        #self.deck=[(Nm ,st) for st in suits for Nm in Nums] # create the 52 card deck\\n\\n    def shuffle_deck(self):\\n        random.shuffle(self.deck) # works in place\\n        print(self.deck)\\n        \\n        \\n    def deal_card(self, card_count):\\n        if len(self.deck) < card_count :\\n           raise ValueError (\\'too few card error: choose a lower number\\')\\n\\n        dealt=self.deck[0:card_count-1] # deal the cards then end if zero\\n        self.deck=self.deck[card_count-1:]\\n        \\n        if len(self.deck) == 0:\\n           raise Exception(\\'Zero card error: no more dealing!\\')\\n        return dealt\\n    \\n    def add():\\n        pass\\n        \\nclass hand_stat:\\n    \"\"\"this class keeps the list of items in a hand it could have\\n       a method that scores the hand, it could \"\"\"\\n    scoredict={}\\n    \\n    def __init__(self, hand):\\n        self.hand=hand\\n    def get_value():\\n        pass\\n    def remove():\\n        pass\\n    def get():\\n        pass  \\n\\n    \\nclass GamePlay():\\n    pass\\n    \\n    ',\n",
       "  u'\\nJk=playing_card()\\nKd=playing_card(rank=\\'K\\', suit=\"Diamond\")',\n",
       "  u'import random\\n\\nclass playing_card:\\n    \"\"\"this is a class for a single card\"\"\" \\n    def __init__(self, rank=\"Joker\", suit=\"Joker\"):\\n        self.suit=rank\\n        self.rank=suit\\n    \\nclass deck:\\n    \"\"\"this is the deck of cards\"\"\" \\n    def __init__(self, suits=[\\'heart\\',\\'Diamond\\',\\'spade\\',\\'club\\']):\\n        Nums=[\\'2\\',\\'3\\',\\'4\\',\\'5\\',\\'6\\',\\'7\\',\\'8\\',\\'9\\',\\'10\\',\\'J\\',\\'Q\\',\\'K\\',\\'A\\']\\n        #suits=[\\'heart\\',\\'Diamond\\',\\'spade\\',\\'club\\']\\n        # create 13 card object per suit and load them into the deck\\n        self.deck=[]\\n        for Nm in Nums:\\n            for s in suits\\n                self.deck=append.playing_card(rank=Nm, suit=s)\\n\\n        print (self.deck)      \\n        #self.deck=[(Nm ,st) for st in suits for Nm in Nums] # create the 52 card deck\\n\\n    def shuffle_deck(self):\\n        random.shuffle(self.deck) # works in place\\n        print(self.deck)\\n        \\n        \\n    def deal_card(self, card_count):\\n        if len(self.deck) < card_count :\\n           raise ValueError (\\'too few card error: choose a lower number\\')\\n\\n        dealt=self.deck[0:card_count-1] # deal the cards then end if zero\\n        self.deck=self.deck[card_count-1:]\\n        \\n        if len(self.deck) == 0:\\n           raise Exception(\\'Zero card error: no more dealing!\\')\\n        return dealt\\n    \\n    def add():\\n        pass\\n        \\nclass hand_stat:\\n    \"\"\"this class keeps the list of items in a hand it could have\\n       a method that scores the hand, it could \"\"\"\\n    scoredict={}\\n    \\n    def __init__(self, hand):\\n        self.hand=hand\\n    def get_value():\\n        pass\\n    def remove():\\n        pass\\n    def get():\\n        pass  \\n\\n    \\nclass GamePlay():\\n    pass\\n    \\n    ',\n",
       "  u'import random\\n\\nclass playing_card:\\n    \"\"\"this is a class for a single card\"\"\" \\n    def __init__(self, rank=\"Joker\", suit=\"Joker\"):\\n        self.suit=rank\\n        self.rank=suit\\n    \\nclass deck:\\n    \"\"\"this is the deck of cards\"\"\" \\n    def __init__(self, suits=[\\'heart\\',\\'Diamond\\',\\'spade\\',\\'club\\']):\\n        Nums=[\\'2\\',\\'3\\',\\'4\\',\\'5\\',\\'6\\',\\'7\\',\\'8\\',\\'9\\',\\'10\\',\\'J\\',\\'Q\\',\\'K\\',\\'A\\']\\n        #suits=[\\'heart\\',\\'Diamond\\',\\'spade\\',\\'club\\']\\n        # create 13 card object per suit and load them into the deck\\n        self.deck=[]\\n        for Nm in Nums:\\n            for s in suits:\\n                self.deck=append.playing_card(rank=Nm, suit=s)\\n\\n        print (self.deck)      \\n        #self.deck=[(Nm ,st) for st in suits for Nm in Nums] # create the 52 card deck\\n\\n    def shuffle_deck(self):\\n        random.shuffle(self.deck) # works in place\\n        print(self.deck)\\n        \\n        \\n    def deal_card(self, card_count):\\n        if len(self.deck) < card_count :\\n           raise ValueError (\\'too few card error: choose a lower number\\')\\n\\n        dealt=self.deck[0:card_count-1] # deal the cards then end if zero\\n        self.deck=self.deck[card_count-1:]\\n        \\n        if len(self.deck) == 0:\\n           raise Exception(\\'Zero card error: no more dealing!\\')\\n        return dealt\\n    \\n    def add():\\n        pass\\n        \\nclass hand_stat:\\n    \"\"\"this class keeps the list of items in a hand it could have\\n       a method that scores the hand, it could \"\"\"\\n    scoredict={}\\n    \\n    def __init__(self, hand):\\n        self.hand=hand\\n    def get_value():\\n        pass\\n    def remove():\\n        pass\\n    def get():\\n        pass  \\n\\n    \\nclass GamePlay():\\n    pass\\n    \\n    ',\n",
       "  u'\\nJk=playing_card()\\nKd=playing_card(rank=\\'K\\', suit=\"Diamond\")',\n",
       "  u'locals()',\n",
       "  u'print(locals())',\n",
       "  u'import pprint\\npprint(locals())',\n",
       "  u'pprint(locals())',\n",
       "  u'Jk',\n",
       "  u'Kd',\n",
       "  u'd1=deck()',\n",
       "  u'Kd.rank',\n",
       "  u'import random\\n\\nclass playing_card:\\n    \"\"\"this is a class for a single card\"\"\" \\n    def __init__(self, rank=\"Joker\", suit=\"Joker\"):\\n        self.suit=rank\\n        self.rank=suit\\n    \\nclass deck:\\n    \"\"\"this is the deck of cards\"\"\" \\n    def __init__(self, suits=[\\'heart\\',\\'Diamond\\',\\'spade\\',\\'club\\']):\\n        Nums=[\\'2\\',\\'3\\',\\'4\\',\\'5\\',\\'6\\',\\'7\\',\\'8\\',\\'9\\',\\'10\\',\\'J\\',\\'Q\\',\\'K\\',\\'A\\']\\n        #suits=[\\'heart\\',\\'Diamond\\',\\'spade\\',\\'club\\']\\n        # create 13 card object per suit and load them into the deck\\n        self.deck=[]\\n        for Nm in Nums:\\n            for s in suits:\\n                self.deck.append(playing_card(rank=Nm, suit=s))\\n\\n        print (self.deck)      \\n        #self.deck=[(Nm ,st) for st in suits for Nm in Nums] # create the 52 card deck\\n\\n    def shuffle_deck(self):\\n        random.shuffle(self.deck) # works in place\\n        print(self.deck)\\n        \\n        \\n    def deal_card(self, card_count):\\n        if len(self.deck) < card_count :\\n           raise ValueError (\\'too few card error: choose a lower number\\')\\n\\n        dealt=self.deck[0:card_count-1] # deal the cards then end if zero\\n        self.deck=self.deck[card_count-1:]\\n        \\n        if len(self.deck) == 0:\\n           raise Exception(\\'Zero card error: no more dealing!\\')\\n        return dealt\\n    \\n    def add():\\n        pass\\n        \\nclass hand_stat:\\n    \"\"\"this class keeps the list of items in a hand it could have\\n       a method that scores the hand, it could \"\"\"\\n    scoredict={}\\n    \\n    def __init__(self, hand):\\n        self.hand=hand\\n    def get_value():\\n        pass\\n    def remove():\\n        pass\\n    def get():\\n        pass  \\n\\n    \\nclass GamePlay():\\n    pass\\n    \\n    ',\n",
       "  u'\\nJk=playing_card()\\nKd=playing_card(rank=\\'K\\', suit=\"Diamond\")',\n",
       "  u'locals()',\n",
       "  u'Jk',\n",
       "  u'Kd.rank',\n",
       "  u'd1=deck()',\n",
       "  u'd1.deal_card(5)',\n",
       "  u'import random\\n\\nclass playing_card:\\n    \"\"\"this is a class for a single card\"\"\" \\n    def __init__(self, rank=\"Joker\", suit=\"Joker\"):\\n        self.suit=rank\\n        self.rank=suit\\n    \\nclass deck:\\n    \"\"\"this is the deck of cards\"\"\" \\n    def __init__(self, suits=[\\'heart\\',\\'Diamond\\',\\'spade\\',\\'club\\']):\\n        Nums=[\\'2\\',\\'3\\',\\'4\\',\\'5\\',\\'6\\',\\'7\\',\\'8\\',\\'9\\',\\'10\\',\\'J\\',\\'Q\\',\\'K\\',\\'A\\']\\n        #suits=[\\'heart\\',\\'Diamond\\',\\'spade\\',\\'club\\']\\n        # create 13 card object per suit and load them into the deck\\n        self.deck=[]\\n        for Nm in Nums:\\n            for s in suits:\\n                self.deck.append(playing_card(rank=Nm, suit=s))\\n\\n        print (self.deck)      \\n        #self.deck=[(Nm ,st) for st in suits for Nm in Nums] # create the 52 card deck\\n\\n    def shuffle_deck(self):\\n        random.shuffle(self.deck) # works in place\\n        print(self.deck)\\n        \\n        \\n    def deal_card(self, card_count):\\n        if len(self.deck) < card_count :\\n           raise ValueError (\\'too few card error: choose a lower number\\')\\n\\n        dealt=self.deck[0:card_count-1] # deal the cards then end if zero\\n        self.deck=self.deck[card_count-1:]\\n        \\n        if len(self.deck) == 0:\\n           raise Exception(\\'Zero card error: no more dealing!\\')\\n        return dealt\\n    \\n    def add(self.deck, rank, suit):\\n        self.deck.append(playing_card(rank=Nm, suit=s))',\n",
       "  u'import random\\n\\nclass playing_card:\\n    \"\"\"this is a class for a single card\"\"\" \\n    def __init__(self, rank=\"Joker\", suit=\"Joker\"):\\n        self.suit=rank\\n        self.rank=suit\\n    \\nclass deck:\\n    \"\"\"this is the deck of cards\"\"\" \\n    def __init__(self, suits=[\\'heart\\',\\'Diamond\\',\\'spade\\',\\'club\\']):\\n        Nums=[\\'2\\',\\'3\\',\\'4\\',\\'5\\',\\'6\\',\\'7\\',\\'8\\',\\'9\\',\\'10\\',\\'J\\',\\'Q\\',\\'K\\',\\'A\\']\\n        #suits=[\\'heart\\',\\'Diamond\\',\\'spade\\',\\'club\\']\\n        # create 13 card object per suit and load them into the deck\\n        self.deck=[]\\n        for Nm in Nums:\\n            for s in suits:\\n                self.deck.append(playing_card(rank=Nm, suit=s))\\n\\n        print (self.deck)      \\n        #self.deck=[(Nm ,st) for st in suits for Nm in Nums] # create the 52 card deck\\n\\n    def shuffle_deck(self):\\n        random.shuffle(self.deck) # works in place\\n        print(self.deck)\\n        \\n        \\n    def deal_card(self, card_count):\\n        if len(self.deck) < card_count :\\n           raise ValueError (\\'too few card error: choose a lower number\\')\\n\\n        dealt=self.deck[0:card_count-1] # deal the cards then end if zero\\n        self.deck=self.deck[card_count-1:]\\n        \\n        if len(self.deck) == 0:\\n           raise Exception(\\'Zero card error: no more dealing!\\')\\n        return dealt\\n    \\n    def add(self, rank, suit):\\n        self.deck.append(playing_card(rank=Nm, suit=s))',\n",
       "  u'# more methods in progress? \\n\\nclass hand_stat:\\n    \"\"\"this class keeps the list of items in a hand it could have\\n       a method that scores the hand, it could \"\"\"\\n    scoredict={}\\n    \\n    def __init__(self, hand):\\n        self.hand=hand\\n    def get_value():\\n        pass\\n    def remove():\\n        pass\\n    def get():\\n        pass  \\n\\n    \\nclass GamePlay():\\n    pass\\n    \\n    ',\n",
       "  u'import random\\n\\nclass playing_card:\\n    \"\"\"this is a class for a single card\"\"\" \\n    def __init__(self, rank=\"Joker\", suit=\"Joker\"):\\n        self.suit=rank\\n        self.rank=suit\\n    \\nclass deck:\\n    \"\"\"this is the deck of cards\"\"\" \\n    def __init__(self, suits=[\\'heart\\',\\'Diamond\\',\\'spade\\',\\'club\\']):\\n        Nums=[\\'2\\',\\'3\\',\\'4\\',\\'5\\',\\'6\\',\\'7\\',\\'8\\',\\'9\\',\\'10\\',\\'J\\',\\'Q\\',\\'K\\',\\'A\\']\\n        #suits=[\\'heart\\',\\'Diamond\\',\\'spade\\',\\'club\\']\\n        # create 13 card object per suit and load them into the deck\\n        self.deck=[]\\n        for Nm in Nums:\\n            for s in suits:\\n                self.deck.append(playing_card(rank=Nm, suit=s))\\n\\n        print (self.deck)      \\n        #self.deck=[(Nm ,st) for st in suits for Nm in Nums] # create the 52 card deck\\n\\n    def shuffle_deck(self):\\n        random.shuffle(self.deck) # works in place\\n        print(self.deck)\\n        \\n        \\n    def deal_card(self, card_count):\\n        if len(self.deck) < card_count :\\n           raise ValueError (\\'too few card error: choose a lower number\\')\\n\\n        dealt=self.deck[0:card_count-1] # deal the cards then end if zero\\n        self.deck=self.deck[card_count-1:].rank\\n        \\n        if len(self.deck) == 0:\\n           raise Exception(\\'Zero card error: no more dealing!\\')\\n        return dealt\\n    \\n    def add(self, rank, suit):\\n        self.deck.append(playing_card(rank=Nm, suit=s))',\n",
       "  u'# more methods in progress? \\n\\nclass hand_stat:\\n    \"\"\"this class keeps the list of items in a hand it could have\\n       a method that scores the hand, it could \"\"\"\\n    scoredict={}\\n    \\n    def __init__(self, hand):\\n        self.hand=hand\\n    def get_value():\\n        pass\\n    def remove():\\n        pass\\n    def get():\\n        pass  \\n\\n    \\nclass GamePlay():\\n    pass\\n    \\n    ',\n",
       "  u'\\nJk=playing_card()\\nKd=playing_card(rank=\\'K\\', suit=\"Diamond\")',\n",
       "  u'locals()',\n",
       "  u'Jk',\n",
       "  u'Kd.rank',\n",
       "  u'd1=deck()',\n",
       "  u'd1.deal_card(5)',\n",
       "  u'd1.deal_card(30)',\n",
       "  u'd1.deal_card(5)',\n",
       "  u'import random\\n\\nclass playing_card:\\n    \"\"\"this is a class for a single card\"\"\" \\n    def __init__(self, rank=\"Joker\", suit=\"Joker\"):\\n        self.suit=rank\\n        self.rank=suit\\n    \\nclass deck:\\n    \"\"\"this is the deck of cards\"\"\" \\n    def __init__(self, suits=[\\'heart\\',\\'Diamond\\',\\'spade\\',\\'club\\']):\\n        Nums=[\\'2\\',\\'3\\',\\'4\\',\\'5\\',\\'6\\',\\'7\\',\\'8\\',\\'9\\',\\'10\\',\\'J\\',\\'Q\\',\\'K\\',\\'A\\']\\n        #suits=[\\'heart\\',\\'Diamond\\',\\'spade\\',\\'club\\']\\n        # create 13 card object per suit and load them into the deck\\n        self.deck=[]\\n        for Nm in Nums:\\n            for s in suits:\\n                self.deck.append(playing_card(rank=Nm, suit=s))\\n\\n        print (self.deck)      \\n        #self.deck=[(Nm ,st) for st in suits for Nm in Nums] # create the 52 card deck\\n\\n    def shuffle_deck(self):\\n        random.shuffle(self.deck) # works in place\\n        print(self.deck)\\n        \\n        \\n    def deal_card(self, card_count):\\n        if len(self.deck) < card_count :\\n           raise ValueError (\\'too few card error: choose a lower number\\')\\n        \\n        dealt = [(self.deck[i].rank, self.deck[i].suit) for i in range(card_count)]\\n        #dealt=self.deck[0:card_count-1] # deal the cards then end if zero\\n        self.deck=self.deck[card_count-1:]\\n            \\n        if len(self.deck) == 0:\\n           raise Exception(\\'Zero card error: no more dealing!\\')\\n        return dealt\\n    \\n    def add(self, rank, suit):\\n        self.deck.append(playing_card(rank=Nm, suit=s))',\n",
       "  u'# more methods in progress? \\n\\nclass hand_stat:\\n    \"\"\"this class keeps the list of items in a hand it could have\\n       a method that scores the hand, it could \"\"\"\\n    scoredict={}\\n    \\n    def __init__(self, hand):\\n        self.hand=hand\\n    def get_value():\\n        pass\\n    def remove():\\n        pass\\n    def get():\\n        pass  \\n\\n    \\nclass GamePlay():\\n    pass\\n    \\n    ',\n",
       "  u'\\nJk=playing_card()\\nKd=playing_card(rank=\\'K\\', suit=\"Diamond\")',\n",
       "  u'locals()'],\n",
       " '_ii': u'# more methods in progress? \\n\\nclass hand_stat:\\n    \"\"\"this class keeps the list of items in a hand it could have\\n       a method that scores the hand, it could \"\"\"\\n    scoredict={}\\n    \\n    def __init__(self, hand):\\n        self.hand=hand\\n    def get_value():\\n        pass\\n    def remove():\\n        pass\\n    def get():\\n        pass  \\n\\n    \\nclass GamePlay():\\n    pass\\n    \\n    ',\n",
       " '_iii': u'import random\\n\\nclass playing_card:\\n    \"\"\"this is a class for a single card\"\"\" \\n    def __init__(self, rank=\"Joker\", suit=\"Joker\"):\\n        self.suit=rank\\n        self.rank=suit\\n    \\nclass deck:\\n    \"\"\"this is the deck of cards\"\"\" \\n    def __init__(self, suits=[\\'heart\\',\\'Diamond\\',\\'spade\\',\\'club\\']):\\n        Nums=[\\'2\\',\\'3\\',\\'4\\',\\'5\\',\\'6\\',\\'7\\',\\'8\\',\\'9\\',\\'10\\',\\'J\\',\\'Q\\',\\'K\\',\\'A\\']\\n        #suits=[\\'heart\\',\\'Diamond\\',\\'spade\\',\\'club\\']\\n        # create 13 card object per suit and load them into the deck\\n        self.deck=[]\\n        for Nm in Nums:\\n            for s in suits:\\n                self.deck.append(playing_card(rank=Nm, suit=s))\\n\\n        print (self.deck)      \\n        #self.deck=[(Nm ,st) for st in suits for Nm in Nums] # create the 52 card deck\\n\\n    def shuffle_deck(self):\\n        random.shuffle(self.deck) # works in place\\n        print(self.deck)\\n        \\n        \\n    def deal_card(self, card_count):\\n        if len(self.deck) < card_count :\\n           raise ValueError (\\'too few card error: choose a lower number\\')\\n        \\n        dealt = [(self.deck[i].rank, self.deck[i].suit) for i in range(card_count)]\\n        #dealt=self.deck[0:card_count-1] # deal the cards then end if zero\\n        self.deck=self.deck[card_count-1:]\\n            \\n        if len(self.deck) == 0:\\n           raise Exception(\\'Zero card error: no more dealing!\\')\\n        return dealt\\n    \\n    def add(self, rank, suit):\\n        self.deck.append(playing_card(rank=Nm, suit=s))',\n",
       " '_oh': {7: {...},\n",
       "  11: <__main__.playing_card instance at 0x103fc39e0>,\n",
       "  12: <__main__.playing_card instance at 0x103b92098>,\n",
       "  14: 'Diamond',\n",
       "  17: {...},\n",
       "  18: <__main__.playing_card instance at 0x104022b90>,\n",
       "  19: 'Diamond',\n",
       "  21: [<__main__.playing_card instance at 0x103c0d6c8>,\n",
       "   <__main__.playing_card instance at 0x103c0d758>,\n",
       "   <__main__.playing_card instance at 0x103c0d7e8>,\n",
       "   <__main__.playing_card instance at 0x103c0d878>],\n",
       "  28: {...},\n",
       "  29: <__main__.playing_card instance at 0x104022fc8>,\n",
       "  30: 'Diamond'},\n",
       " '_sh': <module 'IPython.core.shadowns' from '/Users/GunnarK/anaconda/lib/python2.7/site-packages/IPython/core/shadowns.pyc'>,\n",
       " 'd1': <__main__.deck instance at 0x10403b5a8>,\n",
       " 'deck': <class __main__.deck at 0x10402d600>,\n",
       " 'exit': <IPython.core.autocall.ZMQExitAutocall at 0x103cb3d90>,\n",
       " 'get_ipython': <bound method ZMQInteractiveShell.get_ipython of <ipykernel.zmqshell.ZMQInteractiveShell object at 0x103c41c50>>,\n",
       " 'hand_stat': <class __main__.hand_stat at 0x10402d530>,\n",
       " 'playing_card': <class __main__.playing_card at 0x104029668>,\n",
       " 'pprint': <module 'pprint' from '/Users/GunnarK/anaconda/lib/python2.7/pprint.pyc'>,\n",
       " 'quit': <IPython.core.autocall.ZMQExitAutocall at 0x103cb3d90>,\n",
       " 'random': <module 'random' from '/Users/GunnarK/anaconda/lib/python2.7/random.pyc'>}"
      ]
     },
     "execution_count": 38,
     "metadata": {},
     "output_type": "execute_result"
    }
   ],
   "source": [
    "locals()\n"
   ]
  },
  {
   "cell_type": "code",
   "execution_count": 39,
   "metadata": {},
   "outputs": [
    {
     "data": {
      "text/plain": [
       "<__main__.playing_card instance at 0x10403ecb0>"
      ]
     },
     "execution_count": 39,
     "metadata": {},
     "output_type": "execute_result"
    }
   ],
   "source": [
    "Jk"
   ]
  },
  {
   "cell_type": "code",
   "execution_count": 40,
   "metadata": {},
   "outputs": [
    {
     "data": {
      "text/plain": [
       "'Diamond'"
      ]
     },
     "execution_count": 40,
     "metadata": {},
     "output_type": "execute_result"
    }
   ],
   "source": [
    "Kd.rank"
   ]
  },
  {
   "cell_type": "code",
   "execution_count": 41,
   "metadata": {},
   "outputs": [
    {
     "name": "stdout",
     "output_type": "stream",
     "text": [
      "[<__main__.playing_card instance at 0x104022518>, <__main__.playing_card instance at 0x1040223b0>, <__main__.playing_card instance at 0x104022950>, <__main__.playing_card instance at 0x1040224d0>, <__main__.playing_card instance at 0x103ad2b48>, <__main__.playing_card instance at 0x103b2add0>, <__main__.playing_card instance at 0x103b2abd8>, <__main__.playing_card instance at 0x103b2aa28>, <__main__.playing_card instance at 0x103b2ad88>, <__main__.playing_card instance at 0x103b2ae60>, <__main__.playing_card instance at 0x103b2aea8>, <__main__.playing_card instance at 0x103ad6f80>, <__main__.playing_card instance at 0x103ad65a8>, <__main__.playing_card instance at 0x103fc2200>, <__main__.playing_card instance at 0x103fc28c0>, <__main__.playing_card instance at 0x10401a050>, <__main__.playing_card instance at 0x10401a200>, <__main__.playing_card instance at 0x10401a440>, <__main__.playing_card instance at 0x10401a3f8>, <__main__.playing_card instance at 0x10401acf8>, <__main__.playing_card instance at 0x10401aef0>, <__main__.playing_card instance at 0x10401aea8>, <__main__.playing_card instance at 0x10401af80>, <__main__.playing_card instance at 0x10401a290>, <__main__.playing_card instance at 0x10401af38>, <__main__.playing_card instance at 0x10403c950>, <__main__.playing_card instance at 0x10403c320>, <__main__.playing_card instance at 0x10403cd40>, <__main__.playing_card instance at 0x10403cb90>, <__main__.playing_card instance at 0x10403c638>, <__main__.playing_card instance at 0x10403c5f0>, <__main__.playing_card instance at 0x10403c5a8>, <__main__.playing_card instance at 0x10403c560>, <__main__.playing_card instance at 0x10403c518>, <__main__.playing_card instance at 0x10403c4d0>, <__main__.playing_card instance at 0x10403c488>, <__main__.playing_card instance at 0x10403c440>, <__main__.playing_card instance at 0x10403c3b0>, <__main__.playing_card instance at 0x10403c368>, <__main__.playing_card instance at 0x10403c830>, <__main__.playing_card instance at 0x10403c680>, <__main__.playing_card instance at 0x10403cfc8>, <__main__.playing_card instance at 0x10403c758>, <__main__.playing_card instance at 0x10403c248>, <__main__.playing_card instance at 0x10403cf80>, <__main__.playing_card instance at 0x10403c050>, <__main__.playing_card instance at 0x10403c098>, <__main__.playing_card instance at 0x10403c0e0>, <__main__.playing_card instance at 0x10403c128>, <__main__.playing_card instance at 0x10403c170>, <__main__.playing_card instance at 0x10403c1b8>, <__main__.playing_card instance at 0x10403c200>]\n"
     ]
    }
   ],
   "source": [
    "d1=deck()"
   ]
  },
  {
   "cell_type": "code",
   "execution_count": 42,
   "metadata": {},
   "outputs": [
    {
     "data": {
      "text/plain": [
       "[('heart', '2'),\n",
       " ('Diamond', '2'),\n",
       " ('spade', '2'),\n",
       " ('club', '2'),\n",
       " ('heart', '3')]"
      ]
     },
     "execution_count": 42,
     "metadata": {},
     "output_type": "execute_result"
    }
   ],
   "source": [
    "d1.deal_card(5)"
   ]
  },
  {
   "cell_type": "code",
   "execution_count": 43,
   "metadata": {},
   "outputs": [
    {
     "data": {
      "text/plain": [
       "[('heart', '3'),\n",
       " ('Diamond', '3'),\n",
       " ('spade', '3'),\n",
       " ('club', '3'),\n",
       " ('heart', '4'),\n",
       " ('Diamond', '4'),\n",
       " ('spade', '4'),\n",
       " ('club', '4'),\n",
       " ('heart', '5'),\n",
       " ('Diamond', '5'),\n",
       " ('spade', '5'),\n",
       " ('club', '5'),\n",
       " ('heart', '6'),\n",
       " ('Diamond', '6'),\n",
       " ('spade', '6'),\n",
       " ('club', '6'),\n",
       " ('heart', '7'),\n",
       " ('Diamond', '7'),\n",
       " ('spade', '7'),\n",
       " ('club', '7'),\n",
       " ('heart', '8'),\n",
       " ('Diamond', '8'),\n",
       " ('spade', '8'),\n",
       " ('club', '8'),\n",
       " ('heart', '9'),\n",
       " ('Diamond', '9'),\n",
       " ('spade', '9'),\n",
       " ('club', '9'),\n",
       " ('heart', '10'),\n",
       " ('Diamond', '10')]"
      ]
     },
     "execution_count": 43,
     "metadata": {},
     "output_type": "execute_result"
    }
   ],
   "source": [
    "d1.deal_card(30)"
   ]
  },
  {
   "cell_type": "code",
   "execution_count": 44,
   "metadata": {},
   "outputs": [
    {
     "name": "stdout",
     "output_type": "stream",
     "text": [
      "[<__main__.playing_card instance at 0x10403c4d0>, <__main__.playing_card instance at 0x10403c758>, <__main__.playing_card instance at 0x10403c1b8>, <__main__.playing_card instance at 0x10403c440>, <__main__.playing_card instance at 0x10403c170>, <__main__.playing_card instance at 0x10403c200>, <__main__.playing_card instance at 0x10403c368>, <__main__.playing_card instance at 0x10403c050>, <__main__.playing_card instance at 0x10403c128>, <__main__.playing_card instance at 0x10403c0e0>, <__main__.playing_card instance at 0x10403c3b0>, <__main__.playing_card instance at 0x10403cfc8>, <__main__.playing_card instance at 0x10403c248>, <__main__.playing_card instance at 0x10403c518>, <__main__.playing_card instance at 0x10403c680>, <__main__.playing_card instance at 0x10403c830>, <__main__.playing_card instance at 0x10403c488>, <__main__.playing_card instance at 0x10403c098>, <__main__.playing_card instance at 0x10403cf80>]\n"
     ]
    }
   ],
   "source": [
    "d1.shuffle_deck()"
   ]
  },
  {
   "cell_type": "code",
   "execution_count": 45,
   "metadata": {},
   "outputs": [
    {
     "data": {
      "text/plain": [
       "[('spade', '10'),\n",
       " ('spade', 'Q'),\n",
       " ('spade', 'A'),\n",
       " ('heart', 'J'),\n",
       " ('Diamond', 'A'),\n",
       " ('club', 'A'),\n",
       " ('spade', 'J'),\n",
       " ('Diamond', 'K'),\n",
       " ('heart', 'A'),\n",
       " ('club', 'K'),\n",
       " ('Diamond', 'J'),\n",
       " ('Diamond', 'Q'),\n",
       " ('club', 'Q'),\n",
       " ('Diamond', '10'),\n",
       " ('heart', 'Q')]"
      ]
     },
     "execution_count": 45,
     "metadata": {},
     "output_type": "execute_result"
    }
   ],
   "source": [
    "d1.deal_card(15)"
   ]
  },
  {
   "cell_type": "code",
   "execution_count": 46,
   "metadata": {},
   "outputs": [
    {
     "name": "stdout",
     "output_type": "stream",
     "text": [
      "[<__main__.playing_card instance at 0x10403c098>, <__main__.playing_card instance at 0x10403c488>, <__main__.playing_card instance at 0x10403c680>, <__main__.playing_card instance at 0x10403c830>, <__main__.playing_card instance at 0x10403cf80>]\n"
     ]
    }
   ],
   "source": [
    "d1.shuffle_deck()"
   ]
  },
  {
   "cell_type": "code",
   "execution_count": null,
   "metadata": {
    "collapsed": true
   },
   "outputs": [],
   "source": []
  }
 ],
 "metadata": {
  "kernelspec": {
   "display_name": "Python 2",
   "language": "python",
   "name": "python2"
  },
  "language_info": {
   "codemirror_mode": {
    "name": "ipython",
    "version": 2
   },
   "file_extension": ".py",
   "mimetype": "text/x-python",
   "name": "python",
   "nbconvert_exporter": "python",
   "pygments_lexer": "ipython2",
   "version": "2.7.14"
  },
  "widgets": {
   "state": {},
   "version": "1.1.2"
  }
 },
 "nbformat": 4,
 "nbformat_minor": 1
}
