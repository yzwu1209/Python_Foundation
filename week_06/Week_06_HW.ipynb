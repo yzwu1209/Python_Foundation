{
 "cells": [
  {
   "cell_type": "markdown",
   "metadata": {
    "deletable": false,
    "editable": false,
    "nbgrader": {
     "checksum": "8408173e9717a398c6856d96adc6c2e4",
     "grade": false,
     "grade_id": "cell-6d8cdb4d261f4009",
     "locked": true,
     "schema_version": 1,
     "solution": false
    }
   },
   "source": [
    "## Week 6 Assignment - W200 Python for Data Science, UC Berkeley MIDS\n",
    "\n",
    "Write code in this Jupyter Notebook to solve each of the following problems. Each problem should have its solution in a separate cell. Please upload this **notebook**, your **scrabble.py** file, the **sowpods.txt** file, and your **score_word** module to your GitHub repository in your SUBMISSIONS/week_06 folder by 11:59PM PST the night before class."
   ]
  },
  {
   "cell_type": "markdown",
   "metadata": {
    "deletable": false,
    "editable": false,
    "nbgrader": {
     "checksum": "264b353c2fc9950602495e0bea1f3a2d",
     "grade": false,
     "grade_id": "cell-1ce5f6472d951780",
     "locked": true,
     "schema_version": 1,
     "solution": false
    }
   },
   "source": [
    "## Objectives:\n",
    "\n",
    "- Read and understand PEP 8 standards\n",
    "- Use all of your previously gained knowledge together on a single program\n",
    "- Demonstrate how to import a user made module and function into python from another .py file\n",
    "- Demonstrate how to input command line arguments into a .py file"
   ]
  },
  {
   "cell_type": "markdown",
   "metadata": {
    "deletable": false,
    "editable": false,
    "nbgrader": {
     "checksum": "18264a87edfa80066bbb674b230f8bed",
     "grade": false,
     "grade_id": "cell-00008b61981ee041",
     "locked": true,
     "schema_version": 1,
     "solution": false
    }
   },
   "source": [
    "## 6-1. PEP 8 Style Guide (reading and response)\n",
    "\n",
    "Your first task for this week is to write a **250 word reading response** to the article referenced below. In addition, please list **3 questions** that you have from the article. Please write your response in the markdown cell below.\n",
    "\n",
    "The writing response is a free response, so you may write about your reactions, such as an interesting thing that you saw in the article, something that really stuck out to you, etc.\n",
    "\n",
    "**Article**: [The PEP 8 Style Guide](https://www.python.org/dev/peps/pep-0008). This document is really important for Python coders because it describes best practices and customs.\n"
   ]
  },
  {
   "cell_type": "markdown",
   "metadata": {
    "deletable": false,
    "nbgrader": {
     "checksum": "8cf1e0fcb247eddcaad7b239e9152c6d",
     "grade": true,
     "grade_id": "cell-eaae902b022d20da",
     "locked": false,
     "points": 10,
     "schema_version": 1,
     "solution": true
    }
   },
   "source": [
    "YOUR ANSWER HERE"
   ]
  },
  {
   "cell_type": "markdown",
   "metadata": {
    "collapsed": true,
    "deletable": false,
    "editable": false,
    "nbgrader": {
     "checksum": "0a3d09e0b8b3b63ffdc4aff603be8690",
     "grade": false,
     "grade_id": "cell-b8aa7fa341f74332",
     "locked": true,
     "schema_version": 1,
     "solution": false
    }
   },
   "source": [
    "## 6-2. Cheating at Scrabble\n",
    "\n",
    "Write a Python program that takes a Scrabble rack as a command-line argument and prints all valid Scrabble words that can be constructed from that rack, along with their Scrabble scores, sorted by score. Valid Scrabble words are provided in the data source below. A Scrabble rack is made up of 2 to 7 characters.\n",
    "\n",
    "Below are the requirements for the program:\n",
    "- This needs to be able to be run as a command line tool as shown below (not an input statement!)\n",
    "- Name the python file: `scrabble.py`\n",
    "- Include a function called `score_word` in a separate module. Import this function into your main solution code\n",
    "- Allow anywhere from 2-7 character tiles (letters A-Z) to be inputted \n",
    "- Do not restrict the number of same tiles (e.g., a user is allowed to input ZZZZZQQ)\n",
    "- Output the **total** list of valid Scrabble words that can be constructed from the rack as (score, word) tuples, sorted by score as shown below\n",
    "- Then output 'Total number of words:' and the total number\n",
    "- You need to handle input errors from the user and suggest what that error might be caused by and how to fix it (i.e., a helpful error message)\n",
    "- Implement wildcards as either `*` or `?`. A wildcard character can take any value A-Z. There can be a total of **only** two wild cards in any user input (that is, one of each character: one `*` and one `?`). Only use the `*` and `?` as wildcard characters.\n",
    "- Wildcard characters are scored as 0 points, just like in the real Scrabble game\n",
    "- Your program should take less than two minutes to run with 2 wildcards in the input - if it takes more time than that then your algorithm is not optimized very well!\n",
    "- Write docstrings for the functions and puts comments in your code.\n",
    "- You should only use the Python standard library in this assignment.  However, any function in the standard library is allowed.\n",
    "\n",
    "Extra Credit (+10 points):\n",
    "Allow a user to specify that a certain letter has to be at a certain location. Your program must work without it so this is completely optional. For the extra credit, locations of certain letters must be specified at the command line, and may not be some sort of user prompt.  Please put comments and a sample of how to run your extra credit in the extra credit cell of this notebook below - it is the last cell.\n",
    "\n",
    "An example invocation and output:\n",
    "```\n",
    "$ python scrabble.py ZAEFIEE\n",
    "(17, feeze)\n",
    "(17, feaze)\n",
    "(16, faze)\n",
    "(15, fiz)\n",
    "(15, fez)\n",
    "(12, zee)\n",
    "(12, zea)\n",
    "(11, za)\n",
    "(6, fie)\n",
    "(6, fee)\n",
    "(6, fae)\n",
    "(5, if)\n",
    "(5, fe)\n",
    "(5, fa)\n",
    "(5, ef)\n",
    "(2, ee)\n",
    "(2, ea)\n",
    "(2, ai)\n",
    "(2, ae)\n",
    "Total number of words: 19\n",
    "```\n",
    "\n",
    "The Data\n",
    "\n",
    "http://courses.cms.caltech.edu/cs11/material/advjava/lab1/sowpods.zip contains all words in the official SOWPODS word list, one word per line. You should download the word file and keep it in your repository so that the program is standalone (instead of accessing it over the web from Python).\n",
    "\n",
    "You can read data from a text file with the following code:\n",
    "\n",
    "```\n",
    "with open(\"sowpods.txt\",\"r\") as infile:\n",
    "    raw_input = infile.readlines()\n",
    "    data = [datum.strip('\\n') for datum in raw_input]\n",
    "```\n",
    "This will show the first 6 words:\n",
    "```\n",
    "print(data[0:6])\n",
    "```\n",
    "\n",
    "Please use the dictionary below containing the letters and their Scrabble values:\n",
    "\n",
    "```\n",
    "scores = {\"a\": 1, \"c\": 3, \"b\": 3, \"e\": 1, \"d\": 2, \"g\": 2,\n",
    "         \"f\": 4, \"i\": 1, \"h\": 4, \"k\": 5, \"j\": 8, \"m\": 3,\n",
    "         \"l\": 1, \"o\": 1, \"n\": 1, \"q\": 10, \"p\": 3, \"s\": 1,\n",
    "         \"r\": 1, \"u\": 1, \"t\": 1, \"w\": 4, \"v\": 4, \"y\": 4,\n",
    "         \"x\": 8, \"z\": 10}\n",
    "```\n",
    "\n",
    "Tips:\n",
    "- If you don't know what \"scrabble\" is or the basic background of the game please look it up online!\n",
    "- We recommend that you try to break down the problem into steps on your own before writing any code. Once you've scoped generally what you want to do, then start writing some code.  If you get stuck, go back to thinking about the problem rather than trying to fix lots of errors at the code level.\n",
    "- If you keep getting stuck, then check out: https://openhatch.org/wiki/Scrabble_challenge. This is where we got the idea for this assignment and it provides some helpful tips for guiding you along the way.  However, we would recommend that you try to implement this first before looking at the hints on the website.\n",
    "\n",
    "Good luck!"
   ]
  },
  {
   "cell_type": "markdown",
   "metadata": {
    "deletable": false,
    "editable": false,
    "nbgrader": {
     "checksum": "3491807f5936ee993d0a6f7ea761e2fe",
     "grade": false,
     "grade_id": "cell-d5a08eb52a6c9895",
     "locked": true,
     "schema_version": 1,
     "solution": false
    }
   },
   "source": [
    "### The code below will test your command line implementation of the scrabble.py code. We've made some of these tests available for you to try!"
   ]
  },
  {
   "cell_type": "code",
   "execution_count": null,
   "metadata": {},
   "outputs": [],
   "source": [
    "# Code for the testing\n",
    "\n",
    "import subprocess\n",
    "from nose.tools import assert_equal \n",
    "from nose.tools import assert_true\n",
    "from nose.tools import assert_greater\n",
    "from nose.tools import assert_less"
   ]
  },
  {
   "cell_type": "code",
   "execution_count": null,
   "metadata": {},
   "outputs": [],
   "source": [
    "\"\"\" Code runs and can produce at least one error message \"\"\"\n",
    "\n",
    "# no rack error\n",
    "!python scrabble.py  "
   ]
  },
  {
   "cell_type": "code",
   "execution_count": null,
   "metadata": {},
   "outputs": [],
   "source": [
    "\"\"\" Does not fail due to trivial mistakes and takes correct wildcard characters \"\"\"\n",
    "\n",
    "# does not fail due to case\n",
    "!python scrabble.py \"PENguin\"\n",
    "\n",
    "# takes wildcards\n",
    "!python scrabble.py \"PEN*?in\"\n"
   ]
  },
  {
   "cell_type": "code",
   "execution_count": null,
   "metadata": {},
   "outputs": [],
   "source": [
    "\"\"\" Produces a list of all words and scores that matches our expectations \"\"\"\n",
    "\n",
    "# test whether your output matches our expectation\n",
    "cmd = ['python', 'scrabble.py', 'Penguin']\n",
    "test = bytes.decode(subprocess.Popen(cmd, stdout=subprocess.PIPE).communicate()[0])\n",
    "solution = '(10, penguin)\\r\\n(9, pening)\\r\\n(8, unpeg)\\r\\n(8, genip)\\r\\n(7, unpin)\\r\\n(7, unpen)\\r\\n(7, pung)\\r\\n(7, ping)\\r\\n(7, penni)\\r\\n(7, ingenu)\\r\\n(6, pug)\\r\\n(6, pine)\\r\\n(6, pig)\\r\\n(6, peni)\\r\\n(6, pein)\\r\\n(6, peg)\\r\\n(6, gup)\\r\\n(6, gip)\\r\\n(5, pun)\\r\\n(5, piu)\\r\\n(5, pin)\\r\\n(5, pie)\\r\\n(5, pen)\\r\\n(5, nip)\\r\\n(5, nep)\\r\\n(5, ginn)\\r\\n(5, gien)\\r\\n(5, genu)\\r\\n(5, ennui)\\r\\n(4, up)\\r\\n(4, pi)\\r\\n(4, pe)\\r\\n(4, nine)\\r\\n(4, neg)\\r\\n(4, gun)\\r\\n(4, gue)\\r\\n(4, gnu)\\r\\n(4, gin)\\r\\n(4, gie)\\r\\n(4, gen)\\r\\n(4, eng)\\r\\n(3, uni)\\r\\n(3, ug)\\r\\n(3, nun)\\r\\n(3, nie)\\r\\n(3, inn)\\r\\n(3, gu)\\r\\n(3, gi)\\r\\n(2, un)\\r\\n(2, nu)\\r\\n(2, ne)\\r\\n(2, in)\\r\\n(2, en)\\r\\nTotal number of words: 53\\r\\n'\n",
    "\n",
    "print(\"\\nDoes your output match our expectation?\", test == solution)"
   ]
  },
  {
   "cell_type": "code",
   "execution_count": null,
   "metadata": {
    "deletable": false,
    "editable": false,
    "nbgrader": {
     "checksum": "b9543f9b178bf170368b0b51eedd11f7",
     "grade": true,
     "grade_id": "cell-ceab3d4433043319",
     "locked": true,
     "points": 10,
     "schema_version": 1,
     "solution": false
    }
   },
   "outputs": [],
   "source": [
    "\"\"\" The code should run in seconds to two minutes \"\"\"\n",
    "\n",
    "import time\n",
    "start = time.time()\n",
    "\n",
    "#test the code in the command line\n",
    "cmd = ['python', 'scrabble.py', 'PENGU*?']\n",
    "out = bytes.decode(subprocess.Popen(cmd, stdout=subprocess.PIPE).communicate()[0])\n",
    "\n",
    "tot_time = time.time() - start\n",
    "print('Total time was {} seconds'.format(tot_time))\n",
    "assert_less(tot_time, 120)"
   ]
  },
  {
   "cell_type": "code",
   "execution_count": null,
   "metadata": {
    "deletable": false,
    "editable": false,
    "nbgrader": {
     "checksum": "a4788c3f51e2adb0188a2fc81ee9d738",
     "grade": true,
     "grade_id": "cell-7c027ce8309adb3d",
     "locked": true,
     "points": 3,
     "schema_version": 1,
     "solution": false
    }
   },
   "outputs": [],
   "source": [
    "# Autograding test"
   ]
  },
  {
   "cell_type": "code",
   "execution_count": null,
   "metadata": {
    "deletable": false,
    "editable": false,
    "nbgrader": {
     "checksum": "871b8f9a784652d2ea69be1d72776e66",
     "grade": true,
     "grade_id": "cell-50add00e9627b5ac",
     "locked": true,
     "points": 3,
     "schema_version": 1,
     "solution": false
    }
   },
   "outputs": [],
   "source": [
    "# Autograding test"
   ]
  },
  {
   "cell_type": "code",
   "execution_count": null,
   "metadata": {
    "deletable": false,
    "editable": false,
    "nbgrader": {
     "checksum": "f2d8accae95ddc72bbf0d48980b4173f",
     "grade": true,
     "grade_id": "cell-bab1478c7cd4a7f2",
     "locked": true,
     "points": 3,
     "schema_version": 1,
     "solution": false
    }
   },
   "outputs": [],
   "source": [
    "# Autograding test"
   ]
  },
  {
   "cell_type": "code",
   "execution_count": null,
   "metadata": {
    "deletable": false,
    "editable": false,
    "nbgrader": {
     "checksum": "b380a4fce2241646a6d0292c9b65c0a4",
     "grade": true,
     "grade_id": "cell-eb305c64cbf12b26",
     "locked": true,
     "points": 5,
     "schema_version": 1,
     "solution": false
    }
   },
   "outputs": [],
   "source": [
    "# Autograding test"
   ]
  },
  {
   "cell_type": "code",
   "execution_count": null,
   "metadata": {
    "deletable": false,
    "editable": false,
    "nbgrader": {
     "checksum": "eaa0b44e7b7cba7f41e26e4a7e7cfbe4",
     "grade": true,
     "grade_id": "cell-bb7a872eda80e6a5",
     "locked": true,
     "points": 5,
     "schema_version": 1,
     "solution": false
    }
   },
   "outputs": [],
   "source": [
    "# Autograding test"
   ]
  },
  {
   "cell_type": "code",
   "execution_count": null,
   "metadata": {
    "deletable": false,
    "editable": false,
    "nbgrader": {
     "checksum": "cc1627a58224e9150742e56e0393ddd5",
     "grade": true,
     "grade_id": "cell-8d2de0735f148301",
     "locked": true,
     "points": 5,
     "schema_version": 1,
     "solution": false
    }
   },
   "outputs": [],
   "source": [
    "# Autograding test"
   ]
  },
  {
   "cell_type": "code",
   "execution_count": null,
   "metadata": {
    "deletable": false,
    "editable": false,
    "nbgrader": {
     "checksum": "cc033c559d20ff26252eaf6afc3d9035",
     "grade": true,
     "grade_id": "cell-16d4589caf032f51",
     "locked": true,
     "points": 5,
     "schema_version": 1,
     "solution": false
    }
   },
   "outputs": [],
   "source": [
    "# Autograding test"
   ]
  },
  {
   "cell_type": "code",
   "execution_count": null,
   "metadata": {
    "deletable": false,
    "nbgrader": {
     "checksum": "fe3e0ad8a986c6a39ef4be5e62eab956",
     "grade": true,
     "grade_id": "cell-157fccf420d13535",
     "locked": false,
     "points": 10,
     "schema_version": 1,
     "solution": true
    }
   },
   "outputs": [],
   "source": [
    "\"\"\"Implement extra credit call run the code here\n",
    "   If this cell isnt filled out - we'll assume the extra credit wasn't done\n",
    "   Please write a comment on how to use your extra credit syntax also!\n",
    "\"\"\"\n",
    "\n",
    "# YOUR CODE HERE"
   ]
  },
  {
   "cell_type": "markdown",
   "metadata": {
    "deletable": false,
    "editable": false,
    "nbgrader": {
     "checksum": "5fe2b8a31e32e1ebc9bcbfbd85dffb91",
     "grade": false,
     "grade_id": "cell-23671d4910b2b329",
     "locked": true,
     "schema_version": 1,
     "solution": false
    }
   },
   "source": [
    "## If you have feedback for this homework, please submit it using the link below:\n",
    "\n",
    "http://goo.gl/forms/74yCiQTf6k"
   ]
  }
 ],
 "metadata": {
  "anaconda-cloud": {},
  "kernelspec": {
   "display_name": "Python 3",
   "language": "python",
   "name": "python3"
  },
  "language_info": {
   "codemirror_mode": {
    "name": "ipython",
    "version": 3
   },
   "file_extension": ".py",
   "mimetype": "text/x-python",
   "name": "python",
   "nbconvert_exporter": "python",
   "pygments_lexer": "ipython3",
   "version": "3.6.6"
  }
 },
 "nbformat": 4,
 "nbformat_minor": 1
}
