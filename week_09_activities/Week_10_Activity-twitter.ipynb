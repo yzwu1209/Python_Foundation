{
 "cells": [
  {
   "cell_type": "markdown",
   "metadata": {},
   "source": [
    "# Unit 9 string parsing - Twitter - Breakout Activities"
   ]
  },
  {
   "cell_type": "markdown",
   "metadata": {},
   "source": [
    "## Parsing dates from Twitter data\n",
    "\n",
    "Use curl to download the file and store it as twitter.json\n",
    "\n",
    "https://gist.githubusercontent.com/hrp/900964/raw/2bbee4c296e6b54877b537144be89f19beff75f4/twitter.json\n",
    "\n",
    "*If curl does not work on your system, we will provide the file for download*\n",
    "\n",
    "** hint: Use the command line to call curl (cURL) and store the file\n",
    "\n",
    "** remember use \"!\" to make command line calls from a notebook\n"
   ]
  },
  {
   "cell_type": "code",
   "execution_count": 9,
   "metadata": {},
   "outputs": [],
   "source": [
    "# write curl code here (you may need to look up how to use curl)"
   ]
  },
  {
   "cell_type": "markdown",
   "metadata": {},
   "source": [
    "Take a look at the twitter.json file.  Become familiar with the json fields and structure, since we will be pulling values from these fields."
   ]
  },
  {
   "cell_type": "code",
   "execution_count": 8,
   "metadata": {},
   "outputs": [],
   "source": [
    "# Now load the twitter.json as json into an object named tweet\n",
    "import json\n",
    "\n",
    "with open(\"twitter.json\") as f:\n",
    "    tweet = json.load(f)"
   ]
  },
  {
   "cell_type": "code",
   "execution_count": 3,
   "metadata": {},
   "outputs": [],
   "source": [
    "# explore the file here (HINT: try: tweet.keys(), "
   ]
  },
  {
   "cell_type": "code",
   "execution_count": null,
   "metadata": {
    "collapsed": true
   },
   "outputs": [],
   "source": [
    "# and here"
   ]
  },
  {
   "cell_type": "code",
   "execution_count": null,
   "metadata": {
    "collapsed": true
   },
   "outputs": [],
   "source": [
    "# and here"
   ]
  },
  {
   "cell_type": "markdown",
   "metadata": {},
   "source": [
    "### 2-1) Date Parsing\n",
    "We would like to break out when the tweet was created.  Use string formatting to print  the \"created_at\" field in the format below.\n",
    "\n",
    "\n",
    "Name of day: Sun <br>\n",
    "Month is: Apr <br>\n",
    "Day is: 03 <br>\n",
    "Time is: 23:48:36 <br>\n",
    "Year is: 2011"
   ]
  },
  {
   "cell_type": "code",
   "execution_count": null,
   "metadata": {
    "collapsed": true
   },
   "outputs": [],
   "source": []
  },
  {
   "cell_type": "markdown",
   "metadata": {},
   "source": [
    "### 2-2) Counting Friends\n",
    "\n",
    "Calculate the friends_count difference between the retweeting user and original tweet user. For the retweeting user, look in \"user\". For the original tweet user, look in \"retweeted_status_user.user\"\n",
    "\n",
    "* *TIP: normally you would have to dig into the documentation to understand the structure since (as you can see) the meaning of the keys are not very inituitive*"
   ]
  },
  {
   "cell_type": "code",
   "execution_count": 2,
   "metadata": {},
   "outputs": [],
   "source": [
    "# Hint this can be done in 3 lines, navigate the NESTED dictionary-like structure using .keys() to find the values\n",
    "\n",
    "#re_tweeter_ct=\n",
    "#orig_tweeter_ct=\n",
    "#print difference\n"
   ]
  },
  {
   "cell_type": "markdown",
   "metadata": {},
   "source": [
    "### 2-3) Text Analysis\n",
    "Write a comprehension to find which letters of the alphabet (if any) are not used in any of the tweet text words.  Look in the field \"text\". First print all the letters that are in the tweet.  Then print all the letters that are note."
   ]
  },
  {
   "cell_type": "code",
   "execution_count": null,
   "metadata": {
    "collapsed": true
   },
   "outputs": [],
   "source": []
  },
  {
   "cell_type": "markdown",
   "metadata": {},
   "source": [
    "### 2-4 Print the date out in three different human readable formats\n",
    "\n",
    "Please print the created_at date in three pretty formats, such as the following:\n",
    "\n",
    "    '03/04/11'<br>\n",
    "    'Sunday 03. April 2011'<br>\n",
    "    'The day is 03, the month is April.'<br>\n",
    "\n",
    "The documentation below can help, section 8.1.3 <br>\n",
    "https://docs.python.org/3.5/library/datetime.html"
   ]
  },
  {
   "cell_type": "code",
   "execution_count": null,
   "metadata": {
    "collapsed": true
   },
   "outputs": [],
   "source": [
    "from datetime import datetime, date, time\n",
    "\n",
    "struct_date = datetime.strptime(tweet['created_at'],'%a %b %d %H:%M:%S +0000 %Y')\n",
    "# just a print of all the date time values in the tuple\n",
    "struct_date.timetuple()"
   ]
  },
  {
   "cell_type": "code",
   "execution_count": null,
   "metadata": {
    "collapsed": true
   },
   "outputs": [],
   "source": [
    "# now using the struct_date, print the date out in three or more pretty formats\n",
    "# hint: check the docs and try: .format try:.strftime()"
   ]
  },
  {
   "cell_type": "code",
   "execution_count": null,
   "metadata": {
    "collapsed": true
   },
   "outputs": [],
   "source": []
  },
  {
   "cell_type": "code",
   "execution_count": null,
   "metadata": {
    "collapsed": true
   },
   "outputs": [],
   "source": []
  },
  {
   "cell_type": "code",
   "execution_count": null,
   "metadata": {
    "collapsed": true
   },
   "outputs": [],
   "source": []
  },
  {
   "cell_type": "code",
   "execution_count": null,
   "metadata": {
    "collapsed": true
   },
   "outputs": [],
   "source": []
  }
 ],
 "metadata": {
  "anaconda-cloud": {},
  "kernelspec": {
   "display_name": "Python 3",
   "language": "python",
   "name": "python3"
  },
  "language_info": {
   "codemirror_mode": {
    "name": "ipython",
    "version": 3
   },
   "file_extension": ".py",
   "mimetype": "text/x-python",
   "name": "python",
   "nbconvert_exporter": "python",
   "pygments_lexer": "ipython3",
   "version": "3.6.1"
  }
 },
 "nbformat": 4,
 "nbformat_minor": 1
}
