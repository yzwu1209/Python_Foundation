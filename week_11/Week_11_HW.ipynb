{
 "cells": [
  {
   "cell_type": "markdown",
   "metadata": {
    "deletable": false,
    "editable": false,
    "nbgrader": {
     "checksum": "7d7e8c4d53c2dde176ac3537dba5446d",
     "grade": false,
     "grade_id": "cell-4cc0ffd6a5810c6d",
     "locked": true,
     "schema_version": 1,
     "solution": false
    }
   },
   "source": [
    "## Week 11 Assignment - W200 Python Fundamentals for Data Science, UC Berkeley MIDS\n",
    "\n",
    "Write code in this Jupyter Notebook to solve the following problems. Please upload this **Notebook** with your solutions to your GitHub repository in your SUBMISSIONS/week_11 folder by 11:59PM PST the night before class."
   ]
  },
  {
   "cell_type": "markdown",
   "metadata": {
    "deletable": false,
    "editable": false,
    "nbgrader": {
     "checksum": "db0957d3d5bc4f6717eca78f9b678ed2",
     "grade": false,
     "grade_id": "cell-1f3ffd327d56ecbc",
     "locked": true,
     "schema_version": 1,
     "solution": false
    }
   },
   "source": [
    "This homework assignment is Week 11 which corresponds to the Unit #10 async. If you turn-in anything on ISVC please do so under the Week 11 Assignment category. (Apologies for the confusion)"
   ]
  },
  {
   "cell_type": "markdown",
   "metadata": {
    "deletable": false,
    "editable": false,
    "nbgrader": {
     "checksum": "7f0052ad03473b614447de2125e13819",
     "grade": false,
     "grade_id": "cell-c398835a920065f4",
     "locked": true,
     "schema_version": 1,
     "solution": false
    }
   },
   "source": [
    "## Objectives\n",
    "* Demonstrate use of map and filter commands\n",
    "* Practice list comprehensions and lambda functions\n",
    "* Understand different ways to manipulate and perform calculations on Numpy arrays including:\n",
    "* Changing datatypes, getting the max values in each column and row, calculating the mean of a matrix\n",
    "* Matrix value comparisons and slicing of values"
   ]
  },
  {
   "cell_type": "markdown",
   "metadata": {
    "deletable": false,
    "editable": false,
    "nbgrader": {
     "checksum": "8567ea813027ec2494a660c445e4a9f9",
     "grade": false,
     "grade_id": "cell-bc58b3da65c5de3c",
     "locked": true,
     "schema_version": 1,
     "solution": false
    }
   },
   "source": [
    "## General Guidelines:\n",
    "\n",
    "- All calculations need to be done in the functions (that includes any formatting of the output)\n",
    "- Name your functions exactly as written in the problem statement\n",
    "- Please have your functions return the answer rather than printing it inside the function\n",
    "- Do not make a separate input() statement.  The functions will be passed the input as shown in the examples\n",
    "- The examples given are samples of how we will test/grade your code. Please ensure your functions output the same information\n",
    "- Answer format is graded - please match the examples\n",
    "- Docstrings and comments in your code are strongly suggested but won't be graded\n",
    "- This homework is mostly auto-graded.  The blank code blocks are the auto-grading scripts - please do not delete these!\n",
    "- Your code needs to be written in the #Your Code Here blocks or it wont be graded correctly.\n"
   ]
  },
  {
   "cell_type": "code",
   "execution_count": null,
   "metadata": {
    "collapsed": true
   },
   "outputs": [],
   "source": [
    "import pandas as pd\n",
    "# Note: if you get 'no such module found' error, please run pip install pandas from your terminal"
   ]
  },
  {
   "cell_type": "markdown",
   "metadata": {
    "deletable": false,
    "editable": false,
    "nbgrader": {
     "checksum": "e0a19a81f37ee9e884b18e587ceec84d",
     "grade": false,
     "grade_id": "cell-855c75985f9edefd",
     "locked": true,
     "schema_version": 1,
     "solution": false
    }
   },
   "source": [
    "## 1. List, Mapping, Filtering, and Reducing Comprehensions\n",
    "\n",
    "A. Write a function that squares any number (integer or floating type values), reverses the content if it is a string, and returns None if it is another kind of value."
   ]
  },
  {
   "cell_type": "code",
   "execution_count": null,
   "metadata": {
    "collapsed": true,
    "deletable": false,
    "nbgrader": {
     "checksum": "c800c522783ac6b4ae7ad8037ba866b3",
     "grade": false,
     "grade_id": "cell-dfddd13006f81c36",
     "locked": false,
     "schema_version": 1,
     "solution": true
    }
   },
   "outputs": [],
   "source": [
    "def compute(value):\n",
    "    '''squares any number (integer or floating type values), \n",
    "    reverses the content if it is a string, and \n",
    "    returns None if it is another kind of value'''\n",
    "    # YOUR CODE HERE\n",
    "\n",
    "    "
   ]
  },
  {
   "cell_type": "code",
   "execution_count": null,
   "metadata": {
    "collapsed": true,
    "deletable": false,
    "editable": false,
    "nbgrader": {
     "checksum": "664c977cdf9f2f98d4d5c27dc926d0ff",
     "grade": true,
     "grade_id": "cell-88242cbaef2afe19",
     "locked": true,
     "points": 3,
     "schema_version": 1,
     "solution": false
    }
   },
   "outputs": [],
   "source": [
    "### Autograded cells. Do not remove."
   ]
  },
  {
   "cell_type": "code",
   "execution_count": null,
   "metadata": {
    "collapsed": true,
    "deletable": false,
    "editable": false,
    "nbgrader": {
     "checksum": "670f9f9fd3e9bb85697750831f221f3a",
     "grade": true,
     "grade_id": "cell-257a5430df922fd1",
     "locked": true,
     "points": 3,
     "schema_version": 1,
     "solution": false
    }
   },
   "outputs": [],
   "source": [
    "### Autograded cells. Do not remove."
   ]
  },
  {
   "cell_type": "code",
   "execution_count": null,
   "metadata": {
    "collapsed": true,
    "deletable": false,
    "editable": false,
    "nbgrader": {
     "checksum": "5d66dd9271941d96816ab8a3fc452163",
     "grade": true,
     "grade_id": "cell-90fd0a6f7ef73ec9",
     "locked": true,
     "points": 2,
     "schema_version": 1,
     "solution": false
    }
   },
   "outputs": [],
   "source": [
    "### Autograded cells. Do not remove."
   ]
  },
  {
   "cell_type": "markdown",
   "metadata": {
    "deletable": false,
    "editable": false,
    "nbgrader": {
     "checksum": "753d101b42762c066848b97e799f926f",
     "grade": false,
     "grade_id": "cell-0f13fa84ab6c1b52",
     "locked": true,
     "schema_version": 1,
     "solution": false
    }
   },
   "source": [
    "B. Now apply this function to a list of values using a list comprehension. Your function should be able to do this in ONE single line. \n",
    "\n",
    "Example function call: list_compute(['cup', '321', 12, ['x']])\n",
    "\n",
    "Expected output: \n",
    "\n",
    "['puc', '123', 144, None]\n"
   ]
  },
  {
   "cell_type": "code",
   "execution_count": null,
   "metadata": {
    "collapsed": true,
    "deletable": false,
    "nbgrader": {
     "checksum": "87c48996b88cc3773221b5e358a2b147",
     "grade": false,
     "grade_id": "cell-da6d422423b3c077",
     "locked": false,
     "schema_version": 1,
     "solution": true
    }
   },
   "outputs": [],
   "source": [
    "def list_compute(my_list):\n",
    "    # the solution should be written in one line\n",
    "    # YOUR CODE HERE\n"
   ]
  },
  {
   "cell_type": "code",
   "execution_count": null,
   "metadata": {
    "collapsed": true,
    "deletable": false,
    "editable": false,
    "nbgrader": {
     "checksum": "a9280db9bac2ae45654805fc39ce11a4",
     "grade": true,
     "grade_id": "cell-2664bfa811f05f4f",
     "locked": true,
     "points": 5,
     "schema_version": 1,
     "solution": false
    }
   },
   "outputs": [],
   "source": [
    "### Autograded cells. Do not remove."
   ]
  },
  {
   "cell_type": "markdown",
   "metadata": {
    "deletable": false,
    "editable": false,
    "nbgrader": {
     "checksum": "1ecd5a473d13741180eaf549a4c16acb",
     "grade": false,
     "grade_id": "cell-9e20909606598336",
     "locked": true,
     "schema_version": 1,
     "solution": false
    }
   },
   "source": [
    "C. Write a function to remove any integer values that are less than 5 in your result and return this result. You should be able to this in ONE single line.\n",
    "\n",
    "Example function call: list_compute(['cup', '321', 2, ['x'], 4])\n",
    "\n",
    "Expected output: \n",
    "\n",
    "['puc', '123', None, 16]\n",
    "\n",
    "* Step 1: Use map to apply compute function to your list\n",
    "* Step 2: Use filter to apply the above constraint to your output in step 1. You might want to refactor your filter logic in a separate function (it won't be counted against the single line constraint imposed above)\n"
   ]
  },
  {
   "cell_type": "code",
   "execution_count": null,
   "metadata": {
    "collapsed": true,
    "deletable": false,
    "nbgrader": {
     "checksum": "7beaac0ef2181d81c368cb88dcc06e60",
     "grade": false,
     "grade_id": "cell-66df364de55a24a3",
     "locked": false,
     "schema_version": 1,
     "solution": true
    }
   },
   "outputs": [],
   "source": [
    "def filtered_compute(my_list):\n",
    "    # the solution should be written in one line\n",
    "    # do not forget to return the computed value\n",
    "    # YOUR CODE HERE\n"
   ]
  },
  {
   "cell_type": "code",
   "execution_count": null,
   "metadata": {
    "collapsed": true,
    "deletable": false,
    "editable": false,
    "nbgrader": {
     "checksum": "266fcd80ded5fea4f911faa1c2a9aac8",
     "grade": true,
     "grade_id": "cell-4223e633a4ff1d77",
     "locked": true,
     "points": 4,
     "schema_version": 1,
     "solution": false
    }
   },
   "outputs": [],
   "source": [
    "### Autograded cells. Do not remove."
   ]
  },
  {
   "cell_type": "markdown",
   "metadata": {
    "deletable": false,
    "editable": false,
    "nbgrader": {
     "checksum": "b2bd74ffc53a0d31dfe85337a6f6b599",
     "grade": false,
     "grade_id": "cell-4f7277d7cf12a572",
     "locked": true,
     "schema_version": 1,
     "solution": false
    }
   },
   "source": [
    "D. Now that you are an expert in maps and filters, write the above logic in ONE line using lambdas, maps and filters i.e., you should not make any function calls in your code.  There should be one lambda for the map and one lambda for the filter."
   ]
  },
  {
   "cell_type": "code",
   "execution_count": null,
   "metadata": {
    "collapsed": true,
    "deletable": false,
    "nbgrader": {
     "checksum": "46826651ec45bfaab12c3d83eb715c9e",
     "grade": false,
     "grade_id": "cell-9c917cb0bb771ad9",
     "locked": false,
     "schema_version": 1,
     "solution": true
    }
   },
   "outputs": [],
   "source": [
    "def filtered_compute_pro(my_list):\n",
    "    # the solution should be written in one line with no additional functional calls\n",
    "    # do not forget to return the computed value\n",
    "    # YOUR CODE HERE\n"
   ]
  },
  {
   "cell_type": "code",
   "execution_count": null,
   "metadata": {
    "collapsed": true,
    "deletable": false,
    "editable": false,
    "nbgrader": {
     "checksum": "054591ba16433dfcb5bb5edd7e729956",
     "grade": true,
     "grade_id": "cell-6cf9e33c874af18a",
     "locked": true,
     "points": 2,
     "schema_version": 1,
     "solution": false
    }
   },
   "outputs": [],
   "source": [
    "### Autograded cells. Do not remove."
   ]
  },
  {
   "cell_type": "markdown",
   "metadata": {
    "deletable": false,
    "editable": false,
    "nbgrader": {
     "checksum": "4f793df078bb9bb8fa22c6c334aa3184",
     "grade": false,
     "grade_id": "cell-4fe5ba9f67aac0d8",
     "locked": true,
     "schema_version": 1,
     "solution": false
    }
   },
   "source": [
    "## 2. Generating Random Data and Filtering That Data\n",
    "In this next section, we will work with NumPy. Please run the two cells below to set your random seed. (This makes the 'randomness' of the array the same for everyone)"
   ]
  },
  {
   "cell_type": "code",
   "execution_count": null,
   "metadata": {
    "collapsed": true,
    "deletable": false,
    "editable": false,
    "nbgrader": {
     "checksum": "0b4fb0a957c9ffc89bb92c4e4ef6790f",
     "grade": false,
     "grade_id": "cell-2eef38fa43df4ac5",
     "locked": true,
     "schema_version": 1,
     "solution": false
    }
   },
   "outputs": [],
   "source": [
    "import numpy as np\n",
    "np.random.seed(25)\n",
    "ar = np.random.randn(1000)"
   ]
  },
  {
   "cell_type": "code",
   "execution_count": null,
   "metadata": {
    "collapsed": true,
    "deletable": false,
    "editable": false,
    "nbgrader": {
     "checksum": "d0fa76ea11fabcf0176c9703a31b1318",
     "grade": false,
     "grade_id": "cell-d091070fb4fa4d8e",
     "locked": true,
     "schema_version": 1,
     "solution": false
    }
   },
   "outputs": [],
   "source": [
    "\n",
    "# Do NOT change this code!\n",
    "ar = ar * 100\n",
    "ar = ar.astype('int8')\n",
    "ar"
   ]
  },
  {
   "cell_type": "code",
   "execution_count": null,
   "metadata": {
    "collapsed": true,
    "deletable": false,
    "editable": false,
    "nbgrader": {
     "checksum": "7a0289614b4ce068b19383f8ee06526c",
     "grade": true,
     "grade_id": "cell-122df6676e7ea0b4",
     "locked": true,
     "points": 0,
     "schema_version": 1,
     "solution": false
    }
   },
   "outputs": [],
   "source": [
    "## Autograded cells. Do not remove"
   ]
  },
  {
   "cell_type": "markdown",
   "metadata": {
    "deletable": false,
    "editable": false,
    "nbgrader": {
     "checksum": "1b735a8f5aac4d502ad0f9d64454cb62",
     "grade": false,
     "grade_id": "cell-20f89916d2da1dd6",
     "locked": true,
     "schema_version": 1,
     "solution": false
    }
   },
   "source": [
    "A. Write code that takes an array (of size 1000) and reshapes the array into a set of five columns with 200 rows. Replace the original ar array with this new matrix and return it "
   ]
  },
  {
   "cell_type": "code",
   "execution_count": null,
   "metadata": {
    "collapsed": true,
    "deletable": false,
    "nbgrader": {
     "checksum": "929edc639ca242b0cd374d38bea7a0cd",
     "grade": false,
     "grade_id": "cell-0d019784425900d3",
     "locked": false,
     "schema_version": 1,
     "solution": true
    }
   },
   "outputs": [],
   "source": [
    "def reshape(my_array):\n",
    "    # YOUR CODE HERE\n",
    "\n",
    "\n",
    "# Example:\n",
    "ar = reshape(ar)"
   ]
  },
  {
   "cell_type": "code",
   "execution_count": null,
   "metadata": {
    "collapsed": true,
    "deletable": false,
    "editable": false,
    "nbgrader": {
     "checksum": "9457067d003455cb56ca27387cf25b98",
     "grade": true,
     "grade_id": "cell-5ee412cb4b703023",
     "locked": true,
     "points": 4,
     "schema_version": 1,
     "solution": false
    }
   },
   "outputs": [],
   "source": [
    "### Autograded cells. Do not remove."
   ]
  },
  {
   "cell_type": "markdown",
   "metadata": {
    "deletable": false,
    "editable": false,
    "nbgrader": {
     "checksum": "afd118166ff388e71aa393f8ac971aa6",
     "grade": false,
     "grade_id": "cell-a32291f630413c09",
     "locked": true,
     "schema_version": 1,
     "solution": false
    }
   },
   "source": [
    "B. Now that `ar` is a matrix, let's get the maximum and minimum values from the matrix, row wise. Be sure to remember how many total values you should be outputting (one for every row). Your function should return a tuple of rowmax value list and rowmin value list (in that order). \n",
    "\n",
    "For example: if my_matrix is:\n",
    "\n",
    "```\n",
    "4 1 5\n",
    "5 7 6\n",
    "4 5 6\n",
    "```\n",
    "\n",
    "The returned value should be:\n",
    "\n",
    "([5,7,6], [1,5,4])\n"
   ]
  },
  {
   "cell_type": "code",
   "execution_count": null,
   "metadata": {
    "collapsed": true,
    "deletable": false,
    "nbgrader": {
     "checksum": "072fbc324bcb995e952473721b460796",
     "grade": false,
     "grade_id": "cell-b471db922002b45e",
     "locked": false,
     "schema_version": 1,
     "solution": true
    }
   },
   "outputs": [],
   "source": [
    "# my_matrix\n",
    "#    type: DataFrame\n",
    "# return type: tuple of lists (as shown above)\n",
    "def row_min_max(my_matrix):\n",
    "    # YOUR CODE HERE\n"
   ]
  },
  {
   "cell_type": "code",
   "execution_count": null,
   "metadata": {
    "collapsed": true,
    "deletable": false,
    "editable": false,
    "nbgrader": {
     "checksum": "802bd119cb967d81916b26de14f2d3e2",
     "grade": true,
     "grade_id": "cell-954080f6af7c07aa",
     "locked": true,
     "points": 4,
     "schema_version": 1,
     "solution": false
    }
   },
   "outputs": [],
   "source": [
    "### Autograded cells. Do not remove."
   ]
  },
  {
   "cell_type": "markdown",
   "metadata": {
    "deletable": false,
    "editable": false,
    "nbgrader": {
     "checksum": "10d286934a314f5b2ff47e58ab98d64e",
     "grade": false,
     "grade_id": "cell-7c427d8be0250ebb",
     "locked": true,
     "schema_version": 1,
     "solution": false
    }
   },
   "source": [
    "C. Write code that returns the total number of values in the `ar` matrix that are less than the mean (of all values in the matrix)? This should be a single number.\n"
   ]
  },
  {
   "cell_type": "code",
   "execution_count": null,
   "metadata": {
    "collapsed": true,
    "deletable": false,
    "nbgrader": {
     "checksum": "54fc915285cb686e1d669870ba7e0d76",
     "grade": false,
     "grade_id": "cell-94c5aa4964f3d1f2",
     "locked": false,
     "schema_version": 1,
     "solution": true
    }
   },
   "outputs": [],
   "source": [
    "# my_matrix\n",
    "#    type: DataFrame\n",
    "# return type: int\n",
    "def less_than_mean(my_matrix):\n",
    "    # YOUR CODE HERE\n",
    "\n",
    "    "
   ]
  },
  {
   "cell_type": "code",
   "execution_count": null,
   "metadata": {
    "collapsed": true,
    "deletable": false,
    "editable": false,
    "nbgrader": {
     "checksum": "2d4722e6e3114863b3eca60c49d6666d",
     "grade": true,
     "grade_id": "cell-68acd2e1a791ca95",
     "locked": true,
     "points": 4,
     "schema_version": 1,
     "solution": false
    }
   },
   "outputs": [],
   "source": [
    "### Autograded cells. Do not remove."
   ]
  },
  {
   "cell_type": "markdown",
   "metadata": {
    "deletable": false,
    "editable": false,
    "nbgrader": {
     "checksum": "443e6c5514c6f456bd73a0ab5288de58",
     "grade": false,
     "grade_id": "cell-6391ee7588430f0b",
     "locked": true,
     "schema_version": 1,
     "solution": false
    }
   },
   "source": [
    "D. Lastly, return the sum of all the values that are either greater than 100 or are less than 5 and greater than or equal to -20."
   ]
  },
  {
   "cell_type": "code",
   "execution_count": null,
   "metadata": {
    "collapsed": true,
    "deletable": false,
    "nbgrader": {
     "checksum": "659681a16da78f5132644a1818f48b2c",
     "grade": false,
     "grade_id": "cell-e4d8cc0f8b6aaaa7",
     "locked": false,
     "schema_version": 1,
     "solution": true
    }
   },
   "outputs": [],
   "source": [
    "# my_matrix\n",
    "#    type: DataFrame\n",
    "# return type: float\n",
    "def select_sum(my_matrix):\n",
    "    # YOUR CODE HERE\n",
    "\n"
   ]
  },
  {
   "cell_type": "code",
   "execution_count": null,
   "metadata": {
    "collapsed": true,
    "deletable": false,
    "editable": false,
    "nbgrader": {
     "checksum": "0a2666f0c17c3d052db455661a47042d",
     "grade": true,
     "grade_id": "cell-e39d29342e27b90c",
     "locked": true,
     "points": 4,
     "schema_version": 1,
     "solution": false
    }
   },
   "outputs": [],
   "source": [
    "### Autograded cells. Do not remove."
   ]
  },
  {
   "cell_type": "markdown",
   "metadata": {
    "deletable": false,
    "editable": false,
    "nbgrader": {
     "checksum": "36097178ce256f41f188c5adb6bcb357",
     "grade": false,
     "grade_id": "cell-3eafc252df099313",
     "locked": true,
     "schema_version": 1,
     "solution": false
    }
   },
   "source": [
    "## 3. Data loading and wrangling"
   ]
  },
  {
   "cell_type": "markdown",
   "metadata": {
    "deletable": false,
    "editable": false,
    "nbgrader": {
     "checksum": "7cb5762aba9b8260ff8edad87b75b17d",
     "grade": false,
     "grade_id": "cell-b1ae895eef6e2aed",
     "locked": true,
     "schema_version": 1,
     "solution": false
    }
   },
   "source": [
    "A. We will work with the airline safety dataset for this homework. \n",
    "As the first step, let's load the dataset from airline-safety.csv and output the following:\n",
    "1. The entire data frame\n",
    "2. Total number of samples\n",
    "3. Total number of columns"
   ]
  },
  {
   "cell_type": "code",
   "execution_count": null,
   "metadata": {
    "collapsed": true,
    "deletable": false,
    "nbgrader": {
     "checksum": "2237d876d12d13704328f6b6ce293764",
     "grade": false,
     "grade_id": "cell-ef6a22dec940a01a",
     "locked": false,
     "schema_version": 1,
     "solution": true
    }
   },
   "outputs": [],
   "source": [
    "def load_data():\n",
    "    # YOUR CODE HERE\n",
    "\n",
    "\n",
    "# Do not change this line\n",
    "df, size, num_cols = load_data()\n"
   ]
  },
  {
   "cell_type": "code",
   "execution_count": null,
   "metadata": {
    "collapsed": true,
    "deletable": false,
    "editable": false,
    "nbgrader": {
     "checksum": "d45dcf92fb1556c45c44b0d74f32105f",
     "grade": true,
     "grade_id": "cell-5512005b0518cb19",
     "locked": true,
     "points": 7,
     "schema_version": 1,
     "solution": false
    }
   },
   "outputs": [],
   "source": [
    "### Autograded cells. Do not remove."
   ]
  },
  {
   "cell_type": "markdown",
   "metadata": {
    "deletable": false,
    "editable": false,
    "nbgrader": {
     "checksum": "e3e7a5fb49a86b46cc0868fff99158af",
     "grade": false,
     "grade_id": "cell-274266303e7099d3",
     "locked": true,
     "schema_version": 1,
     "solution": false
    }
   },
   "source": [
    "B. Selecting data.\n",
    "Write code that returns the ith to jth airline name as a list (both inclusive) from the dataframe. \n",
    "\n",
    "For example: if i=2 and j=5, your code should return 4 airline names, i.e., airline name from the 3rd, 4th, 5th and 6th row (assuming that the first row starts from 0). \n",
    "Use loc functionality to achieve this. \n",
    "\n",
    "##### Note on loc and iloc\n",
    "\n",
    "Selection Using Label:\n",
    "\n",
    "To select a column of a DataFrame by column label, the safest and fastest way is to use the .loc method. General usage looks like frame.loc[rowname,colname]. (Reminder that the colon : means \"everything\"). For example, if we want the color column of a data frame, we would use : ex.loc[:, 'color']\n",
    "\n",
    "You can also slice across columns. For example, frame.loc[:, 'Name':] would give select the columns Name and the columns after.\n"
   ]
  },
  {
   "cell_type": "code",
   "execution_count": null,
   "metadata": {
    "collapsed": true,
    "deletable": false,
    "nbgrader": {
     "checksum": "e0c127421d1e95487b30036ad6cbbcf0",
     "grade": false,
     "grade_id": "cell-c7c0518e6cbd3979",
     "locked": false,
     "schema_version": 1,
     "solution": true
    }
   },
   "outputs": [],
   "source": [
    "# i and j are int values\n",
    "# return type should be a list\n",
    "def select_airlines(i, j):\n",
    "    # YOUR CODE HERE\n",
    "\n",
    "\n",
    "# Do not change this line\n",
    "sliced_df = select_airlines(2, 5)\n"
   ]
  },
  {
   "cell_type": "code",
   "execution_count": null,
   "metadata": {
    "collapsed": true,
    "deletable": false,
    "editable": false,
    "nbgrader": {
     "checksum": "e0df0c8249576b3f459986947e67771d",
     "grade": true,
     "grade_id": "cell-b16eb5d2ca860801",
     "locked": true,
     "points": 4,
     "schema_version": 1,
     "solution": false
    }
   },
   "outputs": [],
   "source": [
    "### Autograded cells. Do not remove."
   ]
  },
  {
   "cell_type": "markdown",
   "metadata": {
    "deletable": false,
    "editable": false,
    "nbgrader": {
     "checksum": "33de09097328078fa79ca8018cd008f4",
     "grade": false,
     "grade_id": "cell-c734a84d4bbfbfb2",
     "locked": true,
     "schema_version": 1,
     "solution": false
    }
   },
   "source": [
    "C. Filtering data.\n",
    "\n",
    "\n",
    "Filtering with boolean arrays\n",
    "\n",
    "Filtering is the process of removing unwanted material. In your quest for cleaner data, you will undoubtedly filter your data at some point: whether it be for clearing up cases with missing values, culling out fishy outliers, or analyzing subgroups of your data set. Note that compound expressions have to be grouped with parentheses. Example usage looks like df[df[column name] < 5]].\n",
    "\n",
    "Write code to filter airlines with more than 100 and less than 300 fatalities between years 85 and 99. Your code should return a list of airline names only"
   ]
  },
  {
   "cell_type": "code",
   "execution_count": null,
   "metadata": {
    "collapsed": true,
    "deletable": false,
    "nbgrader": {
     "checksum": "e51f51113c0d55123c0e86c3dee0c6bb",
     "grade": false,
     "grade_id": "cell-4b18133b2693dc16",
     "locked": false,
     "schema_version": 1,
     "solution": true
    }
   },
   "outputs": [],
   "source": [
    "def fatalities_filter():\n",
    "    # YOUR CODE HERE\n",
    "\n"
   ]
  },
  {
   "cell_type": "code",
   "execution_count": null,
   "metadata": {
    "collapsed": true,
    "deletable": false,
    "editable": false,
    "nbgrader": {
     "checksum": "0a7f3d5473aaa287c6acb887aedbf92c",
     "grade": true,
     "grade_id": "cell-1791d836b0f19870",
     "locked": true,
     "points": 4,
     "schema_version": 1,
     "solution": false
    }
   },
   "outputs": [],
   "source": [
    "### Autograded cells. Do not remove."
   ]
  },
  {
   "cell_type": "markdown",
   "metadata": {
    "deletable": false,
    "editable": false,
    "nbgrader": {
     "checksum": "bad0de3b400629d5db5cfae61133ef5e",
     "grade": false,
     "grade_id": "cell-e6c080c80504b5d1",
     "locked": true,
     "schema_version": 1,
     "solution": false
    }
   },
   "source": [
    "## If you have feedback for this homework, please submit it using the link below:\n",
    "\n",
    "http://goo.gl/forms/74yCiQTf6k"
   ]
  }
 ],
 "metadata": {
  "anaconda-cloud": {},
  "kernelspec": {
   "display_name": "Python 3",
   "language": "python",
   "name": "python3"
  },
  "language_info": {
   "codemirror_mode": {
    "name": "ipython",
    "version": 3
   },
   "file_extension": ".py",
   "mimetype": "text/x-python",
   "name": "python",
   "nbconvert_exporter": "python",
   "pygments_lexer": "ipython3",
   "version": "3.6.1"
  }
 },
 "nbformat": 4,
 "nbformat_minor": 1
}
