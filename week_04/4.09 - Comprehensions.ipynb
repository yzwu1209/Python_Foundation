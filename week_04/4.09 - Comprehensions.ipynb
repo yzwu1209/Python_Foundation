{
 "cells": [
  {
   "cell_type": "markdown",
   "metadata": {},
   "source": [
    "## Comprehensions\n",
    "\n",
    "Comprehensions are a way to create simple lists, dictionaries, and other objects in Python using a very compact syntax.  They are a rather unique feature of Python and are considered a very *Pythonic* way to accomplish these tasks.  Some programmers relish the chance to show off their python knowledge by forming comprehensions.\n",
    "\n",
    "Suppose you wanted to put the first 10 square numbers in a list.  You could use a `for` loop that appended these numbers to a list, one at a time."
   ]
  },
  {
   "cell_type": "code",
   "execution_count": 1,
   "metadata": {
    "collapsed": false
   },
   "outputs": [
    {
     "name": "stdout",
     "output_type": "stream",
     "text": [
      "[1, 4, 9, 16, 25, 36, 49, 64, 81, 100]\n"
     ]
    }
   ],
   "source": [
    "squares = []\n",
    "for i in range(1,11):\n",
    "    squares.append(i**2)\n",
    "print(squares)"
   ]
  },
  {
   "cell_type": "markdown",
   "metadata": {},
   "source": [
    "A list comprehension does the same feat in one simple line."
   ]
  },
  {
   "cell_type": "code",
   "execution_count": 2,
   "metadata": {
    "collapsed": false
   },
   "outputs": [
    {
     "data": {
      "text/plain": [
       "[1, 4, 9, 16, 25, 36, 49, 64, 81, 100]"
      ]
     },
     "execution_count": 2,
     "metadata": {},
     "output_type": "execute_result"
    }
   ],
   "source": [
    "[i**2 for i in range(1,11)]"
   ]
  },
  {
   "cell_type": "markdown",
   "metadata": {},
   "source": [
    "Notice that the comprehension contains an expression, followed by a `for` statement.  In fact, the `for` statement is exactly the same as the one above.  Python will iterate through the `for` loop and compute the expression for each iteration, placing the results into a list.\n",
    "\n",
    "Of course, you cannot create every possible list in this way--by evaluating an expression for each iteration of a loop. However, when it works, a comprehension gives you an elegant and expressive way of creating lists in your code.\n",
    "\n",
    "We can also use comprehensions to simulate nested `for` loops. In this example, we create a list of all possible coordinates in a grid."
   ]
  },
  {
   "cell_type": "code",
   "execution_count": 9,
   "metadata": {
    "collapsed": false
   },
   "outputs": [
    {
     "data": {
      "text/plain": [
       "[(0, 0),\n",
       " (0, 1),\n",
       " (0, 2),\n",
       " (0, 3),\n",
       " (1, 0),\n",
       " (1, 1),\n",
       " (1, 2),\n",
       " (1, 3),\n",
       " (2, 0),\n",
       " (2, 1),\n",
       " (2, 2),\n",
       " (2, 3),\n",
       " (3, 0),\n",
       " (3, 1),\n",
       " (3, 2),\n",
       " (3, 3)]"
      ]
     },
     "execution_count": 9,
     "metadata": {},
     "output_type": "execute_result"
    }
   ],
   "source": [
    "[(row, column) for row in range(4) for column in range(4)]"
   ]
  },
  {
   "cell_type": "markdown",
   "metadata": {},
   "source": [
    "Finally, we can add an `if` clause to a list comprehension.  When we do this, Python will only include items in the list for which the `if` condition is True.  In this example, we create a list of the unique letters found in a word, in alphabetical order."
   ]
  },
  {
   "cell_type": "code",
   "execution_count": 16,
   "metadata": {
    "collapsed": false
   },
   "outputs": [
    {
     "name": "stdout",
     "output_type": "stream",
     "text": [
      "Enter a word: William\n",
      "['a', 'i', 'l', 'm', 'w']\n"
     ]
    }
   ],
   "source": [
    "import string\n",
    "word = input(\"Enter a word: \").lower()\n",
    "letters = [a for a in string.ascii_lowercase if a in word]\n",
    "print(letters)"
   ]
  },
  {
   "cell_type": "markdown",
   "metadata": {},
   "source": [
    "Dictionary comprehensions are less common than list comprehensions, but let's take a look at just one example while we are on the topic. Suppose we want to store the number of times a letter appears in a word in a dictionary. We could use the following comprehension."
   ]
  },
  {
   "cell_type": "code",
   "execution_count": 17,
   "metadata": {
    "collapsed": false
   },
   "outputs": [
    {
     "name": "stdout",
     "output_type": "stream",
     "text": [
      "{'m': 1, 'x': 0, ' ': 0, 'i': 2, 't': 0, 's': 0, 'p': 0, 'l': 2, 'a': 1, 'r': 0, '.': 0, 'e': 0, 'o': 0, 'H': 0}\n"
     ]
    }
   ],
   "source": [
    "text = \"Here is some example text.\"\n",
    "frequencies = {letter : text.count(letter) for letter in text}\n",
    "print(frequencies)"
   ]
  },
  {
   "cell_type": "markdown",
   "metadata": {},
   "source": [
    "At first, comprehensions may seem awkward to use, but a little bit of practice will make them much more intuitive.  Once you get used to them, you may find that you enjoy crafting a compact comprehension to build the list you want to create."
   ]
  }
 ],
 "metadata": {
  "kernelspec": {
   "display_name": "Python 3",
   "language": "python",
   "name": "python3"
  },
  "language_info": {
   "codemirror_mode": {
    "name": "ipython",
    "version": 3
   },
   "file_extension": ".py",
   "mimetype": "text/x-python",
   "name": "python",
   "nbconvert_exporter": "python",
   "pygments_lexer": "ipython3",
   "version": "3.4.3"
  }
 },
 "nbformat": 4,
 "nbformat_minor": 0
}
