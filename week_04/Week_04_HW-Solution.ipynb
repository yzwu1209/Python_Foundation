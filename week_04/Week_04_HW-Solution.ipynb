{
 "cells": [
  {
   "cell_type": "markdown",
   "metadata": {},
   "source": [
    "## Week 4 Assignment - W200 Python Fundamentals for Data Science, UC Berkeley MIDS"
   ]
  },
  {
   "cell_type": "markdown",
   "metadata": {},
   "source": [
    "Write code in this jupyter Notebook to solve the following problems. Please upload this **Notebook** with your solutions to your GitHub repository in your SUBMISSIONS/week_04 folder by 11:59PM PST the night before class."
   ]
  },
  {
   "cell_type": "markdown",
   "metadata": {},
   "source": [
    "## Objectives:\n",
    "\n",
    "- More practice with for & while loops, if statements and gathering user inputs\n",
    "- Demonstrate use of Python list comprehensions.\n",
    "- Understand the pseudo-coding and algorithm complexities"
   ]
  },
  {
   "cell_type": "markdown",
   "metadata": {},
   "source": [
    "## General Guidelines:\n",
    "\n",
    "- In each code block please fill in the ### comment at the top of a cell with your name  for ease of grading\n",
    "- Limited user input validation and error checking is encouraged on this assignment. Each question below will indicate the type of input that you can expect. (for example, if the question states the input will be an integer, you can expect the user to input an integer and do not need to check to ensure it is an integer versus a float or a string)\n",
    "- Adding comments in your code is strongly suggested but won't be graded.\n",
    "- The examples given are samples of how we will test/grade your code. Please ensure your code outputs the same information."
   ]
  },
  {
   "cell_type": "markdown",
   "metadata": {},
   "source": [
    "## 4-1. Loops\n",
    "### 4-1-1. For Loops\n",
    "\n",
    "Write a script that prompts the user for two words (two, one-word strings).  Print all the **unique** letters that are common to both words, in alphabetical order, using **for** loops in your solution.\n",
    "\n",
    "For example:\n",
    "```\n",
    "Enter one word: Home\n",
    "Enter another word: meter\n",
    "\n",
    "Letters in common: em\n",
    "```"
   ]
  },
  {
   "cell_type": "code",
   "execution_count": 1,
   "metadata": {},
   "outputs": [
    {
     "name": "stdout",
     "output_type": "stream",
     "text": [
      "Enter one word: home\n",
      "Enter another word: meter\n",
      "\n",
      "Letters in common: em"
     ]
    }
   ],
   "source": [
    "word1 = input('Enter one word: ').lower()\n",
    "word2 = input('Enter another word: ').lower()\n",
    "\n",
    "# split the items into lists of unique characters on alphabetical order\n",
    "# note the use of set to get uniques and sorted (not sort)\n",
    "alphaLs1 = (set(word1))\n",
    "alphaLs2 = (set(word2))\n",
    "\n",
    "print(\"\\nLetters in common: \", end=\"\")\n",
    "\n",
    "# alternate 1\n",
    "#for letter in sorted(alphaLs1):\n",
    "#    if letter in alphaLs2: \n",
    "#        print (letter, end=\"\")\n",
    "\n",
    "\n",
    "# alternate 2 \n",
    "for letter in sorted(alphaLs1.intersection(alphaLs2)):\n",
    "    print (letter, end=\"\")"
   ]
  },
  {
   "cell_type": "markdown",
   "metadata": {},
   "source": [
    "### 4-1-2. A Game of Chess\n",
    "You place a pawn at the top left corner of an n-by-n chess board, labeled (0,0).  For each move, you have a choice: move the pawn down a single space, or move the pawn down one space and right one space.  That is, if the pawn is at position (i,j), you can move the pawn to (i+1,j) or (i+1, j+1).\n",
    "\n",
    "Ask the user for the size of a chessboard, n (**integer**).  Find the number of different paths **starting from (0,0)** that the pawn could take to reach each position on the chess board.  For example, there are two different paths the pawn can take to reach (2,1). Look at the diagrams below to convince yourself of this. You can see the four paths that you can take by move 2.\n",
    "\n",
    "   Start| Move 1   |Move 2\n",
    "\n",
    "  (0,0)  -> (1,0)   ->(2,1)\n",
    "  \n",
    "  (0,0)  -> (1,0)   ->(2,0)\n",
    "  \n",
    "  (0,0)  -> (1,1)   ->(2,1)\n",
    "  \n",
    "  (0,0)  -> (1,1)   ->(2,2)\n",
    "\n",
    "Print the board with the number of ways to reach each square labeled as shown below.\n",
    "\n",
    "For example:\n",
    "```\n",
    "Enter a board size: 4\n",
    "\n",
    "1 0 0 0\n",
    "1 1 0 0\n",
    "1 2 1 0\n",
    "1 3 3 1\n",
    "```\n",
    "\n",
    "#### Please create pseudocode for this problem in the first cell then implement your solution in the second cell."
   ]
  },
  {
   "cell_type": "code",
   "execution_count": 2,
   "metadata": {
    "collapsed": true
   },
   "outputs": [],
   "source": [
    "# Pseudocode Here\n",
    "\n",
    "# for a board that is i x j where i = j\n",
    "    # initialize a square array i x j with zeros    \n",
    "\n",
    "# place pawn at top right i=0, j=0 , such that array[0,0]=1\n",
    "\n",
    "# for each row 1 to j-1 (we leave out the last row because there is no where to go) \n",
    "# cycle through the colums\n",
    "    # take the value in the current row, col \n",
    "        # add it to the value in the next row same col (you can go one down (i+1))\n",
    "        # add it to the value in the next row next col (you can go one down and one over (i+1,j+1)"
   ]
  },
  {
   "cell_type": "code",
   "execution_count": 3,
   "metadata": {},
   "outputs": [
    {
     "name": "stdout",
     "output_type": "stream",
     "text": [
      "Enter a board size: 4\n",
      "1 0 0 0\n",
      "1 1 0 0\n",
      "1 2 1 0\n",
      "1 3 3 1\n"
     ]
    }
   ],
   "source": [
    "# Implementation using a list\n",
    "\n",
    "n = int(input(\"Enter a board size: \"))\n",
    "\n",
    "# intitalize the starting position and the rest to 0s\n",
    "arr = [[0 for x in range(n)] for y in range(n)]\n",
    "arr[0][0] = 1 \n",
    "\n",
    "# cycle down the rows\n",
    "for row in range(0,n-1): \n",
    "    \n",
    "    # cycle across columns filling in possible next moves\n",
    "    # note the last col will be special \n",
    "    # but with a square we don't get to the last col    \n",
    "    for col in range(0,n-1): # for each cell in column 1 \n",
    "        arr[row+1][col] = arr[row][col] + arr[row+1][col]  # one move down\n",
    "        arr[row+1][col+1]= arr[row][col] + arr[row+1][col+1] # one move down and one over\n",
    "        \n",
    "for row in arr:\n",
    "    print(*row)"
   ]
  },
  {
   "cell_type": "code",
   "execution_count": 4,
   "metadata": {},
   "outputs": [
    {
     "name": "stdout",
     "output_type": "stream",
     "text": [
      "Enter size of one square edge: 4\n",
      "1 0 0 0\n",
      "1 1 0 0\n",
      "1 2 1 0\n",
      "1 3 3 1\n"
     ]
    }
   ],
   "source": [
    "# Implementation using numpy\n",
    "\n",
    "import numpy as np\n",
    "n = int(input(\"Enter size of one square edge: \"))\n",
    "\n",
    "# intitalize the starting position and the rest to 0s\n",
    "arr=np.zeros((n,n))\n",
    "arr[0,0]=1  \n",
    "\n",
    "# cycle down the rows \n",
    "for row in range(0,n-1): \n",
    "\n",
    "    # cycle across columns filling in possible next moves\n",
    "    # note the last col will be special \n",
    "    # but with a square we don't get to the last col\n",
    "    for col in range(0,n-1): # for each cell in column 1 \n",
    "        arr[row+1,col] = arr[row,col] + arr[row+1,col]  # one move down\n",
    "        arr[row+1,col+1]= arr[row,col] + arr[row+1,col+1] # one move down and one over\n",
    "\n",
    "for row in arr:\n",
    "    print(*[\"{:1.0f}\".format(x) for x in row])"
   ]
  },
  {
   "cell_type": "markdown",
   "metadata": {},
   "source": [
    "## 4-2. Algorithms\n",
    "\n",
    "### 4-2-1. Fixing the Bisection Search\n",
    "\n",
    "The bisection code below finds the square root of a number. Try inputting 16 into the code to confirm it works. Next, try inputting 0.25 into the bisection search algorithm below and confirm that it doesn't work. Then correct the algorithm so that it works for all positive numbers, including decimals such as 0.25."
   ]
  },
  {
   "cell_type": "code",
   "execution_count": 5,
   "metadata": {},
   "outputs": [
    {
     "name": "stdout",
     "output_type": "stream",
     "text": [
      "enter a number:0.5\n",
      "low = 0.0 high = 1\n",
      "low = 0.5 high = 1\n",
      "low = 0.5 high = 0.75\n",
      "low = 0.625 high = 0.75\n",
      "low = 0.6875 high = 0.75\n",
      "low = 0.6875 high = 0.71875\n",
      "low = 0.703125 high = 0.71875\n",
      "low = 0.703125 high = 0.7109375\n",
      "low = 0.70703125 high = 0.7109375\n",
      "low = 0.70703125 high = 0.708984375\n",
      "low = 0.70703125 high = 0.7080078125\n",
      "low = 0.70703125 high = 0.70751953125\n",
      "low = 0.70703125 high = 0.707275390625\n",
      "low = 0.70703125 high = 0.7071533203125\n",
      "low = 0.70709228515625 high = 0.7071533203125\n",
      "low = 0.70709228515625 high = 0.707122802734375\n",
      "\n",
      "number of guesses = 16\n",
      "0.7070999145507812 is close to square root of 0.5\n",
      "Wall time: 4.29 s\n"
     ]
    }
   ],
   "source": [
    "%%time\n",
    "## Bisection Search to Find a Square Root\n",
    "\n",
    "x = float(input(\"enter a number:\"))\n",
    "\n",
    "epsilon = 0.00001\n",
    "num_guesses = 0\n",
    "low = 0.0\n",
    "high = x\n",
    "\n",
    "##########\n",
    "# the problem is the algorithm looks in the wrong search space for a root of a decimal\n",
    "# reset search space for the special case of the root of a decimal\n",
    "##########\n",
    "\n",
    "if abs(x) < 1:  \n",
    "    high = 1\n",
    "\n",
    "ans = (high + low)/2.0\n",
    "\n",
    "while high - low >= 2 * epsilon:\n",
    "    print(\"low =\",low,\"high =\", high)\n",
    "    num_guesses += 1\n",
    "    \n",
    "    if ans ** 2 < x:\n",
    "        low = ans\n",
    "    else:\n",
    "        high = ans\n",
    "    ans = (high + low)/2.0\n",
    "\n",
    "print('\\nnumber of guesses =', num_guesses)\n",
    "print(ans, 'is close to square root of', x)"
   ]
  },
  {
   "cell_type": "markdown",
   "metadata": {},
   "source": [
    "### 4-2-2. Bisection Search Runtime\n",
    "\n",
    "The bisection search algorithm will find the square root of x to a precision of epsilon.  Derive a formula for how many loop iterations $n$ it takes for the algorithm to complete. \n",
    "Hints: \n",
    "- First suppose that x has the special value $epsilon * 2^n$, where n is an integer number of loops. Write your answer below.\n",
    "- Your answer should include those three variables $x, epsilon, n$ with the format $n = (answer)$"
   ]
  },
  {
   "cell_type": "markdown",
   "metadata": {},
   "source": [
    "**Let's define \"n\" as the iteration.**\n",
    "\n",
    "* n = 1 search space is x\n",
    "* n = 2 search space is x/2\n",
    "* n = 3 search space is x/(2^2)\n",
    "* n = n search space is x/(2^(n-1))\n",
    "\n",
    "\n",
    "** The stopping condition is [(high - low) < (2 * epsilon)]**\n",
    "\n",
    "* Note that (high-low) is equal to the current search space. So, the bisection search stops when the current [search space < (2 epsilon)]\n",
    "\n",
    "We know that on iteration n, the search space is x/(2^(n-1)).\n",
    "Therefore, the algorithm stops when:\n",
    "\n",
    "** x/(2^(n-1)) < (2 epsilon) **\n",
    "\n",
    "In this equation above, n is the number of iterations. We can thus solve for n.\n",
    "\n",
    "** x/(2^n) < epsilon **\n",
    "\n",
    "** x < epsilon * (2^n) **\n",
    "\n",
    "** x/epsilon < (2^n) **\n",
    "\n",
    "**log2(x/epsilon) < n**\n",
    "\n",
    "What does this mean? We see that the stopping point depends on both the magnitude of the original value, x, and the sensitivity of our epsilon stopping point. However, as this x/epsilon term grows, the number of iterations only grows logarithmically.\n",
    "In computer science notation, we simplify and say that the algorithm's speed is \"O(log n)\".\n",
    "\n",
    "* **Note - technically you could argue the n = 1 search space should be defined after the first iteration completes, so n = 1 search space is x/2.  However, the math from here still gets you to O(log n).**"
   ]
  },
  {
   "cell_type": "markdown",
   "metadata": {},
   "source": [
    "### 4-2-3. Explaining the Bisection Search\n",
    "\n",
    "Please answer the following questions as a short answer discussion not more than 1-2 paragraphs.\n",
    "\n",
    "In your own words, why does the bisection search algorithm for finding square roots work faster on large numbers than the brute force algorithm? Write your answer below."
   ]
  },
  {
   "cell_type": "markdown",
   "metadata": {},
   "source": [
    "**In the brute force algorithm, the entire solution space is searched sequentially. In the bisection algorithm, the solution space is sequentially cut in half with each turn so the space that is searched is dramatically reduced.**"
   ]
  },
  {
   "cell_type": "markdown",
   "metadata": {},
   "source": [
    "In your own words, why does Newton's method for finding square roots outperform both the brute force and the bisection search algorithms? Write your answer below."
   ]
  },
  {
   "cell_type": "markdown",
   "metadata": {},
   "source": [
    "**Newton's method reduces the search space every turn like the bisection search but it does so faster. Rather than taking half of the previous interval, it uses the tangent line to the square function to hone in on the root. This method is similar to \"gradient descent\", which you will use in later machine learning courses.**"
   ]
  },
  {
   "cell_type": "markdown",
   "metadata": {},
   "source": [
    "### 4-2-4. Following Pseudo-code for an Algorithm\n",
    "\n",
    "Implement this digit-by-digit algorithm to find the square root of $x$ to a precision of epsilon.\n",
    "  1. Begin with a step of 1 and guess of zero.\n",
    "  2. Increase the guess by the step as long as doing so would not cause the guess$^2$ to exceed $x$. Repeat this until the next step will cause guess$^2$ to exceed $x$.\n",
    "  3. If the step is greater than epsilon, then divide the step by 10 and go back to step 2.\n",
    "\n",
    "Notice that once a digit has been found, it is not changed again.  Try using your script to find the square root of 10 to an epsilon of 10 decimal places.  This algorithm should not take over 30 seconds to run (if it does you have coded something incorrectly!)\n",
    "\n",
    "Hint: It might be helpful to write out by hand an easier example like '4' to understand how the algorithm works.\n",
    "\n",
    "Example output:\n",
    "\n",
    "```\n",
    "Enter a number to find the square root: 10\n",
    "The square root of 10 is 3.1622776601.\n",
    "```"
   ]
  },
  {
   "cell_type": "code",
   "execution_count": 6,
   "metadata": {},
   "outputs": [
    {
     "name": "stdout",
     "output_type": "stream",
     "text": [
      "find the square root of x?10\n",
      "1.0\n",
      "2.0\n",
      "3.0\n",
      "new step is:  0.1\n",
      "3.1\n",
      "new step is:  0.01\n",
      "3.11\n",
      "3.12\n",
      "3.13\n",
      "3.14\n",
      "3.15\n",
      "3.16\n",
      "new step is:  0.001\n",
      "3.161\n",
      "3.162\n",
      "new step is:  0.0001\n",
      "3.1621\n",
      "3.1622\n",
      "new step is:  1e-05\n",
      "3.16221\n",
      "3.16222\n",
      "3.16223\n",
      "3.16224\n",
      "3.16225\n",
      "3.16226\n",
      "3.16227\n",
      "new step is:  1.0000000000000002e-06\n",
      "3.162271\n",
      "3.162272\n",
      "3.162273\n",
      "3.162274\n",
      "3.162275\n",
      "3.162276\n",
      "3.162277\n",
      "new step is:  1.0000000000000002e-07\n",
      "3.1622771\n",
      "3.1622772\n",
      "3.1622773\n",
      "3.1622774\n",
      "3.1622775\n",
      "3.1622776\n",
      "new step is:  1.0000000000000002e-08\n",
      "3.16227761\n",
      "3.16227762\n",
      "3.16227763\n",
      "3.16227764\n",
      "3.16227765\n",
      "3.16227766\n",
      "new step is:  1.0000000000000003e-09\n",
      "new step is:  1.0000000000000003e-10\n",
      "3.1622776601\n",
      "new step is:  1.0000000000000003e-11\n",
      "The square root of 10 is approximately 3.1622776601\n"
     ]
    }
   ],
   "source": [
    "x = int(input('find the square root of x?'))\n",
    "guess = 0\n",
    "step = 1.0\n",
    "places = 0 # you have to implement a rounding scheme to get a nice output\n",
    "epsilon = 0.0000000001\n",
    "\n",
    "# Loop until you reach 10 decimal resolution\n",
    "while step > epsilon:  \n",
    "    \n",
    "    # if the increment does not push the guess over then do it\n",
    "    if (guess + step) * (guess + step) < x: \n",
    "        guess = round(guess+step, places)\n",
    "        print(guess)\n",
    "    \n",
    "    else:\n",
    "        places += 1\n",
    "        step = step / 10.0\n",
    "        print('new step is: ', step)\n",
    "\n",
    "print(\"The square root of\", x, \"is approximately\", guess)"
   ]
  },
  {
   "cell_type": "markdown",
   "metadata": {},
   "source": [
    "## 4-3. List Comprehensions\n",
    "\n",
    "Each list comprehension below can be done in just one line/statement and needs to output one list. \n",
    "\n",
    "**4-3-1. Use a single comprehension** to make a list of the square numbers below 100 that give a remainder of 1 when divided by 3.\n",
    "\n",
    "Example output (these are the first two elements of the list - obviously not the full list!):\n",
    "```\n",
    "[1, 4, ... ]\n",
    "```"
   ]
  },
  {
   "cell_type": "code",
   "execution_count": 7,
   "metadata": {},
   "outputs": [
    {
     "data": {
      "text/plain": [
       "[1, 4, 16, 25, 49, 64]"
      ]
     },
     "execution_count": 7,
     "metadata": {},
     "output_type": "execute_result"
    }
   ],
   "source": [
    "[x**2 for x in range(11) if (x**2)%3==1 and x**2 < 100]"
   ]
  },
  {
   "cell_type": "markdown",
   "metadata": {},
   "source": [
    "**4-3-2.** A string is defined in the code snippet below. **Use a single comprehension** to make a list of the first letters of each word in the snippet.\n",
    "\n",
    "Example output (these are the first two elements of the list - obviously not the full list!):\n",
    "```\n",
    "['I', 'l', ... ]\n",
    "```"
   ]
  },
  {
   "cell_type": "code",
   "execution_count": 8,
   "metadata": {},
   "outputs": [
    {
     "data": {
      "text/plain": [
       "['I',\n",
       " 'l',\n",
       " 'm',\n",
       " 'l',\n",
       " 'a',\n",
       " 'q',\n",
       " 'm',\n",
       " 'a',\n",
       " 'a',\n",
       " 't',\n",
       " 'N',\n",
       " 'e',\n",
       " 'm',\n",
       " 'n',\n",
       " 't',\n",
       " 'm',\n",
       " 'n',\n",
       " 't',\n",
       " 's',\n",
       " 'n',\n",
       " 'm',\n",
       " 't',\n",
       " 'a',\n",
       " 'a',\n",
       " 't',\n",
       " 'b',\n",
       " 'F',\n",
       " 't',\n",
       " 't',\n",
       " 's',\n",
       " 'o',\n",
       " 'l',\n",
       " 'I',\n",
       " 'f']"
      ]
     },
     "execution_count": 8,
     "metadata": {},
     "output_type": "execute_result"
    }
   ],
   "source": [
    "text = \"I live my life a quarter mile at a time. \\\n",
    "Nothing else matters: not the mortgage, not the store, \\\n",
    "not my team and all their bullshit. \\\n",
    "For those ten seconds or less, I’m free.\"\n",
    "# the slashes just mean that the string continues onto the next line\n",
    "# if you print the text, it will make no difference\n",
    "[word[0] for word in text.split(\" \")]"
   ]
  },
  {
   "cell_type": "markdown",
   "metadata": {},
   "source": [
    "**4-3-3.** A Pythagorean triple is a set (x,y,z), with positive integers x ≤ y ≤ z such that $x^2+y^2=z^2$. **Use a single comprehension** to make a list of all Pythagorean triples with numbers below 25.\n",
    "\n",
    "Example output (these are the first two elements of the list - obviously not the full list!):\n",
    "```\n",
    "[(3, 4, 5), (5, 12, 13), ... ]\n",
    "```"
   ]
  },
  {
   "cell_type": "code",
   "execution_count": 9,
   "metadata": {},
   "outputs": [
    {
     "data": {
      "text/plain": [
       "[(3, 4, 5), (5, 12, 13), (6, 8, 10), (8, 15, 17), (9, 12, 15), (12, 16, 20)]"
      ]
     },
     "execution_count": 9,
     "metadata": {},
     "output_type": "execute_result"
    }
   ],
   "source": [
    "[(x, y, z) for x in range(25) for y in range(x+1,25) for z in range(y+1,25) if x**2+y**2==z**2]"
   ]
  },
  {
   "cell_type": "markdown",
   "metadata": {},
   "source": [
    "**4-3-4.** Given a word, provided below, **use a single comprehension** to make a list of all strings that can be formed by deleting exactly one character from the word.\n",
    "\n",
    "Required output:\n",
    "```\n",
    "['elcomed', 'Wlcomed', 'Wecomed', 'Welomed', 'Welcmed', 'Welcoed', 'Welcomd', 'Welcome']\n",
    "```"
   ]
  },
  {
   "cell_type": "code",
   "execution_count": 10,
   "metadata": {},
   "outputs": [
    {
     "data": {
      "text/plain": [
       "['elcomed',\n",
       " 'Wlcomed',\n",
       " 'Wecomed',\n",
       " 'Welomed',\n",
       " 'Welcmed',\n",
       " 'Welcoed',\n",
       " 'Welcomd',\n",
       " 'Welcome']"
      ]
     },
     "execution_count": 10,
     "metadata": {},
     "output_type": "execute_result"
    }
   ],
   "source": [
    "word = \"Welcomed\"\n",
    "[word[:i-1] + word[i:] for i in range(1,len(word)+1)]"
   ]
  },
  {
   "cell_type": "markdown",
   "metadata": {},
   "source": [
    "**4-3-5.** Given a word, provided below, **use a single comprehension** to make a list of all strings that can be formed by replacing exactly one vowel in the word with a different vowel.\n",
    "\n",
    "Required output:\n",
    "```\n",
    "['Baoted', 'Beoted', 'Bioted', 'Booted', 'Buoted', 'Boated', 'Boeted', 'Boited', 'Booted', 'Bouted', 'Bootad', 'Booted', 'Bootid', 'Bootod', 'Bootud']\n",
    "```"
   ]
  },
  {
   "cell_type": "code",
   "execution_count": 2,
   "metadata": {},
   "outputs": [
    {
     "data": {
      "text/plain": [
       "['Baoted',\n",
       " 'Beoted',\n",
       " 'Bioted',\n",
       " 'Buoted',\n",
       " 'Boated',\n",
       " 'Boeted',\n",
       " 'Boited',\n",
       " 'Bouted',\n",
       " 'Bootad',\n",
       " 'Bootid',\n",
       " 'Bootod',\n",
       " 'Bootud']"
      ]
     },
     "execution_count": 2,
     "metadata": {},
     "output_type": "execute_result"
    }
   ],
   "source": [
    "word = \"Booted\"\n",
    "[word[:i]+ v + word[(i+1):] for i in range(0,len(word)) for v in 'aeiou' if word[i] in 'aeiou' if word[i] != v]"
   ]
  },
  {
   "cell_type": "markdown",
   "metadata": {},
   "source": [
    "## If you have feedback for this homework, please submit it using the link below:\n",
    "\n",
    "http://goo.gl/forms/74yCiQTf6k"
   ]
  }
 ],
 "metadata": {
  "kernelspec": {
   "display_name": "Python 3",
   "language": "python",
   "name": "python3"
  },
  "language_info": {
   "codemirror_mode": {
    "name": "ipython",
    "version": 3
   },
   "file_extension": ".py",
   "mimetype": "text/x-python",
   "name": "python",
   "nbconvert_exporter": "python",
   "pygments_lexer": "ipython3",
   "version": "3.6.6"
  }
 },
 "nbformat": 4,
 "nbformat_minor": 1
}
