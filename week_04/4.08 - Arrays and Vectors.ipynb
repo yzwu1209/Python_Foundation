{
 "cells": [
  {
   "cell_type": "markdown",
   "metadata": {},
   "source": [
    "# Arrays\n",
    "\n",
    "The Python types we have seen so far are all built into Python; this means that they are automatically available when you start writing Python code. As with any modern language, however, programmers are always adding new functionality to Python and they often want to share their code with others.  The main way this is done is with packages.\n",
    "\n",
    "A package contains extra object types, functions, and variables that are not included in base Python. Some packages are specialized to niche applications, while others are so popular that nearly every coder uses them.\n",
    "\n",
    "One particular package, NumPy, sits as the foundation for scientific and data computing in Python. Many other data science packages are built on top of NumPy, so it is very important to understand its function.\n",
    "\n",
    "[NumPy](http://www.numpy.org/) is the core of the [PyData](http://pydata.org/) ecosystem.\n",
    "\n",
    "------\n",
    "\n",
    "*From the NumPy Website*\n",
    "\n",
    "NumPy is the fundamental package for scientific computing with Python. It contains among other things:\n",
    "\n",
    "- a powerful N-dimensional array object\n",
    "- sophisticated (broadcasting) functions\n",
    "- tools for integrating C/C++ and Fortran code\n",
    "- useful linear algebra, Fourier transform, and random number capabilities\n",
    "\n",
    "------\n",
    "\n",
    "We often use NumPy to work with data. In this notebook, we will begin introducing its functionality with a few simple examples.\n",
    "\n",
    "To use the functionality provided by a package, we first have to import it into our program.  This is done with the `import` keyword. At the point at which we import a package, we can also rename it with the `as` keyword. Traditionally, `numpy` is renamed `np`. The reason that we do this is that there is a convention in the PyData community to import data packages with shorter names.\n"
   ]
  },
  {
   "cell_type": "code",
   "execution_count": 1,
   "metadata": {
    "collapsed": false
   },
   "outputs": [],
   "source": [
    "import numpy as np"
   ]
  },
  {
   "cell_type": "code",
   "execution_count": 2,
   "metadata": {
    "collapsed": false
   },
   "outputs": [
    {
     "data": {
      "text/plain": [
       "array([ 0,  1,  2,  3,  4,  5,  6,  7,  8,  9, 10, 11, 12, 13, 14, 15, 16,\n",
       "       17, 18, 19])"
      ]
     },
     "execution_count": 2,
     "metadata": {},
     "output_type": "execute_result"
    }
   ],
   "source": [
    "np.arange(0,20)"
   ]
  },
  {
   "cell_type": "markdown",
   "metadata": {},
   "source": [
    "This should look pretty familiar; the `arange` function is analogous to the `range` function we saw earlier. Instead of returning a range, however, this function returns something we call an *array*.\n",
    "\n",
    "Arrays are similar to the sequences we saw earlier. For example, we can access items by their indices."
   ]
  },
  {
   "cell_type": "code",
   "execution_count": 3,
   "metadata": {
    "collapsed": false
   },
   "outputs": [
    {
     "data": {
      "text/plain": [
       "array([ 0,  1, 12,  3,  4,  5,  6,  7,  8,  9, 10, 11, 12, 13, 14, 15, 16,\n",
       "       17, 18, 19])"
      ]
     },
     "execution_count": 3,
     "metadata": {},
     "output_type": "execute_result"
    }
   ],
   "source": [
    "my_array = np.arange(20)\n",
    "my_array[2] = 12\n",
    "my_array"
   ]
  },
  {
   "cell_type": "markdown",
   "metadata": {},
   "source": [
    "Arrays also have some unique characteristics.  For one thing, all the objects contained in an array must be the same type.  This may seem like a pesky restriction, but it allows arrays to work very efficiently on large amounts of data."
   ]
  },
  {
   "cell_type": "code",
   "execution_count": 4,
   "metadata": {
    "collapsed": false
   },
   "outputs": [
    {
     "ename": "ValueError",
     "evalue": "invalid literal for int() with base 10: 'shoe'",
     "output_type": "error",
     "traceback": [
      "\u001b[0;31m---------------------------------------------------------------------------\u001b[0m",
      "\u001b[0;31mValueError\u001b[0m                                Traceback (most recent call last)",
      "\u001b[0;32m<ipython-input-4-7b56afc93f6f>\u001b[0m in \u001b[0;36m<module>\u001b[0;34m()\u001b[0m\n\u001b[0;32m----> 1\u001b[0;31m \u001b[0mmy_array\u001b[0m\u001b[0;34m[\u001b[0m\u001b[0;36m5\u001b[0m\u001b[0;34m]\u001b[0m \u001b[0;34m=\u001b[0m \u001b[0;34m\"shoe\"\u001b[0m\u001b[0;34m\u001b[0m\u001b[0m\n\u001b[0m",
      "\u001b[0;31mValueError\u001b[0m: invalid literal for int() with base 10: 'shoe'"
     ]
    }
   ],
   "source": [
    "my_array[5] = \"shoe\""
   ]
  },
  {
   "cell_type": "markdown",
   "metadata": {},
   "source": [
    "The data type of an array can be accessed through the `dtype` property; this will give us information about all the objects stored in the array. That means that you cannot change the type of an array once it is created (unless you work around this)."
   ]
  },
  {
   "cell_type": "code",
   "execution_count": 5,
   "metadata": {
    "collapsed": false
   },
   "outputs": [
    {
     "data": {
      "text/plain": [
       "dtype('int64')"
      ]
     },
     "execution_count": 5,
     "metadata": {},
     "output_type": "execute_result"
    }
   ],
   "source": [
    "my_array.dtype"
   ]
  },
  {
   "cell_type": "markdown",
   "metadata": {},
   "source": [
    "In addition, once an array is created, its size is fixed. You cannot pop or append to an array because of the way that arrays allocate memory. The fixed size allows arrays to be optimized for high performance."
   ]
  },
  {
   "cell_type": "code",
   "execution_count": 6,
   "metadata": {
    "collapsed": false
   },
   "outputs": [],
   "source": [
    "new_array = np.array([5,10,15,20])"
   ]
  },
  {
   "cell_type": "code",
   "execution_count": 7,
   "metadata": {
    "collapsed": false
   },
   "outputs": [
    {
     "ename": "AttributeError",
     "evalue": "'numpy.ndarray' object has no attribute 'append'",
     "output_type": "error",
     "traceback": [
      "\u001b[0;31m---------------------------------------------------------------------------\u001b[0m",
      "\u001b[0;31mAttributeError\u001b[0m                            Traceback (most recent call last)",
      "\u001b[0;32m<ipython-input-7-6abe63df61d6>\u001b[0m in \u001b[0;36m<module>\u001b[0;34m()\u001b[0m\n\u001b[0;32m----> 1\u001b[0;31m \u001b[0mnew_array\u001b[0m\u001b[0;34m.\u001b[0m\u001b[0mappend\u001b[0m\u001b[0;34m(\u001b[0m\u001b[0;36m5\u001b[0m\u001b[0;34m)\u001b[0m\u001b[0;34m\u001b[0m\u001b[0m\n\u001b[0m",
      "\u001b[0;31mAttributeError\u001b[0m: 'numpy.ndarray' object has no attribute 'append'"
     ]
    }
   ],
   "source": [
    "new_array.append(5)"
   ]
  },
  {
   "cell_type": "code",
   "execution_count": 8,
   "metadata": {
    "collapsed": false
   },
   "outputs": [
    {
     "ename": "AttributeError",
     "evalue": "'numpy.ndarray' object has no attribute 'pop'",
     "output_type": "error",
     "traceback": [
      "\u001b[0;31m---------------------------------------------------------------------------\u001b[0m",
      "\u001b[0;31mAttributeError\u001b[0m                            Traceback (most recent call last)",
      "\u001b[0;32m<ipython-input-8-429e7ee3d43f>\u001b[0m in \u001b[0;36m<module>\u001b[0;34m()\u001b[0m\n\u001b[0;32m----> 1\u001b[0;31m \u001b[0mnew_array\u001b[0m\u001b[0;34m.\u001b[0m\u001b[0mpop\u001b[0m\u001b[0;34m(\u001b[0m\u001b[0;34m)\u001b[0m\u001b[0;34m\u001b[0m\u001b[0m\n\u001b[0m",
      "\u001b[0;31mAttributeError\u001b[0m: 'numpy.ndarray' object has no attribute 'pop'"
     ]
    }
   ],
   "source": [
    "new_array.pop()"
   ]
  },
  {
   "cell_type": "markdown",
   "metadata": {},
   "source": [
    "You can see in the error messages that the arrays we are dealing with have type `'numpy.ndarray'`. This stands for *n*-dimensional array. We can make *n* anything that we want.\n",
    "\n",
    "For example, we can create a two-dimensional matrix with uniformly distributed random numbers between 0 and 1."
   ]
  },
  {
   "cell_type": "code",
   "execution_count": 9,
   "metadata": {
    "collapsed": false
   },
   "outputs": [
    {
     "data": {
      "text/plain": [
       "array([[ 0.10648234,  0.83217679,  0.63806576,  0.69003448,  0.9748543 ],\n",
       "       [ 0.59020448,  0.86675064,  0.80940695,  0.88256189,  0.99050187],\n",
       "       [ 0.87244291,  0.07258846,  0.57155022,  0.44507565,  0.045058  ],\n",
       "       [ 0.93489746,  0.09116535,  0.59777247,  0.09772608,  0.7570062 ],\n",
       "       [ 0.03492041,  0.14402342,  0.89550503,  0.51289362,  0.68879071]])"
      ]
     },
     "execution_count": 9,
     "metadata": {},
     "output_type": "execute_result"
    }
   ],
   "source": [
    "np.random.rand(5,5)"
   ]
  },
  {
   "cell_type": "markdown",
   "metadata": {},
   "source": [
    "Or we can create a three-dimensional cube of numbers."
   ]
  },
  {
   "cell_type": "code",
   "execution_count": 10,
   "metadata": {
    "collapsed": false
   },
   "outputs": [
    {
     "data": {
      "text/plain": [
       "array([[[ 0.62190203,  0.67813165,  0.24879432,  0.85351031,  0.47839552],\n",
       "        [ 0.12885694,  0.85591285,  0.7676117 ,  0.18049391,  0.24903808],\n",
       "        [ 0.33438681,  0.00883342,  0.30958822,  0.05377948,  0.09619761],\n",
       "        [ 0.63619928,  0.47561247,  0.86378828,  0.01852412,  0.03134734],\n",
       "        [ 0.31974582,  0.84927553,  0.02526485,  0.66531965,  0.61367574]],\n",
       "\n",
       "       [[ 0.43447214,  0.25742403,  0.56906217,  0.72603296,  0.21547998],\n",
       "        [ 0.08282102,  0.88334032,  0.11279749,  0.23502522,  0.98089176],\n",
       "        [ 0.67671649,  0.12275952,  0.54825469,  0.39615149,  0.44027412],\n",
       "        [ 0.34341265,  0.27453947,  0.50699397,  0.02295559,  0.51015296],\n",
       "        [ 0.86374756,  0.82933671,  0.97860856,  0.16388404,  0.18676941]],\n",
       "\n",
       "       [[ 0.50137612,  0.86100886,  0.46771107,  0.49762319,  0.09942061],\n",
       "        [ 0.64682201,  0.80645434,  0.30591674,  0.78372676,  0.62082823],\n",
       "        [ 0.0725108 ,  0.43652937,  0.01882027,  0.04576894,  0.03794534],\n",
       "        [ 0.8221575 ,  0.22857415,  0.24348705,  0.89471662,  0.32434504],\n",
       "        [ 0.74368279,  0.77160602,  0.10705934,  0.4936633 ,  0.78589559]],\n",
       "\n",
       "       [[ 0.07826472,  0.94207709,  0.89597438,  0.88258561,  0.57082903],\n",
       "        [ 0.09294111,  0.80232528,  0.91213184,  0.89835965,  0.17567069],\n",
       "        [ 0.999896  ,  0.92843283,  0.91762286,  0.10852207,  0.48792059],\n",
       "        [ 0.21089173,  0.43767298,  0.74849842,  0.18444499,  0.44024017],\n",
       "        [ 0.05551075,  0.87491153,  0.39881662,  0.83208024,  0.67927175]],\n",
       "\n",
       "       [[ 0.8152855 ,  0.54782396,  0.32529703,  0.03140135,  0.94390255],\n",
       "        [ 0.75001119,  0.74885413,  0.73562026,  0.90431494,  0.23166533],\n",
       "        [ 0.85774035,  0.95851625,  0.10013038,  0.59081398,  0.99084579],\n",
       "        [ 0.09548534,  0.40794765,  0.01720749,  0.72292335,  0.08353437],\n",
       "        [ 0.23366039,  0.69927974,  0.39470062,  0.28929137,  0.7898452 ]]])"
      ]
     },
     "execution_count": 10,
     "metadata": {},
     "output_type": "execute_result"
    }
   ],
   "source": [
    "np.random.rand(5,5,5)"
   ]
  },
  {
   "cell_type": "markdown",
   "metadata": {},
   "source": [
    "We can keep going to higher and higher dimensional spaces, but doing so is outside the scope of this course."
   ]
  },
  {
   "cell_type": "markdown",
   "metadata": {},
   "source": [
    "The random numbers we generated above were drawn from a uniform probability distribution. This is a very simple distribution, equal to 1, between 0 and 1, and 0 everywhere else. NumPy gives us many other distributions to work with, however."
   ]
  },
  {
   "cell_type": "code",
   "execution_count": 11,
   "metadata": {
    "collapsed": true
   },
   "outputs": [],
   "source": [
    "np.random?"
   ]
  },
  {
   "cell_type": "markdown",
   "metadata": {},
   "source": [
    "We can see that there are a variety of functions at our disposal. Let's get some uniformly distributed random variables."
   ]
  },
  {
   "cell_type": "code",
   "execution_count": 12,
   "metadata": {
    "collapsed": false
   },
   "outputs": [
    {
     "data": {
      "text/plain": [
       "array([ 0.92269111, -2.2276769 , -1.28704041,  0.89730048, -1.33606677,\n",
       "       -0.65326701,  0.7493691 , -1.29093916, -0.65151334, -2.03886176,\n",
       "        0.11773115, -0.37387359,  0.11986561,  1.96490916,  0.21022098,\n",
       "        1.62917658, -0.80917623, -0.23805272, -0.92187318,  1.31539243])"
      ]
     },
     "execution_count": 12,
     "metadata": {},
     "output_type": "execute_result"
    }
   ],
   "source": [
    "np.random.randn(20)"
   ]
  },
  {
   "cell_type": "markdown",
   "metadata": {},
   "source": [
    "Now that we have this array of normal random variables, let's reshape it into a matrix. This is done with the reshape method."
   ]
  },
  {
   "cell_type": "code",
   "execution_count": 13,
   "metadata": {
    "collapsed": false
   },
   "outputs": [],
   "source": [
    "ar = np.random.randn(20).reshape(5,4)"
   ]
  },
  {
   "cell_type": "code",
   "execution_count": 14,
   "metadata": {
    "collapsed": false
   },
   "outputs": [
    {
     "data": {
      "text/plain": [
       "array([[ 0.77400258, -0.33902124,  0.84960228,  0.67791938],\n",
       "       [ 1.51416211,  0.88888946, -1.18039892,  0.7369464 ],\n",
       "       [-1.18751671, -0.15008941, -0.02608664,  0.02503204],\n",
       "       [ 0.87306404, -0.26468326, -1.78996207,  0.41580606],\n",
       "       [ 0.14680233,  0.53553181, -0.34289575,  1.11064037]])"
      ]
     },
     "execution_count": 14,
     "metadata": {},
     "output_type": "execute_result"
    }
   ],
   "source": [
    "ar"
   ]
  },
  {
   "cell_type": "markdown",
   "metadata": {},
   "source": [
    "When you are working with data, you will often need to calculate some statistics from it. NumPy arrays have a lot of integrated common statistical functions.  To see an example, let's get the mean of our array."
   ]
  },
  {
   "cell_type": "code",
   "execution_count": 15,
   "metadata": {
    "collapsed": false
   },
   "outputs": [
    {
     "data": {
      "text/plain": [
       "0.1633872434123195"
      ]
     },
     "execution_count": 15,
     "metadata": {},
     "output_type": "execute_result"
    }
   ],
   "source": [
    "ar.mean()"
   ]
  },
  {
   "cell_type": "markdown",
   "metadata": {},
   "source": [
    "The standard deviation is just as easy."
   ]
  },
  {
   "cell_type": "code",
   "execution_count": 16,
   "metadata": {
    "collapsed": false
   },
   "outputs": [
    {
     "data": {
      "text/plain": [
       "0.82714511473596986"
      ]
     },
     "execution_count": 16,
     "metadata": {},
     "output_type": "execute_result"
    }
   ],
   "source": [
    "ar.std()"
   ]
  },
  {
   "cell_type": "markdown",
   "metadata": {},
   "source": [
    "Sometimes we will want to do these operations on each column or on each row. Doing so is still easy."
   ]
  },
  {
   "cell_type": "markdown",
   "metadata": {},
   "source": [
    "Here are the means of each column."
   ]
  },
  {
   "cell_type": "code",
   "execution_count": 17,
   "metadata": {
    "collapsed": false
   },
   "outputs": [
    {
     "data": {
      "text/plain": [
       "array([ 0.42410287,  0.13412547, -0.49794822,  0.59326885])"
      ]
     },
     "execution_count": 17,
     "metadata": {},
     "output_type": "execute_result"
    }
   ],
   "source": [
    "ar.mean(axis=0)"
   ]
  },
  {
   "cell_type": "markdown",
   "metadata": {},
   "source": [
    "Here are the means of each row."
   ]
  },
  {
   "cell_type": "code",
   "execution_count": 18,
   "metadata": {
    "collapsed": false
   },
   "outputs": [
    {
     "data": {
      "text/plain": [
       "array([ 0.49062575,  0.48989976, -0.33466518, -0.19144381,  0.36251969])"
      ]
     },
     "execution_count": 18,
     "metadata": {},
     "output_type": "execute_result"
    }
   ],
   "source": [
    "ar.mean(axis=1)"
   ]
  },
  {
   "cell_type": "markdown",
   "metadata": {},
   "source": [
    "This lesson has only begun to scratch the surface of NumPy's capabilities.  The NumPy library is huge, and no one class could truly cover all of it. Additionally, NumPy has a partner library, SciPy (which stands for *scientific Python*), that builds on NumPy and adds a great deal of advanced functionality. We will return to NumPy later in this course. You will learn more about SciPy as you continue through the data science program."
   ]
  }
 ],
 "metadata": {
  "kernelspec": {
   "display_name": "Python 3",
   "language": "python",
   "name": "python3"
  },
  "language_info": {
   "codemirror_mode": {
    "name": "ipython",
    "version": 3
   },
   "file_extension": ".py",
   "mimetype": "text/x-python",
   "name": "python",
   "nbconvert_exporter": "python",
   "pygments_lexer": "ipython3",
   "version": "3.4.3"
  }
 },
 "nbformat": 4,
 "nbformat_minor": 0
}
