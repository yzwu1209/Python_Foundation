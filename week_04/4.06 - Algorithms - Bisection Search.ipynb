{
 "cells": [
  {
   "cell_type": "markdown",
   "metadata": {},
   "source": [
    "## Bisection Search\n",
    "\n",
    "Here is another algorithm that is well known among computer scientists: a *bisection search*.  Instead of making a single guess, imagine a window, or an interval of numbers that we know contains the square root of $x$. At the beginning, we can use the window from 0 to $x$.  Clearly, the square root of $x$ has to be in there somewhere.\n",
    "\n",
    "![title](bisect1.png)\n",
    "\n",
    "Next, let's look at the midpoint of our window, which will be $x/2$ at the moment. We can check if this point is too low or too high by squaring it and comparing it to $x$. If the midpoint of our window is too low, we can throw away the bottom half of the window and focus on the top half. Otherwise, we throw out the top half of the window and focus on the bottom half. \n",
    "\n",
    "![title](bisect2.png)\n",
    "\n",
    "Suppose that our first midpoint was too high.  Now we have a new window, which ranges from `0` to `x/2`, and we can repeat the same process.  Eventually our window will be small enough that we know the midpoint is within epsilon of the right answer.\n",
    "\n",
    "The Python script below implements a bisection search. Notice that we use variables low and high to keep track of the bottom and the top of our window. When the size of the window shrinks below 2 * epsilon, we know that any point inside the window is within epsilon of the midpoint. This means that the midpoint is a valid guess for the square root of $x$, up to the precision we want."
   ]
  },
  {
   "cell_type": "code",
   "execution_count": 10,
   "metadata": {
    "collapsed": false
   },
   "outputs": [
    {
     "name": "stdout",
     "output_type": "stream",
     "text": [
      "enter a number:.25\n",
      "low = 0.0 high = 0.25\n",
      "low = 0.125 high = 0.25\n",
      "low = 0.1875 high = 0.25\n",
      "low = 0.21875 high = 0.25\n",
      "low = 0.234375 high = 0.25\n",
      "low = 0.2421875 high = 0.25\n",
      "low = 0.24609375 high = 0.25\n",
      "low = 0.248046875 high = 0.25\n",
      "low = 0.2490234375 high = 0.25\n",
      "low = 0.24951171875 high = 0.25\n",
      "low = 0.249755859375 high = 0.25\n",
      "low = 0.2498779296875 high = 0.25\n",
      "low = 0.24993896484375 high = 0.25\n",
      "low = 0.249969482421875 high = 0.25\n",
      "number of guesses = 14\n",
      "0.24999237060546875 is close to square root of 0.25\n"
     ]
    }
   ],
   "source": [
    "## Bisection Search to Find a Square Root\n",
    "\n",
    "x = float(input(\"enter a number:\"))\n",
    "epsilon = 0.00001\n",
    "num_guesses = 0\n",
    "low = 0.0\n",
    "high = x\n",
    "ans = (high + low)/2.0\n",
    "while high-low >= 2 * epsilon:\n",
    "    print(\"low =\",low,\"high =\", high)\n",
    "    num_guesses += 1\n",
    "    if ans**2 < x:\n",
    "        low = ans\n",
    "    else:\n",
    "        high = ans\n",
    "    ans = (high + low)/2.0\n",
    "print('number of guesses =', num_guesses)\n",
    "print(ans, 'is close to square root of', x)"
   ]
  },
  {
   "cell_type": "markdown",
   "metadata": {},
   "source": [
    "Try running the algorithm to find the square root of 10, and of 12345.  How many steps did the algorithm take?\n",
    "\n",
    "Now try running the algorithm to find the square root of 0.25.  What goes wrong?  How could you fix the algorithm so it works correctly?"
   ]
  },
  {
   "cell_type": "markdown",
   "metadata": {},
   "source": [
    "The bisection search is appropriate for a wide range of computing problems.  It leverages the fact that our solution space is ordered.  We know that if our guess squared is bigger than x, then anything bigger than our guess is also too big.  By leveraging this structure, the bisection search can complete much faster than a brute force algorithm.  When you see a solution space that's ordered in this way, consider where a bisection search could be adapted to solve your problem."
   ]
  }
 ],
 "metadata": {
  "kernelspec": {
   "display_name": "Python 3",
   "language": "python",
   "name": "python3"
  },
  "language_info": {
   "codemirror_mode": {
    "name": "ipython",
    "version": 3
   },
   "file_extension": ".py",
   "mimetype": "text/x-python",
   "name": "python",
   "nbconvert_exporter": "python",
   "pygments_lexer": "ipython3",
   "version": "3.4.3"
  }
 },
 "nbformat": 4,
 "nbformat_minor": 0
}
