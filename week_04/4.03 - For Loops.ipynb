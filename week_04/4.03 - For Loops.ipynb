{
 "cells": [
  {
   "cell_type": "markdown",
   "metadata": {},
   "source": [
    "## For Loops\n",
    "\n",
    "Earlier, we saw how to create a loop in Python using the while statement.  For example, the following code uses while to count down from 5 to 1."
   ]
  },
  {
   "cell_type": "code",
   "execution_count": 3,
   "metadata": {
    "collapsed": false
   },
   "outputs": [
    {
     "name": "stdout",
     "output_type": "stream",
     "text": [
      "5\n",
      "4\n",
      "3\n",
      "2\n",
      "1\n",
      "Blast off!\n"
     ]
    }
   ],
   "source": [
    "countdown = 5\n",
    "while countdown > 0:\n",
    "    print(countdown)\n",
    "    countdown -= 1\n",
    "print(\"Blast off!\")"
   ]
  },
  {
   "cell_type": "markdown",
   "metadata": {},
   "source": [
    "While loops greatly increase the range of algorithms that we can write, but they are sometimes difficult to read.  Fortunately, there's another way to create a loop in Python - using a `for` statement. A `for` loop is not as flexible as a `while` loop, but it has an intuitive and easy-to-read syntax.  A `for` loop is also safer to use because it is virtually gauranteed to complete.   Much of the time, you'll be able to write your program more elegantly with `for` loops instead of `while` loops.\n",
    "\n",
    "Here is our countdown script revised using a `for` loop."
   ]
  },
  {
   "cell_type": "code",
   "execution_count": 2,
   "metadata": {
    "collapsed": false
   },
   "outputs": [
    {
     "name": "stdout",
     "output_type": "stream",
     "text": [
      "5\n",
      "4\n",
      "3\n",
      "2\n",
      "1\n",
      "Blast off!\n"
     ]
    }
   ],
   "source": [
    "countdown = 5\n",
    "for x in range(countdown, 0, -1):\n",
    "    print(x)\n",
    "print(\"Blast off!\")"
   ]
  },
  {
   "cell_type": "markdown",
   "metadata": {},
   "source": [
    "Notice that there is no statement that explicitly decrements x. Instead, every time control reaches the `for` statement, it sets x equal to the next item in the `range` object. \n",
    "\n",
    "Just like while loops, for loops can be nested inside each other.  Recall our script to print out a number triangle, copied below."
   ]
  },
  {
   "cell_type": "code",
   "execution_count": 5,
   "metadata": {
    "collapsed": false
   },
   "outputs": [
    {
     "name": "stdout",
     "output_type": "stream",
     "text": [
      "enter an integer: 5\n",
      "0 1 2 3 4 5 \n",
      "0 1 2 3 4 \n",
      "0 1 2 3 \n",
      "0 1 2 \n",
      "0 1 \n",
      "0 \n"
     ]
    }
   ],
   "source": [
    "row = int(input(\"enter an integer: \"))\n",
    "\n",
    "while row >= 0:\n",
    "\n",
    "    # inner loop\n",
    "    j = 0\n",
    "    while j <= row:\n",
    "        print(j, end=\" \")\n",
    "        j += 1\n",
    "        \n",
    "    print(\"\")\n",
    "    row -= 1"
   ]
  },
  {
   "cell_type": "markdown",
   "metadata": {},
   "source": [
    "While this code works, it is not easy to read with all the statements to increment and decrement the counter variables.  Let's see how to write this code using for loops instead."
   ]
  },
  {
   "cell_type": "code",
   "execution_count": 4,
   "metadata": {
    "collapsed": false
   },
   "outputs": [
    {
     "name": "stdout",
     "output_type": "stream",
     "text": [
      "enter an integer (0 to 20 please!) : 12\n",
      "0 1 2 3 4 5 6 7 8 9 10 11 12 \n",
      "0 1 2 3 4 5 6 7 8 9 10 11 \n",
      "0 1 2 3 4 5 6 7 8 9 10 \n",
      "0 1 2 3 4 5 6 7 8 9 \n",
      "0 1 2 3 4 5 6 7 8 \n",
      "0 1 2 3 4 5 6 7 \n",
      "0 1 2 3 4 5 6 \n",
      "0 1 2 3 4 5 \n",
      "0 1 2 3 4 \n",
      "0 1 2 3 \n",
      "0 1 2 \n",
      "0 1 \n",
      "0 \n"
     ]
    }
   ],
   "source": [
    "row = int(input(\"enter an integer (0 to 20 please!) : \"))\n",
    "\n",
    "for x in range(row, -1, -1):\n",
    "    for j in range(x+1):\n",
    "        print(j, end=\" \")\n",
    "        \n",
    "    print(\"\")"
   ]
  },
  {
   "cell_type": "markdown",
   "metadata": {},
   "source": [
    "The object in a `for` loop does not have to be a range. In fact, it can be a wide variety of Python types, including all sequences. (The technical requirement is that the object be an *iterable*. We will explain this class of objects in more detail later.) Here is an example in which we use a `for` loop to remove all vowels from a name."
   ]
  },
  {
   "cell_type": "code",
   "execution_count": 6,
   "metadata": {
    "collapsed": false
   },
   "outputs": [
    {
     "name": "stdout",
     "output_type": "stream",
     "text": [
      "Enter your name: 12\n",
      "12"
     ]
    }
   ],
   "source": [
    "x = input(\"Enter your name: \")\n",
    "for char in x:\n",
    "    if char not in \"aeiouAEIOU\":\n",
    "        print(char, end=\"\")"
   ]
  },
  {
   "cell_type": "markdown",
   "metadata": {},
   "source": [
    "As another example, we can use a `for` loop to iterate through the items of a list."
   ]
  },
  {
   "cell_type": "code",
   "execution_count": 7,
   "metadata": {
    "collapsed": false
   },
   "outputs": [
    {
     "name": "stdout",
     "output_type": "stream",
     "text": [
      "Paul, as himself\n",
      "Bill, as himself\n",
      "Kay, as himself\n"
     ]
    }
   ],
   "source": [
    "x = [\"Paul\", \"Bill\", \"Kay\"]\n",
    "for name in x:\n",
    "    print(name + \", as himself\")"
   ]
  },
  {
   "cell_type": "markdown",
   "metadata": {},
   "source": [
    "Although `for` loops are an attractive way to create loops, it is worth remembering that they are not as flexible as `while` loops.  There are many `while` loops that cannot be written using a `for` statement.  On the other hand, every `for` loop can be rewritten using a `while` loop."
   ]
  }
 ],
 "metadata": {
  "kernelspec": {
   "display_name": "Python 3",
   "language": "python",
   "name": "python3"
  },
  "language_info": {
   "codemirror_mode": {
    "name": "ipython",
    "version": 3
   },
   "file_extension": ".py",
   "mimetype": "text/x-python",
   "name": "python",
   "nbconvert_exporter": "python",
   "pygments_lexer": "ipython3",
   "version": "3.4.3"
  }
 },
 "nbformat": 4,
 "nbformat_minor": 0
}
