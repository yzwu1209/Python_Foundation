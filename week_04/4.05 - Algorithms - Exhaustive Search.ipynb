{
 "cells": [
  {
   "cell_type": "markdown",
   "metadata": {},
   "source": [
    "# More About Algorithms\n",
    "\n",
    "Let's return to the idea of an algorithm. We already mentioned that an algorithm is the abstract set of steps a program will execute, as separate from the specific language it is written in. In another, slightly different, sense an algorithm is a plan for solving a specific problem. Computer scientists study all kinds of problems. Some of these are big problems with clear applications to data science. For example, how do you approximate the solution to a linear regression for a large data set? Other problems are more foundational in nature. Here let's consider the problem of how to find the square root of a positive number, $x$. Of course, in Python you can just type in $x$^$0.5$, but let's pretend we do not know that (or we can pretend that we are trying to write an interpreter that knows how to take square roots).\n",
    "\n",
    "It is worth noting that we can never find the square root of a number exactly because square roots usually do not terminate; it would take an infinite number of digits to write them down.  Because of this, all we can really hope for is to find a number *close* to the square root of $x$.  In particular, we can choose a small epsilon (say, 0.00001), and try to find a number that is less than epsilon away from the square root of $x$.\n",
    "\n",
    "## Exhaustive Search\n",
    "\n",
    "Previously, we used an algorithm to check if an integer is a perfect square. We started with a guess of zero and increased it by one until the square of our guess was as large as the input.  One idea is to adapt this algorithm to find the square root of any number. Of course, that algorithm only searched through the integers, so we will have to take smaller steps if we want to find the square root of any number.\n",
    "\n",
    "To refactor our algorithm, we will start with a guess of zero and add epsilon in each step. This will guarantee that the answer we get is within epsilon of the actual square root.\n",
    "\n",
    "Try finding the square root of 10 with this algorithm."
   ]
  },
  {
   "cell_type": "code",
   "execution_count": 1,
   "metadata": {
    "collapsed": false
   },
   "outputs": [
    {
     "name": "stdout",
     "output_type": "stream",
     "text": [
      "enter a number: 12\n",
      "number of guesses = 346411\n",
      "3.4641100000142266 is close to square root of 12.0\n"
     ]
    }
   ],
   "source": [
    "## Exhuastive Search to Find a Square Root\n",
    "\n",
    "x = float(input(\"enter a number: \"))\n",
    "epsilon = 0.00001\n",
    "num_guesses = 0\n",
    "ans = 0.0\n",
    "while ans * ans <= x:\n",
    "    ans += epsilon\n",
    "    num_guesses += 1\n",
    "print('number of guesses =', num_guesses)\n",
    "print(ans, 'is close to square root of', x)"
   ]
  },
  {
   "cell_type": "markdown",
   "metadata": {},
   "source": [
    "You can check that the answer is indeed close to the square root of 10.  Now try the program on a large number, say 12345.  How long does it take?\n",
    "\n",
    "This is an example of a *brute force algorithm*. It searches through all possible solutions until the right one is found. You can see that the brute force algorithm will always find the answer, but it can take a rather long time.\n",
    "\n",
    "Depite this, there are many times in programming when you will want to use a brute force algorithm. It could be that you know the number of possible solutions is small, so the brute force algorithm will work in a reasonable time. Brute force algorithms are also very simple.  Finally, it could just be that the problem space is unstructured and there is no better choice available."
   ]
  }
 ],
 "metadata": {
  "kernelspec": {
   "display_name": "Python 3",
   "language": "python",
   "name": "python3"
  },
  "language_info": {
   "codemirror_mode": {
    "name": "ipython",
    "version": 3
   },
   "file_extension": ".py",
   "mimetype": "text/x-python",
   "name": "python",
   "nbconvert_exporter": "python",
   "pygments_lexer": "ipython3",
   "version": "3.4.3"
  }
 },
 "nbformat": 4,
 "nbformat_minor": 0
}
