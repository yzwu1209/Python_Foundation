{
 "cells": [
  {
   "cell_type": "markdown",
   "metadata": {},
   "source": [
    "## Heron's Method\n",
    "\n",
    "Finally, let's examine a third algorithm for finding square roots, known as the Babylonian method, or as Heron's method, after an ancient Greek mathematician.  Suppose we have a guess, ans, for the square root of x.  Notice that ans * (x/ans) = x.  This means that if ans is too low, x/ans will be too high and vice-versa.  A good next guess is therefore the average, $(x/ans + ans)/2$.  If ans and x/ans are close enough, increasing one and decreasing the other by the same amount won't change their product very much so the average can be quite close to the square root of x.\n",
    "\n",
    "Heron's algorithm is a special case of Newton's method, invented centuries later to approximate the roots of functions.  In this case, we want to find $ans$, such that the function $f(ans) = ans^2 - x$ equals 0.  The math takes a little effort to understand, but the intuition is easy to understand with a picture.\n",
    "\n",
    "The function $f$ is plotted below.  We begin with a guess for $ans$ and find the point on the function $f$ at that guess.  Even though our function is a curve, we approximate it by a line at this point and find the place where that line crosses x-axis.  This becomes our next guess.  If the function is smooth enough (doesn't curve too much) each new guess can be much closer to the correct square root.\n",
    "\n",
    "![title](newton.png)\n",
    "\n",
    "Using some calculus, we can confirm that Newton's method applied to square roots is exactly the same as Heron's Method.  These are encoded in the script below."
   ]
  },
  {
   "cell_type": "code",
   "execution_count": 11,
   "metadata": {
    "collapsed": false
   },
   "outputs": [
    {
     "name": "stdout",
     "output_type": "stream",
     "text": [
      "enter a number:12345\n",
      "number of guesses = 10\n",
      "111.10805770848404 is close to the square root of 12345.0\n"
     ]
    }
   ],
   "source": [
    "## Newton's Method to Find a Square Root (Heron's algorithm)\n",
    "x = float(input(\"enter a number: \"))\n",
    "epsilon = 0.00001\n",
    "num_guesses = 0\n",
    "ans = 1\n",
    "while abs(x/ans - ans)>epsilon:\n",
    "    ans = (x/ans + ans)/2\n",
    "    num_guesses += 1\n",
    "print(\"number of guesses =\", num_guesses)\n",
    "print(ans, \"is close to the square root of\", x)"
   ]
  },
  {
   "cell_type": "markdown",
   "metadata": {},
   "source": [
    "Try running this algorithm.  How does it perform compared to the exhaustive search and the bisection search algorithms?  Notice that this algorithm actually tries to use features of the problem to find a solution, such as the fact that $x^2$ is a smooth function of $x$."
   ]
  }
 ],
 "metadata": {
  "kernelspec": {
   "display_name": "Python 3",
   "language": "python",
   "name": "python3"
  },
  "language_info": {
   "codemirror_mode": {
    "name": "ipython",
    "version": 3
   },
   "file_extension": ".py",
   "mimetype": "text/x-python",
   "name": "python",
   "nbconvert_exporter": "python",
   "pygments_lexer": "ipython3",
   "version": "3.4.3"
  }
 },
 "nbformat": 4,
 "nbformat_minor": 0
}
