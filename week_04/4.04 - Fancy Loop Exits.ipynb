{
 "cells": [
  {
   "cell_type": "markdown",
   "metadata": {},
   "source": [
    "# Fancy Loop Exits\n",
    "\n",
    "There are times when we want to exit a loop earlier than we expect. As an example, suppose you want to test if a number, $x$, is prime or not. You could start checking if there are any numbers that are factors of $x$, starting from 2 and counting up. When you leave the loop, you will want to know whether you found any factors of $x$. To do this, you might use a Boolean variable and set it to `False` whenever you find a factor. We might call such a variable a flag; we trip it to store some information we will need later. The following script demonstrates this strategy."
   ]
  },
  {
   "cell_type": "code",
   "execution_count": 8,
   "metadata": {
    "collapsed": false
   },
   "outputs": [
    {
     "name": "stdout",
     "output_type": "stream",
     "text": [
      "Enter a number:7\n",
      "7 is prime.\n"
     ]
    }
   ],
   "source": [
    "x = int(input(\"Enter a number:\"))\n",
    "prime = True\n",
    "for i in range(2,x):\n",
    "    if x % i == 0:\n",
    "        prime = False\n",
    "if prime == True:\n",
    "    print(x,\"is prime.\")\n",
    "else:\n",
    "    print(x,\"is not prime.\")"
   ]
  },
  {
   "cell_type": "markdown",
   "metadata": {},
   "source": [
    "Notice that once we find a single factor, there is no need to continue looping; we already know $x$ is not prime. For this reason, we might prefer to exit the loop immediately. One way to do this would be to use a `while` loop with a looping condition that checks if prime has been changed to `False`. Try to refactor the script above to work in this way."
   ]
  },
  {
   "cell_type": "markdown",
   "metadata": {},
   "source": [
    "While that strategy works, it is a bit messy and makes the code harder to read. Python gives us a cleaner solution though: we can immediately exit a loop using the `break` keyword.  Notice how we do this in the code below."
   ]
  },
  {
   "cell_type": "code",
   "execution_count": 21,
   "metadata": {
    "collapsed": false
   },
   "outputs": [
    {
     "name": "stdout",
     "output_type": "stream",
     "text": [
      "Enter a number:25\n",
      "checking potential factor: 2\n",
      "checking potential factor: 3\n",
      "checking potential factor: 4\n",
      "checking potential factor: 5\n",
      "25 is not prime.\n"
     ]
    }
   ],
   "source": [
    "x = int(input(\"Enter a number:\"))\n",
    "prime = True\n",
    "for i in range(2,x):\n",
    "    print(\"checking potential factor:\",i)\n",
    "    if x % i == 0:\n",
    "        prime = False\n",
    "        break\n",
    "if prime == True:\n",
    "    print(x,\"is prime.\")\n",
    "else:\n",
    "    print(x,\"is not prime.\")"
   ]
  },
  {
   "cell_type": "markdown",
   "metadata": {},
   "source": [
    "Try running the script on 25, and notice how many times the loop executes.\n",
    "\n",
    "A `break` statement will work with either a `for` loop or a `while` loop.  Using breaks is a matter of programming style. It is possible to use too many breaks, making it hard to predict how a loop will behave. In our prime number checker, adding a `break` statement seems to make our code more understandable. You will need to use your discretion when deciding on whether to use a `break` statement or not.\n",
    "\n",
    "A `break` statement is often paired with an `else` clause after the loop. This is a clause that is only executed if the loop ends normally. If the `break` statement executes, control skips the `else` clause. We can use an `else` clause to make our prime number checker even more compact."
   ]
  },
  {
   "cell_type": "code",
   "execution_count": 23,
   "metadata": {
    "collapsed": false
   },
   "outputs": [
    {
     "name": "stdout",
     "output_type": "stream",
     "text": [
      "Enter a number:10\n",
      "checking potential factor: 2\n",
      "10 is not prime.\n"
     ]
    }
   ],
   "source": [
    "x = int(input(\"Enter a number:\"))\n",
    "for i in range(2,x):\n",
    "    print(\"checking potential factor:\",i)\n",
    "    if x % i == 0:\n",
    "        print(x,\"is not prime.\")\n",
    "        break\n",
    "else:\n",
    "    print(x,\"is prime.\")"
   ]
  },
  {
   "cell_type": "markdown",
   "metadata": {},
   "source": [
    "Notice that this script does not need a Boolean flag at all to work. The `else` clause lets us print the correct information if a factor of $x$ is never found."
   ]
  },
  {
   "cell_type": "markdown",
   "metadata": {},
   "source": [
    "One last variation on loops deserves mention.  There are times when we want to perform some checks at the start of each loop iteration before performing some computation.  Suppose you want to see if the vowels of a word are in alphabetical order.  You might use a script like the following."
   ]
  },
  {
   "cell_type": "code",
   "execution_count": 32,
   "metadata": {
    "collapsed": false
   },
   "outputs": [
    {
     "name": "stdout",
     "output_type": "stream",
     "text": [
      "Enter a word: Pual\n",
      "The vowels in pual are not ordered.\n"
     ]
    }
   ],
   "source": [
    "word = input(\"Enter a word: \").lower()\n",
    "last = \"a\"\n",
    "\n",
    "for letter in word:\n",
    "    if letter in \"aeiou\":\n",
    "        if letter < last:\n",
    "            print(\"The vowels in\", word, \"are not ordered.\")\n",
    "            break\n",
    "        last = letter\n",
    "else:\n",
    "    print(\"The vowels in\", word, \"are ordered.\")"
   ]
  },
  {
   "cell_type": "markdown",
   "metadata": {},
   "source": [
    "Inside the `for` loop, we first have to see if we are looking at a vowel. Only if we have a vowel do we need to do further processing to see if the vowel is in alphabetical order after the previous vowel. You can see that the inner `if` statement is indented twice to allow for this extra check. In this case, our script might be made clearer with the help of a `continue` statement."
   ]
  },
  {
   "cell_type": "code",
   "execution_count": 35,
   "metadata": {
    "collapsed": false
   },
   "outputs": [
    {
     "name": "stdout",
     "output_type": "stream",
     "text": [
      "Enter a word: Pual\n",
      "The vowels in pual are not ordered.\n"
     ]
    }
   ],
   "source": [
    "word = input(\"Enter a word: \").lower()\n",
    "last = \"a\"\n",
    "\n",
    "for letter in word:\n",
    "    if letter not in \"aeiou\":\n",
    "        continue\n",
    "    if letter < last:\n",
    "        print(\"The vowels in\", word, \"are not ordered.\")\n",
    "        break\n",
    "    last = letter\n",
    "else:\n",
    "    print(\"The vowels in\", word, \"are ordered.\")"
   ]
  },
  {
   "cell_type": "markdown",
   "metadata": {},
   "source": [
    "When control reaches a `continue`, it skips the rest of the statements in the loop and moves immediately to the next loop iteration. In this example, when we reach a consonant, we do not want to check to see if it is in alphabetical order, so the continue skips that part of the code and returns to the `for` statement so we can examine the next letter.\n",
    "\n",
    "Like the `break` statement, the `continue` statement works with both `for` loops and `while` loops.  Also like breaks, you never need to use `continues` to accomplish a programming task, but this can sometimes make your code clearer. This is especialy true when you have to perform a lot of preliminary checks before getting down to the main business of your loop."
   ]
  }
 ],
 "metadata": {
  "kernelspec": {
   "display_name": "Python 3",
   "language": "python",
   "name": "python3"
  },
  "language_info": {
   "codemirror_mode": {
    "name": "ipython",
    "version": 3
   },
   "file_extension": ".py",
   "mimetype": "text/x-python",
   "name": "python",
   "nbconvert_exporter": "python",
   "pygments_lexer": "ipython3",
   "version": "3.4.3"
  }
 },
 "nbformat": 4,
 "nbformat_minor": 0
}
